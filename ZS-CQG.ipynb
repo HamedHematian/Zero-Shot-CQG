{
  "cells": [
    {
      "cell_type": "code",
      "execution_count": 1,
      "metadata": {
        "colab": {
          "base_uri": "https://localhost:8080/",
          "height": 1000
        },
        "id": "-I6zlS6qkZGB",
        "outputId": "7ecc5be0-e224-4384-e866-1421b9e755f4"
      },
      "outputs": [
        {
          "output_type": "stream",
          "name": "stdout",
          "text": [
            "Found existing installation: torchtext 0.15.2\n",
            "Uninstalling torchtext-0.15.2:\n",
            "  Would remove:\n",
            "    /usr/local/lib/python3.10/dist-packages/torchtext-0.15.2.dist-info/*\n",
            "    /usr/local/lib/python3.10/dist-packages/torchtext/*\n",
            "Proceed (Y/n)?   Successfully uninstalled torchtext-0.15.2\n",
            "Found existing installation: torchaudio 2.0.2+cu118\n",
            "Uninstalling torchaudio-2.0.2+cu118:\n",
            "  Would remove:\n",
            "    /usr/local/lib/python3.10/dist-packages/torchaudio-2.0.2+cu118.dist-info/*\n",
            "    /usr/local/lib/python3.10/dist-packages/torchaudio/*\n",
            "Proceed (Y/n)?   Successfully uninstalled torchaudio-2.0.2+cu118\n",
            "Found existing installation: Flask 2.2.5\n",
            "Uninstalling Flask-2.2.5:\n",
            "  Would remove:\n",
            "    /usr/local/bin/flask\n",
            "    /usr/local/lib/python3.10/dist-packages/Flask-2.2.5.dist-info/*\n",
            "    /usr/local/lib/python3.10/dist-packages/flask/*\n",
            "Proceed (Y/n)?   Successfully uninstalled Flask-2.2.5\n",
            "Found existing installation: en-core-web-sm 3.6.0\n",
            "Uninstalling en-core-web-sm-3.6.0:\n",
            "  Would remove:\n",
            "    /usr/local/lib/python3.10/dist-packages/en_core_web_sm-3.6.0.dist-info/*\n",
            "    /usr/local/lib/python3.10/dist-packages/en_core_web_sm/*\n",
            "Proceed (Y/n)?   Successfully uninstalled en-core-web-sm-3.6.0\n",
            "Collecting pattern\n",
            "  Downloading Pattern-3.6.0.tar.gz (22.2 MB)\n",
            "\u001b[2K     \u001b[90m━━━━━━━━━━━━━━━━━━━━━━━━━━━━━━━━━━━━━━━━\u001b[0m \u001b[32m22.2/22.2 MB\u001b[0m \u001b[31m39.4 MB/s\u001b[0m eta \u001b[36m0:00:00\u001b[0m\n",
            "\u001b[?25h  Preparing metadata (setup.py) ... \u001b[?25l\u001b[?25hdone\n",
            "Requirement already satisfied: future in /usr/local/lib/python3.10/dist-packages (from pattern) (0.18.3)\n",
            "Collecting backports.csv (from pattern)\n",
            "  Downloading backports.csv-1.0.7-py2.py3-none-any.whl (12 kB)\n",
            "Collecting mysqlclient (from pattern)\n",
            "  Downloading mysqlclient-2.2.0.tar.gz (89 kB)\n",
            "\u001b[2K     \u001b[90m━━━━━━━━━━━━━━━━━━━━━━━━━━━━━━━━━━━━━━━━\u001b[0m \u001b[32m89.5/89.5 kB\u001b[0m \u001b[31m11.0 MB/s\u001b[0m eta \u001b[36m0:00:00\u001b[0m\n",
            "\u001b[?25h  Installing build dependencies ... \u001b[?25l\u001b[?25hdone\n",
            "  Getting requirements to build wheel ... \u001b[?25l\u001b[?25hdone\n",
            "  Installing backend dependencies ... \u001b[?25l\u001b[?25hdone\n",
            "  Preparing metadata (pyproject.toml) ... \u001b[?25l\u001b[?25hdone\n",
            "Requirement already satisfied: beautifulsoup4 in /usr/local/lib/python3.10/dist-packages (from pattern) (4.11.2)\n",
            "Requirement already satisfied: lxml in /usr/local/lib/python3.10/dist-packages (from pattern) (4.9.3)\n",
            "Collecting feedparser (from pattern)\n",
            "  Downloading feedparser-6.0.10-py3-none-any.whl (81 kB)\n",
            "\u001b[2K     \u001b[90m━━━━━━━━━━━━━━━━━━━━━━━━━━━━━━━━━━━━━━━━\u001b[0m \u001b[32m81.1/81.1 kB\u001b[0m \u001b[31m7.6 MB/s\u001b[0m eta \u001b[36m0:00:00\u001b[0m\n",
            "\u001b[?25hCollecting pdfminer.six (from pattern)\n",
            "  Downloading pdfminer.six-20221105-py3-none-any.whl (5.6 MB)\n",
            "\u001b[2K     \u001b[90m━━━━━━━━━━━━━━━━━━━━━━━━━━━━━━━━━━━━━━━━\u001b[0m \u001b[32m5.6/5.6 MB\u001b[0m \u001b[31m47.7 MB/s\u001b[0m eta \u001b[36m0:00:00\u001b[0m\n",
            "\u001b[?25hRequirement already satisfied: numpy in /usr/local/lib/python3.10/dist-packages (from pattern) (1.23.5)\n",
            "Requirement already satisfied: scipy in /usr/local/lib/python3.10/dist-packages (from pattern) (1.10.1)\n",
            "Requirement already satisfied: nltk in /usr/local/lib/python3.10/dist-packages (from pattern) (3.8.1)\n",
            "Collecting python-docx (from pattern)\n",
            "  Downloading python-docx-0.8.11.tar.gz (5.6 MB)\n",
            "\u001b[2K     \u001b[90m━━━━━━━━━━━━━━━━━━━━━━━━━━━━━━━━━━━━━━━━\u001b[0m \u001b[32m5.6/5.6 MB\u001b[0m \u001b[31m54.6 MB/s\u001b[0m eta \u001b[36m0:00:00\u001b[0m\n",
            "\u001b[?25h  Preparing metadata (setup.py) ... \u001b[?25l\u001b[?25hdone\n",
            "Collecting cherrypy (from pattern)\n",
            "  Downloading CherryPy-18.8.0-py2.py3-none-any.whl (348 kB)\n",
            "\u001b[2K     \u001b[90m━━━━━━━━━━━━━━━━━━━━━━━━━━━━━━━━━━━━━━\u001b[0m \u001b[32m348.4/348.4 kB\u001b[0m \u001b[31m16.7 MB/s\u001b[0m eta \u001b[36m0:00:00\u001b[0m\n",
            "\u001b[?25hRequirement already satisfied: requests in /usr/local/lib/python3.10/dist-packages (from pattern) (2.31.0)\n",
            "Requirement already satisfied: soupsieve>1.2 in /usr/local/lib/python3.10/dist-packages (from beautifulsoup4->pattern) (2.4.1)\n",
            "Collecting cheroot>=8.2.1 (from cherrypy->pattern)\n",
            "  Downloading cheroot-10.0.0-py3-none-any.whl (101 kB)\n",
            "\u001b[2K     \u001b[90m━━━━━━━━━━━━━━━━━━━━━━━━━━━━━━━━━━━━━━━\u001b[0m \u001b[32m101.6/101.6 kB\u001b[0m \u001b[31m9.2 MB/s\u001b[0m eta \u001b[36m0:00:00\u001b[0m\n",
            "\u001b[?25hCollecting portend>=2.1.1 (from cherrypy->pattern)\n",
            "  Downloading portend-3.2.0-py3-none-any.whl (5.3 kB)\n",
            "Requirement already satisfied: more-itertools in /usr/local/lib/python3.10/dist-packages (from cherrypy->pattern) (10.1.0)\n",
            "Collecting zc.lockfile (from cherrypy->pattern)\n",
            "  Downloading zc.lockfile-3.0.post1-py3-none-any.whl (9.8 kB)\n",
            "Collecting jaraco.collections (from cherrypy->pattern)\n",
            "  Downloading jaraco.collections-4.3.0-py3-none-any.whl (11 kB)\n",
            "Collecting sgmllib3k (from feedparser->pattern)\n",
            "  Downloading sgmllib3k-1.0.0.tar.gz (5.8 kB)\n",
            "  Preparing metadata (setup.py) ... \u001b[?25l\u001b[?25hdone\n",
            "Requirement already satisfied: click in /usr/local/lib/python3.10/dist-packages (from nltk->pattern) (8.1.7)\n",
            "Requirement already satisfied: joblib in /usr/local/lib/python3.10/dist-packages (from nltk->pattern) (1.3.2)\n",
            "Requirement already satisfied: regex>=2021.8.3 in /usr/local/lib/python3.10/dist-packages (from nltk->pattern) (2023.6.3)\n",
            "Requirement already satisfied: tqdm in /usr/local/lib/python3.10/dist-packages (from nltk->pattern) (4.66.1)\n",
            "Requirement already satisfied: charset-normalizer>=2.0.0 in /usr/local/lib/python3.10/dist-packages (from pdfminer.six->pattern) (3.2.0)\n",
            "Requirement already satisfied: cryptography>=36.0.0 in /usr/local/lib/python3.10/dist-packages (from pdfminer.six->pattern) (41.0.3)\n",
            "Requirement already satisfied: idna<4,>=2.5 in /usr/local/lib/python3.10/dist-packages (from requests->pattern) (3.4)\n",
            "Requirement already satisfied: urllib3<3,>=1.21.1 in /usr/local/lib/python3.10/dist-packages (from requests->pattern) (2.0.4)\n",
            "Requirement already satisfied: certifi>=2017.4.17 in /usr/local/lib/python3.10/dist-packages (from requests->pattern) (2023.7.22)\n",
            "Collecting jaraco.functools (from cheroot>=8.2.1->cherrypy->pattern)\n",
            "  Downloading jaraco.functools-3.9.0-py3-none-any.whl (9.5 kB)\n",
            "Requirement already satisfied: cffi>=1.12 in /usr/local/lib/python3.10/dist-packages (from cryptography>=36.0.0->pdfminer.six->pattern) (1.15.1)\n",
            "Collecting tempora>=1.8 (from portend>=2.1.1->cherrypy->pattern)\n",
            "  Downloading tempora-5.5.0-py3-none-any.whl (13 kB)\n",
            "Collecting jaraco.text (from jaraco.collections->cherrypy->pattern)\n",
            "  Downloading jaraco.text-3.11.1-py3-none-any.whl (11 kB)\n",
            "Requirement already satisfied: setuptools in /usr/local/lib/python3.10/dist-packages (from zc.lockfile->cherrypy->pattern) (67.7.2)\n",
            "Requirement already satisfied: pycparser in /usr/local/lib/python3.10/dist-packages (from cffi>=1.12->cryptography>=36.0.0->pdfminer.six->pattern) (2.21)\n",
            "Requirement already satisfied: pytz in /usr/local/lib/python3.10/dist-packages (from tempora>=1.8->portend>=2.1.1->cherrypy->pattern) (2023.3)\n",
            "Requirement already satisfied: typing-extensions in /usr/local/lib/python3.10/dist-packages (from jaraco.functools->cheroot>=8.2.1->cherrypy->pattern) (4.7.1)\n",
            "Collecting jaraco.context>=4.1 (from jaraco.text->jaraco.collections->cherrypy->pattern)\n",
            "  Downloading jaraco.context-4.3.0-py3-none-any.whl (5.3 kB)\n",
            "Collecting autocommand (from jaraco.text->jaraco.collections->cherrypy->pattern)\n",
            "  Downloading autocommand-2.2.2-py3-none-any.whl (19 kB)\n",
            "Requirement already satisfied: inflect in /usr/local/lib/python3.10/dist-packages (from jaraco.text->jaraco.collections->cherrypy->pattern) (7.0.0)\n",
            "Requirement already satisfied: pydantic>=1.9.1 in /usr/local/lib/python3.10/dist-packages (from inflect->jaraco.text->jaraco.collections->cherrypy->pattern) (2.2.1)\n",
            "Requirement already satisfied: annotated-types>=0.4.0 in /usr/local/lib/python3.10/dist-packages (from pydantic>=1.9.1->inflect->jaraco.text->jaraco.collections->cherrypy->pattern) (0.5.0)\n",
            "Requirement already satisfied: pydantic-core==2.6.1 in /usr/local/lib/python3.10/dist-packages (from pydantic>=1.9.1->inflect->jaraco.text->jaraco.collections->cherrypy->pattern) (2.6.1)\n",
            "Building wheels for collected packages: pattern, mysqlclient, python-docx, sgmllib3k\n",
            "  Building wheel for pattern (setup.py) ... \u001b[?25l\u001b[?25hdone\n",
            "  Created wheel for pattern: filename=Pattern-3.6-py3-none-any.whl size=22332702 sha256=570112ec8546f51d0064fafa84ff1a5f6a79876648452a627f78d62aea0727f7\n",
            "  Stored in directory: /root/.cache/pip/wheels/d1/8f/40/fe23abd593ef60be5bfaf3e02154d3484df42aa947bbf4d499\n",
            "  Building wheel for mysqlclient (pyproject.toml) ... \u001b[?25l\u001b[?25hdone\n",
            "  Created wheel for mysqlclient: filename=mysqlclient-2.2.0-cp310-cp310-linux_x86_64.whl size=123668 sha256=ee2ff9276e17a21d7738ab238c55b755b7e362e0c9752557e6066c29d7142a0f\n",
            "  Stored in directory: /root/.cache/pip/wheels/a4/f8/fd/0399687c0abd03c10c975ed56c692fcd3d0fb80440b5a661f1\n",
            "  Building wheel for python-docx (setup.py) ... \u001b[?25l\u001b[?25hdone\n",
            "  Created wheel for python-docx: filename=python_docx-0.8.11-py3-none-any.whl size=184487 sha256=9ee84c8eb84ec38ccded5364372144adfcf073a67dbed8fccd56b6091b1e98d9\n",
            "  Stored in directory: /root/.cache/pip/wheels/80/27/06/837436d4c3bd989b957a91679966f207bfd71d358d63a8194d\n",
            "  Building wheel for sgmllib3k (setup.py) ... \u001b[?25l\u001b[?25hdone\n",
            "  Created wheel for sgmllib3k: filename=sgmllib3k-1.0.0-py3-none-any.whl size=6047 sha256=e6639084cea79a9a31db1f8d1350475b96b05cf4c0af77dcb2002bd999c13e10\n",
            "  Stored in directory: /root/.cache/pip/wheels/f0/69/93/a47e9d621be168e9e33c7ce60524393c0b92ae83cf6c6e89c5\n",
            "Successfully built pattern mysqlclient python-docx sgmllib3k\n",
            "Installing collected packages: sgmllib3k, backports.csv, zc.lockfile, python-docx, mysqlclient, jaraco.functools, jaraco.context, feedparser, autocommand, tempora, cheroot, portend, pdfminer.six, jaraco.text, jaraco.collections, cherrypy, pattern\n",
            "Successfully installed autocommand-2.2.2 backports.csv-1.0.7 cheroot-10.0.0 cherrypy-18.8.0 feedparser-6.0.10 jaraco.collections-4.3.0 jaraco.context-4.3.0 jaraco.functools-3.9.0 jaraco.text-3.11.1 mysqlclient-2.2.0 pattern-3.6 pdfminer.six-20221105 portend-3.2.0 python-docx-0.8.11 sgmllib3k-1.0.0 tempora-5.5.0 zc.lockfile-3.0.post1\n",
            "Requirement already satisfied: pip in /usr/local/lib/python3.10/dist-packages (23.1.2)\n",
            "Collecting pip\n",
            "  Downloading pip-23.2.1-py3-none-any.whl (2.1 MB)\n",
            "\u001b[2K     \u001b[90m━━━━━━━━━━━━━━━━━━━━━━━━━━━━━━━━━━━━━━━━\u001b[0m \u001b[32m2.1/2.1 MB\u001b[0m \u001b[31m19.2 MB/s\u001b[0m eta \u001b[36m0:00:00\u001b[0m\n",
            "\u001b[?25hRequirement already satisfied: setuptools in /usr/local/lib/python3.10/dist-packages (67.7.2)\n",
            "Collecting setuptools\n",
            "  Using cached setuptools-68.1.2-py3-none-any.whl (805 kB)\n",
            "Requirement already satisfied: wheel in /usr/local/lib/python3.10/dist-packages (0.41.2)\n",
            "Installing collected packages: setuptools, pip\n",
            "  Attempting uninstall: setuptools\n",
            "    Found existing installation: setuptools 67.7.2\n",
            "    Uninstalling setuptools-67.7.2:\n",
            "      Successfully uninstalled setuptools-67.7.2\n",
            "  Attempting uninstall: pip\n",
            "    Found existing installation: pip 23.1.2\n",
            "    Uninstalling pip-23.1.2:\n",
            "      Successfully uninstalled pip-23.1.2\n",
            "\u001b[31mERROR: pip's dependency resolver does not currently take into account all the packages that are installed. This behaviour is the source of the following dependency conflicts.\n",
            "ipython 7.34.0 requires jedi>=0.16, which is not installed.\u001b[0m\u001b[31m\n",
            "\u001b[0mSuccessfully installed pip-23.2.1 setuptools-68.1.2\n"
          ]
        },
        {
          "output_type": "display_data",
          "data": {
            "application/vnd.colab-display-data+json": {
              "pip_warning": {
                "packages": [
                  "_distutils_hack",
                  "pkg_resources",
                  "setuptools"
                ]
              }
            }
          },
          "metadata": {}
        },
        {
          "output_type": "stream",
          "name": "stdout",
          "text": [
            "Collecting spacy==3.1.0\n",
            "  Downloading spacy-3.1.0.tar.gz (1.0 MB)\n",
            "\u001b[?25l     \u001b[90m━━━━━━━━━━━━━━━━━━━━━━━━━━━━━━━━━━━━━━━━\u001b[0m \u001b[32m0.0/1.0 MB\u001b[0m \u001b[31m?\u001b[0m eta \u001b[36m-:--:--\u001b[0m\r\u001b[2K     \u001b[91m━━━\u001b[0m\u001b[90m╺\u001b[0m\u001b[90m━━━━━━━━━━━━━━━━━━━━━━━━━━━━━━━━━━━━\u001b[0m \u001b[32m0.1/1.0 MB\u001b[0m \u001b[31m2.4 MB/s\u001b[0m eta \u001b[36m0:00:01\u001b[0m\r\u001b[2K     \u001b[91m━━━━━━━━━━━━━━━━━━━━━━━━━━━━\u001b[0m\u001b[91m╸\u001b[0m\u001b[90m━━━━━━━━━━━\u001b[0m \u001b[32m0.7/1.0 MB\u001b[0m \u001b[31m10.8 MB/s\u001b[0m eta \u001b[36m0:00:01\u001b[0m\r\u001b[2K     \u001b[90m━━━━━━━━━━━━━━━━━━━━━━━━━━━━━━━━━━━━━━━━\u001b[0m \u001b[32m1.0/1.0 MB\u001b[0m \u001b[31m11.9 MB/s\u001b[0m eta \u001b[36m0:00:00\u001b[0m\n",
            "\u001b[?25h  Installing build dependencies ... \u001b[?25l\u001b[?25hdone\n",
            "  Getting requirements to build wheel ... \u001b[?25l\u001b[?25hdone\n",
            "  Installing backend dependencies ... \u001b[?25l\u001b[?25hdone\n",
            "  Preparing metadata (pyproject.toml) ... \u001b[?25l\u001b[?25hdone\n",
            "Requirement already satisfied: spacy-legacy<3.1.0,>=3.0.7 in /usr/local/lib/python3.10/dist-packages (from spacy==3.1.0) (3.0.12)\n",
            "Requirement already satisfied: murmurhash<1.1.0,>=0.28.0 in /usr/local/lib/python3.10/dist-packages (from spacy==3.1.0) (1.0.9)\n",
            "Requirement already satisfied: cymem<2.1.0,>=2.0.2 in /usr/local/lib/python3.10/dist-packages (from spacy==3.1.0) (2.0.7)\n",
            "Requirement already satisfied: preshed<3.1.0,>=3.0.2 in /usr/local/lib/python3.10/dist-packages (from spacy==3.1.0) (3.0.8)\n",
            "Collecting thinc<8.1.0,>=8.0.7 (from spacy==3.1.0)\n",
            "  Using cached thinc-8.0.17-cp310-cp310-manylinux_2_17_x86_64.manylinux2014_x86_64.whl (659 kB)\n",
            "Requirement already satisfied: blis<0.8.0,>=0.4.0 in /usr/local/lib/python3.10/dist-packages (from spacy==3.1.0) (0.7.10)\n",
            "Collecting wasabi<1.1.0,>=0.8.1 (from spacy==3.1.0)\n",
            "  Using cached wasabi-0.10.1-py3-none-any.whl (26 kB)\n",
            "Requirement already satisfied: srsly<3.0.0,>=2.4.1 in /usr/local/lib/python3.10/dist-packages (from spacy==3.1.0) (2.4.7)\n",
            "Requirement already satisfied: catalogue<2.1.0,>=2.0.4 in /usr/local/lib/python3.10/dist-packages (from spacy==3.1.0) (2.0.9)\n",
            "Collecting typer<0.4.0,>=0.3.0 (from spacy==3.1.0)\n",
            "  Downloading typer-0.3.2-py3-none-any.whl (21 kB)\n",
            "Requirement already satisfied: pathy>=0.3.5 in /usr/local/lib/python3.10/dist-packages (from spacy==3.1.0) (0.10.2)\n",
            "Requirement already satisfied: tqdm<5.0.0,>=4.38.0 in /usr/local/lib/python3.10/dist-packages (from spacy==3.1.0) (4.66.1)\n",
            "Requirement already satisfied: numpy>=1.15.0 in /usr/local/lib/python3.10/dist-packages (from spacy==3.1.0) (1.23.5)\n",
            "Requirement already satisfied: requests<3.0.0,>=2.13.0 in /usr/local/lib/python3.10/dist-packages (from spacy==3.1.0) (2.31.0)\n",
            "Collecting pydantic!=1.8,!=1.8.1,<1.9.0,>=1.7.4 (from spacy==3.1.0)\n",
            "  Using cached pydantic-1.8.2-py3-none-any.whl (126 kB)\n",
            "Requirement already satisfied: jinja2 in /usr/local/lib/python3.10/dist-packages (from spacy==3.1.0) (3.1.2)\n",
            "Requirement already satisfied: setuptools in /usr/local/lib/python3.10/dist-packages (from spacy==3.1.0) (68.1.2)\n",
            "Requirement already satisfied: packaging>=20.0 in /usr/local/lib/python3.10/dist-packages (from spacy==3.1.0) (23.1)\n",
            "Requirement already satisfied: smart-open<7.0.0,>=5.2.1 in /usr/local/lib/python3.10/dist-packages (from pathy>=0.3.5->spacy==3.1.0) (6.3.0)\n",
            "Requirement already satisfied: typing-extensions>=3.7.4.3 in /usr/local/lib/python3.10/dist-packages (from pydantic!=1.8,!=1.8.1,<1.9.0,>=1.7.4->spacy==3.1.0) (4.7.1)\n",
            "Requirement already satisfied: charset-normalizer<4,>=2 in /usr/local/lib/python3.10/dist-packages (from requests<3.0.0,>=2.13.0->spacy==3.1.0) (3.2.0)\n",
            "Requirement already satisfied: idna<4,>=2.5 in /usr/local/lib/python3.10/dist-packages (from requests<3.0.0,>=2.13.0->spacy==3.1.0) (3.4)\n",
            "Requirement already satisfied: urllib3<3,>=1.21.1 in /usr/local/lib/python3.10/dist-packages (from requests<3.0.0,>=2.13.0->spacy==3.1.0) (2.0.4)\n",
            "Requirement already satisfied: certifi>=2017.4.17 in /usr/local/lib/python3.10/dist-packages (from requests<3.0.0,>=2.13.0->spacy==3.1.0) (2023.7.22)\n",
            "Collecting click<7.2.0,>=7.1.1 (from typer<0.4.0,>=0.3.0->spacy==3.1.0)\n",
            "  Downloading click-7.1.2-py2.py3-none-any.whl (82 kB)\n",
            "\u001b[2K     \u001b[90m━━━━━━━━━━━━━━━━━━━━━━━━━━━━━━━━━━━━━━━━\u001b[0m \u001b[32m82.8/82.8 kB\u001b[0m \u001b[31m8.5 MB/s\u001b[0m eta \u001b[36m0:00:00\u001b[0m\n",
            "\u001b[?25hRequirement already satisfied: MarkupSafe>=2.0 in /usr/local/lib/python3.10/dist-packages (from jinja2->spacy==3.1.0) (2.1.3)\n",
            "Building wheels for collected packages: spacy\n",
            "  Building wheel for spacy (pyproject.toml) ... \u001b[?25l\u001b[?25hdone\n",
            "  Created wheel for spacy: filename=spacy-3.1.0-cp310-cp310-linux_x86_64.whl size=26056705 sha256=16f7d8b73cab412ba61bf2a6b50f72596b2b707d0298dc0d92a980ea977c4429\n",
            "  Stored in directory: /root/.cache/pip/wheels/2a/cf/84/6c88a39f9a3c8c8b3e928077b96f2dec87ac896254e1770817\n",
            "Successfully built spacy\n",
            "Installing collected packages: wasabi, pydantic, click, typer, thinc, spacy\n",
            "  Attempting uninstall: wasabi\n",
            "    Found existing installation: wasabi 1.1.2\n",
            "    Uninstalling wasabi-1.1.2:\n",
            "      Successfully uninstalled wasabi-1.1.2\n",
            "  Attempting uninstall: pydantic\n",
            "    Found existing installation: pydantic 2.2.1\n",
            "    Uninstalling pydantic-2.2.1:\n",
            "      Successfully uninstalled pydantic-2.2.1\n",
            "  Attempting uninstall: click\n",
            "    Found existing installation: click 8.1.7\n",
            "    Uninstalling click-8.1.7:\n",
            "      Successfully uninstalled click-8.1.7\n",
            "  Attempting uninstall: typer\n",
            "    Found existing installation: typer 0.9.0\n",
            "    Uninstalling typer-0.9.0:\n",
            "      Successfully uninstalled typer-0.9.0\n",
            "  Attempting uninstall: thinc\n",
            "    Found existing installation: thinc 8.1.12\n",
            "    Uninstalling thinc-8.1.12:\n",
            "      Successfully uninstalled thinc-8.1.12\n",
            "  Attempting uninstall: spacy\n",
            "    Found existing installation: spacy 3.6.1\n",
            "    Uninstalling spacy-3.6.1:\n",
            "      Successfully uninstalled spacy-3.6.1\n",
            "\u001b[31mERROR: pip's dependency resolver does not currently take into account all the packages that are installed. This behaviour is the source of the following dependency conflicts.\n",
            "fiona 1.9.4.post1 requires click~=8.0, but you have click 7.1.2 which is incompatible.\n",
            "dask 2023.8.1 requires click>=8.0, but you have click 7.1.2 which is incompatible.\n",
            "distributed 2023.8.1 requires click>=8.0, but you have click 7.1.2 which is incompatible.\n",
            "inflect 7.0.0 requires pydantic>=1.9.1, but you have pydantic 1.8.2 which is incompatible.\n",
            "pip-tools 6.13.0 requires click>=8, but you have click 7.1.2 which is incompatible.\u001b[0m\u001b[31m\n",
            "\u001b[0mSuccessfully installed click-7.1.2 pydantic-1.8.2 spacy-3.1.0 thinc-8.0.17 typer-0.3.2 wasabi-0.10.1\n",
            "\u001b[33mWARNING: Running pip as the 'root' user can result in broken permissions and conflicting behaviour with the system package manager. It is recommended to use a virtual environment instead: https://pip.pypa.io/warnings/venv\u001b[0m\u001b[33m\n",
            "\u001b[0m2023-09-03 18:33:42.577776: I tensorflow/core/platform/cpu_feature_guard.cc:182] This TensorFlow binary is optimized to use available CPU instructions in performance-critical operations.\n",
            "To enable the following instructions: AVX2 FMA, in other operations, rebuild TensorFlow with the appropriate compiler flags.\n",
            "2023-09-03 18:33:43.851928: W tensorflow/compiler/tf2tensorrt/utils/py_utils.cc:38] TF-TRT Warning: Could not find TensorRT\n",
            "\u001b[33mDEPRECATION: https://github.com/explosion/spacy-models/releases/download/en_core_web_sm-3.1.0/en_core_web_sm-3.1.0-py3-none-any.whl#egg=en_core_web_sm==3.1.0 contains an egg fragment with a non-PEP 508 name pip 25.0 will enforce this behaviour change. A possible replacement is to use the req @ url syntax, and remove the egg fragment. Discussion can be found at https://github.com/pypa/pip/issues/11617\u001b[0m\u001b[33m\n",
            "\u001b[0mCollecting en-core-web-sm==3.1.0\n",
            "  Downloading https://github.com/explosion/spacy-models/releases/download/en_core_web_sm-3.1.0/en_core_web_sm-3.1.0-py3-none-any.whl (13.6 MB)\n",
            "\u001b[2K     \u001b[90m━━━━━━━━━━━━━━━━━━━━━━━━━━━━━━━━━━━━━━━━\u001b[0m \u001b[32m13.6/13.6 MB\u001b[0m \u001b[31m21.8 MB/s\u001b[0m eta \u001b[36m0:00:00\u001b[0m\n",
            "\u001b[?25hRequirement already satisfied: spacy<3.2.0,>=3.1.0 in /usr/local/lib/python3.10/dist-packages (from en-core-web-sm==3.1.0) (3.1.0)\n",
            "Requirement already satisfied: spacy-legacy<3.1.0,>=3.0.7 in /usr/local/lib/python3.10/dist-packages (from spacy<3.2.0,>=3.1.0->en-core-web-sm==3.1.0) (3.0.12)\n",
            "Requirement already satisfied: murmurhash<1.1.0,>=0.28.0 in /usr/local/lib/python3.10/dist-packages (from spacy<3.2.0,>=3.1.0->en-core-web-sm==3.1.0) (1.0.9)\n",
            "Requirement already satisfied: cymem<2.1.0,>=2.0.2 in /usr/local/lib/python3.10/dist-packages (from spacy<3.2.0,>=3.1.0->en-core-web-sm==3.1.0) (2.0.7)\n",
            "Requirement already satisfied: preshed<3.1.0,>=3.0.2 in /usr/local/lib/python3.10/dist-packages (from spacy<3.2.0,>=3.1.0->en-core-web-sm==3.1.0) (3.0.8)\n",
            "Requirement already satisfied: thinc<8.1.0,>=8.0.7 in /usr/local/lib/python3.10/dist-packages (from spacy<3.2.0,>=3.1.0->en-core-web-sm==3.1.0) (8.0.17)\n",
            "Requirement already satisfied: blis<0.8.0,>=0.4.0 in /usr/local/lib/python3.10/dist-packages (from spacy<3.2.0,>=3.1.0->en-core-web-sm==3.1.0) (0.7.10)\n",
            "Requirement already satisfied: wasabi<1.1.0,>=0.8.1 in /usr/local/lib/python3.10/dist-packages (from spacy<3.2.0,>=3.1.0->en-core-web-sm==3.1.0) (0.10.1)\n",
            "Requirement already satisfied: srsly<3.0.0,>=2.4.1 in /usr/local/lib/python3.10/dist-packages (from spacy<3.2.0,>=3.1.0->en-core-web-sm==3.1.0) (2.4.7)\n",
            "Requirement already satisfied: catalogue<2.1.0,>=2.0.4 in /usr/local/lib/python3.10/dist-packages (from spacy<3.2.0,>=3.1.0->en-core-web-sm==3.1.0) (2.0.9)\n",
            "Requirement already satisfied: typer<0.4.0,>=0.3.0 in /usr/local/lib/python3.10/dist-packages (from spacy<3.2.0,>=3.1.0->en-core-web-sm==3.1.0) (0.3.2)\n",
            "Requirement already satisfied: pathy>=0.3.5 in /usr/local/lib/python3.10/dist-packages (from spacy<3.2.0,>=3.1.0->en-core-web-sm==3.1.0) (0.10.2)\n",
            "Requirement already satisfied: tqdm<5.0.0,>=4.38.0 in /usr/local/lib/python3.10/dist-packages (from spacy<3.2.0,>=3.1.0->en-core-web-sm==3.1.0) (4.66.1)\n",
            "Requirement already satisfied: numpy>=1.15.0 in /usr/local/lib/python3.10/dist-packages (from spacy<3.2.0,>=3.1.0->en-core-web-sm==3.1.0) (1.23.5)\n",
            "Requirement already satisfied: requests<3.0.0,>=2.13.0 in /usr/local/lib/python3.10/dist-packages (from spacy<3.2.0,>=3.1.0->en-core-web-sm==3.1.0) (2.31.0)\n",
            "Requirement already satisfied: pydantic!=1.8,!=1.8.1,<1.9.0,>=1.7.4 in /usr/local/lib/python3.10/dist-packages (from spacy<3.2.0,>=3.1.0->en-core-web-sm==3.1.0) (1.8.2)\n",
            "Requirement already satisfied: jinja2 in /usr/local/lib/python3.10/dist-packages (from spacy<3.2.0,>=3.1.0->en-core-web-sm==3.1.0) (3.1.2)\n",
            "Requirement already satisfied: setuptools in /usr/local/lib/python3.10/dist-packages (from spacy<3.2.0,>=3.1.0->en-core-web-sm==3.1.0) (68.1.2)\n",
            "Requirement already satisfied: packaging>=20.0 in /usr/local/lib/python3.10/dist-packages (from spacy<3.2.0,>=3.1.0->en-core-web-sm==3.1.0) (23.1)\n",
            "Requirement already satisfied: smart-open<7.0.0,>=5.2.1 in /usr/local/lib/python3.10/dist-packages (from pathy>=0.3.5->spacy<3.2.0,>=3.1.0->en-core-web-sm==3.1.0) (6.3.0)\n",
            "Requirement already satisfied: typing-extensions>=3.7.4.3 in /usr/local/lib/python3.10/dist-packages (from pydantic!=1.8,!=1.8.1,<1.9.0,>=1.7.4->spacy<3.2.0,>=3.1.0->en-core-web-sm==3.1.0) (4.7.1)\n",
            "Requirement already satisfied: charset-normalizer<4,>=2 in /usr/local/lib/python3.10/dist-packages (from requests<3.0.0,>=2.13.0->spacy<3.2.0,>=3.1.0->en-core-web-sm==3.1.0) (3.2.0)\n",
            "Requirement already satisfied: idna<4,>=2.5 in /usr/local/lib/python3.10/dist-packages (from requests<3.0.0,>=2.13.0->spacy<3.2.0,>=3.1.0->en-core-web-sm==3.1.0) (3.4)\n",
            "Requirement already satisfied: urllib3<3,>=1.21.1 in /usr/local/lib/python3.10/dist-packages (from requests<3.0.0,>=2.13.0->spacy<3.2.0,>=3.1.0->en-core-web-sm==3.1.0) (2.0.4)\n",
            "Requirement already satisfied: certifi>=2017.4.17 in /usr/local/lib/python3.10/dist-packages (from requests<3.0.0,>=2.13.0->spacy<3.2.0,>=3.1.0->en-core-web-sm==3.1.0) (2023.7.22)\n",
            "Requirement already satisfied: click<7.2.0,>=7.1.1 in /usr/local/lib/python3.10/dist-packages (from typer<0.4.0,>=0.3.0->spacy<3.2.0,>=3.1.0->en-core-web-sm==3.1.0) (7.1.2)\n",
            "Requirement already satisfied: MarkupSafe>=2.0 in /usr/local/lib/python3.10/dist-packages (from jinja2->spacy<3.2.0,>=3.1.0->en-core-web-sm==3.1.0) (2.1.3)\n",
            "Installing collected packages: en-core-web-sm\n",
            "Successfully installed en-core-web-sm-3.1.0\n",
            "\u001b[33mWARNING: Running pip as the 'root' user can result in broken permissions and conflicting behaviour with the system package manager. It is recommended to use a virtual environment instead: https://pip.pypa.io/warnings/venv\u001b[0m\u001b[33m\n",
            "\u001b[0m\u001b[38;5;2m✔ Download and installation successful\u001b[0m\n",
            "You can now load the package via spacy.load('en_core_web_sm')\n"
          ]
        }
      ],
      "source": [
        "! yes y | pip uninstall torchtext\n",
        "! yes y | pip uninstall torchaudio\n",
        "! yes y | pip uninstall flask\n",
        "! yes y | pip uninstall en-core-web-sm\n",
        "! pip install pattern\n",
        "! pip install -U pip setuptools wheel\n",
        "! pip install -U spacy==3.1.0\n",
        "! python -m spacy download en_core_web_sm"
      ]
    },
    {
      "cell_type": "code",
      "source": [
        "! pip install allennlp allennlp-models"
      ],
      "metadata": {
        "colab": {
          "base_uri": "https://localhost:8080/"
        },
        "id": "H80J6IMcHFUg",
        "outputId": "a745849d-88fe-40e8-b62f-4f0a968523f2"
      },
      "execution_count": 2,
      "outputs": [
        {
          "output_type": "stream",
          "name": "stdout",
          "text": [
            "Collecting allennlp\n",
            "  Downloading allennlp-2.10.1-py3-none-any.whl (730 kB)\n",
            "\u001b[2K     \u001b[90m━━━━━━━━━━━━━━━━━━━━━━━━━━━━━━━━━━━━━━━\u001b[0m \u001b[32m730.2/730.2 kB\u001b[0m \u001b[31m6.0 MB/s\u001b[0m eta \u001b[36m0:00:00\u001b[0m\n",
            "\u001b[?25hCollecting allennlp-models\n",
            "  Downloading allennlp_models-2.10.1-py3-none-any.whl (464 kB)\n",
            "\u001b[2K     \u001b[90m━━━━━━━━━━━━━━━━━━━━━━━━━━━━━━━━━━━━━━━\u001b[0m \u001b[32m464.5/464.5 kB\u001b[0m \u001b[31m9.2 MB/s\u001b[0m eta \u001b[36m0:00:00\u001b[0m\n",
            "\u001b[?25hCollecting torch<1.13.0,>=1.10.0 (from allennlp)\n",
            "  Downloading torch-1.12.1-cp310-cp310-manylinux1_x86_64.whl (776.3 MB)\n",
            "\u001b[2K     \u001b[90m━━━━━━━━━━━━━━━━━━━━━━━━━━━━━━━━━━━━━━━\u001b[0m \u001b[32m776.3/776.3 MB\u001b[0m \u001b[31m1.1 MB/s\u001b[0m eta \u001b[36m0:00:00\u001b[0m\n",
            "\u001b[?25hCollecting torchvision<0.14.0,>=0.8.1 (from allennlp)\n",
            "  Downloading torchvision-0.13.1-cp310-cp310-manylinux1_x86_64.whl (19.1 MB)\n",
            "\u001b[2K     \u001b[90m━━━━━━━━━━━━━━━━━━━━━━━━━━━━━━━━━━━━━━━━\u001b[0m \u001b[32m19.1/19.1 MB\u001b[0m \u001b[31m19.6 MB/s\u001b[0m eta \u001b[36m0:00:00\u001b[0m\n",
            "\u001b[?25hCollecting cached-path<1.2.0,>=1.1.3 (from allennlp)\n",
            "  Downloading cached_path-1.1.6-py3-none-any.whl (26 kB)\n",
            "Collecting fairscale==0.4.6 (from allennlp)\n",
            "  Downloading fairscale-0.4.6.tar.gz (248 kB)\n",
            "\u001b[2K     \u001b[90m━━━━━━━━━━━━━━━━━━━━━━━━━━━━━━━━━━━━━━\u001b[0m \u001b[32m248.2/248.2 kB\u001b[0m \u001b[31m21.9 MB/s\u001b[0m eta \u001b[36m0:00:00\u001b[0m\n",
            "\u001b[?25h  Installing build dependencies ... \u001b[?25l\u001b[?25hdone\n",
            "  Getting requirements to build wheel ... \u001b[?25l\u001b[?25hdone\n",
            "  Installing backend dependencies ... \u001b[?25l\u001b[?25hdone\n",
            "  Preparing metadata (pyproject.toml) ... \u001b[?25l\u001b[?25hdone\n",
            "Requirement already satisfied: nltk>=3.6.5 in /usr/local/lib/python3.10/dist-packages (from allennlp) (3.8.1)\n",
            "Requirement already satisfied: spacy<3.4,>=2.1.0 in /usr/local/lib/python3.10/dist-packages (from allennlp) (3.1.0)\n",
            "Requirement already satisfied: numpy>=1.21.4 in /usr/local/lib/python3.10/dist-packages (from allennlp) (1.23.5)\n",
            "Collecting tensorboardX>=1.2 (from allennlp)\n",
            "  Obtaining dependency information for tensorboardX>=1.2 from https://files.pythonhosted.org/packages/44/71/f3e7c9b2ab67e28c572ab4e9d5fa3499e0d252650f96d8a3a03e26677f53/tensorboardX-2.6.2.2-py2.py3-none-any.whl.metadata\n",
            "  Downloading tensorboardX-2.6.2.2-py2.py3-none-any.whl.metadata (5.8 kB)\n",
            "Requirement already satisfied: requests>=2.28 in /usr/local/lib/python3.10/dist-packages (from allennlp) (2.31.0)\n",
            "Requirement already satisfied: tqdm>=4.62 in /usr/local/lib/python3.10/dist-packages (from allennlp) (4.66.1)\n",
            "Requirement already satisfied: h5py>=3.6.0 in /usr/local/lib/python3.10/dist-packages (from allennlp) (3.9.0)\n",
            "Requirement already satisfied: scikit-learn>=1.0.1 in /usr/local/lib/python3.10/dist-packages (from allennlp) (1.2.2)\n",
            "Requirement already satisfied: scipy>=1.7.3 in /usr/local/lib/python3.10/dist-packages (from allennlp) (1.10.1)\n",
            "Requirement already satisfied: pytest>=6.2.5 in /usr/local/lib/python3.10/dist-packages (from allennlp) (7.4.0)\n",
            "Collecting transformers<4.21,>=4.1 (from allennlp)\n",
            "  Downloading transformers-4.20.1-py3-none-any.whl (4.4 MB)\n",
            "\u001b[2K     \u001b[90m━━━━━━━━━━━━━━━━━━━━━━━━━━━━━━━━━━━━━━━━\u001b[0m \u001b[32m4.4/4.4 MB\u001b[0m \u001b[31m85.0 MB/s\u001b[0m eta \u001b[36m0:00:00\u001b[0m\n",
            "\u001b[?25hCollecting sentencepiece>=0.1.96 (from allennlp)\n",
            "  Downloading sentencepiece-0.1.99-cp310-cp310-manylinux_2_17_x86_64.manylinux2014_x86_64.whl (1.3 MB)\n",
            "\u001b[2K     \u001b[90m━━━━━━━━━━━━━━━━━━━━━━━━━━━━━━━━━━━━━━━━\u001b[0m \u001b[32m1.3/1.3 MB\u001b[0m \u001b[31m53.2 MB/s\u001b[0m eta \u001b[36m0:00:00\u001b[0m\n",
            "\u001b[?25hCollecting filelock<3.8,>=3.3 (from allennlp)\n",
            "  Downloading filelock-3.7.1-py3-none-any.whl (10 kB)\n",
            "Collecting lmdb>=1.2.1 (from allennlp)\n",
            "  Downloading lmdb-1.4.1-cp310-cp310-manylinux_2_17_x86_64.manylinux2014_x86_64.whl (299 kB)\n",
            "\u001b[2K     \u001b[90m━━━━━━━━━━━━━━━━━━━━━━━━━━━━━━━━━━━━━━\u001b[0m \u001b[32m299.2/299.2 kB\u001b[0m \u001b[31m25.5 MB/s\u001b[0m eta \u001b[36m0:00:00\u001b[0m\n",
            "\u001b[?25hRequirement already satisfied: more-itertools>=8.12.0 in /usr/local/lib/python3.10/dist-packages (from allennlp) (10.1.0)\n",
            "Collecting termcolor==1.1.0 (from allennlp)\n",
            "  Downloading termcolor-1.1.0.tar.gz (3.9 kB)\n",
            "  Preparing metadata (setup.py) ... \u001b[?25l\u001b[?25hdone\n",
            "Collecting wandb<0.13.0,>=0.10.0 (from allennlp)\n",
            "  Downloading wandb-0.12.21-py2.py3-none-any.whl (1.8 MB)\n",
            "\u001b[2K     \u001b[90m━━━━━━━━━━━━━━━━━━━━━━━━━━━━━━━━━━━━━━━━\u001b[0m \u001b[32m1.8/1.8 MB\u001b[0m \u001b[31m62.6 MB/s\u001b[0m eta \u001b[36m0:00:00\u001b[0m\n",
            "\u001b[?25hCollecting huggingface-hub>=0.0.16 (from allennlp)\n",
            "  Obtaining dependency information for huggingface-hub>=0.0.16 from https://files.pythonhosted.org/packages/7f/c4/adcbe9a696c135578cabcbdd7331332daad4d49b7c43688bc2d36b3a47d2/huggingface_hub-0.16.4-py3-none-any.whl.metadata\n",
            "  Downloading huggingface_hub-0.16.4-py3-none-any.whl.metadata (12 kB)\n",
            "Collecting dill>=0.3.4 (from allennlp)\n",
            "  Obtaining dependency information for dill>=0.3.4 from https://files.pythonhosted.org/packages/f5/3a/74a29b11cf2cdfcd6ba89c0cecd70b37cd1ba7b77978ce611eb7a146a832/dill-0.3.7-py3-none-any.whl.metadata\n",
            "  Downloading dill-0.3.7-py3-none-any.whl.metadata (9.9 kB)\n",
            "Collecting base58>=2.1.1 (from allennlp)\n",
            "  Downloading base58-2.1.1-py3-none-any.whl (5.6 kB)\n",
            "Collecting sacremoses (from allennlp)\n",
            "  Downloading sacremoses-0.0.53.tar.gz (880 kB)\n",
            "\u001b[2K     \u001b[90m━━━━━━━━━━━━━━━━━━━━━━━━━━━━━━━━━━━━━━\u001b[0m \u001b[32m880.6/880.6 kB\u001b[0m \u001b[31m49.5 MB/s\u001b[0m eta \u001b[36m0:00:00\u001b[0m\n",
            "\u001b[?25h  Preparing metadata (setup.py) ... \u001b[?25l\u001b[?25hdone\n",
            "Collecting typer>=0.4.1 (from allennlp)\n",
            "  Using cached typer-0.9.0-py3-none-any.whl (45 kB)\n",
            "Requirement already satisfied: protobuf<4.0.0,>=3.12.0 in /usr/local/lib/python3.10/dist-packages (from allennlp) (3.20.3)\n",
            "Requirement already satisfied: traitlets>5.1.1 in /usr/local/lib/python3.10/dist-packages (from allennlp) (5.7.1)\n",
            "Collecting jsonnet>=0.10.0 (from allennlp)\n",
            "  Downloading jsonnet-0.20.0.tar.gz (594 kB)\n",
            "\u001b[2K     \u001b[90m━━━━━━━━━━━━━━━━━━━━━━━━━━━━━━━━━━━━━━\u001b[0m \u001b[32m594.2/594.2 kB\u001b[0m \u001b[31m38.4 MB/s\u001b[0m eta \u001b[36m0:00:00\u001b[0m\n",
            "\u001b[?25h  Preparing metadata (setup.py) ... \u001b[?25l\u001b[?25hdone\n",
            "Collecting conllu==4.4.2 (from allennlp-models)\n",
            "  Downloading conllu-4.4.2-py2.py3-none-any.whl (15 kB)\n",
            "Collecting word2number>=1.1 (from allennlp-models)\n",
            "  Downloading word2number-1.1.zip (9.7 kB)\n",
            "  Preparing metadata (setup.py) ... \u001b[?25l\u001b[?25hdone\n",
            "Collecting py-rouge==1.1 (from allennlp-models)\n",
            "  Downloading py_rouge-1.1-py3-none-any.whl (56 kB)\n",
            "\u001b[2K     \u001b[90m━━━━━━━━━━━━━━━━━━━━━━━━━━━━━━━━━━━━━━━━\u001b[0m \u001b[32m56.8/56.8 kB\u001b[0m \u001b[31m5.0 MB/s\u001b[0m eta \u001b[36m0:00:00\u001b[0m\n",
            "\u001b[?25hCollecting ftfy (from allennlp-models)\n",
            "  Downloading ftfy-6.1.1-py3-none-any.whl (53 kB)\n",
            "\u001b[2K     \u001b[90m━━━━━━━━━━━━━━━━━━━━━━━━━━━━━━━━━━━━━━━━\u001b[0m \u001b[32m53.1/53.1 kB\u001b[0m \u001b[31m6.3 MB/s\u001b[0m eta \u001b[36m0:00:00\u001b[0m\n",
            "\u001b[?25hCollecting datasets (from allennlp-models)\n",
            "  Obtaining dependency information for datasets from https://files.pythonhosted.org/packages/66/f8/38298237d18d4b6a8ee5dfe390e97bed5adb8e01ec6f9680c0ddf3066728/datasets-2.14.4-py3-none-any.whl.metadata\n",
            "  Downloading datasets-2.14.4-py3-none-any.whl.metadata (19 kB)\n",
            "Collecting rich<13.0,>=12.1 (from cached-path<1.2.0,>=1.1.3->allennlp)\n",
            "  Downloading rich-12.6.0-py3-none-any.whl (237 kB)\n",
            "\u001b[2K     \u001b[90m━━━━━━━━━━━━━━━━━━━━━━━━━━━━━━━━━━━━━━\u001b[0m \u001b[32m237.5/237.5 kB\u001b[0m \u001b[31m24.3 MB/s\u001b[0m eta \u001b[36m0:00:00\u001b[0m\n",
            "\u001b[?25hCollecting boto3<2.0,>=1.0 (from cached-path<1.2.0,>=1.1.3->allennlp)\n",
            "  Obtaining dependency information for boto3<2.0,>=1.0 from https://files.pythonhosted.org/packages/81/09/be4b462f1aef33ffd789dbcfbd626a261fa0acc3b1499990ce8b71474d89/boto3-1.28.40-py3-none-any.whl.metadata\n",
            "  Downloading boto3-1.28.40-py3-none-any.whl.metadata (6.7 kB)\n",
            "Requirement already satisfied: google-cloud-storage<3.0,>=1.32.0 in /usr/local/lib/python3.10/dist-packages (from cached-path<1.2.0,>=1.1.3->allennlp) (2.8.0)\n",
            "Collecting huggingface-hub>=0.0.16 (from allennlp)\n",
            "  Downloading huggingface_hub-0.10.1-py3-none-any.whl (163 kB)\n",
            "\u001b[2K     \u001b[90m━━━━━━━━━━━━━━━━━━━━━━━━━━━━━━━━━━━━━━\u001b[0m \u001b[32m163.5/163.5 kB\u001b[0m \u001b[31m18.5 MB/s\u001b[0m eta \u001b[36m0:00:00\u001b[0m\n",
            "\u001b[?25hRequirement already satisfied: pyyaml>=5.1 in /usr/local/lib/python3.10/dist-packages (from huggingface-hub>=0.0.16->allennlp) (6.0.1)\n",
            "Requirement already satisfied: typing-extensions>=3.7.4.3 in /usr/local/lib/python3.10/dist-packages (from huggingface-hub>=0.0.16->allennlp) (4.7.1)\n",
            "Requirement already satisfied: packaging>=20.9 in /usr/local/lib/python3.10/dist-packages (from huggingface-hub>=0.0.16->allennlp) (23.1)\n",
            "Requirement already satisfied: click in /usr/local/lib/python3.10/dist-packages (from nltk>=3.6.5->allennlp) (7.1.2)\n",
            "Requirement already satisfied: joblib in /usr/local/lib/python3.10/dist-packages (from nltk>=3.6.5->allennlp) (1.3.2)\n",
            "Requirement already satisfied: regex>=2021.8.3 in /usr/local/lib/python3.10/dist-packages (from nltk>=3.6.5->allennlp) (2023.6.3)\n",
            "Requirement already satisfied: iniconfig in /usr/local/lib/python3.10/dist-packages (from pytest>=6.2.5->allennlp) (2.0.0)\n",
            "Requirement already satisfied: pluggy<2.0,>=0.12 in /usr/local/lib/python3.10/dist-packages (from pytest>=6.2.5->allennlp) (1.2.0)\n",
            "Requirement already satisfied: exceptiongroup>=1.0.0rc8 in /usr/local/lib/python3.10/dist-packages (from pytest>=6.2.5->allennlp) (1.1.3)\n",
            "Requirement already satisfied: tomli>=1.0.0 in /usr/local/lib/python3.10/dist-packages (from pytest>=6.2.5->allennlp) (2.0.1)\n",
            "Requirement already satisfied: charset-normalizer<4,>=2 in /usr/local/lib/python3.10/dist-packages (from requests>=2.28->allennlp) (3.2.0)\n",
            "Requirement already satisfied: idna<4,>=2.5 in /usr/local/lib/python3.10/dist-packages (from requests>=2.28->allennlp) (3.4)\n",
            "Requirement already satisfied: urllib3<3,>=1.21.1 in /usr/local/lib/python3.10/dist-packages (from requests>=2.28->allennlp) (2.0.4)\n",
            "Requirement already satisfied: certifi>=2017.4.17 in /usr/local/lib/python3.10/dist-packages (from requests>=2.28->allennlp) (2023.7.22)\n",
            "Requirement already satisfied: threadpoolctl>=2.0.0 in /usr/local/lib/python3.10/dist-packages (from scikit-learn>=1.0.1->allennlp) (3.2.0)\n",
            "Requirement already satisfied: spacy-legacy<3.1.0,>=3.0.7 in /usr/local/lib/python3.10/dist-packages (from spacy<3.4,>=2.1.0->allennlp) (3.0.12)\n",
            "Requirement already satisfied: murmurhash<1.1.0,>=0.28.0 in /usr/local/lib/python3.10/dist-packages (from spacy<3.4,>=2.1.0->allennlp) (1.0.9)\n",
            "Requirement already satisfied: cymem<2.1.0,>=2.0.2 in /usr/local/lib/python3.10/dist-packages (from spacy<3.4,>=2.1.0->allennlp) (2.0.7)\n",
            "Requirement already satisfied: preshed<3.1.0,>=3.0.2 in /usr/local/lib/python3.10/dist-packages (from spacy<3.4,>=2.1.0->allennlp) (3.0.8)\n",
            "Requirement already satisfied: thinc<8.1.0,>=8.0.7 in /usr/local/lib/python3.10/dist-packages (from spacy<3.4,>=2.1.0->allennlp) (8.0.17)\n",
            "Requirement already satisfied: blis<0.8.0,>=0.4.0 in /usr/local/lib/python3.10/dist-packages (from spacy<3.4,>=2.1.0->allennlp) (0.7.10)\n",
            "Requirement already satisfied: wasabi<1.1.0,>=0.8.1 in /usr/local/lib/python3.10/dist-packages (from spacy<3.4,>=2.1.0->allennlp) (0.10.1)\n",
            "Requirement already satisfied: srsly<3.0.0,>=2.4.1 in /usr/local/lib/python3.10/dist-packages (from spacy<3.4,>=2.1.0->allennlp) (2.4.7)\n",
            "Requirement already satisfied: catalogue<2.1.0,>=2.0.4 in /usr/local/lib/python3.10/dist-packages (from spacy<3.4,>=2.1.0->allennlp) (2.0.9)\n",
            "INFO: pip is looking at multiple versions of spacy to determine which version is compatible with other requirements. This could take a while.\n",
            "Collecting spacy<3.4,>=2.1.0 (from allennlp)\n",
            "  Obtaining dependency information for spacy<3.4,>=2.1.0 from https://files.pythonhosted.org/packages/37/bb/884587b530425ab53230316b7e1e1ea3b64d4617828311891f80028aa477/spacy-3.3.3-cp310-cp310-manylinux_2_17_x86_64.manylinux2014_x86_64.whl.metadata\n",
            "  Downloading spacy-3.3.3-cp310-cp310-manylinux_2_17_x86_64.manylinux2014_x86_64.whl.metadata (23 kB)\n",
            "Requirement already satisfied: spacy-loggers<2.0.0,>=1.0.0 in /usr/local/lib/python3.10/dist-packages (from spacy<3.4,>=2.1.0->allennlp) (1.0.4)\n",
            "Collecting typer>=0.4.1 (from allennlp)\n",
            "  Downloading typer-0.4.2-py3-none-any.whl (27 kB)\n",
            "Requirement already satisfied: pathy>=0.3.5 in /usr/local/lib/python3.10/dist-packages (from spacy<3.4,>=2.1.0->allennlp) (0.10.2)\n",
            "Requirement already satisfied: smart-open<7.0.0,>=5.2.1 in /usr/local/lib/python3.10/dist-packages (from spacy<3.4,>=2.1.0->allennlp) (6.3.0)\n",
            "Requirement already satisfied: pydantic!=1.8,!=1.8.1,<1.9.0,>=1.7.4 in /usr/local/lib/python3.10/dist-packages (from spacy<3.4,>=2.1.0->allennlp) (1.8.2)\n",
            "Requirement already satisfied: jinja2 in /usr/local/lib/python3.10/dist-packages (from spacy<3.4,>=2.1.0->allennlp) (3.1.2)\n",
            "Requirement already satisfied: setuptools in /usr/local/lib/python3.10/dist-packages (from spacy<3.4,>=2.1.0->allennlp) (68.1.2)\n",
            "Collecting typing-extensions>=3.7.4.3 (from huggingface-hub>=0.0.16->allennlp)\n",
            "  Downloading typing_extensions-4.5.0-py3-none-any.whl (27 kB)\n",
            "Requirement already satisfied: langcodes<4.0.0,>=3.2.0 in /usr/local/lib/python3.10/dist-packages (from spacy<3.4,>=2.1.0->allennlp) (3.3.0)\n",
            "Requirement already satisfied: pillow!=8.3.*,>=5.3.0 in /usr/local/lib/python3.10/dist-packages (from torchvision<0.14.0,>=0.8.1->allennlp) (9.4.0)\n",
            "Collecting tokenizers!=0.11.3,<0.13,>=0.11.1 (from transformers<4.21,>=4.1->allennlp)\n",
            "  Downloading tokenizers-0.12.1-cp310-cp310-manylinux_2_12_x86_64.manylinux2010_x86_64.whl (6.6 MB)\n",
            "\u001b[2K     \u001b[90m━━━━━━━━━━━━━━━━━━━━━━━━━━━━━━━━━━━━━━━━\u001b[0m \u001b[32m6.6/6.6 MB\u001b[0m \u001b[31m44.5 MB/s\u001b[0m eta \u001b[36m0:00:00\u001b[0m\n",
            "\u001b[?25hCollecting GitPython>=1.0.0 (from wandb<0.13.0,>=0.10.0->allennlp)\n",
            "  Obtaining dependency information for GitPython>=1.0.0 from https://files.pythonhosted.org/packages/38/fb/1a372b2a6be38501c66f714c07077cf9d9b84bfbf539f2c20639339a7f03/GitPython-3.1.34-py3-none-any.whl.metadata\n",
            "  Downloading GitPython-3.1.34-py3-none-any.whl.metadata (10 kB)\n",
            "Requirement already satisfied: promise<3,>=2.0 in /usr/local/lib/python3.10/dist-packages (from wandb<0.13.0,>=0.10.0->allennlp) (2.3)\n",
            "Collecting shortuuid>=0.5.0 (from wandb<0.13.0,>=0.10.0->allennlp)\n",
            "  Downloading shortuuid-1.0.11-py3-none-any.whl (10 kB)\n",
            "Requirement already satisfied: psutil>=5.0.0 in /usr/local/lib/python3.10/dist-packages (from wandb<0.13.0,>=0.10.0->allennlp) (5.9.5)\n",
            "Collecting sentry-sdk>=1.0.0 (from wandb<0.13.0,>=0.10.0->allennlp)\n",
            "  Obtaining dependency information for sentry-sdk>=1.0.0 from https://files.pythonhosted.org/packages/17/22/dbd5f854f373214d48585eeb6844e50a8dd1600f435d9033493f76f66dfa/sentry_sdk-1.30.0-py2.py3-none-any.whl.metadata\n",
            "  Downloading sentry_sdk-1.30.0-py2.py3-none-any.whl.metadata (9.6 kB)\n",
            "Requirement already satisfied: six>=1.13.0 in /usr/local/lib/python3.10/dist-packages (from wandb<0.13.0,>=0.10.0->allennlp) (1.16.0)\n",
            "Collecting docker-pycreds>=0.4.0 (from wandb<0.13.0,>=0.10.0->allennlp)\n",
            "  Downloading docker_pycreds-0.4.0-py2.py3-none-any.whl (9.0 kB)\n",
            "Collecting pathtools (from wandb<0.13.0,>=0.10.0->allennlp)\n",
            "  Downloading pathtools-0.1.2.tar.gz (11 kB)\n",
            "  Preparing metadata (setup.py) ... \u001b[?25l\u001b[?25hdone\n",
            "Collecting setproctitle (from wandb<0.13.0,>=0.10.0->allennlp)\n",
            "  Downloading setproctitle-1.3.2-cp310-cp310-manylinux_2_5_x86_64.manylinux1_x86_64.manylinux_2_17_x86_64.manylinux2014_x86_64.whl (30 kB)\n",
            "Requirement already satisfied: pyarrow>=8.0.0 in /usr/local/lib/python3.10/dist-packages (from datasets->allennlp-models) (9.0.0)\n",
            "Requirement already satisfied: pandas in /usr/local/lib/python3.10/dist-packages (from datasets->allennlp-models) (1.5.3)\n",
            "Collecting xxhash (from datasets->allennlp-models)\n",
            "  Obtaining dependency information for xxhash from https://files.pythonhosted.org/packages/13/c3/e942893f4864a424514c81640f114980cfd5aff7e7414d1e0255f4571111/xxhash-3.3.0-cp310-cp310-manylinux_2_17_x86_64.manylinux2014_x86_64.whl.metadata\n",
            "  Downloading xxhash-3.3.0-cp310-cp310-manylinux_2_17_x86_64.manylinux2014_x86_64.whl.metadata (12 kB)\n",
            "Collecting multiprocess (from datasets->allennlp-models)\n",
            "  Obtaining dependency information for multiprocess from https://files.pythonhosted.org/packages/35/a8/36d8d7b3e46b377800d8dec47891cdf05842d1a2366909ae4a0c89fbc5e6/multiprocess-0.70.15-py310-none-any.whl.metadata\n",
            "  Downloading multiprocess-0.70.15-py310-none-any.whl.metadata (7.2 kB)\n",
            "Requirement already satisfied: fsspec[http]>=2021.11.1 in /usr/local/lib/python3.10/dist-packages (from datasets->allennlp-models) (2023.6.0)\n",
            "Requirement already satisfied: aiohttp in /usr/local/lib/python3.10/dist-packages (from datasets->allennlp-models) (3.8.5)\n",
            "INFO: pip is looking at multiple versions of datasets to determine which version is compatible with other requirements. This could take a while.\n",
            "Collecting datasets (from allennlp-models)\n",
            "  Obtaining dependency information for datasets from https://files.pythonhosted.org/packages/25/55/ec0d602cec473f3857ca82c9f2ddbd5b8c4d1139debbf06e19aaff29f973/datasets-2.14.3-py3-none-any.whl.metadata\n",
            "  Downloading datasets-2.14.3-py3-none-any.whl.metadata (19 kB)\n",
            "  Obtaining dependency information for datasets from https://files.pythonhosted.org/packages/46/3e/e1a12ac147ad460f67bd59ce9fede8470be4fa7e5b27dc53ba87135c6c15/datasets-2.14.2-py3-none-any.whl.metadata\n",
            "  Downloading datasets-2.14.2-py3-none-any.whl.metadata (19 kB)\n",
            "  Obtaining dependency information for datasets from https://files.pythonhosted.org/packages/d1/7a/fff542b2958a664e2c78dd3cb0431f2e03a56e92826f97bcccf958f60324/datasets-2.14.1-py3-none-any.whl.metadata\n",
            "  Downloading datasets-2.14.1-py3-none-any.whl.metadata (19 kB)\n",
            "  Obtaining dependency information for datasets from https://files.pythonhosted.org/packages/74/a0/ec3868a14a0d0518e4559dd80b2f92259ddf58dbd39f27cf328ad294b22c/datasets-2.14.0-py3-none-any.whl.metadata\n",
            "  Downloading datasets-2.14.0-py3-none-any.whl.metadata (19 kB)\n",
            "  Obtaining dependency information for datasets from https://files.pythonhosted.org/packages/12/17/95e48481a826f85c918e0610257de493164096e29fe16ec408c0b862e057/datasets-2.13.1-py3-none-any.whl.metadata\n",
            "  Downloading datasets-2.13.1-py3-none-any.whl.metadata (20 kB)\n",
            "Collecting dill>=0.3.4 (from allennlp)\n",
            "  Downloading dill-0.3.6-py3-none-any.whl (110 kB)\n",
            "\u001b[2K     \u001b[90m━━━━━━━━━━━━━━━━━━━━━━━━━━━━━━━━━━━━━━━\u001b[0m \u001b[32m110.5/110.5 kB\u001b[0m \u001b[31m6.3 MB/s\u001b[0m eta \u001b[36m0:00:00\u001b[0m\n",
            "\u001b[?25hCollecting datasets (from allennlp-models)\n",
            "  Obtaining dependency information for datasets from https://files.pythonhosted.org/packages/17/d8/f808e32ed7fa86617b9ac7a37b7dcff894c839108c4871cc33ffc4e65b7d/datasets-2.13.0-py3-none-any.whl.metadata\n",
            "  Downloading datasets-2.13.0-py3-none-any.whl.metadata (20 kB)\n",
            "  Downloading datasets-2.12.0-py3-none-any.whl (474 kB)\n",
            "\u001b[2K     \u001b[90m━━━━━━━━━━━━━━━━━━━━━━━━━━━━━━━━━━━━━━\u001b[0m \u001b[32m474.6/474.6 kB\u001b[0m \u001b[31m37.2 MB/s\u001b[0m eta \u001b[36m0:00:00\u001b[0m\n",
            "\u001b[?25hINFO: pip is still looking at multiple versions of datasets to determine which version is compatible with other requirements. This could take a while.\n",
            "  Downloading datasets-2.11.0-py3-none-any.whl (468 kB)\n",
            "\u001b[2K     \u001b[90m━━━━━━━━━━━━━━━━━━━━━━━━━━━━━━━━━━━━━━\u001b[0m \u001b[32m468.7/468.7 kB\u001b[0m \u001b[31m38.2 MB/s\u001b[0m eta \u001b[36m0:00:00\u001b[0m\n",
            "\u001b[?25h  Downloading datasets-2.10.1-py3-none-any.whl (469 kB)\n",
            "\u001b[2K     \u001b[90m━━━━━━━━━━━━━━━━━━━━━━━━━━━━━━━━━━━━━━\u001b[0m \u001b[32m469.0/469.0 kB\u001b[0m \u001b[31m40.8 MB/s\u001b[0m eta \u001b[36m0:00:00\u001b[0m\n",
            "\u001b[?25hCollecting responses<0.19 (from datasets->allennlp-models)\n",
            "  Downloading responses-0.18.0-py3-none-any.whl (38 kB)\n",
            "Requirement already satisfied: wcwidth>=0.2.5 in /usr/local/lib/python3.10/dist-packages (from ftfy->allennlp-models) (0.2.6)\n",
            "Collecting botocore<1.32.0,>=1.31.40 (from boto3<2.0,>=1.0->cached-path<1.2.0,>=1.1.3->allennlp)\n",
            "  Obtaining dependency information for botocore<1.32.0,>=1.31.40 from https://files.pythonhosted.org/packages/ba/2e/8b3b13bcd625115c6d65b0bbfa3312d983ef4508391e3bb09f4887fb34f5/botocore-1.31.40-py3-none-any.whl.metadata\n",
            "  Downloading botocore-1.31.40-py3-none-any.whl.metadata (6.0 kB)\n",
            "Collecting jmespath<2.0.0,>=0.7.1 (from boto3<2.0,>=1.0->cached-path<1.2.0,>=1.1.3->allennlp)\n",
            "  Downloading jmespath-1.0.1-py3-none-any.whl (20 kB)\n",
            "Collecting s3transfer<0.7.0,>=0.6.0 (from boto3<2.0,>=1.0->cached-path<1.2.0,>=1.1.3->allennlp)\n",
            "  Obtaining dependency information for s3transfer<0.7.0,>=0.6.0 from https://files.pythonhosted.org/packages/d9/17/a3b666f5ef9543cfd3c661d39d1e193abb9649d0cfbbfee3cf3b51d5af02/s3transfer-0.6.2-py3-none-any.whl.metadata\n",
            "  Downloading s3transfer-0.6.2-py3-none-any.whl.metadata (1.8 kB)\n",
            "Requirement already satisfied: attrs>=17.3.0 in /usr/local/lib/python3.10/dist-packages (from aiohttp->datasets->allennlp-models) (23.1.0)\n",
            "Requirement already satisfied: multidict<7.0,>=4.5 in /usr/local/lib/python3.10/dist-packages (from aiohttp->datasets->allennlp-models) (6.0.4)\n",
            "Requirement already satisfied: async-timeout<5.0,>=4.0.0a3 in /usr/local/lib/python3.10/dist-packages (from aiohttp->datasets->allennlp-models) (4.0.3)\n",
            "Requirement already satisfied: yarl<2.0,>=1.0 in /usr/local/lib/python3.10/dist-packages (from aiohttp->datasets->allennlp-models) (1.9.2)\n",
            "Requirement already satisfied: frozenlist>=1.1.1 in /usr/local/lib/python3.10/dist-packages (from aiohttp->datasets->allennlp-models) (1.4.0)\n",
            "Requirement already satisfied: aiosignal>=1.1.2 in /usr/local/lib/python3.10/dist-packages (from aiohttp->datasets->allennlp-models) (1.3.1)\n",
            "Collecting gitdb<5,>=4.0.1 (from GitPython>=1.0.0->wandb<0.13.0,>=0.10.0->allennlp)\n",
            "  Downloading gitdb-4.0.10-py3-none-any.whl (62 kB)\n",
            "\u001b[2K     \u001b[90m━━━━━━━━━━━━━━━━━━━━━━━━━━━━━━━━━━━━━━━━\u001b[0m \u001b[32m62.7/62.7 kB\u001b[0m \u001b[31m7.2 MB/s\u001b[0m eta \u001b[36m0:00:00\u001b[0m\n",
            "\u001b[?25hRequirement already satisfied: google-auth<3.0dev,>=1.25.0 in /usr/local/lib/python3.10/dist-packages (from google-cloud-storage<3.0,>=1.32.0->cached-path<1.2.0,>=1.1.3->allennlp) (2.17.3)\n",
            "Requirement already satisfied: google-api-core!=2.0.*,!=2.1.*,!=2.2.*,!=2.3.0,<3.0.0dev,>=1.31.5 in /usr/local/lib/python3.10/dist-packages (from google-cloud-storage<3.0,>=1.32.0->cached-path<1.2.0,>=1.1.3->allennlp) (2.11.1)\n",
            "Requirement already satisfied: google-cloud-core<3.0dev,>=2.3.0 in /usr/local/lib/python3.10/dist-packages (from google-cloud-storage<3.0,>=1.32.0->cached-path<1.2.0,>=1.1.3->allennlp) (2.3.3)\n",
            "Requirement already satisfied: google-resumable-media>=2.3.2 in /usr/local/lib/python3.10/dist-packages (from google-cloud-storage<3.0,>=1.32.0->cached-path<1.2.0,>=1.1.3->allennlp) (2.5.0)\n",
            "Collecting commonmark<0.10.0,>=0.9.0 (from rich<13.0,>=12.1->cached-path<1.2.0,>=1.1.3->allennlp)\n",
            "  Downloading commonmark-0.9.1-py2.py3-none-any.whl (51 kB)\n",
            "\u001b[2K     \u001b[90m━━━━━━━━━━━━━━━━━━━━━━━━━━━━━━━━━━━━━━━━\u001b[0m \u001b[32m51.1/51.1 kB\u001b[0m \u001b[31m5.7 MB/s\u001b[0m eta \u001b[36m0:00:00\u001b[0m\n",
            "\u001b[?25hRequirement already satisfied: pygments<3.0.0,>=2.6.0 in /usr/local/lib/python3.10/dist-packages (from rich<13.0,>=12.1->cached-path<1.2.0,>=1.1.3->allennlp) (2.16.1)\n",
            "Requirement already satisfied: MarkupSafe>=2.0 in /usr/local/lib/python3.10/dist-packages (from jinja2->spacy<3.4,>=2.1.0->allennlp) (2.1.3)\n",
            "INFO: pip is looking at multiple versions of multiprocess to determine which version is compatible with other requirements. This could take a while.\n",
            "Collecting multiprocess (from datasets->allennlp-models)\n",
            "  Downloading multiprocess-0.70.14-py310-none-any.whl (134 kB)\n",
            "\u001b[2K     \u001b[90m━━━━━━━━━━━━━━━━━━━━━━━━━━━━━━━━━━━━━━\u001b[0m \u001b[32m134.3/134.3 kB\u001b[0m \u001b[31m14.0 MB/s\u001b[0m eta \u001b[36m0:00:00\u001b[0m\n",
            "\u001b[?25hRequirement already satisfied: python-dateutil>=2.8.1 in /usr/local/lib/python3.10/dist-packages (from pandas->datasets->allennlp-models) (2.8.2)\n",
            "Requirement already satisfied: pytz>=2020.1 in /usr/local/lib/python3.10/dist-packages (from pandas->datasets->allennlp-models) (2023.3)\n",
            "Collecting urllib3<3,>=1.21.1 (from requests>=2.28->allennlp)\n",
            "  Obtaining dependency information for urllib3<3,>=1.21.1 from https://files.pythonhosted.org/packages/c5/05/c214b32d21c0b465506f95c4f28ccbcba15022e000b043b72b3df7728471/urllib3-1.26.16-py2.py3-none-any.whl.metadata\n",
            "  Downloading urllib3-1.26.16-py2.py3-none-any.whl.metadata (48 kB)\n",
            "\u001b[2K     \u001b[90m━━━━━━━━━━━━━━━━━━━━━━━━━━━━━━━━━━━━━━━━\u001b[0m \u001b[32m48.4/48.4 kB\u001b[0m \u001b[31m5.5 MB/s\u001b[0m eta \u001b[36m0:00:00\u001b[0m\n",
            "\u001b[?25hCollecting smmap<6,>=3.0.1 (from gitdb<5,>=4.0.1->GitPython>=1.0.0->wandb<0.13.0,>=0.10.0->allennlp)\n",
            "  Downloading smmap-5.0.0-py3-none-any.whl (24 kB)\n",
            "Requirement already satisfied: googleapis-common-protos<2.0.dev0,>=1.56.2 in /usr/local/lib/python3.10/dist-packages (from google-api-core!=2.0.*,!=2.1.*,!=2.2.*,!=2.3.0,<3.0.0dev,>=1.31.5->google-cloud-storage<3.0,>=1.32.0->cached-path<1.2.0,>=1.1.3->allennlp) (1.60.0)\n",
            "Requirement already satisfied: cachetools<6.0,>=2.0.0 in /usr/local/lib/python3.10/dist-packages (from google-auth<3.0dev,>=1.25.0->google-cloud-storage<3.0,>=1.32.0->cached-path<1.2.0,>=1.1.3->allennlp) (5.3.1)\n",
            "Requirement already satisfied: pyasn1-modules>=0.2.1 in /usr/local/lib/python3.10/dist-packages (from google-auth<3.0dev,>=1.25.0->google-cloud-storage<3.0,>=1.32.0->cached-path<1.2.0,>=1.1.3->allennlp) (0.3.0)\n",
            "Requirement already satisfied: rsa<5,>=3.1.4 in /usr/local/lib/python3.10/dist-packages (from google-auth<3.0dev,>=1.25.0->google-cloud-storage<3.0,>=1.32.0->cached-path<1.2.0,>=1.1.3->allennlp) (4.9)\n",
            "Requirement already satisfied: google-crc32c<2.0dev,>=1.0 in /usr/local/lib/python3.10/dist-packages (from google-resumable-media>=2.3.2->google-cloud-storage<3.0,>=1.32.0->cached-path<1.2.0,>=1.1.3->allennlp) (1.5.0)\n",
            "Requirement already satisfied: pyasn1<0.6.0,>=0.4.6 in /usr/local/lib/python3.10/dist-packages (from pyasn1-modules>=0.2.1->google-auth<3.0dev,>=1.25.0->google-cloud-storage<3.0,>=1.32.0->cached-path<1.2.0,>=1.1.3->allennlp) (0.5.0)\n",
            "Downloading spacy-3.3.3-cp310-cp310-manylinux_2_17_x86_64.manylinux2014_x86_64.whl (6.3 MB)\n",
            "\u001b[2K   \u001b[90m━━━━━━━━━━━━━━━━━━━━━━━━━━━━━━━━━━━━━━━━\u001b[0m \u001b[32m6.3/6.3 MB\u001b[0m \u001b[31m63.0 MB/s\u001b[0m eta \u001b[36m0:00:00\u001b[0m\n",
            "\u001b[?25hDownloading tensorboardX-2.6.2.2-py2.py3-none-any.whl (101 kB)\n",
            "\u001b[2K   \u001b[90m━━━━━━━━━━━━━━━━━━━━━━━━━━━━━━━━━━━━━━━━\u001b[0m \u001b[32m101.7/101.7 kB\u001b[0m \u001b[31m11.5 MB/s\u001b[0m eta \u001b[36m0:00:00\u001b[0m\n",
            "\u001b[?25hDownloading boto3-1.28.40-py3-none-any.whl (135 kB)\n",
            "\u001b[2K   \u001b[90m━━━━━━━━━━━━━━━━━━━━━━━━━━━━━━━━━━━━━━━━\u001b[0m \u001b[32m135.8/135.8 kB\u001b[0m \u001b[31m14.3 MB/s\u001b[0m eta \u001b[36m0:00:00\u001b[0m\n",
            "\u001b[?25hDownloading GitPython-3.1.34-py3-none-any.whl (188 kB)\n",
            "\u001b[2K   \u001b[90m━━━━━━━━━━━━━━━━━━━━━━━━━━━━━━━━━━━━━━━━\u001b[0m \u001b[32m188.6/188.6 kB\u001b[0m \u001b[31m17.1 MB/s\u001b[0m eta \u001b[36m0:00:00\u001b[0m\n",
            "\u001b[?25hDownloading sentry_sdk-1.30.0-py2.py3-none-any.whl (218 kB)\n",
            "\u001b[2K   \u001b[90m━━━━━━━━━━━━━━━━━━━━━━━━━━━━━━━━━━━━━━━━\u001b[0m \u001b[32m218.8/218.8 kB\u001b[0m \u001b[31m18.8 MB/s\u001b[0m eta \u001b[36m0:00:00\u001b[0m\n",
            "\u001b[?25hDownloading xxhash-3.3.0-cp310-cp310-manylinux_2_17_x86_64.manylinux2014_x86_64.whl (194 kB)\n",
            "\u001b[2K   \u001b[90m━━━━━━━━━━━━━━━━━━━━━━━━━━━━━━━━━━━━━━━━\u001b[0m \u001b[32m194.1/194.1 kB\u001b[0m \u001b[31m18.7 MB/s\u001b[0m eta \u001b[36m0:00:00\u001b[0m\n",
            "\u001b[?25hDownloading botocore-1.31.40-py3-none-any.whl (11.2 MB)\n",
            "\u001b[2K   \u001b[90m━━━━━━━━━━━━━━━━━━━━━━━━━━━━━━━━━━━━━━━━\u001b[0m \u001b[32m11.2/11.2 MB\u001b[0m \u001b[31m64.2 MB/s\u001b[0m eta \u001b[36m0:00:00\u001b[0m\n",
            "\u001b[?25hDownloading urllib3-1.26.16-py2.py3-none-any.whl (143 kB)\n",
            "\u001b[2K   \u001b[90m━━━━━━━━━━━━━━━━━━━━━━━━━━━━━━━━━━━━━━━━\u001b[0m \u001b[32m143.1/143.1 kB\u001b[0m \u001b[31m15.1 MB/s\u001b[0m eta \u001b[36m0:00:00\u001b[0m\n",
            "\u001b[?25hDownloading s3transfer-0.6.2-py3-none-any.whl (79 kB)\n",
            "\u001b[2K   \u001b[90m━━━━━━━━━━━━━━━━━━━━━━━━━━━━━━━━━━━━━━━━\u001b[0m \u001b[32m79.8/79.8 kB\u001b[0m \u001b[31m7.0 MB/s\u001b[0m eta \u001b[36m0:00:00\u001b[0m\n",
            "\u001b[?25hBuilding wheels for collected packages: fairscale, termcolor, jsonnet, word2number, sacremoses, pathtools\n",
            "  Building wheel for fairscale (pyproject.toml) ... \u001b[?25l\u001b[?25hdone\n",
            "  Created wheel for fairscale: filename=fairscale-0.4.6-py3-none-any.whl size=307220 sha256=4be446046b5e6cd12fa6a6a01a29a3137c537d53fafbc3fdc005f8b05b4425dd\n",
            "  Stored in directory: /root/.cache/pip/wheels/a1/58/3d/e114952ab4a8f31eb9dae230658450afff986b211a5b1f2256\n",
            "  Building wheel for termcolor (setup.py) ... \u001b[?25l\u001b[?25hdone\n",
            "  Created wheel for termcolor: filename=termcolor-1.1.0-py3-none-any.whl size=4832 sha256=591fd31d7543d6b2e5e7f21afca52c07574ffe686ba037f9f08b9fd6f078e81d\n",
            "  Stored in directory: /root/.cache/pip/wheels/a1/49/46/1b13a65d8da11238af9616b00fdde6d45b0f95d9291bac8452\n",
            "  Building wheel for jsonnet (setup.py) ... \u001b[?25l\u001b[?25hdone\n",
            "  Created wheel for jsonnet: filename=jsonnet-0.20.0-cp310-cp310-linux_x86_64.whl size=6406882 sha256=fa26c9c7920df8fbdb19f0c9671b84d531b12926fa6fb1598518f7c37b6d6031\n",
            "  Stored in directory: /root/.cache/pip/wheels/63/0d/6b/5467dd1db9332ba4bd5cf4153e2870c5f89bb4db473d989cc2\n",
            "  Building wheel for word2number (setup.py) ... \u001b[?25l\u001b[?25hdone\n",
            "  Created wheel for word2number: filename=word2number-1.1-py3-none-any.whl size=5567 sha256=ca186dc8a4b3c4c5a1c90986b7d58139fde096a88d794c7bae5f01cddd2f4754\n",
            "  Stored in directory: /root/.cache/pip/wheels/84/ff/26/d3cfbd971e96c5aa3737ecfced81628830d7359b55fbb8ca3b\n",
            "  Building wheel for sacremoses (setup.py) ... \u001b[?25l\u001b[?25hdone\n",
            "  Created wheel for sacremoses: filename=sacremoses-0.0.53-py3-none-any.whl size=895241 sha256=71723a5fdb99d5332b81f97b6dcd4ac0d8f752e7b128a13f22cf461130d7b80e\n",
            "  Stored in directory: /root/.cache/pip/wheels/00/24/97/a2ea5324f36bc626e1ea0267f33db6aa80d157ee977e9e42fb\n",
            "  Building wheel for pathtools (setup.py) ... \u001b[?25l\u001b[?25hdone\n",
            "  Created wheel for pathtools: filename=pathtools-0.1.2-py3-none-any.whl size=8791 sha256=a23cc8a4c4828d2599c0450832518274fdc6036f28dc4c9ecf3c4b4c1c537cca\n",
            "  Stored in directory: /root/.cache/pip/wheels/e7/f3/22/152153d6eb222ee7a56ff8617d80ee5207207a8c00a7aab794\n",
            "Successfully built fairscale termcolor jsonnet word2number sacremoses pathtools\n",
            "Installing collected packages: word2number, tokenizers, termcolor, sentencepiece, py-rouge, pathtools, lmdb, jsonnet, commonmark, xxhash, urllib3, typing-extensions, typer, tensorboardX, smmap, shortuuid, setproctitle, sacremoses, rich, jmespath, ftfy, filelock, docker-pycreds, dill, conllu, base58, torch, sentry-sdk, multiprocess, gitdb, botocore, torchvision, s3transfer, responses, huggingface-hub, GitPython, fairscale, wandb, transformers, spacy, datasets, boto3, cached-path, allennlp, allennlp-models\n",
            "  Attempting uninstall: termcolor\n",
            "    Found existing installation: termcolor 2.3.0\n",
            "    Uninstalling termcolor-2.3.0:\n",
            "      Successfully uninstalled termcolor-2.3.0\n",
            "  Attempting uninstall: urllib3\n",
            "    Found existing installation: urllib3 2.0.4\n",
            "    Uninstalling urllib3-2.0.4:\n",
            "      Successfully uninstalled urllib3-2.0.4\n",
            "  Attempting uninstall: typing-extensions\n",
            "    Found existing installation: typing_extensions 4.7.1\n",
            "    Uninstalling typing_extensions-4.7.1:\n",
            "      Successfully uninstalled typing_extensions-4.7.1\n",
            "  Attempting uninstall: typer\n",
            "    Found existing installation: typer 0.3.2\n",
            "    Uninstalling typer-0.3.2:\n",
            "      Successfully uninstalled typer-0.3.2\n",
            "  Attempting uninstall: rich\n",
            "    Found existing installation: rich 13.5.2\n",
            "    Uninstalling rich-13.5.2:\n",
            "      Successfully uninstalled rich-13.5.2\n",
            "  Attempting uninstall: filelock\n",
            "    Found existing installation: filelock 3.12.2\n",
            "    Uninstalling filelock-3.12.2:\n",
            "      Successfully uninstalled filelock-3.12.2\n",
            "  Attempting uninstall: torch\n",
            "    Found existing installation: torch 2.0.1+cu118\n",
            "    Uninstalling torch-2.0.1+cu118:\n",
            "      Successfully uninstalled torch-2.0.1+cu118\n",
            "  Attempting uninstall: torchvision\n",
            "    Found existing installation: torchvision 0.15.2+cu118\n",
            "    Uninstalling torchvision-0.15.2+cu118:\n",
            "      Successfully uninstalled torchvision-0.15.2+cu118\n",
            "  Attempting uninstall: spacy\n",
            "    Found existing installation: spacy 3.1.0\n",
            "    Uninstalling spacy-3.1.0:\n",
            "      Successfully uninstalled spacy-3.1.0\n",
            "\u001b[31mERROR: pip's dependency resolver does not currently take into account all the packages that are installed. This behaviour is the source of the following dependency conflicts.\n",
            "distributed 2023.8.1 requires click>=8.0, but you have click 7.1.2 which is incompatible.\n",
            "en-core-web-sm 3.1.0 requires spacy<3.2.0,>=3.1.0, but you have spacy 3.3.3 which is incompatible.\n",
            "inflect 7.0.0 requires pydantic>=1.9.1, but you have pydantic 1.8.2 which is incompatible.\n",
            "pydantic-core 2.6.1 requires typing-extensions!=4.7.0,>=4.6.0, but you have typing-extensions 4.5.0 which is incompatible.\n",
            "torchdata 0.6.1 requires torch==2.0.1, but you have torch 1.12.1 which is incompatible.\u001b[0m\u001b[31m\n",
            "\u001b[0mSuccessfully installed GitPython-3.1.34 allennlp-2.10.1 allennlp-models-2.10.1 base58-2.1.1 boto3-1.28.40 botocore-1.31.40 cached-path-1.1.6 commonmark-0.9.1 conllu-4.4.2 datasets-2.10.1 dill-0.3.6 docker-pycreds-0.4.0 fairscale-0.4.6 filelock-3.7.1 ftfy-6.1.1 gitdb-4.0.10 huggingface-hub-0.10.1 jmespath-1.0.1 jsonnet-0.20.0 lmdb-1.4.1 multiprocess-0.70.14 pathtools-0.1.2 py-rouge-1.1 responses-0.18.0 rich-12.6.0 s3transfer-0.6.2 sacremoses-0.0.53 sentencepiece-0.1.99 sentry-sdk-1.30.0 setproctitle-1.3.2 shortuuid-1.0.11 smmap-5.0.0 spacy-3.3.3 tensorboardX-2.6.2.2 termcolor-1.1.0 tokenizers-0.12.1 torch-1.12.1 torchvision-0.13.1 transformers-4.20.1 typer-0.4.2 typing-extensions-4.5.0 urllib3-1.26.16 wandb-0.12.21 word2number-1.1 xxhash-3.3.0\n",
            "\u001b[33mWARNING: Running pip as the 'root' user can result in broken permissions and conflicting behaviour with the system package manager. It is recommended to use a virtual environment instead: https://pip.pypa.io/warnings/venv\u001b[0m\u001b[33m\n",
            "\u001b[0m"
          ]
        }
      ]
    },
    {
      "cell_type": "code",
      "execution_count": 3,
      "metadata": {
        "id": "eYJg64MEmYIp",
        "colab": {
          "base_uri": "https://localhost:8080/",
          "height": 616,
          "referenced_widgets": [
            "ef222d91e3d44e739d798f1b5f1c0510",
            "bf7778608f894e19b185f67e8d511468",
            "e0a85cde10524f6dafbada2005b0d1b1",
            "86a8c0227532455aa82ca42925a8e108",
            "f2f9c1d238e84580b299aec7172d17c1",
            "b2de7f42ebe94e509a39dcb30141a81c",
            "195d4fc1ed9f4b058cda1253db7797b6",
            "eb5eaea126164e0cae6a43bb757f332a",
            "2a01fad5d67646748e8dc59ff11dc269",
            "be11170d41f94baf8d34b26dee269e4d",
            "96fd9a37d6c34fd88a825e46c69d6c15",
            "c12c768cf2ea47edb72de366c29e1890",
            "c6880206e2904db6b648786eb040d742",
            "ec33a057957a428db2e8ec3d74b74d27",
            "8a1040cda78f4a61a20fd1cedb27fca1",
            "a35bfb280cb44fb7929247602fa21940",
            "d8622e41422f4e5795238d224d4299e1",
            "1ef93225dd454493b249b3f9502c1f27",
            "9b13c2c8ab174686aab9b4d2d995a284",
            "f56a297ba89646d4affcebb57a6fef2d",
            "40a6480feb8345cfb44ba51f0794a269",
            "f540ab85641d439099b391e785a29c66",
            "56f187b9c8eb4886867141ab42659706",
            "0919ad8669d54c81867d67685087cd73",
            "511bc5586bfa452aba244c100db42522",
            "097348e32b234613b5af153b1ec28878",
            "ec9508f923164fdbaf228a189216040b",
            "5288c54777f746089111798e5af63c51",
            "0af9d2e144634aac94a254a237dd0eea",
            "5802207f19ec48ac8d0f441dddc1f7d9",
            "b51723252bd24249b83abd5520976fd7",
            "4028d045ee9d421d8edc78bbe49326ca",
            "fc21bfa1c75e42b18832336a027583c6",
            "7d25d37cadca43c8932e3d84dc4a7379",
            "0a640340d6a14ffaa51fe0d6cf2a9194",
            "47d524a3449c444eb0e0b3e474d93028",
            "bc21ae5ab89f43fdb7ccb318e68a1a7a",
            "b258aa019dba4736be07c98ae3f8ef8d",
            "d5a01751450d43f586cce20a35857f35",
            "aa39e997dcb345deba4b80292ad60dfb",
            "826f221942e447bf93647f8bc1313c5d",
            "45b0287461354519a1c421822df87da5",
            "a487c8efb05746418d93f75085686137",
            "7c95af170355451da001ae4ee2a579a7",
            "60a39bb5cf494901a5d53d0efde41b5b",
            "3663a4a5dd4b458a80b5124430f9ad82",
            "5d03b91b5458429bb02d4b6c576449db",
            "1586bff70fc6407ca31ed1f426984b81",
            "b2fefb499f8749ff9f472ffa4c034d8a",
            "31a4bba29e1b4ac6b6255e9d9fce6776",
            "0513b814058e4133ad9a514f1f3867c3",
            "0dfd9333cb98435e98bb40aa2937a2ea",
            "be7323ebcdba462a9693e04b0c75903d",
            "a9dfe3fd76ef4b5da5667c3baf8513c7",
            "3d2a60a1c885416c8dada11c947c6138",
            "50fce9ead03a4e27ad2b115e7e709b53",
            "4b551523883c40958d14cb4a03e9b445",
            "3631c6ba29d848af81abd3c42fde6dc0",
            "1f93fe49937743b89e5962bf3983971d",
            "0bc28e45babc4b809df27146eea31e19",
            "af85d340dcec4b9698ed14999e96f07d",
            "122055b92d9d43e8884a223588a7a834",
            "28ed58bfc4a848cd82e0b4998e4ff3d9",
            "562df7e612e34327bfe884965f2c29c8",
            "432292347ed44ff498d62b6f6686d278",
            "d9f5dd689f5a44db85c4020b3eb0d0eb",
            "8c133cf10f5c42eb82c6fda9c22351c9",
            "2e551729f8724719952f950aa3d0a198",
            "cdea6bce794541b59464a4c66820a53d",
            "9ddfb56359af4fac91c1837ffd79759e",
            "8a9f62e0f05a4d8db5bb1e5697ac3a30",
            "188b107d3c984f778f06ef82428b78b8",
            "5a25453f31504ec68186e958bec596a8",
            "e4abfaffc0b347c096a31daca39c3ecc",
            "4d2c0e1d905649c1a7f88f11ede1d711",
            "d2dfd5f11b8f4c43978e539d5316028d",
            "a605f98657394caf92a2507a3aa989e2",
            "83c7ae15a0ec46ebaa1b582559172a78",
            "caba3c5906984a1888eb3f8f27910e00",
            "74be7d6ed0c446289ec5e81b5c853132",
            "b2cd715e00db4e49969377c3c23d948e",
            "176d7709dab04d498500ed8f00f1a734",
            "b1970d2303234f43847539b9109124eb",
            "03acce9d311f46d8a93968c79793dd5f",
            "33c956f2fa444892a145f76f326bdbc0",
            "93c2521e73f34fcb87802f76a544b6bc",
            "9ce47a5833b7407296f13ed83cf4b1cc",
            "8d633218dd514288b3ab7c1393319e46",
            "9df52a4276fa459d8d519aeaeb323fd6",
            "34e1606e3bf548bf9fd06801398bd9ec",
            "c59ba594039543129de1c869894d1b64",
            "a1ea983c0b874b03a080855077dbee58",
            "d94dfb7ba424407a9751797ebe027eeb",
            "0aeede618304427cb0dda8891ea4f06f",
            "aeed01115d6d4920b791717c12600269",
            "2574d649524e484cb7799c32fe4cb752",
            "64bbbe3eb26d4a049a47df1bcf1045e1",
            "f5cd13df89f14743aaf5a1b02bc88c18"
          ]
        },
        "outputId": "f5664e99-2b9c-417c-c834-e1a91946ee72"
      },
      "outputs": [
        {
          "output_type": "stream",
          "name": "stderr",
          "text": [
            "[nltk_data] Downloading package averaged_perceptron_tagger to\n",
            "[nltk_data]     /root/nltk_data...\n",
            "[nltk_data]   Unzipping taggers/averaged_perceptron_tagger.zip.\n",
            "[nltk_data] Downloading package omw-1.4 to /root/nltk_data...\n",
            "[nltk_data] Downloading package punkt to /root/nltk_data...\n",
            "[nltk_data]   Unzipping tokenizers/punkt.zip.\n",
            "[nltk_data] Downloading package wordnet to /root/nltk_data...\n"
          ]
        },
        {
          "output_type": "display_data",
          "data": {
            "text/plain": [
              "Output()"
            ],
            "application/vnd.jupyter.widget-view+json": {
              "version_major": 2,
              "version_minor": 0,
              "model_id": "ef222d91e3d44e739d798f1b5f1c0510"
            }
          },
          "metadata": {}
        },
        {
          "output_type": "display_data",
          "data": {
            "text/plain": [],
            "text/html": [
              "<pre style=\"white-space:pre;overflow-x:auto;line-height:normal;font-family:Menlo,'DejaVu Sans Mono',consolas,'Courier New',monospace\"></pre>\n"
            ]
          },
          "metadata": {}
        },
        {
          "output_type": "display_data",
          "data": {
            "text/plain": [
              "\n"
            ],
            "text/html": [
              "<pre style=\"white-space:pre;overflow-x:auto;line-height:normal;font-family:Menlo,'DejaVu Sans Mono',consolas,'Courier New',monospace\">\n",
              "</pre>\n"
            ]
          },
          "metadata": {}
        },
        {
          "output_type": "display_data",
          "data": {
            "text/plain": [
              "Downloading:   0%|          | 0.00/28.0 [00:00<?, ?B/s]"
            ],
            "application/vnd.jupyter.widget-view+json": {
              "version_major": 2,
              "version_minor": 0,
              "model_id": "e0a85cde10524f6dafbada2005b0d1b1"
            }
          },
          "metadata": {}
        },
        {
          "output_type": "display_data",
          "data": {
            "text/plain": [
              "Downloading:   0%|          | 0.00/570 [00:00<?, ?B/s]"
            ],
            "application/vnd.jupyter.widget-view+json": {
              "version_major": 2,
              "version_minor": 0,
              "model_id": "ec33a057957a428db2e8ec3d74b74d27"
            }
          },
          "metadata": {}
        },
        {
          "output_type": "display_data",
          "data": {
            "text/plain": [
              "Downloading:   0%|          | 0.00/226k [00:00<?, ?B/s]"
            ],
            "application/vnd.jupyter.widget-view+json": {
              "version_major": 2,
              "version_minor": 0,
              "model_id": "511bc5586bfa452aba244c100db42522"
            }
          },
          "metadata": {}
        },
        {
          "output_type": "display_data",
          "data": {
            "text/plain": [
              "Downloading:   0%|          | 0.00/455k [00:00<?, ?B/s]"
            ],
            "application/vnd.jupyter.widget-view+json": {
              "version_major": 2,
              "version_minor": 0,
              "model_id": "47d524a3449c444eb0e0b3e474d93028"
            }
          },
          "metadata": {}
        },
        {
          "output_type": "display_data",
          "data": {
            "text/plain": [
              "Downloading:   0%|          | 0.00/420M [00:00<?, ?B/s]"
            ],
            "application/vnd.jupyter.widget-view+json": {
              "version_major": 2,
              "version_minor": 0,
              "model_id": "5d03b91b5458429bb02d4b6c576449db"
            }
          },
          "metadata": {}
        },
        {
          "output_type": "stream",
          "name": "stderr",
          "text": [
            "Some weights of the model checkpoint at bert-base-uncased were not used when initializing BertModel: ['cls.predictions.transform.dense.bias', 'cls.predictions.transform.dense.weight', 'cls.predictions.decoder.weight', 'cls.predictions.bias', 'cls.seq_relationship.weight', 'cls.seq_relationship.bias', 'cls.predictions.transform.LayerNorm.bias', 'cls.predictions.transform.LayerNorm.weight']\n",
            "- This IS expected if you are initializing BertModel from the checkpoint of a model trained on another task or with another architecture (e.g. initializing a BertForSequenceClassification model from a BertForPreTraining model).\n",
            "- This IS NOT expected if you are initializing BertModel from the checkpoint of a model that you expect to be exactly identical (initializing a BertForSequenceClassification model from a BertForSequenceClassification model).\n",
            "/usr/local/lib/python3.10/dist-packages/spacy/util.py:837: UserWarning: [W095] Model 'en_core_web_sm' (3.1.0) was trained with spaCy v3.1 and may not be 100% compatible with the current version (3.3.3). If you see errors or degraded performance, download a newer compatible model or retrain your custom model with the current spaCy version. For more details and available updates, run: python -m spacy validate\n",
            "  warnings.warn(warn_msg)\n"
          ]
        },
        {
          "output_type": "display_data",
          "data": {
            "text/plain": [
              "Output()"
            ],
            "application/vnd.jupyter.widget-view+json": {
              "version_major": 2,
              "version_minor": 0,
              "model_id": "3631c6ba29d848af81abd3c42fde6dc0"
            }
          },
          "metadata": {}
        },
        {
          "output_type": "display_data",
          "data": {
            "text/plain": [],
            "text/html": [
              "<pre style=\"white-space:pre;overflow-x:auto;line-height:normal;font-family:Menlo,'DejaVu Sans Mono',consolas,'Courier New',monospace\"></pre>\n"
            ]
          },
          "metadata": {}
        },
        {
          "output_type": "display_data",
          "data": {
            "text/plain": [
              "\n"
            ],
            "text/html": [
              "<pre style=\"white-space:pre;overflow-x:auto;line-height:normal;font-family:Menlo,'DejaVu Sans Mono',consolas,'Courier New',monospace\">\n",
              "</pre>\n"
            ]
          },
          "metadata": {}
        },
        {
          "output_type": "display_data",
          "data": {
            "text/plain": [
              "Downloading:   0%|          | 0.00/414 [00:00<?, ?B/s]"
            ],
            "application/vnd.jupyter.widget-view+json": {
              "version_major": 2,
              "version_minor": 0,
              "model_id": "0bc28e45babc4b809df27146eea31e19"
            }
          },
          "metadata": {}
        },
        {
          "output_type": "display_data",
          "data": {
            "text/plain": [
              "Downloading:   0%|          | 0.00/208k [00:00<?, ?B/s]"
            ],
            "application/vnd.jupyter.widget-view+json": {
              "version_major": 2,
              "version_minor": 0,
              "model_id": "8a9f62e0f05a4d8db5bb1e5697ac3a30"
            }
          },
          "metadata": {}
        },
        {
          "output_type": "display_data",
          "data": {
            "text/plain": [
              "Downloading:   0%|          | 0.00/634M [00:00<?, ?B/s]"
            ],
            "application/vnd.jupyter.widget-view+json": {
              "version_major": 2,
              "version_minor": 0,
              "model_id": "176d7709dab04d498500ed8f00f1a734"
            }
          },
          "metadata": {}
        },
        {
          "output_type": "stream",
          "name": "stderr",
          "text": [
            "Some weights of BertModel were not initialized from the model checkpoint at SpanBERT/spanbert-large-cased and are newly initialized: ['bert.pooler.dense.weight', 'bert.pooler.dense.bias']\n",
            "You should probably TRAIN this model on a down-stream task to be able to use it for predictions and inference.\n"
          ]
        },
        {
          "output_type": "display_data",
          "data": {
            "text/plain": [
              "Output()"
            ],
            "application/vnd.jupyter.widget-view+json": {
              "version_major": 2,
              "version_minor": 0,
              "model_id": "d94dfb7ba424407a9751797ebe027eeb"
            }
          },
          "metadata": {}
        },
        {
          "output_type": "display_data",
          "data": {
            "text/plain": [],
            "text/html": [
              "<pre style=\"white-space:pre;overflow-x:auto;line-height:normal;font-family:Menlo,'DejaVu Sans Mono',consolas,'Courier New',monospace\"></pre>\n"
            ]
          },
          "metadata": {}
        },
        {
          "output_type": "display_data",
          "data": {
            "text/plain": [
              "\n"
            ],
            "text/html": [
              "<pre style=\"white-space:pre;overflow-x:auto;line-height:normal;font-family:Menlo,'DejaVu Sans Mono',consolas,'Courier New',monospace\">\n",
              "</pre>\n"
            ]
          },
          "metadata": {}
        },
        {
          "output_type": "display_data",
          "data": {
            "text/plain": [
              "Output()"
            ],
            "application/vnd.jupyter.widget-view+json": {
              "version_major": 2,
              "version_minor": 0,
              "model_id": "aeed01115d6d4920b791717c12600269"
            }
          },
          "metadata": {}
        },
        {
          "output_type": "display_data",
          "data": {
            "text/plain": [],
            "text/html": [
              "<pre style=\"white-space:pre;overflow-x:auto;line-height:normal;font-family:Menlo,'DejaVu Sans Mono',consolas,'Courier New',monospace\"></pre>\n"
            ]
          },
          "metadata": {}
        },
        {
          "output_type": "display_data",
          "data": {
            "text/plain": [
              "\n"
            ],
            "text/html": [
              "<pre style=\"white-space:pre;overflow-x:auto;line-height:normal;font-family:Menlo,'DejaVu Sans Mono',consolas,'Courier New',monospace\">\n",
              "</pre>\n"
            ]
          },
          "metadata": {}
        },
        {
          "output_type": "display_data",
          "data": {
            "text/plain": [
              "Output()"
            ],
            "application/vnd.jupyter.widget-view+json": {
              "version_major": 2,
              "version_minor": 0,
              "model_id": "64bbbe3eb26d4a049a47df1bcf1045e1"
            }
          },
          "metadata": {}
        },
        {
          "output_type": "display_data",
          "data": {
            "text/plain": [],
            "text/html": [
              "<pre style=\"white-space:pre;overflow-x:auto;line-height:normal;font-family:Menlo,'DejaVu Sans Mono',consolas,'Courier New',monospace\"></pre>\n"
            ]
          },
          "metadata": {}
        },
        {
          "output_type": "display_data",
          "data": {
            "text/plain": [
              "\n"
            ],
            "text/html": [
              "<pre style=\"white-space:pre;overflow-x:auto;line-height:normal;font-family:Menlo,'DejaVu Sans Mono',consolas,'Courier New',monospace\">\n",
              "</pre>\n"
            ]
          },
          "metadata": {}
        }
      ],
      "source": [
        "from allennlp.predictors.predictor import Predictor\n",
        "import allennlp_models.tagging\n",
        "from copy import deepcopy\n",
        "from nltk.stem.wordnet import WordNetLemmatizer\n",
        "wl = WordNetLemmatizer()\n",
        "#from pattern.en import conjugate, lemma, lexeme, PRESENT, SG, PAST\n",
        "from nltk.tokenize import sent_tokenize, word_tokenize\n",
        "import nltk\n",
        "nltk.download('averaged_perceptron_tagger')\n",
        "import re\n",
        "import nltk\n",
        "nltk.download('omw-1.4')\n",
        "\n",
        "SRL_predictor = Predictor.from_path(\"https://storage.googleapis.com/allennlp-public-models/structured-prediction-srl-bert.2020.12.15.tar.gz\")\n",
        "CR_predictor = Predictor.from_path(\"https://storage.googleapis.com/allennlp-public-models/coref-spanbert-large-2021.03.10.tar.gz\")\n",
        "NER_predictor = Predictor.from_path(\"https://storage.googleapis.com/allennlp-public-models/ner-elmo.2021-02-12.tar.gz\")"
      ]
    },
    {
      "cell_type": "markdown",
      "metadata": {
        "id": "6rGO8E78guaX"
      },
      "source": [
        "# My Workshop"
      ]
    },
    {
      "cell_type": "code",
      "execution_count": 9,
      "metadata": {
        "id": "A74CNB8E4Ts4"
      },
      "outputs": [],
      "source": [
        "def find_cluster(cluster, words):\n",
        "  all_coref = []\n",
        "  for coref in cluster:\n",
        "    coref_ =  ' '.join(words[coref[0]: coref[1] + 1])\n",
        "    print(coref_)"
      ]
    },
    {
      "cell_type": "code",
      "execution_count": 10,
      "metadata": {
        "id": "_vynhuSLMBgG"
      },
      "outputs": [],
      "source": [
        "def find_arg(words, tags, tag_id):\n",
        "  founds = []\n",
        "  found_start = False\n",
        "  for index, (word, tag) in enumerate(zip(words, tags)):\n",
        "    if tag_id in tag and not 'R-ARG' in tag:\n",
        "      found_start = True\n",
        "      founds.append([word, tag, index])\n",
        "  real_founds = ' '.join([found[0] for found in founds])\n",
        "  if len(founds) != 0:\n",
        "    indexes = [founds[0][2], founds[-1][2]]\n",
        "  else:\n",
        "    indexes = []\n",
        "  case_exists = True if real_founds != '' else False\n",
        "  return real_founds, case_exists, indexes"
      ]
    },
    {
      "cell_type": "code",
      "execution_count": 11,
      "metadata": {
        "id": "LDBYbmIGBq7m"
      },
      "outputs": [],
      "source": [
        "def find_sents_bounds(string):\n",
        "  l_token = -1\n",
        "  token_bounds = []\n",
        "\n",
        "  for sent in sent_tokenize(string):\n",
        "    c_token = string.find(sent)\n",
        "    if c_token > l_token:\n",
        "      token_bounds.append([c_token, c_token + len(sent)])\n",
        "    else:\n",
        "      c_token = string[l_token: ].find(sent) + l_token\n",
        "\n",
        "    if c_token < l_token:\n",
        "      assert False\n",
        "\n",
        "    if c_token == -1:\n",
        "      assert False\n",
        "    l_token = c_token + len(sent)\n",
        "  return token_bounds"
      ]
    },
    {
      "cell_type": "code",
      "execution_count": 12,
      "metadata": {
        "id": "0M8XFzH9YJaO"
      },
      "outputs": [],
      "source": [
        "def find_in_sent(doc, span_bound, string, mode='start'):\n",
        "  index = span_bound\n",
        "  to_find = doc[index]\n",
        "  to_find_len = len(to_find)\n",
        "  finds = list(re.finditer(re.escape(to_find), string))\n",
        "  finds_1 = finds\n",
        "  finds_2 = finds\n",
        "  if len(finds) == 1:\n",
        "    span = finds[0].span()\n",
        "  else:\n",
        "    while True:\n",
        "      if index + 1 < len(doc):\n",
        "        index += 1\n",
        "        to_find_1 = to_find + doc[index]\n",
        "        to_find_2 = to_find + ' ' + doc[index]\n",
        "\n",
        "        finds_1 = list(re.finditer(re.escape(to_find_1), string))\n",
        "        finds_2 = list(re.finditer(re.escape(to_find_2), string))\n",
        "\n",
        "        if len(finds_1) == 1:\n",
        "          break\n",
        "        elif len(finds_1) > 1:\n",
        "          to_find = to_find + doc[index]\n",
        "          continue\n",
        "        elif len(finds_2) == 1:\n",
        "          break\n",
        "        elif len(finds_2) > 1:\n",
        "          to_find = to_find + ' ' + doc[index]\n",
        "          continue\n",
        "\n",
        "  if len(finds_1) == 1:\n",
        "    A = finds_1[0]\n",
        "  elif len(finds_2) == 1:\n",
        "    A = finds_2[0]\n",
        "\n",
        "  if mode == 'start':\n",
        "    return A.span()[0]\n",
        "  elif mode == 'end':\n",
        "    return A.span()[0] + to_find_len"
      ]
    },
    {
      "cell_type": "code",
      "execution_count": 13,
      "metadata": {
        "id": "NriJeWL54Uku"
      },
      "outputs": [],
      "source": [
        "def find(doc, span_bound, mode='start'):\n",
        "  index = span_bound\n",
        "  to_find = doc[index]\n",
        "  to_find_len = len(to_find)\n",
        "  finds = list(re.finditer(re.escape(to_find), string))\n",
        "  finds_1 = finds\n",
        "  finds_2 = finds\n",
        "  if len(finds) == 1:\n",
        "    span = finds[0].span()\n",
        "  else:\n",
        "    while True:\n",
        "      if index + 1 < len(doc):\n",
        "        index += 1\n",
        "        to_find_1 = to_find + doc[index]\n",
        "        to_find_2 = to_find + ' ' + doc[index]\n",
        "\n",
        "        finds_1 = list(re.finditer(re.escape(to_find_1), string))\n",
        "        finds_2 = list(re.finditer(re.escape(to_find_2), string))\n",
        "\n",
        "        if len(finds_1) == 1:\n",
        "          break\n",
        "        elif len(finds_1) > 1:\n",
        "          to_find = to_find + doc[index]\n",
        "          continue\n",
        "        elif len(finds_2) == 1:\n",
        "          break\n",
        "        elif len(finds_2) > 1:\n",
        "          to_find = to_find + ' ' + doc[index]\n",
        "          continue\n",
        "\n",
        "  if len(finds_1) == 1:\n",
        "    A = finds_1[0]\n",
        "  elif len(finds_2) == 1:\n",
        "    A = finds_2[0]\n",
        "\n",
        "  if mode == 'start':\n",
        "    return A.span()[0]\n",
        "  elif mode == 'end':\n",
        "    return A.span()[0] + to_find_len"
      ]
    },
    {
      "cell_type": "code",
      "execution_count": 14,
      "metadata": {
        "id": "txyCFstODyX_"
      },
      "outputs": [],
      "source": [
        "def find_sent(bound):\n",
        "  for sent_idx, sent_bound in enumerate(sents_bounds):\n",
        "    if bound[0] >= sent_bound[0] and bound[1] <= sent_bound[1]:\n",
        "      return sent_idx"
      ]
    },
    {
      "cell_type": "code",
      "execution_count": 15,
      "metadata": {
        "id": "jUskFNo_Q6KH"
      },
      "outputs": [],
      "source": [
        "def not_possessive(coref):\n",
        "  possessives = ['mine', 'yours', 'his', 'her', 'ours', 'theirs', '\\'s']\n",
        "  for possessive in possessives:\n",
        "    if possessive in coref.lower():\n",
        "      return False\n",
        "  return True"
      ]
    },
    {
      "cell_type": "code",
      "execution_count": 16,
      "metadata": {
        "id": "MNLgEzjZSs_4"
      },
      "outputs": [],
      "source": [
        "def find_pronoun(coref):\n",
        "  coref = coref.lower()\n",
        "  if coref == 'i':\n",
        "    return coref\n",
        "  if coref == 'you':\n",
        "    return coref\n",
        "  if coref == 'he':\n",
        "    return coref\n",
        "  if coref == 'she':\n",
        "    return coref\n",
        "  if coref == 'we':\n",
        "    return coref\n",
        "  if coref == 'they':\n",
        "    return coref\n",
        "  return None"
      ]
    },
    {
      "cell_type": "code",
      "execution_count": 17,
      "metadata": {
        "id": "ci1XOgB4W5iv"
      },
      "outputs": [],
      "source": [
        "def find_corresponding_word(char_bound, sent_mapping, mode='start'):\n",
        "  for k, v in sent_mapping.items():\n",
        "    if mode == 'start':\n",
        "      if v[0] == char_bound[0]:\n",
        "        return k\n",
        "    elif mode == 'end':\n",
        "      if v[1] == char_bound[1]:\n",
        "        return k"
      ]
    },
    {
      "cell_type": "code",
      "execution_count": 18,
      "metadata": {
        "id": "_QuIDQ3RjN7j"
      },
      "outputs": [],
      "source": [
        "def print_ner(sent):\n",
        "  ner = NER_predictor.predict(sent)\n",
        "  for word, tag in zip(ner['words'], ner['tags']):\n",
        "    print(word, tag)"
      ]
    },
    {
      "cell_type": "code",
      "execution_count": 19,
      "metadata": {
        "id": "RR8KAwvpn8MB"
      },
      "outputs": [],
      "source": [
        "def what_is_coref(all_indexes, coref_bounds):\n",
        "  if all_indexes[0] != [] and coref_bounds[0] == all_indexes[0][0] and coref_bounds[1] == all_indexes[0][1]:\n",
        "    print('coref is extent')\n",
        "  elif all_indexes[1] != [] and coref_bounds[0] == all_indexes[1][0] and coref_bounds[1] == all_indexes[1][1]:\n",
        "    print('coref is time')\n",
        "  elif all_indexes[2] != [] and coref_bounds[0] == all_indexes[2][0] and coref_bounds[1] == all_indexes[2][1]:\n",
        "    print('coref is manner')\n",
        "  elif all_indexes[3] != [] and coref_bounds[0] == all_indexes[3][0] and coref_bounds[1] == all_indexes[3][1]:\n",
        "    print('coref is agent')\n",
        "  elif all_indexes[4] != [] and coref_bounds[0] == all_indexes[4][0] and coref_bounds[1] == all_indexes[4][1]:\n",
        "    print('coref is patient')\n",
        "  elif all_indexes[5] != [] and coref_bounds[0] == all_indexes[5][0] and coref_bounds[1] == all_indexes[5][1]:\n",
        "    print('coref is state')\n",
        "  elif all_indexes[6] != [] and coref_bounds[0] == all_indexes[6][0] and coref_bounds[1] == all_indexes[6][1]:\n",
        "    print('coref is cause')\n",
        "  elif all_indexes[7] != [] and coref_bounds[0] == all_indexes[7][0] and coref_bounds[1] == all_indexes[7][1]:\n",
        "    print('coref is verb')"
      ]
    },
    {
      "cell_type": "code",
      "execution_count": 20,
      "metadata": {
        "id": "B7XmM-7f1XNr"
      },
      "outputs": [],
      "source": [
        "def get_sent(*args):\n",
        "  sent = ''\n",
        "  for x in args:\n",
        "    sent += x + ' '\n",
        "  sent = re.sub('\\s\\s+', ' ', sent)\n",
        "  return sent.strip()"
      ]
    },
    {
      "cell_type": "code",
      "execution_count": 21,
      "metadata": {
        "id": "xck0rQX2RqaD"
      },
      "outputs": [],
      "source": [
        "def extract_entities(sent):\n",
        "  tags = NER_predictor.predict(sent)['tags']\n",
        "  named_entities = []\n",
        "  start = 0\n",
        "  end = 0\n",
        "  for tag_id, tag in enumerate(tags):\n",
        "\n",
        "    if tag.startswith('U'):\n",
        "      start, end = tag_id, tag_id\n",
        "      entity_type = tag.split('-')[-1]\n",
        "      named_entities.append([entity_type, start, end])\n",
        "\n",
        "    elif tag.startswith('B'):\n",
        "      found_start = True\n",
        "      start = tag_id\n",
        "\n",
        "    elif tag.startswith('L'):\n",
        "      end = tag_id\n",
        "      entity_type = tag.split('-')[-1]\n",
        "      named_entities.append([entity_type, start, end])\n",
        "\n",
        "  return named_entities"
      ]
    },
    {
      "cell_type": "code",
      "execution_count": 22,
      "metadata": {
        "id": "P7lpfrJUTPbW"
      },
      "outputs": [],
      "source": [
        "def is_person(entities):\n",
        "  if 'PER' in entities:\n",
        "    return True\n",
        "  else:\n",
        "    return False"
      ]
    },
    {
      "cell_type": "code",
      "execution_count": 23,
      "metadata": {
        "id": "euTyJd7aAakA"
      },
      "outputs": [],
      "source": [
        "def find_semantic_ent_type(entities, semantic_roles_indexes):\n",
        "  semantic_roles_ent_types = [[] for i in range(8)]\n",
        "  for entity in entities:\n",
        "    for idx, semantic_roles_index in enumerate(semantic_roles_indexes):\n",
        "      if semantic_roles_index != []:\n",
        "        if semantic_roles_index[0] <= entity[1] and semantic_roles_index[1] >= entity[2]:\n",
        "          semantic_roles_ent_types[idx].append(entity[0])\n",
        "  return semantic_roles_ent_types"
      ]
    },
    {
      "cell_type": "code",
      "execution_count": 24,
      "metadata": {
        "id": "DBIjRbX2Vl-J"
      },
      "outputs": [],
      "source": [
        "def find_num_ent(entities, semantic_roles_index):\n",
        "  num_ent = 0\n",
        "  for entity in entities:\n",
        "    if semantic_roles_index[0] <= entity[1] and semantic_roles_index[1] >= entity[2]:\n",
        "      num_ent += 1\n",
        "  return num_ent"
      ]
    },
    {
      "cell_type": "code",
      "execution_count": 25,
      "metadata": {
        "id": "GZksJVOlxUV-"
      },
      "outputs": [],
      "source": [
        "def find_corresponding_coref(indexes, sent_idx):\n",
        "  all_names, all_indexes = list(), [None]\n",
        "  for cluster_idx, cluster in enumerate(chars_spans):\n",
        "    for coref in cluster:\n",
        "      if indexes != []:\n",
        "        if coref[1] == sent_idx and coref[2] == indexes[0] and coref[3] == indexes[1]:\n",
        "          if cluster_idx not in all_indexes:\n",
        "            if all_indexes[0] is None:\n",
        "              all_indexes = []\n",
        "            all_names.append(cluster_names[cluster_idx])\n",
        "            all_indexes.append(cluster_idx)\n",
        "  return all_names, all_indexes"
      ]
    },
    {
      "cell_type": "code",
      "execution_count": 26,
      "metadata": {
        "id": "yW-oj0r3_v7d"
      },
      "outputs": [],
      "source": [
        "def simple_verb(verb):\n",
        "  verbs = ['am', 'is', 'are', 'was', 'were']\n",
        "  if verb in verbs:\n",
        "    return True\n",
        "  else:\n",
        "    return False"
      ]
    },
    {
      "cell_type": "code",
      "execution_count": 27,
      "metadata": {
        "id": "NUP2y57m_06e"
      },
      "outputs": [],
      "source": [
        "def non_trivial_corefs(corefs):\n",
        "  main_pronouns = ['i', 'you', 'he', 'she', 'it', 'we', 'they', 'its']\n",
        "  for coref in corefs:\n",
        "    if coref.lower() not in main_pronouns:\n",
        "      return coref\n",
        "  return ''"
      ]
    },
    {
      "cell_type": "code",
      "execution_count": 28,
      "metadata": {
        "id": "V-XIVYQA_7Vh"
      },
      "outputs": [],
      "source": [
        "class Node:\n",
        "\n",
        "  def __init__(self, sent_num, coref_clusters):\n",
        "    self.sent_num = sent_num\n",
        "    self.coref_clusters = coref_clusters\n",
        "    self.edges = list()\n",
        "\n",
        "  def set_edge(self, adj_sent, edge_coref_type):\n",
        "    self.edges.append([adj_sent, edge_coref_type])\n",
        "\n",
        "  def get_edges(self):\n",
        "    return self.edges\n",
        "\n",
        "  def get_clusters(self):\n",
        "    return self.coref_clusters\n",
        "\n",
        "  def make_cluster_2_sent(self):\n",
        "    self.cluster_2_edge = dict()\n",
        "    for edge in self.edges:\n",
        "      if edge[1] not in self.cluster_2_edge.keys():\n",
        "        self.cluster_2_edge[edge[1]] = []\n",
        "      self.cluster_2_edge[edge[1]].append(edge[0])\n",
        "\n",
        "\n",
        "  def __str__(self):\n",
        "    print(self.sent_num, self.coref_clusters)\n",
        "    return ''\n",
        "\n",
        "  def __repr__(self):\n",
        "    print(self.sent_num, self.coref_clusters)\n",
        "    return ''"
      ]
    },
    {
      "cell_type": "markdown",
      "metadata": {
        "id": "H1iMhHYz72yL"
      },
      "source": [
        "# All IN ONE"
      ]
    },
    {
      "cell_type": "code",
      "execution_count": 29,
      "metadata": {
        "id": "yS41IU2EhYev"
      },
      "outputs": [],
      "source": [
        "def find(doc, span_bound, mode='start'):\n",
        "  index = span_bound\n",
        "  to_find = doc[index]\n",
        "  to_find_len = len(to_find)\n",
        "  finds = list(re.finditer(re.escape(to_find), string))\n",
        "  finds_1 = finds\n",
        "  finds_2 = finds\n",
        "  if len(finds) == 1:\n",
        "    span = finds[0].span()\n",
        "  else:\n",
        "    while True:\n",
        "      if index + 1 < len(doc):\n",
        "        index += 1\n",
        "        to_find_1 = to_find + doc[index]\n",
        "        to_find_2 = to_find + ' ' + doc[index]\n",
        "        finds_1 = list(re.finditer(re.escape(to_find_1), string))\n",
        "        finds_2 = list(re.finditer(re.escape(to_find_2), string))\n",
        "\n",
        "        if len(finds_1) == 1:\n",
        "          break\n",
        "        elif len(finds_1) > 1:\n",
        "          to_find = to_find + doc[index]\n",
        "          continue\n",
        "        elif len(finds_2) == 1:\n",
        "          break\n",
        "        elif len(finds_2) > 1:\n",
        "          to_find = to_find + ' ' + doc[index]\n",
        "          continue\n",
        "      else:\n",
        "        break\n",
        "\n",
        "  if len(finds_1) == 1:\n",
        "    A = finds_1[0]\n",
        "  elif len(finds_2) == 1:\n",
        "    A = finds_2[0]\n",
        "  elif len(finds_1) > 1:\n",
        "    A = finds_1[-1]\n",
        "  elif len(finds_2) > 1:\n",
        "    A = finds_2[-1]\n",
        "\n",
        "  if mode == 'start':\n",
        "    return A.span()[0]\n",
        "  elif mode == 'end':\n",
        "    return A.span()[0] + to_find_len"
      ]
    },
    {
      "cell_type": "code",
      "execution_count": 30,
      "metadata": {
        "id": "2C_DgdxxnOdt"
      },
      "outputs": [],
      "source": [
        "def is_simple_verb(verb):\n",
        "  if verb in ['am', 'is', 'are', 'was', 'were']:\n",
        "    return True\n",
        "  else:\n",
        "    return False"
      ]
    },
    {
      "cell_type": "code",
      "execution_count": 31,
      "metadata": {
        "id": "4wAte1W5nhnx"
      },
      "outputs": [],
      "source": [
        "def find_in_sent(doc, span_bound, string, mode='start'):\n",
        "  index = span_bound\n",
        "  to_find = doc[index]\n",
        "  to_find_len = len(to_find)\n",
        "  finds = list(re.finditer(re.escape(to_find), string))\n",
        "  finds_1 = finds\n",
        "  finds_2 = finds\n",
        "  if len(finds) == 1:\n",
        "    span = finds[0].span()\n",
        "  else:\n",
        "    while True:\n",
        "      if index + 1 < len(doc):\n",
        "        index += 1\n",
        "        to_find_1 = to_find + doc[index]\n",
        "        to_find_2 = to_find + ' ' + doc[index]\n",
        "\n",
        "        finds_1 = list(re.finditer(re.escape(to_find_1), string))\n",
        "        finds_2 = list(re.finditer(re.escape(to_find_2), string))\n",
        "\n",
        "        if len(finds_1) == 1:\n",
        "          break\n",
        "        elif len(finds_1) > 1:\n",
        "          to_find = to_find + doc[index]\n",
        "          continue\n",
        "        elif len(finds_2) == 1:\n",
        "          break\n",
        "        elif len(finds_2) > 1:\n",
        "          to_find = to_find + ' ' + doc[index]\n",
        "          continue\n",
        "\n",
        "  if len(finds_1) == 1:\n",
        "    A = finds_1[0]\n",
        "  elif len(finds_2) == 1:\n",
        "    A = finds_2[0]\n",
        "\n",
        "  if mode == 'start':\n",
        "    return A.span()[0]\n",
        "  elif mode == 'end':\n",
        "    return A.span()[0] + to_find_len"
      ]
    },
    {
      "cell_type": "code",
      "execution_count": 32,
      "metadata": {
        "id": "gcftEEG7j-WC"
      },
      "outputs": [],
      "source": [
        "def find_sents_bounds(string):\n",
        "  l_token = -1\n",
        "  token_bounds = []\n",
        "  sents = sent_tokenize(string)\n",
        "  for sent in sents:\n",
        "    c_token = string.find(sent)\n",
        "    if c_token > l_token:\n",
        "      token_bounds.append([c_token, c_token + len(sent)])\n",
        "    else:\n",
        "      c_token = string[l_token: ].find(sent) + l_token\n",
        "      token_bounds.append([c_token, c_token + len(sent)])\n",
        "\n",
        "    if c_token < l_token:\n",
        "      assert False\n",
        "    if c_token == -1:\n",
        "      assert False\n",
        "\n",
        "\n",
        "    l_token = c_token + len(sent)\n",
        "  return token_bounds"
      ]
    },
    {
      "cell_type": "code",
      "execution_count": 33,
      "metadata": {
        "id": "p9iIG22a6xPT",
        "colab": {
          "base_uri": "https://localhost:8080/"
        },
        "outputId": "e54a1669-33eb-442b-86db-485b87681292"
      },
      "outputs": [
        {
          "output_type": "stream",
          "name": "stdout",
          "text": [
            "Donald John Trump\n",
            "Trump\n",
            "He\n",
            "his\n",
            "He\n",
            "his\n",
            "he\n",
            "Trump\n",
            "his\n",
            "Trump 's\n",
            "He\n",
            "He\n",
            "His\n",
            "Trump\n",
            "Trump\n",
            "his\n",
            "his\n",
            "--------------------------------\n",
            "his father 's real estate business\n",
            "it\n",
            "the company 's\n",
            "--------------------------------\n",
            "the 2016 United States presidential election\n",
            "the 2016 election\n",
            "--------------------------------\n",
            "His election\n",
            "the election of Trump\n",
            "--------------------------------\n"
          ]
        }
      ],
      "source": [
        "# string = '''\n",
        "# Iran,[a] officially the Islamic Republic of Iran[b] and also called Persia,[c][10] is a country located in Western Asia. It is bordered by Iraq and Turkey to the west, by Azerbaijan and Armenia to the northwest, by the Caspian Sea and Turkmenistan to the north, by Afghanistan and Pakistan to the east, and by the Gulf of Oman and the Persian Gulf to the south. It covers an area of 1.64 million square kilometres (0.63 million square miles), making it the 17th-largest country. Iran has an estimated population of 86.8 million, making it the 17th-most populous country in the world, and the second-largest in the Middle East. Its largest cities, in descending order, are the capital Tehran, Mashhad, Isfahan, Karaj, Shiraz, and Tabriz.\n",
        "# The country is home to one of the world's oldest civilizations, beginning with the formation of the Elamite kingdoms in the fourth millennium BC. It was first unified by the Medes, an ancient Iranian people, in the seventh century BC, and reached its territorial height in the sixth century BC, when Cyrus the Great founded the Achaemenid Persian Empire, which became one of the largest empires in history and a superpower. The Achaemenid Empire fell to Alexander the Great in the fourth century BC and was subsequently divided into several Hellenistic states. An Iranian rebellion established the Parthian Empire in the third century BC, which was succeeded in the third century AD by the Sassanid Empire, a major world power for the next four centuries. Arab Muslims conquered the empire in the seventh century AD, which led to the Islamization of Iran. It subsequently became a major center of Islamic culture and learning, with its art, literature, philosophy, and architecture spreading across the Muslim world and beyond during the Islamic Golden Age. Over the next two centuries, a series of native Iranian Muslim dynasties emerged before the Seljuk Turks and the Mongols conquered the region. In the 15th century, the native Safavids re-established a unified Iranian state and national identity, and converted the country to Shia Islam. Under the reign of Nader Shah in the 18th century, Iran presided over the most powerful military in the world, though by the 19th century, a series of conflicts with the Russian Empire led to significant territorial losses. The early 20th century saw the Persian Constitutional Revolution. Efforts to nationalize its fossil fuel supply from Western companies led to an Anglo-American coup in 1953, which resulted in greater autocratic rule under Mohammad Reza Pahlavi and growing Western political influence. He went on to launch a far-reaching series of reforms in 1963. After the Iranian Revolution, the current Islamic Republic was established in 1979 by Ruhollah Khomeini, who became the country's first Supreme Leader.\n",
        "# '''\n",
        "\n",
        "\n",
        "# string = '''\n",
        "# New York University (NYU) is a private research university in New York City. Chartered in 1831 by the New York State Legislature,[14] NYU was founded by a group of New Yorkers led by then-Secretary of the Treasury Albert Gallatin.[15]\n",
        "\n",
        "# In 1832, the non-denominational all-male institution began its first classes near City Hall based on a curriculum focused on a secular education.[16][17] The university moved in 1833 and has maintained its main campus in Greenwich Village surrounding Washington Square Park.[18] Since then, the university has added an engineering school in Brooklyn's MetroTech Center and graduate schools throughout Manhattan.[19] NYU has become the largest private university in the United States by enrollment, with a total of 51,848 enrolled students, including 26,733 undergraduate students and 25,115 graduate students in 2019.[20][10] NYU also receives the most applications of any private institution in the United States and the ninth-most applications in the United States overall,[21] and admissions are considered highly selective.[22][23][24]\n",
        "\n",
        "# NYU main campus in the New York City is organized into ten undergraduate schools, including the College of Arts & Science, Gallatin School, Steinhardt School, Stern School of Business, Tandon School of Engineering, and Tisch School of the Arts.[16] NYU's 15 graduate schools include the Grossman School of Medicine, School of Law, Wagner Graduate School of Public Service, School of Professional Studies, Silver School of Social Work, and Rory Meyers School of Nursing.[25][16] The university's internal academic centers include the Courant Institute of Mathematical Sciences, Center for Data Science, Center for Neural Science, Clive Davis Institute, Institute for the Study of the Ancient World, Institute of Fine Arts, and the NYU Langone Health System.[26] NYU is a global university system[27] with degree-granting portal campuses at NYU Abu Dhabi in United Arab Emirates and NYU Shanghai in China, and academic learning centers in Accra, Berlin, Buenos Aires, Florence, London, Los Angeles, Madrid, Paris, Prague, Sydney, Tel Aviv, and Washington, D.C.[28][29][30]\n",
        "# '''\n",
        "\n",
        "string = '''\n",
        "Donald John Trump (born June 14, 1946) is an American politician, media personality, and businessman who served as the 45th president of the United States from 2017 to 2021.\n",
        "\n",
        "Trump graduated from the Wharton School of the University of Pennsylvania with a bachelor's degree in 1968. He became president of his father's real estate business in 1971 and renamed it The Trump Organization. He expanded the company's operations to building and renovating skyscrapers, hotels, casinos, and golf courses and later started side ventures, mostly by licensing his name. From 2004 to 2015, he co-produced and hosted the reality television series The Apprentice. Trump and his businesses have been involved in more than 4,000 state and federal legal actions, including six bankruptcies.\n",
        "\n",
        "Trump's political positions have been described as populist, protectionist, isolationist, and nationalist. He won the 2016 United States presidential election as the Republican nominee against Democratic nominee Hillary Clinton despite losing the national popular vote.[a] He became the first U.S. president with no prior military or government service. His election and policies sparked numerous protests. The 2017–2019 special counsel investigation established that Russia interfered in the 2016 election to favor the election of Trump. Trump promoted conspiracy theories and made many false and misleading statements during his campaigns and presidency, to a degree unprecedented in American politics. Many of his comments and actions have been characterized as racially charged or racist, and many as misogynistic.\n",
        "'''\n",
        "\n",
        "# string = '''\n",
        "# Mahmoud Ahmadinejad (Persian: محمود احمدی‌نژاد, romanized: Mahmūd Ahmadīnežād [mæhmuːd(-e) æhmædiːneʒɒːd] (listen)[b][10][11]), born Mahmoud Sabbaghian[5] (Persian: محمود صباغیان, romanized: Mahmoud Sabbāghyān, 28 October 1956),[12][13] is an Iranian principlist and nationalist politician who served as the sixth president of Iran from 2005 to 2013. He is currently a member of the Expediency Discernment Council. He was known for his hardline views and nuclearisation of Iran. He was also the main political leader of the Alliance of Builders of Islamic Iran, a coalition of conservative political groups in the country, and served as mayor of Tehran from 2003 to 2005, reversing many of his predecessor's reforms.\n",
        "\n",
        "# An engineer and teacher from a poor background,[14] ideologically shaped by thinkers such as Navvab Safavi, Jalal Al-e-Ahmad and Ahmad Fardid,[15] Ahmadinejad joined the Office for Strengthening Unity[16] after the Iranian Revolution. Appointed a provincial governor in 1993, he was replaced along with all other provincial governors in 1997 after the election of President Mohammad Khatami and returned to teaching.[17][18] Tehran's council elected him mayor in 2003.[19] He took a religious hard line, reversing reforms of previous moderate mayors.[20] His 2005 presidential campaign, supported by the Alliance of Builders of Islamic Iran, garnered 62% of the runoff election votes, and he became president on 3 August 2005.[21][22]\n",
        "\n",
        "# During his presidency, Ahmadinejad was a controversial figure both in Iran and worldwide. He has been criticized domestically for his economic policies[23] and accused of disregard for human rights by organizations in North America and Europe.[24] Outside of Iran, he has been criticized for his hostility towards countries including Israel, Saudi Arabia, the United Kingdom, and the United States and other Western and Arab states. In 2007, Ahmadinejad introduced a gasoline rationing plan to reduce the country's fuel consumption and cut the interest rates that private and public banking facilities could charge.[25][26][27] He supports Iran's nuclear program. His election to a second term in 2009 was widely disputed[28][29] and led to widespread protests domestically and criticism from Western countries.[30]\n",
        "\n",
        "# During his second term, Ahmadinejad experienced a power struggle with reformers and other traditionalists[31] in parliament and the Revolutionary Guard and with Supreme Leader Ali Khamenei,[32] over his dismissal of intelligence minister Gholam-Hossein Mohseni-Eje'i and his support for his controversial close adviser, Esfandiar Rahim Mashaei.[33] On 14 March 2012, Ahmadinejad became the first president of the Islamic Republic of Iran to be summoned by the Islamic Consultative Assembly (parliament) to answer questions regarding his presidency.[34][35] Limited to two terms under the current Iranian constitution, Ahmadinejad supported Mashaei's campaign for president.[31] In 2013 Hassan Rouhani was elected as Ahmadinejad's successor.\n",
        "# '''\n",
        "\n",
        "\n",
        "# string = '''\n",
        "# All ducks belong to the biological order Anseriformes, a group that contains the ducks, geese and swans, as well as the screamers, and the magpie goose.[5] All except the screamers belong to the biological family Anatidae.[5] Within the family, ducks are split into a variety of subfamilies and 'tribes'. The number and composition of these subfamilies and tribes is the cause of considerable disagreement among taxonomists.[5] Some base their decisions on morphological characteristics, others on shared behaviours or genetic studies.[6][7] The number of suggested subfamilies containing ducks ranges from two to five.[8][9] The significant level of hybridisation that occurs among wild ducks complicates efforts to tease apart the relationships between various species.[9]\n",
        "# Mallard landing in approach\n",
        "# In most modern classifications, the so-called 'true ducks' belong to the subfamily Anatinae, which is further split into a varying number of tribes.[10] The largest of these, the Anatini, contains the 'dabbling' or 'river' ducks – named for their method of feeding primarily at the surface of fresh water.[11] The 'diving ducks', also named for their primary feeding method, make up the tribe Aythyini.[12] The 'sea ducks' of the tribe Mergini are diving ducks which specialise on fish and shellfish and spend a majority of their lives in saltwater.[13] The tribe Oxyurini contains the 'stifftails', diving ducks notable for their small size and stiff, upright tails.[14]\n",
        "# A number of other species called ducks are not considered to be 'true ducks', and are typically placed in other subfamilies or tribes. The whistling ducks are assigned either to a tribe (Dendrocygnini) in the subfamily Anatinae or the subfamily Anserinae,[15] or to their own subfamily (Dendrocygninae) or family (Dendrocyganidae).[9][16] The freckled duck of Australia is either the sole member of the tribe Stictonettini in the subfamily Anserinae,[15] or in its own family, the Stictonettinae.[9] The shelducks make up the tribe Tadornini in the family Anserinae in some classifications,[15] and their own subfamily, Tadorninae, in others,[17] while the steamer ducks are either placed in the family Anserinae in the tribe Tachyerini[15] or lumped with the shelducks in the tribe Tadorini.[9] The perching ducks make up in the tribe Cairinini in the subfamily Anserinae in some classifications, while that tribe is eliminated in other classifications and its members assigned to the tribe Anatini.[9] The torrent duck is generally included in the subfamily Anserinae in the monotypic tribe Merganettini,[15] but is sometimes included in the tribe Tadornini.[18] The pink-eared duck is sometimes included as a true duck either in the tribe Anatini[15] or the tribe Malacorhynchini,[19] and other times is included with the shelducks in the tribe Tadornini.[15]\n",
        "# '''\n",
        "\n",
        "# string = '''\n",
        "# Russia (Russian: Россия, Rossiya, [rɐˈsʲijə]), or the Russian Federation,[c] is a transcontinental country spanning Eastern Europe and Northern Asia. It is the largest country in the world, with its internationally recognised territory covering 17,098,246 square kilometres (6,601,670 sq mi), and encompassing one-eighth of Earth's inhabitable landmass. Russia extends across eleven time zones and shares land boundaries with fourteen countries.[d] It is the world's ninth-most populous country and Europe's most populous country, with a population of over 147 million people. The country's capital and largest city is Moscow. Saint Petersburg is Russia's cultural centre and second-largest city. Other major urban areas include Novosibirsk, Yekaterinburg, Nizhny Novgorod, and Kazan.\n",
        "\n",
        "# The East Slavs emerged as a recognisable group in Europe between the 3rd and 8th centuries CE. The first East Slavic state, Kievan Rus', arose in the 9th century, and in 988, it adopted Orthodox Christianity from the Byzantine Empire. Rus' ultimately disintegrated, with the Grand Duchy of Moscow growing to become the Tsardom of Russia. By the early 18th century, Russia had vastly expanded through conquest, annexation, and the efforts of Russian explorers, developing into the Russian Empire, which remains the third-largest empire in history. However, with the Russian Revolution in 1917, Russia's monarchic rule was abolished and replaced by the Russian SFSR—the world's first constitutionally socialist state. Following the Russian Civil War, the Russian SFSR established the Soviet Union (with three other Soviet republics), within which it was the largest and principal constituent. At the expense of millions of lives, the Soviet Union underwent rapid industrialization in the 1930s, and later played a decisive role for the Allies of World War II by leading large-scale efforts on the Eastern Front. With the onset of the Cold War, it competed with the United States for global ideological influence; the Soviet era of the 20th century saw some of the most significant Russian technological achievements, including the first human-made satellite and the first human expedition into outer space.\n",
        "\n",
        "# In 1991, the Russian SFSR emerged from the dissolution of the Soviet Union as the independent Russian Federation. A new constitution was adopted, and Russia has since been governed as a federal semi-presidential republic. Since the turn of the century, Russia's political system has been dominated by Vladimir Putin, under whom the country has experienced democratic backsliding and a shift towards authoritarianism. Russia has been involved militarily in a number of post-Soviet conflicts, which has included the internationally unrecognised annexations of Crimea in 2014 from neighbouring Ukraine, followed by the further annexation of four other regions in 2022 during an ongoing invasion. International rankings of Russia place it low in measurements of human rights and freedom of the press; the country also has high levels of perceived corruption.\n",
        "\n",
        "# Ranked worldwide, the Russian economy stands at the ninth-largest by nominal GDP and the sixth-largest by GDP (PPP). Its mineral and energy sources are the world's largest, and its figures for oil production and natural gas production rank high globally. Russia possesses the largest stockpile of nuclear weapons, and has the fifth-highest military expenditure. The country is a permanent member of the United Nations Security Council; a member state of the G20, the SCO, BRICS, the APEC, the OSCE, and the WTO; and is the leading member state of the CIS, the CSTO, and the EAEU. Russia is home to 30 UNESCO World Heritage Sites.\n",
        "# '''\n",
        "\n",
        "\n",
        "# string = '''\n",
        "# Elizabeth Chase Olsen (born February 16, 1989) is an American actress. Born in Sherman Oaks, California, Olsen began acting at age four. She starred in her debut film role in the thriller Martha Marcy May Marlene in 2011, for which she was acclaimed and nominated for a Critics' Choice Movie Award among other accolades, followed by a role in the horror film Silent House. Olsen received a BAFTA Rising Star Award nomination and graduated from New York University two years later.\n",
        "\n",
        "# Olsen gained worldwide recognition for her portrayal of Wanda Maximoff / Scarlet Witch in the Marvel Cinematic Universe media franchise, appearing in the superhero films Avengers: Age of Ultron (2015), Captain America: Civil War (2016), Avengers: Infinity War (2018), Avengers: Endgame (2019), and Doctor Strange in the Multiverse of Madness (2022), as well as the miniseries WandaVision (2021). Her performance in WandaVision garnered her nominations for a Primetime Emmy Award and a Golden Globe Award.\n",
        "\n",
        "# Outside of her work with Marvel, Olsen starred in the monster film Godzilla (2014), the mystery film Wind River (2017), and the dramedy Ingrid Goes West (2017). She executive produced and starred in the drama series Sorry for Your Loss (2018–2019), earning a Critics' Choice Television Award nomination for her role as a widow.\n",
        "\n",
        "# Early life and education\n",
        "# Elizabeth Chase Olsen[1] was born on February 16, 1989, in Sherman Oaks, California.[2][3] Her mother, Jarnie, is a former dancer, while her father, Dave, is a real estate agent.[4][5] She is the younger sister of twin fashion designers Mary-Kate and Ashley Olsen, who became successful television and film actresses as children. Olsen also has an older brother, a younger half-brother, and a younger half-sister.[5] Her parents divorced in 1996.[6]\n",
        "\n",
        "# Olsen began acting when she was four years old,[7] appearing in Mary-Kate and Ashley's projects, including the 1994 television film How the West Was Fun and the straight-to-video series The Adventures of Mary-Kate & Ashley.[8][9][10] As a child, she took acting classes and spent time at musical theatre camp.[8] Olsen nearly quit pursuing acting in 2004 due to the media attention toward Mary-Kate's eating disorder.[11] She went to Campbell Hall School in Studio City, California.[12] Olsen attended New York University (NYU)'s Tisch School of the Arts, during which she took classes at Atlantic Theater Company and spent a semester at the Moscow Art Theatre School in Russia.[5] She attained understudy roles in the 2008 off-Broadway production of the play Dust and the 2009 Broadway production of the play Impressionism, which led to her securing an agent.[5][8] Olsen graduated from NYU in January 2013.[13]\n",
        "# '''\n",
        "\n",
        "string = '''\n",
        "Israel officially the State of Israel is a country in Western Asia. Situated in the Southern Levant, it is bordered by Lebanon to the north, by Syria to the northeast, by Jordan to the east, by the Red Sea to the south, by Egypt to the southwest, by the Mediterranean Sea to the west, and by the Palestinian territories — the West Bank along the east and the Gaza Strip along the southwest. Tel Aviv is the economic and technological center of the country, while its seat of government is in its proclaimed capital of Jerusalem, although Israeli sovereignty over East Jerusalem is unrecognized internationally.[18][fn 5]\n",
        "\n",
        "Israel and the Israeli-occupied territories are located in the Holy Land, a region of great significance to the Abrahamic religions. In ancient history, it was where Canaanite and Israelite civilizations developed, while in the early first millennium BCE the kingdoms of Israel and Judah emerged, before falling to the Neo-Assyrian and Neo-Babylonian empires, respectively.[19][20] During the classical era, the region was ruled by the Achaemenid, Macedonian, Ptolemaic and Seleucid empires. In the 2nd century BCE, an independent Hasmonean kingdom emerged, before Rome conquered the area a century later. In the 7th century, the Muslim conquest of the Levant established caliphal rule. The First Crusade of the 11th century brought the founding of Crusader states, the last ending in the 13th century at the hands of the Mamluks, who lost the area to the Ottoman Empire at the onset of the 16th century. In late 19th century, Jews began immigrating to the area as part of the Zionist movement. After World War I, the allied powers assigned the Mandate for Palestine to Britain, which during the war made a declaration of support for the establishment of a national home for the Jewish people in Palestine. Following World War II and the Holocaust, the newly formed United Nations adopted the Partition Plan for Palestine, recommending the creation of independent Arab and Jewish states, and placing Jerusalem under international control.\n",
        "\n",
        "After a civil war between Palestinian Arab forces and the Yishuv, Israel declared independence on 14 May 1948 at the termination of the British Mandate. A day later, the surrounding Arab countries intervened, leading to the 1948 Arab–Israeli War, which concluded with the 1949 Armistice Agreements that saw Israel in control of most of the former mandate territory, while the West Bank and Gaza were held by Jordan and Egypt respectively. Over 700,000 Palestinian Arabs were expelled from or fled the territory Israel would come to control, with fewer than 150,000 Palestinian Arabs remaining within Israel. During and immediately after the war, around 260,000 Jews emigrated or fled from the Arab world to Israel.[21][fn 6] Israel has since fought wars with several Arab countries,[22] and since the 1967 Six-Day War has occupied the Syrian Golan Heights and the Palestinian territories of the West Bank, including East Jerusalem, and the Gaza Strip—the longest military occupation in modern history—though whether Gaza remains occupied following the Israeli disengagement is disputed. Israel has effectively annexed East Jerusalem and the Golan Heights, and established settlements within the occupied territories, though these actions have been rejected as illegal by the international community. While Israel has signed peace treaties with Egypt and Jordan, and has normalized relations with a number of other Arab countries, it remains formally at war with Syria and Lebanon, and efforts to resolve the Israeli–Palestinian conflict have thus far stalled.\n",
        "\n",
        "The country has a parliamentary system, proportional representation, and universal suffrage. The prime minister serves as head of government, and is elected by the Knesset, Israel's unicameral legislature.[23] Israel is a developed country and an OECD member,[24] with a population of over 9 million people as of 2021.[25] It has the world's 28th-largest economy by nominal GDP,[15] and ranks twenty-second in the Human Development Index.[15][26]\n",
        "'''\n",
        "\n",
        "# string = '''\n",
        "# Jordan Ross Belfort (/ˈbɛlfərt/; born July 9, 1962) is an American entrepreneur, speaker, author, former stockbroker, and financial criminal. In 1999, he pleaded guilty to fraud and related crimes in connection with stock-market manipulation and running a boiler room as part of a penny-stock scam. Belfort spent 22 months in prison as part of an agreement under which he gave testimony against numerous partners and subordinates in his fraud scheme.[4] He published the memoir The Wolf of Wall Street in 2007, which was adapted into a Martin Scorsese film of the same name released in 2013, in which he was played by Leonardo DiCaprio.  Belfort was born in 1962 in the Bronx borough of New York City to Jewish parents. His father Max and his mother Leah were both accountants.[5][6][7] He was raised in Bayside, Queens.[1][8][9][6][10][11] Between completing high school and starting college, Belfort and his close childhood friend Elliot Loewenstern earned $20,000 selling Italian ice from styrofoam coolers to people at a local beach.[12] Belfort went on to graduate from American University with a degree in biology.[10][13] Belfort planned on using the money earned with Loewenstern to pay for dental school,[14] and he enrolled at the University of Maryland School of Dentistry. He left after the dean of the school said to him on his first day: \"The golden age of dentistry is over. If you're here simply because you're looking to make a lot of money, you're in the wrong place.\"[15][16] Belfort became a door-to-door meat and seafood salesman on Long Island, New York.[13] He claims in interviews and his memoirs that the business was an initial success; he grew his meat-selling business to employ several workers and sold 5,000 pounds (2,300 kilograms) of beef and fish a week.[13] The business ultimately failed, as he filed for bankruptcy at 25.[13] According to his memoirs and interviews, a family friend helped him find a job as a trainee stockbroker at L.F. Rothschild.[17] Belfort says he was laid off after that firm experienced financial difficulties related to the Black Monday stock market crash of 1987.[15][18][19]\n",
        "# '''\n",
        "\n",
        "# string = '''\n",
        "# LinkedIn (/lɪŋktˈɪn/) is a business and employment-focused social media platform that works through websites and mobile apps. It launched on May 5, 2003.[4] It is now owned by Microsoft. The platform is primarily used for professional networking and career development, and allows job seekers to post their CVs and employers to post jobs. From 2015 most of the company's revenue came from selling access to information about its members to recruiters and sales professionals.[5] Since December 2016, it has been a wholly owned subsidiary of Microsoft. As of January 2023, LinkedIn has 900+ million registered members from over 200 countries and territories.[6] LinkedIn allows members (both workers and employers) to create profiles and connect with each other in an online social network which may represent real-world professional relationships. Members can invite anyone (whether an existing member or not) to become a connection. LinkedIn can also be used to organize offline events, join groups, write articles, publish job postings, post photos and videos, and more.[7] Founded in Mountain View, California, LinkedIn is currently headquartered in Sunnyvale, California, with 33 global offices.[8] In May 2020, the company had around 20,500 employees.[9] LinkedIn's CEO is Ryan Roslansky. Jeff Weiner, previously CEO of LinkedIn, is now the Executive Chairman. Reid Hoffman, founder of LinkedIn, is chairman of the board.[10][11] It was funded by Sequoia Capital, Greylock, Bain Capital Ventures,[12] Bessemer Venture Partners and the European Founders Fund.[13] LinkedIn reached profitability in March 2006.[14] Since January 2011 the company had received a total of $103 million of investment.[15] According to a 2016 The New York Times article, US high school students were creating LinkedIn profiles to include with their college applications.[16][17] Based in the United States, the site is, as of 2013, available in 24 languages.[10][18][19] LinkedIn filed for an initial public offering in January 2011 and traded its first shares in May, under the NYSE symbol \"LNKD\".[20] The company was founded in December 2002 by Reid Hoffman and the founding team members from PayPal and Socialnet.com (Allen Blue, Eric Ly, Jean-Luc Vaillant, Lee Hower, Konstantin Guericke, Stephen Beitzel, David Eves, Ian McNish, Yan Pujante, Chris Saccheri).[21] In late 2003, Sequoia Capital led the Series A investment in the company.[22] In August 2004, LinkedIn reached 1 million users.[23] In March 2006, LinkedIn achieved its first month of profitability.[23] In April 2007, LinkedIn reached 10 million users.[23] In February 2008, LinkedIn launched a mobile version of the site.[24] In June 2008, Sequoia Capital, Greylock Partners, and other venture capital firms purchased a 5% stake in the company for $53 million, giving the company a post-money valuation of approximately $1 billion.[25] In November 2009, LinkedIn opened its office in Mumbai[26] and soon thereafter in Sydney, as it started its Asia-Pacific team expansion. In 2010 LinkedIn opened an International Headquarters in Dublin, Ireland,[27] received a $20 million investment from Tiger Global Management LLC at a valuation of approximately $2 billion,[28] announced its first acquisition, Mspoke,[29] and improved its 1% premium subscription ratio.[30] In October of that year, Silicon Valley Insider ranked the company No. 10 on its Top 100 List of most valuable startups.[31] By December, the company was valued at $1.575 billion in private markets.[32] LinkedIn started its India operations in 2009 and a major part of the first year was dedicated to understanding professionals in India and educating members to leverage LinkedIn for career development.\n",
        "# '''\n",
        "\n",
        "# string = '''\n",
        "# Canada is a country in North America. Its ten provinces and three territories extend from the Atlantic Ocean to the Pacific Ocean and northward into the Arctic Ocean, covering over 9.98 million square kilometres (3.85 million square miles), making it the world's second-largest country by total area. Its southern and western border with the United States, stretching 8,891 kilometres (5,525 mi), is the world's longest binational land border. Canada's capital is Ottawa and its three largest metropolitan areas are Toronto, Montreal, and Vancouver.\n",
        "\n",
        "# Indigenous peoples have continuously inhabited what is now Canada for thousands of years. Beginning in the 16th century, British and French expeditions explored and later settled along the Atlantic coast. As a consequence of various armed conflicts, France ceded nearly all of its colonies in North America in 1763. In 1867, with the union of three British North American colonies through Confederation, Canada was formed as a federal dominion of four provinces. This began an accretion of provinces and territories and a process of increasing autonomy from the United Kingdom, highlighted by the Statute of Westminster, 1931, and culminating in the Canada Act 1982, which severed the vestiges of legal dependence on the Parliament of the United Kingdom.\n",
        "\n",
        "# Canada is a parliamentary liberal democracy and a constitutional monarchy in the Westminster tradition. The country's head of government is the prime minister, who holds office by virtue of their ability to command the confidence of the elected House of Commons and is \"called upon\" by the governor general, representing the monarch of Canada, the head of state. The country is a Commonwealth realm and is officially bilingual (English and French) at the federal level. It ranks very high in international measurements of government transparency, quality of life, economic competitiveness, innovation, and education. The country has low levels of perceived corruption. It is one of the world's most ethnically diverse and multicultural nations, the product of large-scale immigration. Canada's long and complex relationship with the United States has had a significant impact on its history, economy, and culture.\n",
        "\n",
        "# A highly developed country, Canada has the 24th highest nominal per capita income globally and the fifteenth-highest ranking on the Human Development Index. Its advanced economy is the eighth-largest in the world, relying chiefly upon its abundant natural resources and well-developed international trade networks. Canada is part of several major international and intergovernmental institutions or groupings including the United Nations, NATO, G7, Group of Ten, G20, Organisation for Economic Co-operation and Development (OECD), World Trade Organization (WTO), Commonwealth of Nations, Arctic Council, Organisation internationale de la Francophonie, Asia-Pacific Economic Cooperation forum, and Organization of American States.\n",
        "# '''\n",
        "\n",
        "string = '''\n",
        "Chlorophyll (also chlorophyl) is any of several related green pigments found in cyanobacteria and in the chloroplasts of algae and plants.[2] Its name is derived from the Greek words χλωρός, khloros (\"pale green\") and φύλλον, phyllon (\"leaf\").[3] Chlorophyll allow plants to absorb energy from light.\n",
        "\n",
        "Chlorophylls absorb light most strongly in the blue portion of the electromagnetic spectrum as well as the red portion.[4] Conversely, it is a poor absorber of green and near-green portions of the spectrum. Hence chlorophyll-containing tissues appear green because green light, diffusively reflected by structures like cell walls, is less absorbed.[1] Two types of chlorophyll exist in the photosystems of green plants: chlorophyll a and b.[5]\n",
        "\n",
        "History\n",
        "Chlorophyll was first isolated and named by Joseph Bienaimé Caventou and Pierre Joseph Pelletier in 1817.[6] The presence of magnesium in chlorophyll was discovered in 1906,[7] and was the first detection of that element in living tissue.[8]\n",
        "\n",
        "After initial work done by German chemist Richard Willstätter spanning from 1905 to 1915, the general structure of chlorophyll a was elucidated by Hans Fischer in 1940. By 1960, when most of the stereochemistry of chlorophyll a was known, Robert Burns Woodward published a total synthesis of the molecule.[8][9] In 1967, the last remaining stereochemical elucidation was completed by Ian Fleming,[10] and in 1990 Woodward and co-authors published an updated synthesis.[11] Chlorophyll f was announced to be present in cyanobacteria and other oxygenic microorganisms that form stromatolites in 2010;[12][13] a molecular formula of C55H70O6N4Mg and a structure of (2-formyl)-chlorophyll a were deduced based on NMR, optical and mass spectra.[14]\n",
        "'''\n",
        "\n",
        "string = '''\n",
        "The Eiffel Tower (/ˈaɪfəl/ EYE-fəl; French: tour Eiffel [tuʁ ɛfɛl] (listen)) is a wrought-iron lattice tower on the Champ de Mars in Paris, France. It is named after the engineer Gustave Eiffel, whose company designed and built the tower.\n",
        "\n",
        "Locally nicknamed \"La dame de fer\" (French for \"Iron Lady\"), it was constructed from 1887 to 1889 as the centerpiece of the 1889 World's Fair. Although initially criticised by some of France's leading artists and intellectuals for its design, it has since become a global cultural icon of France and one of the most recognisable structures in the world.[3] The tower received 5,889,000 visitors in 2022, up by 197 percent from 2021, when numbers dropped due to the COVID virus.[4] The Eiffel Tower is the most visited monument with an entrance fee in the world:[citation needed] 6.91 million people ascended it in 2015. It was designated a monument historique in 1964, and was named part of a UNESCO World Heritage Site (\"Paris, Banks of the Seine\") in 1991.[5]\n",
        "\n",
        "The tower is 330 metres (1,083 ft) tall,[6] about the same height as an 81-storey building, and the tallest structure in Paris. Its base is square, measuring 125 metres (410 ft) on each side. During its construction, the Eiffel Tower surpassed the Washington Monument to become the tallest human-made structure in the world, a title it held for 41 years until the Chrysler Building in New York City was finished in 1930. It was the first structure in the world to surpass both the 200-metre and 300-metre mark in height. Due to the addition of a broadcasting aerial at the top of the tower in 1957, it is now taller than the Chrysler Building by 5.2 metres (17 ft). Excluding transmitters, the Eiffel Tower is the second tallest free-standing structure in France after the Millau Viaduct.\n",
        "\n",
        "The tower has three levels for visitors, with restaurants on the first and second levels. The top level's upper platform is 276 m (906 ft) above the ground – the highest observation deck accessible to the public in the European Union. Tickets can be purchased to ascend by stairs or lift to the first and second levels. The climb from ground level to the first level is over 300 steps, as is the climb from the first level to the second, making the entire ascent a 600 step climb. Although there is a staircase to the top level, it is usually accessible only by lift.\n",
        "'''\n",
        "\n",
        "# string = '''\n",
        "# Most male birds (e.g., roosters and turkeys) have a cloaca (also present on the female), but not a penis. Among bird species with a penis are paleognathes (tinamous and ratites)[4] and Anatidae (ducks, geese and swans).[5] A bird penis is different in structure from mammal penises, being an erectile expansion of the cloacal wall and being erected by lymph, not blood.[6] It is usually partially feathered and in some species features spines and brush-like filaments, and in flaccid state curls up inside the cloaca.\n",
        "\n",
        "# While most male birds have no external genitalia, male waterfowl (Anatidae) have a phallus. Most birds mate with the males balancing on top of the females and touching cloacas in a \"cloacal kiss\"; this makes forceful insemination very difficult. The phallus that male waterfowl have evolved everts out of their bodies (in a clockwise coil) and aids in inseminating females without their cooperation.[7] The male waterfowl evolution of a phallus to forcefully copulate with females has led to counteradaptations in females in the form of vaginal structures called dead end sacs and clockwise coils. These structures make it harder for males to achieve intromission. The clockwise coils are significant because the male phallus everts out of their body in a counter-clockwise spiral; therefore, a clockwise vaginal structure would impede forceful copulation. Studies have shown that the longer a male's phallus is, the more elaborate the vaginal structures were.[7]\n",
        "\n",
        "\n",
        "# Females have corkscrew vaginas with many blind pockets designed for difficult penetration and to prevent becoming pregnant. This reduced the likelihood of fertilization by unwanted aggressors in favor of fitter mates.\n",
        "# The lake duck is notable for possessing, in relation to body length, the longest penis of all vertebrates; the penis, which is typically coiled up in flaccid state, can reach about the same length as the animal himself when fully erect, but is more commonly about half the bird's length.[8][9] It is theorized that the remarkable size of their spiny penises with bristled tips may have evolved in response to competitive pressure in these highly promiscuous birds, removing sperm from previous matings in the manner of a bottle brush. The lake duck has a corkscrew shaped penis.[10]\n",
        "\n",
        "# Male and female emus are similar in appearance,[11] although the male's penis can become visible when it defecates.[12]\n",
        "\n",
        "# The male tinamou has a corkscrew shaped penis, similar to those of the ratites and to the hemipenis of some reptiles. Females have a small phallic organ in the cloaca which becomes larger during the breeding season.[13]\n",
        "\n",
        "\n",
        "# '''\n",
        "\n",
        "# string = '''\n",
        "# Dopamine (DA, a contraction of 3,4-dihydroxyphenethylamine) is a neuromodulatory molecule that plays several important roles in cells. It is an organic chemical of the catecholamine and phenethylamine families. Dopamine constitutes about 80% of the catecholamine content in the brain. It is an amine synthesized by removing a carboxyl group from a molecule of its precursor chemical, L-DOPA, which is synthesized in the brain and kidneys. Dopamine is also synthesized in plants and most animals. In the brain, dopamine functions as a neurotransmitter—a chemical released by neurons (nerve cells) to send signals to other nerve cells. Neurotransmitters are synthesized in specific regions of the brain, but affect many regions systemically. The brain includes several distinct dopamine pathways, one of which plays a major role in the motivational component of reward-motivated behavior. The anticipation of most types of rewards increases the level of dopamine in the brain,[4] and many addictive drugs increase dopamine release or block its reuptake into neurons following release.[5] Other brain dopamine pathways are involved in motor control and in controlling the release of various hormones. These pathways and cell groups form a dopamine system which is neuromodulatory.[5]\n",
        "\n",
        "# In popular culture and media, dopamine is often portrayed as the main chemical of pleasure, but the current opinion in pharmacology is that dopamine instead confers motivational salience;[6][7][8] in other words, dopamine signals the perceived motivational prominence (i.e., the desirability or aversiveness) of an outcome, which in turn propels the organism's behavior toward or away from achieving that outcome.[8][9]\n",
        "\n",
        "# Outside the central nervous system, dopamine functions primarily as a local paracrine messenger. In blood vessels, it inhibits norepinephrine release and acts as a vasodilator (at normal concentrations); in the kidneys, it increases sodium excretion and urine output; in the pancreas, it reduces insulin production; in the digestive system, it reduces gastrointestinal motility and protects intestinal mucosa; and in the immune system, it reduces the activity of lymphocytes. With the exception of the blood vessels, dopamine in each of these peripheral systems is synthesized locally and exerts its effects near the cells that release it.\n",
        "\n",
        "# Several important diseases of the nervous system are associated with dysfunctions of the dopamine system, and some of the key medications used to treat them work by altering the effects of dopamine. Parkinson's disease, a degenerative condition causing tremor and motor impairment, is caused by a loss of dopamine-secreting neurons in an area of the midbrain called the substantia nigra. Its metabolic precursor L-DOPA can be manufactured; Levodopa, a pure form of L-DOPA, is the most widely used treatment for Parkinson's. There is evidence that schizophrenia involves altered levels of dopamine activity, and most antipsychotic drugs used to treat this are dopamine antagonists which reduce dopamine activity.[10] Similar dopamine antagonist drugs are also some of the most effective anti-nausea agents. Restless legs syndrome and attention deficit hyperactivity disorder (ADHD) are associated with decreased dopamine activity.[11] Dopaminergic stimulants can be addictive in high doses, but some are used at lower doses to treat ADHD. Dopamine itself is available as a manufactured medication for intravenous injection: although it cannot reach the brain from the bloodstream, its peripheral effects make it useful in the treatment of heart failure or shock, especially in newborn babies.\n",
        "# '''\n",
        "\n",
        "\n",
        "# string = '''\n",
        "# The Milad Tower also known as the Tehran Tower (برج تهران Borj-e Tehrān),[3] is a multi-purpose tower in Tehran, Iran. It is the sixth-tallest tower[4] and the 24th-tallest freestanding structure in the world.[5] It is located between Shahrak-e Gharb and the district of Gisha, standing at 435 meters from the base to the tip of the antenna.[6] The head consists of a large pod with 12 floors, the roof of which is at 315 meters. The tower is a part of the International Trade and Convention Center of Tehran, which also includes a five-star hotel, a convention center, a world trade center and an IT park.[1][2][3][7] The Milad Tower was part of the Shahestan Pahlavi project, a vast development for a new government and commercial centre for Tehran, that was designed in the 1970s but never materialized, except for the tower. After an international competition, the project was awarded to the Llewely Davies Company, and construction was inaugurated on August 19, 1975, with the Mohammad Reza Pahlavi and the Mayor of Tehran Dr G. R. Nickpay burying a commemorative gold plaque .[8] There is also another background of building this tower, since the construction of the tower was started after the 1979 revolution. The new government of Iran wanted to create a new symbol for Tehran to replace the Azadi Tower that was a symbol of Pahlavi's reign. The construction of the tower was commenced in 1997. Upon completion of its construction in the mid 2000s, the Milad Tower was considered the fourth-tallest freestanding telecommunication tower in the world.[3] While the tower opened in 2007, numerous conflicts on the history of the tower still prevail, partly because sections of the tower were open to visitors once the elevators started operating during construction and the tower was still far from finished.[1][2][3] The design of the project was headed by Iranian architect Mohammad Reza Hafezi. The general contractor was the company of Boland Payeh, and the main client and investor was the company of Yadman Sazeh, a representative of the Municipality of Tehran.[2]\n",
        "# '''\n",
        "\n",
        "# string = '''\n",
        "# Tehran (/tɛəˈræn, -ˈrɑːn, ˌteɪ-/; Persian: تهران Tehrân [tehˈɾɒːn] (listen)) is the capital and largest city of Iran and the largest city in Tehran Province. With a population of around 9 million in the city and around 16 million in the larger metropolitan area of Greater Tehran, Tehran is the most populous city in Iran and Western Asia,[6] and has the second-largest metropolitan area in the Middle East, after Cairo. It is ranked 24th in the world by metropolitan area population.\n",
        "\n",
        "# In the classical antiquity, part of the territory of present-day Tehran was occupied by Rhages (now Ray), a prominent Median city[7] destroyed in the medieval Arab, Turkic, and Mongol invasions. Modern Ray was absorbed into the metropolitan area of Greater Tehran.\n",
        "\n",
        "# Tehran was first chosen as the capital of Iran by Agha Mohammad Khan of the Qajar dynasty in 1786, because of its proximity to Iran's territories in the Caucasus, then separated from Iran in the Russo-Iranian Wars, to avoid the vying factions of the previously ruling Iranian dynasties. The capital has been moved several times throughout history, however, and Tehran became the 32nd capital of Persia. Large-scale construction works began in the 1920s, and Tehran became a destination for mass migrations from all over Iran since the 20th century.[8]\n",
        "\n",
        "# Tehran is home to many historical sites, including the royal complexes of Golestan, Sa'dabad, and Niavaran, where the last two dynasties of the former Imperial State of Iran were seated. Tehran's landmarks include the Azadi Tower, a memorial built under the reign of Mohammad Reza Shah of the Pahlavi dynasty in 1971 to mark the 2,500th anniversary of the Persian Empire, the Milad Tower, the world's sixth-tallest self-supporting tower, completed in 2007, and the Tabiat Bridge, completed in 2014.[9]\n",
        "\n",
        "# Most of the population are Persian,[10][11] with roughly 99% of them speaking the Persian language, alongside other ethnolinguistic groups in the city which became Persianized and assimilated.[12]\n",
        "\n",
        "# Tehran is served by Imam Khomeini International Airport, alongside the domestic Mehrabad Airport, a central railway station, Tehran Metro, a bus rapid transit system, trolleybuses, and a large network of highways.\n",
        "\n",
        "# Plans to relocate the capital from Tehran to another area due to air pollution and earthquakes have not been approved so far. A 2016 survey of 230 cities across the globe by Mercer ranked Tehran 203rd for quality of life.[13] According to the Global Destinations Cities Index in 2016, Tehran is among the top ten fastest growing destinations.[14] Tehran City Council declared October 6 the Tehran Day in 2016, celebrating the date when in 1907 the city officially became the capital of Iran.[15]\n",
        "# '''\n",
        "\n",
        "\n",
        "# string = '''\n",
        "# In the period of the Roman Republic (509–27 BC) the Praetorian Guard originated as bodyguards for Roman generals. The first historical record of the praetorians is as bodyguards for the Scipio family, ca. 275 BC. Generals with imperium (command authority of an army) also held public office, either as a magistrate or as a promagistrate, each was provided with lictors to protect the person of the office-holder. In practice, the offices of Roman consul and of proconsul each had twelve lictors, whilst the offices of praetor and of propraetor each had six lictors. In absence of an assigned, permanent personal bodyguard, senior field officers safeguarded themselves with temporary bodyguard units of selected soldiers. In Hispania Citerior, during the Siege of Numantia (134–133 BC), General Scipio Aemilianus safeguarded himself with a troop of 500 soldiers against the sorties of siege warfare aimed at killing Roman field commanders.\n",
        "\n",
        "# At the end of 40 BC, two of the three co-rulers who were the Second Triumvirate, Octavian and Mark Antony, had Praetorian Guards. Octavian installed his praetorians within the pomerium, the religious and legal boundary of Rome; the first occasion when troops were permanently garrisoned in Rome proper. In the Orient, Antony commanded three cohorts; in 32 BC, Antony issued coins in honouring his Praetorian Guard. According to the historian Orosius,[citation needed] Octavian commanded five cohorts at the Battle of Actium in 31 BC; and, in the aftermath of Roman civil war, the victorious Octavian then merged his forces with the forces of Antony as symbolic of their political reunification. Later, as Augustus, the first Roman emperor (27 BC–AD 14), Octavian retained the Praetorians as his imperial bodyguard. In the longer campaigns of the Roman army of the late Republic, the personal bodyguard unit was the norm for a commander in the field. At camp, the cohors praetoria, a cohort of praetorians guarding the commander, was posted near the praetorium, the tent of the commander.\n",
        "# '''\n",
        "\n",
        "# string = '''\n",
        "# Moses[note 1] (/ˈmoʊzɪz, -zɪs/)[2] is considered the most important prophet in Judaism[3][4] and one of the most important prophets in Christianity, Islam, the Druze faith,[5][6] the Baháʼí Faith and other Abrahamic religions. According to both the Bible and the Quran,[7] Moses was the leader of the Israelites and lawgiver to whom the authorship, or \"acquisition from heaven\", of the Torah (the first five books of the Bible) is attributed.[8]\n",
        "\n",
        "# According to the Book of Exodus, Moses was born in a time when his people, the Israelites, an enslaved minority, were increasing in population and, as a result, the Egyptian Pharaoh worried that they might ally themselves with Egypt's enemies.[9] Moses' Hebrew mother, Jochebed, secretly hid him when Pharaoh ordered all newborn Hebrew boys to be killed in order to reduce the population of the Israelites. Through Pharaoh's daughter (identified as Queen Bithia in the Midrash), the child was adopted as a foundling from the Nile and grew up with the Egyptian royal family. After killing an Egyptian slave-master who was beating a Hebrew, Moses fled across the Red Sea to Midian, where he encountered the Angel of the Lord,[10] speaking to him from within a burning bush on Mount Horeb, which he regarded as the Mountain of God.\n",
        "\n",
        "# God sent Moses back to Egypt to demand the release of the Israelites from slavery. Moses said that he could not speak eloquently,[11] so God allowed Aaron, his elder brother,[12] to become his spokesperson. After the Ten Plagues, Moses led the Exodus of the Israelites out of Egypt and across the Red Sea, after which they based themselves at Mount Sinai, where Moses received the Ten Commandments. After 40 years of wandering in the desert, Moses died on Mount Nebo at the age of 120, within sight of the Promised Land.[13]\n",
        "\n",
        "# Generally, scholars see Moses as a legendary figure, whilst retaining the possibility that Moses or a Moses-like figure existed in the 13th century BCE.[14][15][16][17][18] Rabbinical Judaism calculated a lifespan of Moses corresponding to 1391–1271 BCE;[19] Jerome suggested 1592 BCE,[20] and James Ussher suggested 1571 BCE as his birth year.[21][note 2]\n",
        "# '''\n",
        "\n",
        "\n",
        "# string = '''\n",
        "# Citric acid occurs in a variety of fruits and vegetables, most notably citrus fruits. Lemons and limes have particularly high concentrations of the acid; it can constitute as much as 8% of the dry weight of these fruits (about 47 g/L in the juices[11]).[a] The concentrations of citric acid in citrus fruits range from 0.005 mol/L for oranges and grapefruits to 0.30 mol/L in lemons and limes; these values vary within species depending upon the cultivar and the circumstances under which the fruit was grown.\n",
        "\n",
        "# Citric acid was first isolated in 1784 by the chemist Carl Wilhelm Scheele, who crystallized it from lemon juice.[12][13]\n",
        "\n",
        "# Industrial-scale citric acid production first began in 1890 based on the Italian citrus fruit industry, where the juice was treated with hydrated lime (calcium hydroxide) to precipitate calcium citrate, which was isolated and converted back to the acid using diluted sulfuric acid.[14] In 1893, C. Wehmer discovered Penicillium mold could produce citric acid from sugar.[citation needed] However, microbial production of citric acid did not become industrially important until World War I disrupted Italian citrus exports.\n",
        "\n",
        "# In 1917, American food chemist James Currie discovered that certain strains of the mold Aspergillus niger could be efficient citric acid producers,[15] and the pharmaceutical company Pfizer began industrial-level production using this technique two years later, followed by Citrique Belge in 1929. In this production technique, which is still the major industrial route to citric acid used today, cultures of A. niger are fed on a sucrose or glucose-containing medium to produce citric acid. The source of sugar is corn steep liquor, molasses, hydrolyzed corn starch, or other inexpensive, sugary solution.[16] After the mold is filtered out of the resulting solution, citric acid is isolated by precipitating it with calcium hydroxide to yield calcium citrate salt, from which citric acid is regenerated by treatment with sulfuric acid, as in the direct extraction from citrus fruit juice.\n",
        "\n",
        "# In 1977, a patent was granted to Lever Brothers for the chemical synthesis of citric acid starting either from aconitic or isocitrate/alloisocitrate calcium salts under high pressure conditions; this produced citric acid in near quantitative conversion under what appeared to be a reverse, non-enzymatic Krebs cycle reaction.[17]\n",
        "\n",
        "# Global production was in excess of 2,000,000 tons in 2018.[18] More than 50% of this volume was produced in China. More than 50% was used as an acidity regulator in beverages, some 20% in other food applications, 20% for detergent applications, and 10% for applications other than food, such as cosmetics, pharmaceuticals, and in the chemical industry.[14]\n",
        "# '''\n",
        "\n",
        "# string = '''\n",
        "# Alabama (/ˌæləˈbæmə/) is a state in the Southeastern region of the United States, bordered by Tennessee to the north; Georgia to the east; Florida and the Gulf of Mexico to the south; and Mississippi to the west. Alabama is the 30th largest by area[9] and the 24th-most populous of the U.S. states.[10]\n",
        "\n",
        "# Alabama is nicknamed the Yellowhammer State, after the state bird. Alabama is also known as the \"Heart of Dixie\" and the \"Cotton State\". The state tree is the longleaf pine, and the state flower is the camellia. Alabama's capital is Montgomery, and its largest city by population and area is Huntsville.[11] Its oldest city is Mobile, founded by French colonists in 1702 as the capital of French Louisiana.[12] Greater Birmingham is Alabama's largest metropolitan area and its economic center.[13]\n",
        "\n",
        "# Originally home to many native tribes, present-day Alabama was a Spanish territory beginning in the sixteenth century until the French acquired it in the early eighteenth century. The British won the territory in 1763 until losing it in the American Revolutionary War. Spain held Mobile as part of Spanish West Florida until 1813. In December 1819, Alabama was recognized as a state. During the antebellum period, Alabama was a major producer of cotton, and widely used African American slave labor. In 1861, the state seceded from the United States to become part of the Confederate States of America, with Montgomery acting as its first capital, and rejoined the Union in 1868. Following the American Civil War, Alabama would suffer decades of economic hardship, in part due to agriculture and a few cash crops being the main driver of the state's economy. Similar to other former slave states, Alabamian legislators employed Jim Crow laws from the late 19th century up until the 1960s. High-profile events such as the Selma to Montgomery march made the state a major focal point of the civil rights movement in the 1950s and 1960s.\n",
        "\n",
        "# During and after World War II, Alabama grew as the state's economy diversified with new industries. NASA's Marshall Space Flight Center in Huntsville would help Alabama's economic growth in the mid-to-late 20th century, by developing an aerospace industry. Alabama's economy in the 21st century is based on automotive, finance, tourism, manufacturing, aerospace, mineral extraction, healthcare, education, retail, and technology.[14]\n",
        "\n",
        "# The state's geography is diverse, with the north dominated by the mountainous Tennessee Valley and the south by Mobile Bay, a historically significant port. Politically, as part of the Deep South, Alabama is predominantly a conservative state, and is known for its Southern culture. Within Alabama, American football, particularly at the college level, plays a major part of the state's culture.\n",
        "# '''\n",
        "\n",
        "\n",
        "# string = '''\n",
        "# Gears of War is a media franchise centered on a series of video games created by Epic Games, developed and managed by The Coalition, and owned and published by Xbox Game Studios. The franchise is best known for its third-person shooter video games, which has been supplemented by spin-off video game titles, a DC comic book series, seven novels, a board game adaptation and various merchandise.\n",
        "\n",
        "# The original trilogy focuses on the conflict between humanity and the subterranean reptilian humanoid known as the Locust Horde on the world of Sera. The first installment, Gears of War, was released on November 7, 2006 for the Xbox 360. The game follows protagonist Marcus Fenix, a soldier in the Coalition of Ordered Governments tasked to lead a last-ditch effort to destroy the Locust Horde and save humanity. Two subsequent titles, Gears of War 2 (2008) and Gears of War 3 (2011), featured a three-way conflict between humanity, the Locust Horde and their mutated counterparts, the Lambent. Gears of War: Judgment, a spin-off prequel to the series' first title, was released in 2013; it focuses on Damon Baird, one of Fenix's squad-mates.[1] Gears of War: Ultimate Edition was released for the Xbox One and Microsoft Windows between August 2015 to March 2016.[2] The fourth installment in the main series, Gears of War 4, is set 25 years after Gears of War 3 and follows Marcus Fenix's son, JD and his friends as they battle security forces deployed by a totalitarian COG government as well as the Swarm, a reconstituted version of the Locust Horde that once again threatens humanity.[3] Gears 5 (2019) is the direct sequel to Gears of War 4 and revolves around Kait Diaz, a friend of JD, who embarks on a quest to learn the truth about her past and the connections between her heritage and the Locust Horde.\n",
        "\n",
        "# Gears of War was developed by Epic Games. Cliff Bleszinski, who has previously worked on Epic's Unreal Tournament games, served as the series' lead game designer for the first three installments. He was inspired by gameplay elements from Resident Evil 4, Kill Switch, and Bionic Commando.[4] The series was guided by Rod Fergusson, the executive producer and director of development of Epic Games until 2012.[5][6] The first four installments of the Gears of War series used a modified version of the Unreal Engine 3 engine.[7][8] In January 2014, Microsoft acquired rights to the franchise from Epic Games. Canadian studio The Coalition developed Gears of War 4, which was released on October 11, 2016 for the Xbox One and Windows 10.[9] A sequel, Gears 5, was released in September 2019. All six installments in Gears of War featured several multiplayer modes that allowed players to compete against each other or team-up to battle AI opponents on Xbox Live.\n",
        "\n",
        "# Gears of War became one of the best-selling franchises for the Xbox 360.[10] The series puts emphasis on cover-based combat, in which players can use objects to avoid gunfire or safely engage enemies.[11] The Gears of War games have been amongst the most popular and most played titles on Xbox Live.[10][12]\n",
        "# '''\n",
        "\n",
        "# string = '''\n",
        "# Marian Anderson (February 27, 1897 – April 8, 1993)[1] was an American contralto. She performed a wide range of music, from opera to spirituals. Anderson performed with renowned orchestras in major concert and recital venues throughout the United States and Europe between 1925 and 1965.\n",
        "\n",
        "# Anderson was an important figure in the struggle for African-American artists to overcome racial prejudice in the United States during the mid-twentieth century. In 1939, during the era of racial segregation, the Daughters of the American Revolution (DAR) refused to allow Anderson to sing to an integrated audience in Constitution Hall in Washington, D.C. The incident placed Anderson in the spotlight of the international community on a level unusual for a classical musician. With the aid of First Lady Eleanor Roosevelt and her husband, President Franklin D. Roosevelt, Anderson performed a critically acclaimed open-air concert on Easter Sunday, April 9, 1939, on the Lincoln Memorial steps in the capital. The event was featured in a documentary film. She sang before an integrated crowd of more than 75,000 people and a radio audience in the millions.\n",
        "\n",
        "# On January 7, 1955, Anderson became the first African-American singer to perform at the Metropolitan Opera. In addition, she worked as a delegate to the United Nations Human Rights Committee and as a Goodwill Ambassador for the United States Department of State, giving concerts all over the world. She participated in the civil rights movement in the 1960s, singing at the March on Washington for Jobs and Freedom in 1963. The recipient of numerous awards and honors, Anderson was awarded the first Presidential Medal of Freedom in 1963, the Congressional Gold Medal in 1977, the Kennedy Center Honors in 1978, the National Medal of Arts in 1986, and a Grammy Lifetime Achievement Award in 1991.\n",
        "# '''\n",
        "\n",
        "\n",
        "# string = '''\n",
        "# Lionel Andrés Messi, also known as Leo Messi, is an Argentine professional footballer who plays as a forward for Ligue 1 club Paris Saint-Germain and captains the Argentina national team. Widely regarded as one of the greatest players of all time, Messi has won a record seven Ballon d'Or awards[note 2] and a record six European Golden Shoes, and in 2020 he was named to the Ballon d'Or Dream Team. Until leaving the club in 2021, he had spent his entire professional career with Barcelona, where he won a club-record 34 trophies, including 10 La Liga titles, seven Copa del Rey titles and four UEFA Champions Leagues. With his country, he won the 2021 Copa América, the 2022 Finalissima, and the 2022 FIFA World Cup. A prolific goalscorer and creative playmaker, Messi holds the records for most goals in La Liga (474), most hat-tricks in La Liga (36) and the UEFA Champions League (eight), and most assists in La Liga (192) and the Copa América (17). He also has the most international goals by a South American male (102). Messi has scored over 800 senior career goals for club and country, and has the most goals by a player for a single club (672).\n",
        "\n",
        "# Messi relocated to Spain from Argentina aged 13 to join Barcelona, for whom he made his competitive debut aged 17 in October 2004. He established himself as an integral player for the club within the next three years, and in his first uninterrupted season in 2008–09 he helped Barcelona achieve the first treble in Spanish football; that year, aged 22, Messi won his first Ballon d'Or. Three successful seasons followed, with Messi winning four consecutive Ballons d'Or, making him the first player to win the award four times. During the 2011–12 season, he set the La Liga and European records for most goals scored in a single season, while establishing himself as Barcelona's all-time top scorer. The following two seasons, Messi finished second for the Ballon d'Or behind Cristiano Ronaldo (his perceived career rival), before regaining his best form during the 2014–15 campaign, becoming the all-time top scorer in La Liga and leading Barcelona to a historic second treble, after which he was awarded a fifth Ballon d'Or in 2015. Messi assumed captaincy of Barcelona in 2018, and won a record sixth Ballon d'Or in 2019. Out of contract, he signed for Paris Saint-Germain in August 2021.\n",
        "\n",
        "# An Argentine international, Messi is the country's all-time leading goalscorer and also holds the national record for appearances. At youth level, he won the 2005 FIFA World Youth Championship, finishing the tournament with both the Golden Ball and Golden Shoe, and an Olympic gold medal at the 2008 Summer Olympics. His style of play as a diminutive, left-footed dribbler drew comparisons with his compatriot Diego Maradona, who described Messi as his successor. After his senior debut in August 2005, Messi became the youngest Argentine to play and score in a FIFA World Cup (2006), and reached the final of the 2007 Copa América, where he was named young player of the tournament. As the squad's captain from August 2011, he led Argentina to three consecutive finals: the 2014 FIFA World Cup, for which he won the Golden Ball, the 2015 Copa América, winning the Golden Ball, and the 2016 Copa América. After announcing his international retirement in 2016, he reversed his decision and led his country to qualification for the 2018 FIFA World Cup, a third-place finish at the 2019 Copa América, and victory in the 2021 Copa América, while winning the Golden Ball and Golden Boot for the latter. For this achievement, Messi received a record seventh Ballon d'Or in 2021. In 2022, he led Argentina to win the 2022 FIFA World Cup, where he won a record second Golden Ball, became the first player to score in every stage of a World Cup (including two in the final), and broke the record for most appearances in World Cup tournaments with 26 matches played.\n",
        "\n",
        "# Messi has endorsed sportswear company Adidas since 2006. According to France Football, he was the world's highest-paid footballer for five years out of six between 2009 and 2014, and was ranked the world's highest-paid athlete by Forbes in 2019 and 2022. Messi was among Time's 100 most influential people in the world in 2011 and 2012. In February 2020, he was awarded the Laureus World Sportsman of the Year, thus becoming the first footballer and the first team-sport athlete to win the award. Later that year, Messi became the second footballer and second team-sport athlete to surpass $1 billion in career earnings.\n",
        "# '''\n",
        "\n",
        "# string = '''\n",
        "# The Great Northern War (1700–1721) was a conflict in which a coalition led by the Tsardom of Russia successfully contested the supremacy of the Swedish Empire in Northern, Central and Eastern Europe. The initial leaders of the anti-Swedish alliance were Peter I of Russia, Frederick IV of Denmark–Norway and Augustus II the Strong of Saxony–Poland–Lithuania. Frederick IV and Augustus II were defeated by Sweden, under Charles XII, and forced out of the alliance in 1700 and 1706 respectively, but rejoined it in 1709 after the defeat of Charles XII at the Battle of Poltava. George I of Great Britain and the Electorate of Hanover joined the coalition in 1714 for Hanover and in 1717 for Britain, and Frederick William I of Brandenburg-Prussia joined it in 1715.\n",
        "\n",
        "# Charles XII led the Swedish army. Swedish allies included Holstein-Gottorp, several Polish magnates under Stanislaus I Leszczyński (1704–1710) and Cossacks under the Ukrainian Hetman Ivan Mazepa (1708–1710). The Ottoman Empire temporarily hosted Charles XII of Sweden and intervened against Peter I.\n",
        "\n",
        "# The war began when an alliance of Denmark–Norway, Saxony and Russia, sensing an opportunity as Sweden was ruled by the young Charles XII, declared war on the Swedish Empire and launched a threefold attack on Swedish Holstein-Gottorp, Swedish Livonia, and Swedish Ingria. Sweden parried the Danish and Russian attacks at Travendal (August 1700) and Narva (November 1700) respectively, and in a counter-offensive pushed Augustus II's forces through the Polish–Lithuanian Commonwealth to Saxony, dethroning Augustus on the way (September 1706) and forcing him to acknowledge defeat in the Treaty of Altranstädt (October 1706). The treaty also secured the extradition and execution of Johann Reinhold Patkul, architect of the alliance seven years earlier. Meanwhile, the forces of Peter I had recovered from defeat at Narva and gained ground in Sweden's Baltic provinces, where they cemented Russian access to the Baltic Sea by founding Saint Petersburg in 1703. Charles XII moved from Saxony into Russia to confront Peter, but the campaign ended in 1709 with the destruction of the main Swedish army at the decisive Battle of Poltava (in present-day Ukraine) and Charles' exile in the Ottoman town of Bender. The Ottoman Empire defeated the Russian-Moldavian army in the Pruth River Campaign, but that peace treaty was in the end without great consequence to Russia's position.\n",
        "\n",
        "# After Poltava, the anti-Swedish coalition revived and subsequently Hanover and Prussia joined it. The remaining Swedish forces in plague-stricken areas south and east of the Baltic Sea were evicted, with the last city, Tallinn, falling in the autumn of 1710. The coalition members partitioned most of the Swedish dominions among themselves, destroying the Swedish dominium maris baltici. Sweden proper was invaded from the west by Denmark–Norway and from the east by Russia, which had occupied Finland by 1714. Sweden defeated the Danish invaders at the Battle of Helsingborg. Charles XII opened up a Norwegian front but was killed in the Siege of Fredriksten in 1718.\n",
        "\n",
        "# The war ended with the defeat of Sweden, leaving Russia as the new dominant power in the Baltic region and as a new major force in European politics. The Western powers, Great Britain and France, became caught up in the separate War of the Spanish Succession (1701–1714), which broke out over the Bourbon Philip of Anjou's succession to the Spanish throne and a possible joining of France and Spain. The formal conclusion of the Great Northern War came with the Swedish-Hanoverian and Swedish-Prussian Treaties of Stockholm (1719), the Dano-Swedish Treaty of Frederiksborg (1720), and the Russo-Swedish Treaty of Nystad (1721). By these treaties Sweden ceded its exemption from the Sound Dues[17] and lost the Baltic provinces and the southern part of Swedish Pomerania. The peace treaties also ended its alliance with Holstein-Gottorp. Hanover gained Bremen-Verden, Brandenburg-Prussia incorporated the Oder estuary (Stettin Lagoons), Russia secured the Baltic Provinces, and Denmark strengthened its position in Schleswig-Holstein. In Sweden, the absolute monarchy had come to an end with the death of Charles XII, and Sweden's Age of Liberty began.[18]\n",
        "# '''\n",
        "\n",
        "# string = '''\n",
        "# The earliest records of official relations between Russia and Persia show that in 1521, Shah Ismail I of the Safavid dynasty sent a diplomatic envoy to Tsar Vasili III of Muscovy.[2] Commercial relations, however, were infrequent, and often involved Tatars acting as merchant intermediaries.[3]\n",
        "\n",
        "\n",
        "# Shah Tahmasp I of Persia\n",
        "# In 1514, the Ottoman Empire instated a commercial blockade against Persia.[3] In order to reduce this pressure from the Ottomans, Shah Abbas I attempted to establish alternate overland trade routes through Russia.[4] An Ottoman attempt to capture Shirvan caused Shah Tahmasp I to send a diplomatic envoy to Moscow in 1552.[3] In 1580, the Ottomans occupied Shirvan and parts of Khartli-Kakheti, including Tiflis.[3] Ottoman forces also threatened Astrakhan, which was key to an important trade route and a Russian commercial centre.[3] Shah Mohammed Khodabanda promised to cede Derbent and Baku to Russia following the liberation of these cities from the Ottoman Empire.[3]\n",
        "\n",
        "# Russia annexed the Kazan and Astrakhan khanates in 1552 and 1556 respectively,[5] to extend the Volga trade route to the Caucasus and the Caspian Sea.[3][6] Significant points along this trade route were Gilan and Derbent, as the origins of the maritime and overland trade routes between Russia and Persia respectively,[3] and the commercial centres of Astrakhan[7] and Shamakhi.[8] Shamakhi in particular was the site of much merchant trade from Russia: silks, leather, metal wares, furs, wax and tallow.[3] Persian merchants traded in Russia, additionally, reaching as far as Nizhny Novgorod and Kazan, which developed into trade centres.[3] In 1555, the Muscovy, or Russia Company was created for the sole purpose of overland trade with Persia.[9]\n",
        "\n",
        "# In 1562, the province of Shirvan sent an envoy to Russia to establish official trade relations.[3] Shamakhi subsequently did the same in 1653.[3] The first Persians to engage in commercial trade with Russia were Armenians from Julfa, in northern Persia.[3] Julfa was an important link in the Russo-Persian trade route originating in Gilan.[3] In 1604, Shah Abbas I resettled a significant population of Armenians from Julfa to his newly established capital, Isfahan, giving them commercial rights.[10] Shah Abbas extended credit, lowered taxes, and granted religious freedom to this Armenian population.[4]\n",
        "\n",
        "# Throughout the sixteenth century, Persian diplomatic relations were often accompanied by commercial envoys, sending silk and metal wares to Russia.[2] In return, Russia sent furs, falcons and wild animals.[2] In fact, velvet, taffeta and silk from Kashan, Isfahan and Yazd made up over seventy percent of the goods transported to Russia in the sixteenth century.[3]\n",
        "\n",
        "# In 1616, a diplomatic mission to Moscow assured promises of protection over Persian merchants trading in Russia.[3] Persian merchants in Russia often accompanied diplomatic envoys.[3] However, Russian merchants were regularly harassed in Gilan and Ardabil, and Yusuf Khan, the governor of Shamakhi, refused to grant protection to Russian merchants.[3]\n",
        "\n",
        "\n",
        "# Map showing the location of Astrakhan\n",
        "# Exports of silk remained high in the early seventeenth century. In 1623, over 2,000 kg of silk was shipped from Astrakhan to cities across the Russian empire.[3] Under Shah Safi I, however, the official exports decreased and were replaced by private merchant trade.[4][3] In 1634, no trade was recorded, and no wares transported. Two years later, trade was once more brought to a halt, by plague,[3] but trade resumed and grew significantly. In 1676, 41,000 kg of silk was exported from Persia to Russia.[11]\n",
        "# '''\n",
        "\n",
        "# string = '''\n",
        "# Mahmoud Ahmadinejad (Persian: محمود احمدی‌نژاد, romanized: Mahmūd Ahmadīnežād [mæhmuːd(-e) æhmædiːneʒɒːd] (listen)[b][10][11]), born Mahmoud Sabbaghian[5] (Persian: محمود صباغیان, romanized: Mahmoud Sabbāghyān, 28 October 1956),[12][13] is an Iranian principlist and nationalist politician who served as the sixth president of Iran from 2005 to 2013. He is currently a member of the Expediency Discernment Council. He was known for his hardline views and nuclearisation of Iran. He was also the main political leader of the Alliance of Builders of Islamic Iran, a coalition of conservative political groups in the country, and served as mayor of Tehran from 2003 to 2005, reversing many of his predecessor's reforms.\n",
        "\n",
        "# An engineer and teacher from a poor background,[14] ideologically shaped by thinkers such as Navvab Safavi, Jalal Al-e-Ahmad and Ahmad Fardid,[15] Ahmadinejad joined the Office for Strengthening Unity[16] after the Iranian Revolution. Appointed a provincial governor in 1993, he was replaced along with all other provincial governors in 1997 after the election of President Mohammad Khatami and returned to teaching.[17][18] Tehran's council elected him mayor in 2003.[19] He took a religious hard line, reversing reforms of previous moderate mayors.[20] His 2005 presidential campaign, supported by the Alliance of Builders of Islamic Iran, garnered 62% of the runoff election votes, and he became president on 3 August 2005.[21][22]\n",
        "\n",
        "# During his presidency, Ahmadinejad was a controversial figure both in Iran and worldwide. He has been criticized domestically for his economic policies[23] and accused of disregard for human rights by organizations in North America and Europe.[24] Outside of Iran, he has been criticized for his hostility towards countries including Israel, Saudi Arabia, the United Kingdom, and the United States and other Western and Arab states. In 2007, Ahmadinejad introduced a gasoline rationing plan to reduce the country's fuel consumption and cut the interest rates that private and public banking facilities could charge.[25][26][27] He supports Iran's nuclear program. His election to a second term in 2009 was widely disputed[28][29] and led to widespread protests domestically and criticism from Western countries.[30]\n",
        "\n",
        "# During his second term, Ahmadinejad experienced a power struggle with reformers and other traditionalists[31] in parliament and the Revolutionary Guard and with Supreme Leader Ali Khamenei,[32] over his dismissal of intelligence minister Gholam-Hossein Mohseni-Eje'i and his support for his controversial close adviser, Esfandiar Rahim Mashaei.[33] On 14 March 2012, Ahmadinejad became the first president of the Islamic Republic of Iran to be summoned by the Islamic Consultative Assembly (parliament) to answer questions regarding his presidency.[34][35] Limited to two terms under the current Iranian constitution, Ahmadinejad supported Mashaei's campaign for president.[31] In 2013 Hassan Rouhani was elected as Ahmadinejad's successor.\n",
        "# '''\n",
        "\n",
        "\n",
        "# string = '''\n",
        "# Google LLC (/ˈɡuːɡəl/ (listen)) is an American multinational technology company focusing on online advertising, search engine technology, cloud computing, computer software, quantum computing, e-commerce, artificial intelligence,[9] and consumer electronics. It has often been referred to as \"the most powerful company in the world\"[10] and one of the world's most valuable brands due to its market dominance, data collection, and technological advantages in the area of artificial intelligence.[11][12][13] Its parent company Alphabet is considered one of the Big Five American information technology companies, alongside Amazon, Apple, Meta, and Microsoft.\n",
        "\n",
        "# Google was founded on September 4, 1998, by computer scientists Larry Page and Sergey Brin while they were PhD students at Stanford University in California. Together they own about 14% of its publicly listed shares and control 56% of its stockholder voting power through super-voting stock. The company went public via an initial public offering (IPO) in 2004. In 2015, Google was reorganized as a wholly owned subsidiary of Alphabet Inc. Google is Alphabet's largest subsidiary and is a holding company for Alphabet's internet properties and interests. Sundar Pichai was appointed CEO of Google on October 24, 2015, replacing Larry Page, who became the CEO of Alphabet. On December 3, 2019, Pichai also became the CEO of Alphabet.[14]\n",
        "\n",
        "# The company has since rapidly grown to offer a multitude of products and services beyond Google Search, many of which hold dominant market positions. These products address a wide range of use cases, including email (Gmail), navigation (Waze & Maps), cloud computing (Cloud), web browsing (Chrome), video sharing (YouTube), productivity (Workspace), operating systems (Android), cloud storage (Drive), language translation (Translate), photo storage (Photos), video calling (Meet), smart home (Nest), smartphones (Pixel), wearable technology (Pixel Watch & Fitbit), music streaming (YouTube Music), video on demand (YouTube TV), artificial intelligence (Google Assistant), machine learning APIs (TensorFlow), AI chips (TPU), and more. Discontinued Google products include gaming (Stadia), Glass, Google+, Reader, Play Music, Nexus, Hangouts, and Inbox by Gmail.[15][16]\n",
        "\n",
        "# Google's other ventures outside of Internet services and consumer electronics include quantum computing (Sycamore), self-driving cars (Waymo, formerly the Google Self-Driving Car Project), smart cities (Sidewalk Labs), and transformer models (Google Brain).[17]\n",
        "\n",
        "# Google and YouTube are the two most visited websites worldwide followed by Facebook and Twitter. Google is also the largest search engine, mapping and navigation application, email provider, office suite, video sharing platform, photo and cloud storage provider, mobile operating system, web browser, ML framework, and AI virtual assistant provider in the world as measured by market share. On the list of most valuable brands, Google is ranked second by Forbes[18] and fourth by Interbrand.[19] It has received significant criticism involving issues such as privacy concerns, tax avoidance, censorship, search neutrality, antitrust and abuse of its monopoly position.\n",
        "# '''\n",
        "\n",
        "# string = '''\n",
        "# Sharif University of Technology (SUT; Persian: دانشگاه صنعتی شریف) is a public research university in Tehran, Iran. It is widely considered as the nation's most prestigious and leading institution for science, technology, engineering, and mathematics (STEM) fields and is considered Iran's MIT among academics, scholars, and industry.\n",
        "\n",
        "# Established in 1966 under the reign of Mohammad Reza Shah Pahlavi, it was formerly named the Aryamehr University of Technology (Persian: دانشگاه صنعتی آریامهر, romanized: Dāneŝgāhe Sannatiye Āryāmehr) and for a short period after the 1979 revolution, the university was called Tehran University of Technology. Following the revolution, the university was named after Majid Sharif Vaghefi.\n",
        "\n",
        "# Today, the university provides both undergraduate and graduate programs in 15 main departments. The student body consists of about 6,000[3] undergraduate students and 4,700[3] graduate students from all the 31 provinces of Iran. Funding for Sharif University is provided by the government and through private funding. Undergraduate admission to Sharif is limited to the top 800 of the 500,000 students who pass the national entrance examination administered annually by the Iranian Ministry of Science, Research and Technology.[4]\n",
        "\n",
        "# In the 2013 Academic Ranking of World Universities Engineering/Technology and Computer Sciences rankings, SUT is ranked 5th in the Middle East.[5] It is in the top 251–275 universities in the world and 37th in Asia in the 2014 Times Higher Education World University Rankings.[6][7] In the 2014 Times Higher Education top 100 for newer universities (less than 50 years old), SUT ranked 1st in the Middle East, 6th in Asia, and 27th in the world.[8]\n",
        "\n",
        "# Founded in 1966, SUT was established to train and supply part of the required expert human resources of the country on an equal level to credible universities of the world. Compared with other worldwide universities, it is a young and growing pioneer in both basic and applied sciences. The main aims of SUT are: (1) to create an organization where students can be instructed in both theoretical and applied sciences, with special emphasis on the particular needs of Islamic society; (2) to teach students the advanced knowledge and techniques required to participate in the fields of engineering and technology and to cultivate them into creative engineers, good scientists, and innovative technologists; and (3) to educate engineers who are ready to be employed, who contribute significantly to their jobs, and who have a strong sense of public responsibility and a desire to continue to learn. The emphasis is placed on the promotion of multidisciplinary research at the graduate and doctoral levels. Based on that, SUT provides a scientific and dynamic environment for those who are trying to gain knowledge. In other words, SUT is a place for those who are trying to understand and comprehend scientific realities and facts, and are trying to convey those to others.[9]\n",
        "# '''\n",
        "\n",
        "# string = '''\n",
        "# Gothic architecture is an architectural style that was prevalent in Europe from the late 12th to the 16th century, during the High and Late Middle Ages, surviving into the 17th and 18th centuries in some areas.[1] It evolved from Romanesque architecture and was succeeded by Renaissance architecture. It originated in the Île-de-France and Picardy regions of northern France. The style at the time was sometimes known as opus Francigenum (lit. 'French work');[2] the term Gothic was first applied contemptuously during the later Renaissance, by those ambitious to revive the architecture of classical antiquity.\n",
        "\n",
        "# The defining design element of Gothic architecture is the pointed or ogival arch. The use of the pointed arch in turn led to the development of the pointed rib vault and flying buttresses, combined with elaborate tracery and stained glass windows.[3]\n",
        "\n",
        "# At the Abbey of Saint-Denis, near Paris, the choir was reconstructed between 1140 and 1144, drawing together for the first time the developing Gothic architectural features. In doing so, a new architectural style emerged that emphasized verticality and the effect created by the transmission of light through stained glass windows.[4]\n",
        "\n",
        "# Common examples are found in Christian ecclesiastical architecture, and Gothic cathedrals and churches, as well as abbeys, and parish churches. It is also the architecture of many castles, palaces, town halls, guildhalls, universities and, less prominently today, private dwellings. Many of the finest examples of medieval Gothic architecture are listed with UNESCO as World Heritage Sites.\n",
        "\n",
        "# With the development of Renaissance architecture in Italy during the mid 15th century, the Gothic style was supplanted by the new style, but in some regions, notably England and Belgium, Gothic continued to flourish and develop into the 16th century. A series of Gothic revivals began in mid-18th century England, spread through 19th-century Europe and continued, largely for churches and university buildings, into the 20th century.\n",
        "# '''\n",
        "\n",
        "\n",
        "# string = '''\n",
        "# Elon Reeve Musk FRS (/ˈiːlɒn/ EE-lon; born June 28, 1971) is a business magnate and investor. He is the founder, CEO and chief engineer of SpaceX; angel investor, CEO and product architect of Tesla, Inc.; owner and CEO of Twitter, Inc.; founder of the Boring Company; co-founder of Neuralink and OpenAI; and president of the philanthropic Musk Foundation. With an estimated net worth of around $192 billion as of March 27, 2023, primarily from his ownership stakes in Tesla and SpaceX,[4][5] Musk is the second-wealthiest person in the world, according to both the Bloomberg Billionaires Index and Forbes's real-time billionaires list.[6][7]\n",
        "\n",
        "# Musk was born in Pretoria, South Africa, and briefly attended at the University of Pretoria before moving to Canada at age 18, acquiring citizenship through his Canadian-born mother. Two years later, he matriculated at Queen's University and transferred to the University of Pennsylvania, where he received bachelor's degrees in economics and physics. He moved to California in 1995 to attend Stanford University. After two days, he dropped out and with his brother Kimbal, co-founded the online city guide software company Zip2. In 1999, Zip2 was acquired by Compaq for $307 million and Musk co-founded X.com, a direct bank. X.com merged with Confinity in 2000 to form PayPal, which eBay acquired for $1.5 billion in 2002.\n",
        "\n",
        "# With $175.8 million, Musk founded SpaceX in 2002, a spaceflight services company. In 2004, he was an early investor in the electric vehicle manufacturer Tesla Motors, Inc. (now Tesla, Inc.). He became its chairman and product architect, assuming the position of CEO in 2008. In 2006, he helped create SolarCity, a solar energy company that was later acquired by Tesla and became Tesla Energy. In 2015, he co-founded OpenAI, a nonprofit artificial intelligence research company. The following year, he co-founded Neuralink—a neurotechnology company developing brain–computer interfaces—and the Boring Company, a tunnel construction company. Musk has also proposed a hyperloop high-speed vactrain transportation system. In 2022, his acquisition of Twitter for $44 billion was completed.\n",
        "\n",
        "# Musk has made controversial statements on politics and technology, particularly on Twitter, and is a polarizing figure. He has been criticized for making unscientific and misleading statements, including spreading COVID-19 misinformation. In 2018, the U.S. Securities and Exchange Commission (SEC) sued Musk for falsely tweeting that he had secured funding for a private takeover of Tesla. Musk stepped down as chairman of Tesla and paid a $20 million fine as part of a settlement agreement with the SEC.\n",
        "# '''\n",
        "\n",
        "# string = '''\n",
        "# In the 1830s, three different solutions for moving images were invented on the concept of revolving drums and disks, the stroboscope by Simon von Stampfer in Austria, the phenakistoscope by Joseph Plateau in Belgium, and the zoetrope by William Horner in Britain.\n",
        "\n",
        "# In 1845, Francis Ronalds invented the first successful camera able to make continuous recordings of the varying indications of meteorological and geomagnetic instruments over time. The cameras were supplied to numerous observatories around the world and some remained in use until well into the 20th century.[2][3][4]\n",
        "\n",
        "# William Lincoln patented a device, in 1867 that showed animated pictures called the \"wheel of life\" or \"zoopraxiscope\". In it moving drawings or photographs were watched through a slit.\n",
        "\n",
        "# On 19 June 1878, Eadweard Muybridge successfully photographed a horse named \"Sallie Gardner\" in fast motion using a series of 24 stereoscopic cameras. The cameras were arranged along a track parallel to the horse's, and each camera shutter was controlled by a trip wire triggered by the horse's hooves. They were 21 inches apart to cover the 20 feet taken by the horse stride, taking pictures at one-thousandth of a second.[5] At the end of the decade, Muybridge had adapted sequences of his photographs to a zoopraxiscope for short, primitive projected \"movies,\" which were sensations on his lecture tours by 1879 or 1880.\n",
        "\n",
        "# Four years later, in 1882, French scientist Étienne-Jules Marey invented a chronophotographic gun, which was capable of taking 12 consecutive frames a second, recording all the frames of the same picture.\n",
        "\n",
        "# The late nineteenth to the early twentieth century brought rise to the use of film not only for entertainment purposes but for scientific exploration as well. French biologist and filmmaker Jean Painleve lobbied heavily for the use of film in the scientific field, as the new medium was more efficient in capturing and documenting the behavior, movement, and environment of microorganisms, cells, and bacteria, than the naked eye.[6] The introduction of film into scientific fields allowed for not only the viewing \"new images and objects, such as cells and natural objects, but also the viewing of them in real time\",[6] whereas prior to the invention of moving pictures, scientists and doctors alike had to rely on hand-drawn sketches of human anatomy and its microorganisms. This posed a great inconvenience in the science and medical worlds. The development of film and increased usage of cameras allowed doctors and scientists to grasp a better understanding and knowledge of their projects.[citation needed]\n",
        "# '''\n",
        "\n",
        "# string = '''\n",
        "# The North Atlantic Treaty Organization (NATO, /ˈneɪtoʊ/; French: Organisation du traité de l'Atlantique nord, OTAN), also called the North Atlantic Alliance, is an intergovernmental military alliance between 31 member states – 29 European and two North American. Established in the aftermath of World War II, the organization implemented the North Atlantic Treaty, signed in Washington, D.C., on 4 April 1949.[3][4] NATO is a collective security system: its independent member states agree to defend each other against attacks by third parties. During the Cold War, NATO operated as a check on the perceived threat posed by the Soviet Union. The alliance remained in place after the dissolution of the Soviet Union and has been involved in military operations in the Balkans, the Middle East, South Asia, and Africa. The organization's motto is animus in consulendo liber[5] (Latin for \"a mind unfettered in deliberation\").\n",
        "\n",
        "# NATO's main headquarters are located in Brussels, Belgium, while NATO's military headquarters are near Mons, Belgium. The alliance has targeted its NATO Response Force deployments in Eastern Europe, and the combined militaries of all NATO members include around 3.5 million soldiers and personnel.[6] Their combined military spending as of 2020 constituted over 57 percent of the global nominal total.[7] Moreover, members have agreed to reach or maintain the target defence spending of at least two percent of their GDP by 2024.[8][9]\n",
        "\n",
        "# NATO formed with twelve founding members and has added new members nine times, most recently when Finland joined the alliance in April 2023.[10] Following the acceptance of its application for membership in June 2022, Sweden is anticipated to become the 32nd member, with its Accession Protocol to the North Atlantic Treaty now in the process of being ratified by the existing members.[10] In addition, NATO currently recognizes Bosnia and Herzegovina, Georgia, and Ukraine as aspiring members.[3] Enlargement has led to tensions with non-member Russia, one of the twenty additional countries participating in NATO's Partnership for Peace programme. Another nineteen countries are involved in institutionalized dialogue programmes with NATO.\n",
        "# '''\n",
        "\n",
        "\n",
        "# string = '''\n",
        "# The Treaty of Dunkirk was signed by France and the United Kingdom on 4 March 1947, during the aftermath of World War II and the start of the Cold War, as a Treaty of Alliance and Mutual Assistance in the event of possible attacks by Germany or the Soviet Union. In March 1948, this alliance was expanded in the Treaty of Brussels to include the Benelux countries, forming the Brussels Treaty Organization, commonly known as the Western Union.[11] Talks for a wider military alliance, which could include North America, also began that month in the United States, where their foreign policy under the Truman Doctrine promoted international solidarity against actions they saw as communist aggression, such as the February 1948 coup d'état in Czechoslovakia. These talks resulted in the signature of the North Atlantic Treaty on 4 April 1949 by the member states of the Western Union plus the United States, Canada, Portugal, Italy, Norway, Denmark, and Iceland.[12] Canadian diplomat Lester B. Pearson was a key author and drafter of the treaty.[13][14][15]. The North Atlantic Treaty was largely dormant until the Korean War initiated the establishment of NATO to implement it with an integrated military structure. This included the formation of Supreme Headquarters Allied Powers Europe (SHAPE) in 1951, which adopted many of the Western Union's military structures and plans,[16] including their agreements on standardizing equipment and agreements on stationing foreign military forces in European countries. In 1952, the post of Secretary General of NATO was established as the organization's chief civilian. That year also saw the first major NATO maritime exercises, Exercise Mainbrace and the accession of Greece and Turkey to the organization.[17][18] Following the London and Paris Conferences, West Germany was permitted to rearm militarily, as they joined NATO in May 1955, which was, in turn, a major factor in the creation of the Soviet-dominated Warsaw Pact, delineating the two opposing sides of the Cold War.[19]The building of the Berlin Wall in 1961 marked a height in Cold War tensions, when 400,000 US troops were stationed in Europe.[20] Doubts over the strength of the relationship between the European states and the United States ebbed and flowed, along with doubts over the credibility of the NATO defence against a prospective Soviet invasion – doubts that led to the development of the independent French nuclear deterrent and the withdrawal of France from NATO's military structure in 1966.[21][22] In 1982, the newly democratic Spain joined the alliance.[23]\n",
        "\n",
        "# The Revolutions of 1989 in Europe led to a strategic re-evaluation of NATO's purpose, nature, tasks, and focus on the continent. In October 1990, East Germany became part of the Federal Republic of Germany and the alliance, and in November 1990, the alliance signed the Treaty on Conventional Armed Forces in Europe (CFE) in Paris with the Soviet Union. It mandated specific military reductions across the continent, which continued after the collapse of the Warsaw Pact in February 1991 and the dissolution of the Soviet Union that December, which removed the de facto main adversaries of NATO.[24] This began a draw-down of military spending and equipment in Europe. The CFE treaty allowed signatories to remove 52,000 pieces of conventional armaments in the following sixteen years,[25] and allowed military spending by NATO's European members to decline by 28 percent from 1990 to 2015.[26] In 1990 assurances were given by several Western leaders to Mikhail Gorbachev that NATO would not expand further east, as revealed by memoranda of private conversations.[27][28][29][30] However, the final text of the Treaty on the Final Settlement with Respect to Germany, signed later that year, contained no mention of the issue of eastward expansion.\n",
        "# '''\n",
        "\n",
        "# string = '''\n",
        "# Ali Hosseini Khamenei[6] (Persian: علی حسینی خامنه‌ای, romanized: ʼAlī Ḥosaynī Khāmeneʼī, pronounced [ʔæˈliː hosejˈniː xɒːmeneˈʔiː] (listen); born 19 April 1939)[14][15] is a Twelver Shia marja' and the second and current supreme leader of Iran, in office since 1989.[16][17] Previously he served as the third president of Iran from 1981 to 1989. Khamenei is the longest serving head of state in the Middle East, as well as the second-longest serving Iranian leader of the last century, after Shah Mohammad Reza Pahlavi.[18]\n",
        "\n",
        "# According to his official website, Khamenei was arrested six times before being sent into exile for three years during Mohammad Reza Pahlavi's reign.[19] After the Iranian revolution overthrowing the shah, he was the target of an attempted assassination in June 1981 that paralysed his right arm.[20][21] Khamenei was one of Iran's leaders during the Iran–Iraq War in the 1980s, and developed close ties with the now powerful Revolutionary Guards which he controls, and whose commanders are elected and dismissed by him. The Revolutionary Guards have been deployed to suppress opposition to him.[22][23] Khamenei served as the third President of Iran from 1981 to 1989, while becoming a close ally of the first Supreme Leader, Ruhollah Khomeini. Shortly before his death, Khomeini had a disagreement with the heir he had chosen — Hussein Ali Montazeri — so there was no agreed on successor when Khomeini died. The Assembly of Experts elected Khamenei as the next Supreme Leader on 4 June 1989, at age 50. According to Akbar Hashemi Rafsanjani, Khamenei was the man Khomeini had chosen as his successor before dying. Khamenei has been head of the servants of Astan Quds Razavi since 14 April 1979.[24]\n",
        "\n",
        "# As Supreme Leader, Khamenei is the most powerful political authority in the Islamic Republic.[25][26] He is the head of state of Iran, the commander-in-chief of its armed forces, and can issue decrees and make the final decisions on the main policies of the government in many fields such as economy, the environment, foreign policy, and national planning in Iran.[27][28][29][30][31][32] As Supreme Leader, Khamenei has either direct or indirect control over the executive, legislative and judicial branches of government, as well as the military and media, according to Karim Sadjadpour.[18] All candidates for the Assembly of Experts, the Presidency and the Majlis (Parliament) are vetted by the Guardian Council, whose members are selected directly or indirectly by the Supreme Leader of Iran.[33] There have also been instances when the Guardian Council reversed its ban on particular people after being ordered to do so by Khamenei.[34]\n",
        "\n",
        "# There have been major protests during Khamenei's reign, including the 1994 Qazvin protests,[35] the 1999 student protests, the 2009 presidential election protests,[36][37][38] the 2011–2012 protests, the 2017–18 protests, the 2018–19 general strikes and protests, the 2019–20 protests, the 2021–22 protests, and the ongoing Mahsa Amini protests. Journalists, bloggers and other individuals have been put on trial in Iran for the charge of insulting Supreme Leader Khamenei, often in conjunction with blasphemy charges. Their sentences have included lashing and jail time; some of them have died in custody.[39][40] Regarding the nuclear program of Iran, Khamenei issued a fatwa in 2003 forbidding the production, stockpiling and use of all kinds of weapons of mass destruction.\n",
        "# '''\n",
        "\n",
        "# string = '''\n",
        "# The Supreme Leader of Iran also referred to as Supreme Leader of the Islamic Revolution[2], but officially called the Supreme Leadership Authority (مقام معظم رهبری, Maqâm Moazam Rahbari), is the head of state and the highest political and religious authority of the Islamic Republic of Iran (above the president). The armed forces, judiciary, state television, and other key government organisations such as Guardian Council and Expediency Discernment Council are subject to the Supreme Leader.[3][4] According to the constitution, the Supreme Leader delineates the general policies of the Islamic Republic (article 110), supervising the legislature, the judiciary, and the executive branches (article 57).[5] The current lifetime officeholder, Ali Khamenei, has issued decrees and made the final decisions on the economy, the environment, foreign policy, education, national planning, and other aspects of governance in Iran.[6][7][8][9][10][11][12][13] Khamenei also makes the final decisions on the amount of transparency in elections,[14] and has dismissed and reinstated presidential cabinet appointees.[15] The Supreme Leader is legally considered \"inviolable\", with Iranians being routinely punished for questioning or insulting him.[16][17][18][19]\n",
        "\n",
        "# The office was established by the Constitution of Iran in 1979, pursuant to Ayatollah Ruhollah Khomeini's concept of the Guardianship of the Islamic Jurist,[20] and is a lifetime appointment. Originally the constitution required the Supreme Leader to be Marja'-e taqlid, the highest-ranking cleric in the religious laws of Usuli Twelver Shia Islam. In 1989, however, the constitution was amended and simply asked for Islamic \"scholarship\" to allow the Supreme Leader to be a lower-ranking cleric.[21][22] As the Guardian Jurist (Vali-ye faqih), the Supreme Leader, guides the country, protecting it from heresy and imperialist predations, and ensuring the laws of Islam are followed. The style \"Supreme Leader\" (Persian: رهبر معظم, romanized: rahbar-e mo'azzam) is commonly used as a sign of respect although the Constitution designates them simply as \"Leader\" (رهبر, rahbar). According to the constitution (Article 111), the Assembly of Experts is tasked with electing (following Ayatollah Khomeini), supervising, and dismissing the Supreme Leader. In practice, the Assembly has never been known to challenge or otherwise publicly oversee any of the Supreme Leader's decisions[23] (all of its meetings and notes are strictly confidential).[24] Members of the Assembly are chosen by bodies (the Guardian Council) whose members are appointed by the Supreme Leader or appointed by an individual (Chief Justice of Iran) appointed by the Supreme Leader.\n",
        "\n",
        "# In its history, the Islamic Republic of Iran only has had two Supreme Leaders: Khomeini, who held the position from 1979 until his death in 1989 and Ali Khamenei, who has held the position for 30+ years since Khomeini's death.\n",
        "# '''\n",
        "\n",
        "# string = '''\n",
        "# Hong Kong (US: /ˈhɒŋkɒŋ/ or UK: /hɒŋˈkɒŋ/; Chinese: 香港, Cantonese: [hœ́ːŋ.kɔ̌ːŋ] (listen)), officially the Hong Kong Special Administrative Region of the People's Republic of China (abbr. Hong Kong SAR or HKSAR),[d] is a city and special administrative region of China on the eastern Pearl River Delta in South China. With 7.5 million residents of various nationalities[e] in a 1,104-square-kilometre (426 sq mi) territory, Hong Kong is one of the most densely populated places in the world. Hong Kong is also a major global financial centre and one of the most developed cities in the world.\n",
        "\n",
        "# Hong Kong was established as a colony of the British Empire after the Qing Empire ceded Hong Kong Island from Xin'an County at the end of the First Opium War in 1841 then again in 1842. The colony expanded to the Kowloon Peninsula in 1860 after the Second Opium War and was further extended when Britain obtained a 99-year lease of the New Territories in 1898. British Hong Kong was occupied by Imperial Japan from 1941 to 1945 during World War II; British administration resumed after the surrender of Japan. The whole territory was transferred to China in 1997. As one of China's two special administrative regions (the other being Macau), Hong Kong maintains separate governing and economic systems from that of mainland China under the principle of \"one country, two systems\".[f]\n",
        "\n",
        "# Originally a sparsely populated area of farming and fishing villages,[18][19] the territory has become one of the world's most significant financial centres and commercial ports. As of 2021, it is the world's ninth-largest exporter and eight-largest importer. Hong Kong has a market economy characterised by a focus on services, low taxation and free trade; its currency, the Hong Kong dollar, is the eighth most traded currency in the world. Hong Kong is home to the third-highest number of billionaires of any city in the world, the second-highest number of billionaires of any city in Asia, and the largest concentration of ultra high-net-worth individuals of any city in the world. Although the city has one of the highest per capita incomes in the world, severe income inequality exists among the population. Most notably, housing in Hong Kong has been well-documented to experience a chronic persistent shortage; the extremely compact house sizes and the extremely high housing density are the effects of Hong Kong's housing market being the most expensive housing in the world.\n",
        "\n",
        "# Hong Kong is a highly developed territory and has a Human Development Index (HDI) of 0.952, ranking fourth in the world. The city has the largest number of skyscrapers of any city in the world, and its residents have some of the highest life expectancies in the world. The dense space has led to a highly developed transportation network with public transport rates exceeding 90%. Hong Kong is ranked 3rd in the Global Financial Centres Index.\n",
        "# '''\n",
        "\n",
        "# string = '''\n",
        "# The George Washington University (GW or GWU) is a private federally chartered research university in Washington, D.C. Chartered in 1821 by the United States Congress, GW is the largest institution of higher education in Washington, D.C.[7]\n",
        "\n",
        "# George Washington, the first president of the United States, advocated for the establishment of a national university in the U.S. capital in his first State of the Union address in 1790 and continued to promote this idea throughout his career and until his death in 1799.[8][9] In his will, Washington left shares in the Potomac Company to endow the university. However, due to the company's financial difficulties, funds were raised independently by Baptist ministers.[10][11] Among the founding patrons of the university were John Quincy Adams, John C. Calhoun, and James Monroe[12] On February 9, 1821, the university was established by an Act of Congress first as Columbian College and then as Columbian University, making it one of only five universities in the United States with a congressional charter.[8][13]\n",
        "\n",
        "# The university's undergraduate and graduate schools include the Columbian College of Arts and Sciences, the Elliott School of International Affairs, the GW School of Business, the School of Media and Public Affairs, the Trachtenberg School of Public Policy and Public Administration, the GW Law School, and the Corcoran School of the Arts and Design. GW's main campus is located in the Foggy Bottom area of Washington, D.C. The International Monetary Fund and World Bank are located on the campus, and the White House and the U.S. Department of State are located within blocks of it. GW hosts numerous research centers and institutes, including the National Security Archive and the Institute for International Economic Policy. GW has two satellite campuses: the Mount Vernon campus, located in Washington, D.C.'s Foxhall neighborhood, and the Virginia Science and Technology Campus in Loudoun County, Virginia.\n",
        "\n",
        "# GW is classified among \"R1: Doctoral Universities – Very High Research Activity.\"[14] The university offers degree programs in seventy-one disciplines, enrolling around 11,000 undergraduate and 15,500 graduate students.[15] GW is home to extensive student life programs, a strong Greek culture, and over 450 other student organizations. The school's athletic teams, the George Washington Colonials, play in the NCAA Division I Atlantic 10 Conference. GW also annually hosts numerous political events, including the World Bank and International Monetary Fund's Annual Meetings.[16]\n",
        "\n",
        "# The university's alumni, faculty, and affiliates include 16 foreign heads of state or government, 28 United States senators, 27 United States governors, 18 U.S. Cabinet members, five Nobel laureates, two Olympic medalists, two Academy Award winners, and a Golden Globe winner.[17] GW has over 1,100 active alumni in the U.S. Foreign Service and is one of the largest feeder schools for the diplomatic corps.[18]\n",
        "# '''\n",
        "\n",
        "# string = '''\n",
        "# Ruhollah Khomeini also known as Ayatollah Khomeini,[7] was an Iranian political and religious leader who served as the first supreme leader of Iran from 1979 until his death in 1989. He was the founder of the Islamic Republic of Iran and the leader of the 1979 Iranian Revolution, which saw the overthrow of Shah Mohammad Reza Pahlavi and the end of the Persian monarchy. Following the revolution, Khomeini became the country's first supreme leader, a position created in the constitution of the Islamic Republic as the highest-ranking political and religious authority of the nation, which he held until his death. Most of his period in power was taken up by the Iran–Iraq War of 1980–1988. He was succeeded by Ali Khamenei on 4 June 1989.\n",
        "# Khomeini was born in Khomeyn, in what is now Iran's Markazi province. His father was murdered in 1903 when Khomeini was two years old.[8] He began studying the Quran and Arabic from a young age and was assisted in his religious studies by his relatives, including his mother's cousin and older brother.\n",
        "# Khomeini was a high ranking cleric in Twelver Shi'ism, an ayatollah,[9] a marja' (\"source of emulation\"), a Mujtahid or faqīh (an expert in Sharia), and author of more than 40 books. He spent more than 15 years in exile for his opposition to the last shah. In 1970, in his writing and preaching, he began expanding on the theory of Velâyat-e Faqih, the \"Guardianship of the Islamic Jurist (clerical authority)\", to include theocratic political rule by Islamic jurists. This principle, though not known to the wider public before the revolution,[10][11] was appended to the new Iranian constitution[12] after the revolution.[13] [note 1] He was Time magazine's Man of the Year in 1979 for his international influence,[15] and Khomeini has been described as the \"virtual face of Shia Islam in Western popular culture\",[16] [note 2] were he was known for his support of the hostage takers during the Iran hostage crisis,[18] his fatwa calling for the murder of British Indian novelist Salman Rushdie,[15][19] and for referring to the United States as the \"Great Satan\" and the Soviet Union as the \"Lesser Satan\".[20] Khomeini has been criticized for these acts and for human rights violations of Iranians (including his ordering of attacks against demonstrators,[21] execution of thousands of political prisoners, war criminals and prisoners of the Iran–Iraq War).[22][23][24][25][26]\n",
        "# '''\n",
        "\n",
        "# string = '''\n",
        "# The Constitutional Convention[1] took place in Philadelphia from May 25 to September 17, 1787. Although the convention was intended to revise the league of states and first system of government under the Articles of Confederation,[2] the intention from the outset of many of its proponents, chief among them James Madison of Virginia and Alexander Hamilton of New York, was to create a new Frame of Government rather than fix the existing one. The delegates elected George Washington of Virginia, former commanding general of the Continental Army in the late American Revolutionary War (1775–1783) and proponent of a stronger national government, to become President of the convention. The result of the convention was the creation of the Constitution of the United States, placing the Convention among the most significant events in American history.\n",
        "\n",
        "# The convention took place in the old Pennsylvania State House (now known as Independence Hall) in Philadelphia. At the time, the convention was not referred to as a constitutional convention. It was contemporarily known as the Federal Convention,[1] the Philadelphia Convention,[1] or the Grand Convention at Philadelphia.[3][4] Nor did most of the delegates arrive intending to draft a new constitution. Many assumed that the purpose of the convention was to discuss and draft improvements to the existing Articles of Confederation, and would not have agreed to participate otherwise. Once the convention began, however, most of the delegates – though not all – came to agree in general terms that the goal would be a new system of government, not simply a revised version of the Articles of Confederation.\n",
        "\n",
        "# Several broad outlines were proposed and debated, most notably Madison's Virginia Plan and William Paterson's New Jersey Plan. The Virginia Plan was selected as the basis for the new government, and the delegates quickly reached consensus on a general blueprint of a federal government with three branches (legislative, executive, and judicial) along with the basic role of each branch. However, disagreement over the specific design and powers of the branches delayed progress for weeks and threatened the success of the convention. The most contentious disputes involved the legislature, specifically the composition and election procedures for the Senate as the upper legislative house of a bicameral Congress, and whether proportional representation was to be defined by a state's geography or by its population. The role of the executive was also hotly debated, including the key issues of whether to divide the executive power among three people or vest the power in a single chief executive to be called the President; how a president would be elected; the length of a presidential term and the number of allowable terms; what offenses should be impeachable; and whether judges should be chosen by the legislature or the executive. Finally, slavery was also a contentious issue, with the delegates debating the insertion of a fugitive slave clause; whether to allow the abolition of the slave trade; and whether slaves were to be counted in proportional representation. Most of the time during the convention was spent on deciding these issues.\n",
        "\n",
        "# Progress was slow until mid-July, when the Connecticut Compromise resolved enough lingering arguments for a draft written by the Committee of Detail to gain acceptance. Though more modifications and compromises were made over the following weeks, most of this draft can be found in the finished version of the Constitution. After several more issues were debated and resolved, the Committee of Style produced the final version in early September. It was voted on by the delegates, inscribed on parchment with engraving for printing, and signed by 39 of 55 delegates on September 17, 1787. The completed proposed Constitution was printed in several copies for review which began the debates and ratification process. Soon after it was also printed in newspapers for public review.\n",
        "# '''\n",
        "\n",
        "# string = '''\n",
        "# James Madison Jr. (March 16, 1751[b] – June 28, 1836) was an American statesman, diplomat, and Founding Father. He served as the fourth president of the United States from 1809 to 1817. Madison is hailed as the \"Father of the Constitution\" for his pivotal role in drafting and promoting the Constitution of the United States and the Bill of Rights.\n",
        "\n",
        "# Madison was born into a prominent slave-owning planter family in Virginia. He served as a member of the Virginia House of Delegates and the Continental Congress during and after the American Revolutionary War. Unsatisfied with the weak national government established by the Articles of Confederation, he helped organize the Constitutional Convention, which produced a new constitution designed to strengthen republican government against democratic assembly. Madison's Virginia Plan was the basis for the Convention's deliberations, and he was an influential voice at the convention. He became one of the leaders in the movement to ratify the Constitution, and joined Alexander Hamilton and John Jay in writing The Federalist Papers, a series of pro-ratification essays which remains prominent among works of political science in American history. Madison emerged as an important leader in the House of Representatives and was a close adviser to President George Washington.\n",
        "\n",
        "# During the early 1790s, Madison opposed the economic program and the accompanying centralization of power favored by Secretary of the Treasury Hamilton. Alongside Thomas Jefferson, he organized the Democratic–Republican Party in opposition to Hamilton's Federalist Party. After Jefferson was elected president in 1800, Madison served as his Secretary of State from 1801 to 1809 and supported Jefferson in the case of Marbury v. Madison. While Madison was Secretary of State, Jefferson made the Louisiana Purchase, and later, as President, Madison oversaw related disputes in the Northwest territories.\n",
        "\n",
        "# Madison was elected president in 1808. Motivated by the desire for acquiring land held by Britain, Spain, and Native Americans, and after diplomatic protests with a trade embargo failed to end British seizures of American shipped goods, he led the United States into the War of 1812. Although the war ended inconclusively, many Americans viewed the war's outcome was a successful \"second war of independence\" against Britain. Madison was re-elected in 1812, albeit by a smaller margin. The war convinced Madison of the necessity of a stronger federal government. He presided over the creation of the Second Bank of the United States and the enactment of the protective Tariff of 1816. By treaty or through war, Native American tribes ceded 26,000,000 acres (11,000,000 ha) of land to the United States under Madison's presidency.\n",
        "\n",
        "# Retiring from public office at the end of his presidency in 1817, Madison returned to his plantation, Montpelier, and died there in 1836. During his lifetime, Madison was a slave owner. In 1783, at the height of Revolutionary politics, Madison freed one of his slaves. However, Madison did not free any slaves in his will. Among historians and in polls of leading historians, Madison is considered one of the most important Founding Fathers of the United States, and these historians have generally ranked him as an above-average president, although they are critical of his endorsement of slavery and his leadership during the War of 1812. Madison's name is commemorated in many landmarks across the nation, both publicly and privately, with prominent examples including Madison Square Garden, James Madison University, and the USS James Madison.\n",
        "# '''\n",
        "\n",
        "# string = '''\n",
        "# Lionel Andrés Messi, also known as Leo Messi, is an Argentine professional footballer who plays as a forward for Ligue 1 club Paris Saint-Germain and captains the Argentina national team. Widely regarded as one of the greatest players of all time, Messi has won a record seven Ballon d'Or awards[note 2] and a record six European Golden Shoes, and in 2020 he was named to the Ballon d'Or Dream Team. Until leaving the club in 2021, he had spent his entire professional career with Barcelona, where he won a club-record 34 trophies, including 10 La Liga titles, seven Copa del Rey titles and four UEFA Champions Leagues. With his country, he won the 2021 Copa América, the 2022 Finalissima, and the 2022 FIFA World Cup. A prolific goalscorer and creative playmaker, Messi holds the records for most goals in La Liga (474), most hat-tricks in La Liga (36) and the UEFA Champions League (eight), and most assists in La Liga (192) and the Copa América (17). He also has the most international goals by a South American male (102). Messi has scored over 800 senior career goals for club and country, and has the most goals by a player for a single club (672).\n",
        "\n",
        "# Messi relocated to Spain from Argentina aged 13 to join Barcelona, for whom he made his competitive debut aged 17 in October 2004. He established himself as an integral player for the club within the next three years, and in his first uninterrupted season in 2008–09 he helped Barcelona achieve the first treble in Spanish football; that year, aged 22, Messi won his first Ballon d'Or. Three successful seasons followed, with Messi winning four consecutive Ballons d'Or, making him the first player to win the award four times. During the 2011–12 season, he set the La Liga and European records for most goals scored in a single season, while establishing himself as Barcelona's all-time top scorer. The following two seasons, Messi finished second for the Ballon d'Or behind Cristiano Ronaldo (his perceived career rival), before regaining his best form during the 2014–15 campaign, becoming the all-time top scorer in La Liga and leading Barcelona to a historic second treble, after which he was awarded a fifth Ballon d'Or in 2015. Messi assumed captaincy of Barcelona in 2018, and won a record sixth Ballon d'Or in 2019. Out of contract, he signed for Paris Saint-Germain in August 2021.\n",
        "\n",
        "# An Argentine international, Messi is the country's all-time leading goalscorer and also holds the national record for appearances. At youth level, he won the 2005 FIFA World Youth Championship, finishing the tournament with both the Golden Ball and Golden Shoe, and an Olympic gold medal at the 2008 Summer Olympics. His style of play as a diminutive, left-footed dribbler drew comparisons with his compatriot Diego Maradona, who described Messi as his successor. After his senior debut in August 2005, Messi became the youngest Argentine to play and score in a FIFA World Cup (2006), and reached the final of the 2007 Copa América, where he was named young player of the tournament. As the squad's captain from August 2011, he led Argentina to three consecutive finals: the 2014 FIFA World Cup, for which he won the Golden Ball, the 2015 Copa América, winning the Golden Ball, and the 2016 Copa América. After announcing his international retirement in 2016, he reversed his decision and led his country to qualification for the 2018 FIFA World Cup, a third-place finish at the 2019 Copa América, and victory in the 2021 Copa América, while winning the Golden Ball and Golden Boot for the latter. For this achievement, Messi received a record seventh Ballon d'Or in 2021. In 2022, he led Argentina to win the 2022 FIFA World Cup, where he won a record second Golden Ball, became the first player to score in every stage of a World Cup (including two in the final), and broke the record for most appearances in World Cup tournaments with 26 matches played.\n",
        "\n",
        "# Messi has endorsed sportswear company Adidas since 2006. According to France Football, he was the world's highest-paid footballer for five years out of six between 2009 and 2014, and was ranked the world's highest-paid athlete by Forbes in 2019 and 2022. Messi was among Time's 100 most influential people in the world in 2011 and 2012. In February 2020, he was awarded the Laureus World Sportsman of the Year, thus becoming the first footballer and the first team-sport athlete to win the award. Later that year, Messi became the second footballer and second team-sport athlete to surpass $1 billion in career earnings.\n",
        "# '''\n",
        "\n",
        "\n",
        "# string = '''\n",
        "# Thomas Jefferson (April 13, 1743[a] – July 4, 1826) was an American statesman, diplomat, lawyer, architect, philosopher, and Founding Father who served as the third president of the United States from 1801 to 1809.[13] Among the Committee of Five charged by the Second Continental Congress with authoring the Declaration of Independence, Jefferson was the primary author. Following the American Revolutionary War and prior to becoming president in 1801, Jefferson was the first United States secretary of state under George Washington and then the nation's second vice president under John Adams.\n",
        "\n",
        "# Jefferson's writings and advocacy for human rights, including freedom of thought, speech, and religion, were a leading inspiration behind the American Revolution, which ultimately led to American independence and the United States Constitution.[14] He was a leading proponent of democracy, republicanism, and individual rights, and produced formative documents and decisions at the state, national, and international levels.\n",
        "\n",
        "# During the American Revolution, Jefferson represented Virginia in the Second Continental Congress in Philadelphia, which adopted the Declaration of Independence on July 4, 1776, and served as the second Governor of Virginia from 1779 to 1781. In 1785, Jefferson was appointed the United States Minister to France and subsequently the nation's first secretary of state under George Washington from 1790 to 1793. Jefferson and James Madison organized the Democratic-Republican Party to oppose the Federalist Party during the formation of the First Party System. With Madison, he anonymously wrote the Kentucky and Virginia Resolutions in 1798 and 1799, which sought to strengthen states' rights by nullifying the federal Alien and Sedition Acts.\n",
        "\n",
        "# Jefferson and Federalist John Adams became friends as well as political rivals, serving in the Continental Congress and drafting the Declaration of Independence together. In the 1796 presidential election between the two, Jefferson came in second, which according to electoral procedure at the time, made him Adams' vice president. Jefferson challenged Adams again in 1800 and won the presidency. After his term in office, Jefferson eventually reconciled with Adams and they shared a correspondence that lasted 14 years. He and Adams both died on the same day, July 4, 1826, the 50th anniversary of Declaration of Independence.\n",
        "\n",
        "# As president, Jefferson pursued the nation's shipping and trade interests against Barbary pirates and aggressive British trade policies. Beginning in 1803, he promoted a western expansionist policy with the Louisiana Purchase, which doubled the nation's claimed land area. To make room for settlement, Jefferson began the process of Indian tribal removal from the newly acquired territory. As a result of peace negotiations with France, his administration reduced military forces. He was re-elected in 1804, with his second term beset by difficulties at home, including the trial of former vice president Aaron Burr. In 1807, American foreign trade was diminished when Jefferson implemented the Embargo Act in response to British threats to U.S. shipping. The same year, Jefferson signed the Act Prohibiting Importation of Slaves.\n",
        "\n",
        "# Jefferson was a slave and plantation owner. Since the 1790s, he was rumored to have had children by his sister-in-law and slave Sally Hemings. According to scholarly consensus, Jefferson probably fathered at least six children with Hemings, including four that survived to adulthood.[15][16][17] After retiring from public office, Jefferson founded the University of Virginia. Presidential scholars and historians generally praise Jefferson's public achievements, including his advocacy of religious freedom and tolerance, his peaceful acquisition of the Louisiana Territory from France, and the successful Lewis and Clark Expedition. Jefferson is consistently ranked among the top ten presidents in American history.\n",
        "# '''\n",
        "\n",
        "string = '''\n",
        "Donald John Trump (born June 14, 1946) is an American politician, media personality, and businessman who served as the 45th president of the United States from 2017 to 2021.\n",
        "\n",
        "Trump graduated from the Wharton School of the University of Pennsylvania with a bachelor's degree in 1968. He became president of his father's real estate business in 1971 and renamed it The Trump Organization. He expanded the company's operations to building and renovating skyscrapers, hotels, casinos, and golf courses and later started side ventures, mostly by licensing his name. From 2004 to 2015, he co-produced and hosted the reality television series The Apprentice. Trump and his businesses have been involved in more than 4,000 state and federal legal actions, including six bankruptcies.\n",
        "\n",
        "Trump's political positions have been described as populist, protectionist, isolationist, and nationalist. He won the 2016 United States presidential election as the Republican nominee against Democratic nominee Hillary Clinton despite losing the national popular vote.[a] He became the first U.S. president with no prior military or government service. His election and policies sparked numerous protests. The 2017–2019 special counsel investigation established that Russia interfered in the 2016 election to favor the election of Trump. Trump promoted conspiracy theories and made many false and misleading statements during his campaigns and presidency, to a degree unprecedented in American politics. Many of his comments and actions have been characterized as racially charged or racist, and many as misogynistic.\n",
        "'''\n",
        "\n",
        "\n",
        "string = re.sub('\\[\\d*\\]','', string)\n",
        "string = re.sub('\\[\\w*\\]','', string)\n",
        "string = re.sub('\\[note \\d+\\]','', string)\n",
        "\n",
        "sents = sent_tokenize(string)\n",
        "C = CR_predictor.predict(string)\n",
        "\n",
        "for cluster in C['clusters']:\n",
        "  find_cluster(cluster, C['document'])\n",
        "  print('--------------------------------')\n",
        "\n",
        "clusters = C['clusters']\n",
        "doc = C['document']\n",
        "\n",
        "sents_bounds = find_sents_bounds(string)\n",
        "\n",
        "sents_semantic_roles = []\n",
        "for sent in sents:\n",
        "  semantic_roles = SRL_predictor.predict(sent)\n",
        "  sents_semantic_roles.append(semantic_roles)\n",
        "\n",
        "\n",
        "sent_mappings = list()\n",
        "for sent_idx, sent in enumerate(sents):\n",
        "  sent_mapping = dict()\n",
        "  for word_idx, word in enumerate(sents_semantic_roles[sent_idx]['words']):\n",
        "    if word != '.':\n",
        "      word_start = find_in_sent(sents_semantic_roles[sent_idx]['words'], word_idx, sent, 'start')\n",
        "      sent_mapping[word_idx] = [word_start, word_start + len(word)]\n",
        "  sent_mappings.append(sent_mapping)\n",
        "\n",
        "chars_spans = []\n",
        "pronoun = None\n",
        "\n",
        "for spans in clusters:\n",
        "  chars_span = list()\n",
        "  for span in spans:\n",
        "    start_char = find(doc, span[0], mode='start')\n",
        "    end_char = find(doc, span[1], mode='end')\n",
        "    sent_idx = find_sent([start_char, end_char])\n",
        "    coref = string[start_char: end_char]\n",
        "    pronoun = find_pronoun(coref) if pronoun == None else pronoun\n",
        "    start_char_in_sent = start_char - sents_bounds[sent_idx][0]\n",
        "    end_char_in_sent = end_char - sents_bounds[sent_idx][0]\n",
        "\n",
        "    start_word_idx_in_sent = find_corresponding_word([start_char_in_sent, end_char_in_sent], sent_mappings[sent_idx], 'start')\n",
        "    end_word_idx_in_sent = find_corresponding_word([start_char_in_sent, end_char_in_sent], sent_mappings[sent_idx], 'end')\n",
        "\n",
        "    if not_possessive(coref):\n",
        "      chars_span.append([coref, sent_idx, start_word_idx_in_sent, end_word_idx_in_sent])\n",
        "  chars_spans.append(chars_span)\n",
        "\n",
        "cluster_names = []\n",
        "for cluster in chars_spans:\n",
        "  cluster_names.append([coref[0] for coref in cluster])\n",
        "\n",
        "cluster_2_sent = dict()\n",
        "for cluster_idx, cluster in enumerate(chars_spans):\n",
        "  cluster_2_sent[cluster_idx] = set()\n",
        "  for coref in cluster:\n",
        "    cluster_2_sent[cluster_idx].add(coref[1])\n",
        "  cluster_2_sent[cluster_idx] = list(cluster_2_sent[cluster_idx])\n",
        "\n",
        "# constructing graph\n",
        "nodes = list()\n",
        "for sent_idx in range(len(sents)):\n",
        "  clusters_2_put = list()\n",
        "  for cluster_idx, cluster in enumerate(chars_spans):\n",
        "\n",
        "    if sent_idx in cluster_2_sent[cluster_idx]:\n",
        "      clusters_2_put.append(cluster_idx)\n",
        "  nodes.append(Node(sent_idx, clusters_2_put))\n",
        "\n",
        "for node_1_idx, node_1 in enumerate(nodes):\n",
        "  for node_2_idx, node_2 in enumerate(nodes):\n",
        "    if node_1_idx != node_2_idx:\n",
        "      intersects = list(set(node_1.coref_clusters) & set(node_2.coref_clusters))\n",
        "\n",
        "for node_1_idx, node_1 in enumerate(nodes):\n",
        "  for node_2_idx, node_2 in enumerate(nodes):\n",
        "    if node_1_idx != node_2_idx:\n",
        "      intersects = list(set(node_1.coref_clusters) & set(node_2.coref_clusters))\n",
        "      if intersects != []:\n",
        "        for intersect in intersects:\n",
        "          node_1.set_edge(node_2_idx, intersect)\n",
        "  node_1.make_cluster_2_sent()"
      ]
    },
    {
      "cell_type": "code",
      "execution_count": 34,
      "metadata": {
        "id": "WK7D4VElxrgh",
        "colab": {
          "base_uri": "https://localhost:8080/",
          "height": 0
        },
        "outputId": "16ac3b09-fdbf-43e9-c7f2-210d500e22d0"
      },
      "outputs": [
        {
          "output_type": "execute_result",
          "data": {
            "text/plain": [
              "'the'"
            ],
            "application/vnd.google.colaboratory.intrinsic+json": {
              "type": "string"
            }
          },
          "metadata": {},
          "execution_count": 34
        }
      ],
      "source": [
        "doc[span[0]]"
      ]
    },
    {
      "cell_type": "code",
      "execution_count": 35,
      "metadata": {
        "id": "tD92sjnFt8CK",
        "colab": {
          "base_uri": "https://localhost:8080/"
        },
        "outputId": "b450b769-a202-4477-b51f-6f7c0adfffc3"
      },
      "outputs": [
        {
          "output_type": "execute_result",
          "data": {
            "text/plain": [
              "[0]"
            ]
          },
          "metadata": {},
          "execution_count": 35
        }
      ],
      "source": [
        "nodes[1].get_clusters()"
      ]
    },
    {
      "cell_type": "code",
      "execution_count": 36,
      "metadata": {
        "id": "7KQ2tRjUtDx3",
        "colab": {
          "base_uri": "https://localhost:8080/"
        },
        "outputId": "ccd01a86-553a-4273-ab46-0ff6d2926404"
      },
      "outputs": [
        {
          "output_type": "execute_result",
          "data": {
            "text/plain": [
              "[[0, 0], [2, 0], [3, 0], [4, 0], [5, 0], [7, 0], [8, 0], [10, 0], [11, 0]]"
            ]
          },
          "metadata": {},
          "execution_count": 36
        }
      ],
      "source": [
        "nodes[1].edges"
      ]
    },
    {
      "cell_type": "code",
      "execution_count": 37,
      "metadata": {
        "id": "BRjHhFPMuUCk"
      },
      "outputs": [],
      "source": [
        "import networkx as nx\n",
        "G = nx.Graph()"
      ]
    },
    {
      "cell_type": "code",
      "execution_count": 38,
      "metadata": {
        "id": "bwMETdgfuUFJ"
      },
      "outputs": [],
      "source": [
        "for node_idx, node in enumerate(nodes):\n",
        "  G.add_node(node_idx)\n",
        "\n",
        "for node_idx, node in enumerate(nodes):\n",
        "  for edge in node.edges:\n",
        "    G.add_edge(node_idx, edge[0])"
      ]
    },
    {
      "cell_type": "code",
      "execution_count": 39,
      "metadata": {
        "id": "33sfR963vqcq",
        "colab": {
          "base_uri": "https://localhost:8080/",
          "height": 0
        },
        "outputId": "1e1bf51d-580c-4374-c9ac-ddbdd965047c"
      },
      "outputs": [
        {
          "output_type": "display_data",
          "data": {
            "text/plain": [
              "<Figure size 640x480 with 1 Axes>"
            ],
            "image/png": "[encoded data removed]"
          },
          "metadata": {}
        }
      ],
      "source": [
        "import matplotlib.pyplot as plt\n",
        "\n",
        "nx.draw(G, with_labels = True)"
      ]
    },
    {
      "cell_type": "code",
      "execution_count": 39,
      "metadata": {
        "id": "PmUbpodJuUHy"
      },
      "outputs": [],
      "source": []
    },
    {
      "cell_type": "code",
      "execution_count": 39,
      "metadata": {
        "id": "PsjtUpQFuUK5"
      },
      "outputs": [],
      "source": []
    },
    {
      "cell_type": "code",
      "execution_count": 39,
      "metadata": {
        "id": "Bn3hcGi2tM2D"
      },
      "outputs": [],
      "source": []
    },
    {
      "cell_type": "code",
      "execution_count": 39,
      "metadata": {
        "id": "iFl-JWx0tM4i"
      },
      "outputs": [],
      "source": []
    },
    {
      "cell_type": "code",
      "execution_count": 39,
      "metadata": {
        "id": "RSGv9XwAtM7k"
      },
      "outputs": [],
      "source": []
    },
    {
      "cell_type": "code",
      "execution_count": 40,
      "metadata": {
        "id": "uXpvpGMLI44k"
      },
      "outputs": [],
      "source": [
        "def find_verbs(pos_tags):\n",
        "  verbs = list()\n",
        "  for pos_tag in pos_tags:\n",
        "    if pos_tag[1].startswith('V'):\n",
        "      verbs.append(pos_tag)\n",
        "  return verbs"
      ]
    },
    {
      "cell_type": "code",
      "execution_count": 41,
      "metadata": {
        "id": "k0Cb0eV_J59L"
      },
      "outputs": [],
      "source": [
        "def del_relatives(sent):\n",
        "  words = sent.split()\n",
        "  pos_tags = nltk.pos_tag(words)\n",
        "  for tag_idx, pos_tag in enumerate(pos_tags):\n",
        "    if pos_tag[1] == 'WRB' or pos_tag[1] == 'WDT' or pos_tag[1] == 'WP':\n",
        "      return ' '.join(words[:tag_idx])\n",
        "    # elif pos_tag[1] == 'DT' and tag_idx >= 2:\n",
        "    #   return ' '.join(words[:tag_idx])\n",
        "  return sent"
      ]
    },
    {
      "cell_type": "code",
      "execution_count": 42,
      "metadata": {
        "id": "2wEi4RFhT3aO"
      },
      "outputs": [],
      "source": [
        "def clean_question(sent):\n",
        "  words = sent.split()\n",
        "  pos_tags = nltk.pos_tag(words)\n",
        "  sent = re.sub('\\(\\s*\\w*\\s*\\)', '', sent)\n",
        "  # for tag_idx, pos_tag in enumerate(pos_tags):\n",
        "  #   # if pos_tag[1] == 'DT' and tag_idx >= 2:\n",
        "  #   #   return ' '.join(words[:tag_idx + 1])\n",
        "  #   if pos_tag[0] == '(':\n",
        "  #     return ' '.join(words[:tag_idx])\n",
        "  return sent"
      ]
    },
    {
      "cell_type": "code",
      "execution_count": 43,
      "metadata": {
        "id": "iZk6UdnTCapq"
      },
      "outputs": [],
      "source": [
        "def filter_answer(answer):\n",
        "  try:\n",
        "    pos_tags = nltk.pos_tag(answer.split())\n",
        "    if pos_tags[0][1] == 'IN':\n",
        "      new_answer = ' '.join(answer.split()[1: ])\n",
        "    else:\n",
        "      new_answer = answer\n",
        "  except:\n",
        "    return answer\n",
        "\n",
        "  return new_answer"
      ]
    },
    {
      "cell_type": "code",
      "execution_count": 44,
      "metadata": {
        "id": "TVr4W-i3EMyr"
      },
      "outputs": [],
      "source": [
        "def clean_text(text):\n",
        "  text = text.strip()\n",
        "  while(True):\n",
        "    if text.startswith(',') or text.startswith(';') or text.startswith(':'):\n",
        "      text = text[1: ]\n",
        "    else:\n",
        "      break\n",
        "\n",
        "  while(True):\n",
        "    if text.endswith(',') or text.endswith(';') or text.endswith(':'):\n",
        "      text = text[ :-1]\n",
        "    else:\n",
        "      break\n",
        "  return text.strip()"
      ]
    },
    {
      "cell_type": "code",
      "execution_count": 45,
      "metadata": {
        "id": "3DSDiid9mL1k"
      },
      "outputs": [],
      "source": [
        "from pattern.en import conjugate, lemma, lexeme, PRESENT, SG, PAST"
      ]
    },
    {
      "cell_type": "code",
      "execution_count": 46,
      "metadata": {
        "id": "eDMl5OW3bHFR"
      },
      "outputs": [],
      "source": [
        "def extra_check_person(x, q_wh):\n",
        "  if x.lower().strip() in ['i', 'she', 'he', 'you', 'we', 'they', 'me', 'him', 'her', 'us']:\n",
        "    return 'who'\n",
        "  else:\n",
        "    return q_wh"
      ]
    },
    {
      "cell_type": "code",
      "execution_count": 47,
      "metadata": {
        "id": "nUeJK8ZOb8kz"
      },
      "outputs": [],
      "source": [
        "def convert_to_object(pronoun):\n",
        "  pronouns_mapping = {\n",
        "      'i': 'me',\n",
        "      'you': 'you',\n",
        "      'he': 'him',\n",
        "      'she': 'her',\n",
        "      'we': 'us',\n",
        "      'it': 'it',\n",
        "      'they': 'them'\n",
        "  }\n",
        "\n",
        "  if pronoun.lower() in pronouns_mapping.keys():\n",
        "    return pronouns_mapping[pronoun.lower()]\n",
        "  else:\n",
        "    return pronoun"
      ]
    },
    {
      "cell_type": "code",
      "execution_count": 48,
      "metadata": {
        "id": "h3e2ZTFmKXgu"
      },
      "outputs": [],
      "source": [
        "import inflect\n",
        "inflect = inflect.engine()"
      ]
    },
    {
      "cell_type": "code",
      "execution_count": 49,
      "metadata": {
        "id": "LPitb9uYvBlO"
      },
      "outputs": [],
      "source": [
        "def find_main_verb_pos(verb_idx):\n",
        "\n",
        "  def find_in_doc(doc, word_text):\n",
        "    for word_idx, word in enumerate(doc):\n",
        "      if word_text == word[0]:\n",
        "        return word[1]\n",
        "\n",
        "  if doc[verb_idx].text == doc[verb_idx].head.text:\n",
        "    return pos_tags[verb_idx]\n",
        "  else:\n",
        "    return find_in_doc(pos_tags, doc[verb_idx].head.text)"
      ]
    },
    {
      "cell_type": "code",
      "execution_count": 50,
      "metadata": {
        "id": "jS8uWDDsxDkO"
      },
      "outputs": [],
      "source": [
        "import spacy\n",
        "from spacy import displacy\n",
        "\n",
        "# Load the language model\n",
        "nlp = spacy.load(\"en_core_web_sm\")"
      ]
    },
    {
      "cell_type": "code",
      "execution_count": 51,
      "metadata": {
        "id": "h2K8Vpdj5xSi"
      },
      "outputs": [],
      "source": [
        "def has_aux(sent, verb_idx):\n",
        "  pos_tags = nltk.pos_tag(word_tokenize(sent))\n",
        "  doc_ = nlp(sent)\n",
        "\n",
        "  for child in doc_[verb_idx].children:\n",
        "    if 'aux' in child.dep_:\n",
        "      return child.i\n",
        "    elif 'advcl' in child.dep_:\n",
        "      for child_ in child.children:\n",
        "        if 'aux' in child_.dep_:\n",
        "          return child_.i\n",
        "\n",
        "  head = doc_[verb_idx].head\n",
        "  if 'advcl' == head.dep_:\n",
        "    for child in head.children:\n",
        "      if 'aux' in child.dep_:\n",
        "        return child.i"
      ]
    },
    {
      "cell_type": "code",
      "execution_count": 52,
      "metadata": {
        "id": "g_u4DUVlvVJT"
      },
      "outputs": [],
      "source": [
        "def get_main_verb_idx(verb_idx, sent):\n",
        "\n",
        "  def find_in_doc(doc, word_text):\n",
        "    for word_idx, word in enumerate(doc):\n",
        "      if word_text == word[0] and (doc_[word_idx].pos_ == 'VERB' or doc_[word_idx].pos_ == 'AUX'):\n",
        "        return word_idx\n",
        "\n",
        "\n",
        "  doc_ = nlp(sent)\n",
        "  aux_idx = has_aux(sent, verb_idx)\n",
        "  if aux_idx:\n",
        "    return aux_idx\n",
        "\n",
        "\n",
        "  if doc_[verb_idx].text == doc_[verb_idx].head.text:\n",
        "    return verb_idx\n",
        "  else:\n",
        "    A = find_in_doc(pos_tags, doc_[verb_idx].head.text)\n",
        "    if A:\n",
        "      return A\n",
        "    else:\n",
        "      return verb_idx"
      ]
    },
    {
      "cell_type": "code",
      "execution_count": 53,
      "metadata": {
        "id": "4wy1q7ej57jc"
      },
      "outputs": [],
      "source": [
        "def get_non_trivial_coref_(cluster_idx):\n",
        "  cluster_ = chars_spans[cluster_idx]\n",
        "  corefs = [coref[0] for coref in cluster_]\n",
        "  non_trivial_corefs = []\n",
        "  main_pronouns = ['i', 'you', 'he', 'she', 'it', 'we', 'they', 'its', 'itself', 'himself', 'herself', 'myself', 'yourself', 'themselves']\n",
        "  for coref in corefs:\n",
        "    if coref.lower() not in main_pronouns:\n",
        "      peinr(coref)\n",
        "      non_trivial_corefs.append(coref)\n",
        "  if len(non_trivial_corefs) > 0:\n",
        "    return sample(non_trivial_corefs)\n",
        "  else:\n",
        "    return ''"
      ]
    },
    {
      "cell_type": "code",
      "execution_count": 54,
      "metadata": {
        "id": "CbVJrbuM3tWx"
      },
      "outputs": [],
      "source": [
        "def get_non_trivial_coref(corefs):\n",
        "  non_trivial_corefs = []\n",
        "  main_pronouns = ['i', 'you', 'he', 'she', 'it', 'we', 'they', 'its', 'itself', 'himself', 'herself', 'myself', 'yourself', 'themselves']\n",
        "  for coref in corefs:\n",
        "    if coref.lower() not in main_pronouns:\n",
        "      non_trivial_corefs.append(coref)\n",
        "  if len(non_trivial_corefs) > 0:\n",
        "    return sample(non_trivial_corefs)\n",
        "  else:\n",
        "    return ''\n",
        "\n",
        "\n",
        "def get_trivial_coref(corefs):\n",
        "  main_pronouns = ['i', 'you', 'he', 'she', 'it', 'we', 'they', 'its']\n",
        "  for coref in corefs:\n",
        "    if coref.lower() in main_pronouns:\n",
        "      return coref\n",
        "  return ''"
      ]
    },
    {
      "cell_type": "code",
      "execution_count": 55,
      "metadata": {
        "id": "wQo_KAnV5rbG"
      },
      "outputs": [],
      "source": [
        "def simple_pronoun(ent):\n",
        "  pronouns = ['i', 'you', 'it', 'he', 'she', 'we', 'they', 'me', 'him', 'her', 'our', 'them']\n",
        "  if ent.lower().strip() in pronouns:\n",
        "    return True\n",
        "  else:\n",
        "    return False"
      ]
    },
    {
      "cell_type": "code",
      "execution_count": 56,
      "metadata": {
        "id": "KdzfeCTDwyb5"
      },
      "outputs": [],
      "source": [
        "def make_agent_in_the_right_form(agent):\n",
        "  transforms = {\n",
        "      'him': 'he',\n",
        "      'her': 'she',\n",
        "      'them': 'they',\n",
        "      'me': 'i',\n",
        "      'us': 'we'\n",
        "  }\n",
        "  agent = agent.strip()\n",
        "  agent_tokens = agent.split(' ')\n",
        "  try:\n",
        "    if agent_tokens[0] in ['by', 'with']:\n",
        "      agent = ' '.join(agent_tokens[1: ])\n",
        "  except:\n",
        "    pass\n",
        "\n",
        "  if agent.lower() in transforms.keys():\n",
        "    return transforms[agent.lower()]\n",
        "  else:\n",
        "    return agent"
      ]
    },
    {
      "cell_type": "code",
      "execution_count": 57,
      "metadata": {
        "id": "6hSnNaG1vY2h"
      },
      "outputs": [],
      "source": [
        "def filter_aps(word):\n",
        "  banned_words = ['when', 'where', 'what', 'who', 'from', 'to']\n",
        "  if word.lower() in banned_words:\n",
        "    return True\n",
        "  else:\n",
        "    return False"
      ]
    },
    {
      "cell_type": "code",
      "execution_count": 58,
      "metadata": {
        "id": "bn65bpnyGydi"
      },
      "outputs": [],
      "source": [
        "def has_aux(sent, verb_idx):\n",
        "  pos_tags = nltk.pos_tag(word_tokenize(sent))\n",
        "  doc_ = nlp(sent)\n",
        "  for child in doc_[verb_idx].children:\n",
        "    if 'aux' in child.dep_:\n",
        "      return child.i\n",
        "    elif 'advcl' in child.dep_:\n",
        "      for child_ in child.children:\n",
        "        if 'aux' in child_.dep_:\n",
        "          return child_.i\n",
        "  head = doc_[verb_idx].head\n",
        "  if 'advcl' == doc_[verb_idx].dep_:\n",
        "    for child in head.children:\n",
        "      if 'aux' in child.dep_:\n",
        "        return child.i\n",
        "\n",
        "  if head.pos_ == 'AUX':\n",
        "    return head.text\n",
        "\n",
        "  last_try = find_remained(sent)\n",
        "  if last_try is not None:\n",
        "    return last_try[0]"
      ]
    },
    {
      "cell_type": "code",
      "execution_count": 59,
      "metadata": {
        "id": "hb4IphxtKDvv"
      },
      "outputs": [],
      "source": [
        "def get_aux(sent, verb_idx):\n",
        "  pos_tags = nltk.pos_tag(word_tokenize(sent))\n",
        "  doc_ = nlp(sent)\n",
        "  for child in doc_[verb_idx].children:\n",
        "    if 'aux' in child.dep_:\n",
        "      return child.text\n",
        "    elif 'advcl' in child.dep_:\n",
        "      for child_ in child.children:\n",
        "        if 'aux' in child_.dep_:\n",
        "          return child_.text\n",
        "\n",
        "  head = doc_[verb_idx].head\n",
        "  if 'advcl' == doc_[verb_idx].dep_:\n",
        "    for child in head.children:\n",
        "      if 'aux' in child.dep_:\n",
        "        return child.text\n",
        "\n",
        "\n",
        "  if head.pos_ == 'AUX':\n",
        "    return head.text\n",
        "\n",
        "\n",
        "  last_try = find_remained(sent)\n",
        "  if last_try is not None:\n",
        "    return last_try[1]"
      ]
    },
    {
      "cell_type": "code",
      "execution_count": 60,
      "metadata": {
        "id": "GziVbPa8KQ7r"
      },
      "outputs": [],
      "source": [
        "def find_remained(sent):\n",
        "  doc = nlp(sent)\n",
        "  pos_tags = nltk.pos_tag(word_tokenize(sent))\n",
        "  for token_idx, token in enumerate(doc):\n",
        "    if token.pos_ == 'VERB' and token.tag_ == 'VBN':\n",
        "      for child in token.children:\n",
        "        if 'AUX' in child.dep_.upper():\n",
        "          return child.i, child.text"
      ]
    },
    {
      "cell_type": "code",
      "execution_count": 61,
      "metadata": {
        "id": "UmOD2-nHC2Op"
      },
      "outputs": [],
      "source": [
        "def print_pos(text):\n",
        "  print(nltk.pos_tag(word_tokenize(text)))"
      ]
    },
    {
      "cell_type": "code",
      "execution_count": 62,
      "metadata": {
        "id": "apuIk2t6PS9f"
      },
      "outputs": [],
      "source": [
        "def find_IN(text):\n",
        "  tokens = nltk.pos_tag(word_tokenize(text))\n",
        "  for token in tokens:\n",
        "    if token[1] == 'IN':\n",
        "      return token[0]\n",
        "  return None"
      ]
    },
    {
      "cell_type": "code",
      "execution_count": 63,
      "metadata": {
        "id": "lQwIQTz4C2RI"
      },
      "outputs": [],
      "source": [
        "def print_srl(text, idx):\n",
        "  print(SRL_predictor.predict(text)['verbs'][idx]['description'])"
      ]
    },
    {
      "cell_type": "code",
      "execution_count": 64,
      "metadata": {
        "id": "dfHi6is_gvAk"
      },
      "outputs": [],
      "source": [
        "# need to be working further, discriminate does and do\n",
        "def get_q_ext(words, verb_indexes):\n",
        "  pos_tags = nltk.pos_tag(words)\n",
        "\n",
        "  try:\n",
        "    verb_pos = pos_tags[verb_indexes[0]][1]\n",
        "  except:\n",
        "    verb_pos = 'VB'\n",
        "  if verb_pos == 'VBD' or verb_pos == 'VBN':\n",
        "    q_ext = 'did'\n",
        "  elif verb_pos == 'VB' or verb_pos == 'VBZ' or verb_pos == 'VBG' or verb_pos == 'VBP' or verb_pos == 'MD':\n",
        "    if inflect.singular_noun(verb) == False:\n",
        "        q_ext = 'do'\n",
        "    else:\n",
        "        q_ext = 'does'\n",
        "  else:\n",
        "    q_ext = 'did'\n",
        "\n",
        "  return q_ext"
      ]
    },
    {
      "cell_type": "code",
      "source": [
        "A = None"
      ],
      "metadata": {
        "id": "Zqju5dOoQjqC"
      },
      "execution_count": 65,
      "outputs": []
    },
    {
      "cell_type": "code",
      "execution_count": 66,
      "metadata": {
        "id": "CAyM2f7z8puX"
      },
      "outputs": [],
      "source": [
        "def get_non_trivial_coref(corefs):\n",
        "  main_pronouns = ['i', 'you', 'he', 'she', 'it', 'we', 'they', 'its', 'itself', 'himself', 'herself', 'myself', 'yourself', 'themselves']\n",
        "  for coref in corefs:\n",
        "    if coref[0].lower() not in main_pronouns:\n",
        "      return coref[0]\n",
        "  return ''"
      ]
    },
    {
      "cell_type": "code",
      "source": [
        "A"
      ],
      "metadata": {
        "id": "Hp4vsj5VQsGS"
      },
      "execution_count": 67,
      "outputs": []
    },
    {
      "cell_type": "code",
      "execution_count": 68,
      "metadata": {
        "id": "_bLxXtlVtr3x"
      },
      "outputs": [],
      "source": [
        "def filter_specific(srs):\n",
        "  for sr in srs:\n",
        "    if sr in ['who', 'self', 'which', 'that']:\n",
        "      return False\n",
        "  return True"
      ]
    },
    {
      "cell_type": "code",
      "execution_count": 69,
      "metadata": {
        "id": "W2mRHK063sE8"
      },
      "outputs": [],
      "source": [
        "def past_sr(sent):\n",
        "  for token in nltk.pos_tag(word_tokenize(sent)):\n",
        "    if token[1] == 'VBD':\n",
        "      return True\n",
        "  return False"
      ]
    },
    {
      "cell_type": "code",
      "execution_count": 70,
      "metadata": {
        "id": "P5kJ0HUGCpgz"
      },
      "outputs": [],
      "source": [
        "def find_extra_verb(sent, verb_idx):\n",
        "  doc = nlp(sent)\n",
        "  verb = doc[verb_idx]\n",
        "  X = False\n",
        "\n",
        "  for child in verb.children:\n",
        "    if 'aux' in child.dep_.lower():\n",
        "      X = True\n",
        "\n",
        "  if (doc[verb_idx].dep_ == 'xcomp' or doc[verb_idx].dep_ == 'ccomp') and doc[verb_idx].head.pos_ == 'VERB' and (verb.tag_ == 'VBG' or X):\n",
        "    return doc[verb_idx].head.text\n",
        "  else:\n",
        "    return ''"
      ]
    },
    {
      "cell_type": "code",
      "execution_count": 71,
      "metadata": {
        "id": "LUY-jpfsRwer"
      },
      "outputs": [],
      "source": [
        "def has_past(sent):\n",
        "  pos_tags = nltk.pos_tag(word_tokenize(sent))\n",
        "  for pos_tag in pos_tags:\n",
        "    if pos_tag[1] == 'VBD' or (pos_tag[1] == 'VBZ' and pos_tag[0] not in ['is', 'are', 'am']):\n",
        "      return True\n",
        "  return False"
      ]
    },
    {
      "cell_type": "code",
      "execution_count": 72,
      "metadata": {
        "id": "du8v-rAP-nEx"
      },
      "outputs": [],
      "source": [
        "# determines the singularity or plurality of a noun\n",
        "def is_single(noun):\n",
        "  if 'and' in noun:\n",
        "    return False\n",
        "\n",
        "  if inflect.singular_noun(noun) == False:\n",
        "    return True\n",
        "  else:\n",
        "    return False"
      ]
    },
    {
      "cell_type": "code",
      "execution_count": 73,
      "metadata": {
        "id": "quLIcP4omyJW"
      },
      "outputs": [],
      "source": [
        "def det_wh_based_on_ent(ent):\n",
        "  if 'PER' in ent:\n",
        "    return 'who'\n",
        "  elif 'LOC' in ent:\n",
        "    return 'where'\n",
        "  elif 'ORG' in ent:\n",
        "    return 'what'\n",
        "  elif 'O' in ent:\n",
        "    return 'what'\n",
        "  else:\n",
        "    return 'what'"
      ]
    },
    {
      "cell_type": "code",
      "execution_count": 74,
      "metadata": {
        "id": "W1u5pTvJlxvM"
      },
      "outputs": [],
      "source": [
        "def has_noun_ancestor(aswer_ents, doc, idx):\n",
        "  x = doc[idx]\n",
        "  last_N_idx = idx\n",
        "  while(True):\n",
        "    if x.dep_ == 'ROOT':\n",
        "      if 'NN' in x.tag_:\n",
        "        return det_wh_based_on_ent(aswer_ents[x.i])\n",
        "      else:\n",
        "        return det_wh_based_on_ent(aswer_ents[last_N_idx])\n",
        "    else:\n",
        "      if 'NN' in x.tag_:\n",
        "        last_N_idx = x.i\n",
        "    x = x.head"
      ]
    },
    {
      "cell_type": "code",
      "execution_count": 75,
      "metadata": {
        "id": "I_a70OaDlNRz"
      },
      "outputs": [],
      "source": [
        "import random"
      ]
    },
    {
      "cell_type": "code",
      "execution_count": 76,
      "metadata": {
        "id": "J4PaI_S-lJPG"
      },
      "outputs": [],
      "source": [
        "def sample(x):\n",
        "  return random.sample(x, k=1)[0]"
      ]
    },
    {
      "cell_type": "code",
      "execution_count": 77,
      "metadata": {
        "id": "9WKsaTcq9i6r"
      },
      "outputs": [],
      "source": [
        "def find_wh_question(ent_types, srl_type, aswer_ents, answer):\n",
        "\n",
        "  doc = nlp(answer)\n",
        "\n",
        "  for ent, word in zip(aswer_ents, doc):\n",
        "    if word.dep_ == 'ROOT':\n",
        "      if 'PER' in ent:\n",
        "        return 'who'\n",
        "      elif 'LOC' in ent:\n",
        "        return 'where'\n",
        "      elif 'ORG' in ent:\n",
        "        return 'what'\n",
        "\n",
        "  for word_idx, (ent, word) in enumerate(zip(aswer_ents, doc)):\n",
        "    if 'LOC' in ent or 'PER' in ent or 'ORG' in ent:\n",
        "      return has_noun_ancestor(aswer_ents, doc, word_idx)\n",
        "\n",
        "  return 'what'"
      ]
    },
    {
      "cell_type": "code",
      "execution_count": 78,
      "metadata": {
        "id": "o9aPwR1V1qoA"
      },
      "outputs": [],
      "source": [
        "clusters_person = []\n",
        "cluster_trivial_coref = []\n",
        "\n",
        "for cluster_idx, cluster in enumerate(chars_spans):\n",
        "  is_person = False\n",
        "  trivial_coref = ''\n",
        "  for coref in cluster:\n",
        "    if coref[0].lower() in ['he', 'she', 'her', 'him', 'i', 'my', 'his', 'hers']:\n",
        "      is_person = True\n",
        "      if coref[0].lower() in ['he', 'him', 'his']:\n",
        "        trivial_coref = 'he'\n",
        "      if coref[0].lower() in ['she', 'her', 'hers']:\n",
        "        trivial_coref = 'she'\n",
        "      if coref[0].lower() in ['we', 'us', 'our', 'ours']:\n",
        "        trivial_coref = 'we'\n",
        "      if coref[0].lower() in ['it', 'its']:\n",
        "        trivial_coref = 'it'\n",
        "      if coref[0].lower() in ['they', 'them', 'their', 'theirs']:\n",
        "        trivial_coref = 'they'\n",
        "\n",
        "  if is_person:\n",
        "    clusters_person.append(True)\n",
        "  else:\n",
        "    clusters_person.append(False)\n",
        "\n",
        "  cluster_trivial_coref.append(trivial_coref)"
      ]
    },
    {
      "cell_type": "code",
      "execution_count": 79,
      "metadata": {
        "id": "UkJPWLVLLVS2"
      },
      "outputs": [],
      "source": [
        "def give_new_ents(arg, arg_indexes, arg_cluster_idx, ents):\n",
        "  all_ents = deepcopy(ents)\n",
        "  if arg_cluster_idx is not None:\n",
        "    for coref in chars_spans[arg_cluster_idx]:\n",
        "      if coref[1] == sent_idx and clusters_person[arg_cluster_idx]:\n",
        "        if coref[2] == coref[3]:\n",
        "          all_ents[coref[2]] = 'U-PER'\n",
        "        else:\n",
        "          all_ents[coref[2]] = 'B-PER'\n",
        "          for jdx in range(coref[2] + 1, coref[3] + 1):\n",
        "            all_ents[coref[2]] = 'L-PER'\n",
        "\n",
        "  if len(all_ents[arg_indexes[0]: arg_indexes[1] + 1]) == 1 and len(arg.split(' ')) > 1:\n",
        "    Y = all_ents[arg_indexes[0]: arg_indexes[1] + 1] * len(arg.split(' '))\n",
        "  else:\n",
        "    Y = all_ents[arg_indexes[0]: arg_indexes[1] + 1]\n",
        "\n",
        "  return Y"
      ]
    },
    {
      "cell_type": "code",
      "execution_count": 80,
      "metadata": {
        "id": "UHp_jutValGQ"
      },
      "outputs": [],
      "source": [
        "def get_corefs(arg, arg_indexes, coref_indexes, cluster_idx, mode):\n",
        "  words = word_tokenize(arg)\n",
        "\n",
        "  main_indexes = [coref_indexes[0] - arg_indexes[0], coref_indexes[1] - arg_indexes[0]]\n",
        "\n",
        "  if mode == 'non_trivial':\n",
        "    new_coref = get_non_trivial_coref([coref[0] for coref in chars_spans[cluster_idx]])\n",
        "  if mode == 'trivial':\n",
        "    new_coref = get_trivial_coref([coref[0] for coref in chars_spans[cluster_idx]])\n",
        "\n",
        "  coref_words = word_tokenize(new_coref)\n",
        "\n",
        "  new_words = words[0: main_indexes[0] + 1] + coref_words + words[main_indexes[1]: ]\n",
        "\n",
        "  new_words = ' '.join(new_words)\n",
        "\n",
        "\n",
        "  return new_words"
      ]
    },
    {
      "cell_type": "code",
      "execution_count": 81,
      "metadata": {
        "id": "cm3aNL64yQGC"
      },
      "outputs": [],
      "source": [
        "def not_suitable(text):\n",
        "  list_ = ['to', 'when', 'where', 'who', 'the', 'what', 'from', 'in', 'at']\n",
        "  if text.lower() in list_:\n",
        "    return True\n",
        "  else:\n",
        "    return False"
      ]
    },
    {
      "cell_type": "markdown",
      "metadata": {
        "id": "Kb-j3QLP5eQA"
      },
      "source": [
        "# Unit Test Agent & Patient"
      ]
    },
    {
      "cell_type": "code",
      "execution_count": 84,
      "metadata": {
        "id": "CPb-iD6KajKZ"
      },
      "outputs": [],
      "source": [
        "from pattern.en import conjugate, lemma, lexeme, PRESENT, SG, PAST, PL"
      ]
    },
    {
      "cell_type": "code",
      "execution_count": 85,
      "metadata": {
        "id": "XjVqFBhRziAy",
        "colab": {
          "base_uri": "https://localhost:8080/"
        },
        "outputId": "b2bc4302-421f-47fb-d821-a4d2fd247445"
      },
      "outputs": [
        {
          "output_type": "stream",
          "name": "stdout",
          "text": [
            "- what did an American politician , media personality , and businessman serve from 2017 to 2021 ? the 45th president of the United States 0 2 2\n",
            "*** which time? from 2017 to 2021\n",
            "+ what served as the 45th president of the United States from 2017 to 2021 ? an American politician , media personality , and businessman 0 2 2\n",
            "*** which time from 2017 to 2021\n",
            "- what did Trump graduate in 1968 ? the Wharton School of the University of Pennsylvania 1 0 2\n",
            "*** which time? in 1968\n",
            "+ who graduated from the Wharton School of the University of Pennsylvania in 1968 ? Trump 1 0 2\n",
            "*** which time in 1968\n",
            "- what did He expand to building and renovating skyscrapers , hotels , casinos , and golf courses ? the company 's operations 3 0 0\n",
            "+ who expanded the company 's operations to building and renovating skyscrapers , hotels , casinos , and golf courses ? D 3 0 0\n",
            "- what did He build ? skyscrapers , hotels , casinos , and golf courses 3 1 0\n",
            "+ who built skyscrapers , hotels , casinos , and golf courses ? D 3 1 0\n",
            "- what did He renovate ? skyscrapers , hotels , casinos , and golf courses 3 2 0\n",
            "+ who renovated skyscrapers , hotels , casinos , and golf courses ? D 3 2 0\n",
            "- what did He start later ? side ventures 3 3 0\n",
            "*** which time? later\n",
            "+ who started side ventures later ? D 3 3 0\n",
            "*** which time later\n",
            "- what did He license ? his name 3 4 0\n",
            "+ who licensed his name ? D 3 4 0\n",
            "- what did he produce From 2004 to 2015 ? the reality television series The Apprentice 4 2 1\n",
            "*** which time? From 2004 to 2015\n",
            "+ who produced the reality television series The Apprentice From 2004 to 2015 ? D 4 2 1\n",
            "*** which time From 2004 to 2015\n",
            "- what did he host From 2004 to 2015 ? the reality television series The Apprentice 4 3 1\n",
            "*** which time? From 2004 to 2015\n",
            "+ who hosted the reality television series The Apprentice From 2004 to 2015 ? D 4 3 1\n",
            "*** which time From 2004 to 2015\n",
            "- what did He win ? the 2016 United States presidential election 7 0 1\n",
            "+ who won the 2016 United States presidential election ? D 7 0 1\n",
            "- what did He lose ? the national popular vote 7 1 0\n",
            "+ who lost the national popular vote ? D 7 1 0\n",
            "- what did His election and policies spark ? numerous protests 9 0 0\n",
            "+ what sparked numerous protests ? His election and policies 9 0 0\n",
            "- where did The 2017–2019 special counsel investigation establish ? that Russia interfered in the 2016 election to favor the election of Trump 10 0 2\n",
            "+ what established that Russia interfered in the 2016 election to favor the election of Trump ? The 2017–2019 special counsel investigation 10 0 2\n",
            "- what did Russia interfere ? the 2016 election 10 1 1\n",
            "+ where interfered in the 2016 election ? Russia 10 1 1\n",
            "- what did Russia favor ? the election of Trump 10 2 2\n",
            "+ where favorred the election of Trump ? Russia 10 2 2\n",
            "- what did Trump promote ? conspiracy theories 11 0 1\n",
            "+ who promoted conspiracy theories ? Trump 11 0 1\n",
            "- what did Trump make during his campaigns and presidency ? many false and misleading statements 11 1 1\n",
            "*** which time? during his campaigns and presidency\n",
            "+ who made many false and misleading statements during his campaigns and presidency ? Trump 11 1 1\n",
            "*** which time during his campaigns and presidency\n"
          ]
        }
      ],
      "source": [
        "Agent_Patient_Qs = [[] for _ in range(len(sents))]\n",
        "\n",
        "for sent_idx in range(len(sents)):\n",
        "  A = sents_semantic_roles[sent_idx]\n",
        "  sent = sents[sent_idx]\n",
        "  entities = extract_entities(sents[sent_idx])\n",
        "  all_ents = NER_predictor.predict(sents[sent_idx])['tags']\n",
        "\n",
        "  for idx in range(len(A['verbs'])):\n",
        "    tags = A['verbs'][idx]['tags']\n",
        "    words = A['words']\n",
        "    pos_tags = nltk.pos_tag(words)\n",
        "    ext, ext_exists, ext_indexes = find_arg(words, tags, 'EXT')\n",
        "    time, time_exists, time_indexes = find_arg(words, tags, 'TMP')\n",
        "    manner, manner_exists, manner_indexes  = find_arg(words, tags, 'MNR')\n",
        "    agent, agent_exists, agent_indexes = find_arg(words, tags, 'ARG0')\n",
        "    patient, patient_exists, patient_indexes = find_arg(words, tags, 'ARG1')\n",
        "    state, state_exists, state_indexes = find_arg(words, tags, 'ARG2')\n",
        "    arg3, arg3_exists, arg3_indexes = find_arg(words, tags, 'ARG3')\n",
        "    arg4, arg4_exists, arg4_indexes = find_arg(words, tags, 'ARG4')\n",
        "    cause, cause_exists, cause_indexes = find_arg(words, tags, 'CAU')\n",
        "    loc, loc_exists, loc_indexes = find_arg(words, tags, 'LOC')\n",
        "    adv, adv_exists, adv_indexes = find_arg(words, tags, 'ADV')\n",
        "    verb, verb_exists, verb_indexes = find_arg(words, tags, '-V')\n",
        "    ext_corefs, ext_cluster_idx = find_corresponding_coref(ext_indexes, sent_idx)\n",
        "    time_corefs, time_cluster_idx = find_corresponding_coref(time_indexes, sent_idx)\n",
        "    manner_corefs, manner_cluster_idx = find_corresponding_coref(manner_indexes, sent_idx)\n",
        "    agent_corefs, agent_cluster_idx = find_corresponding_coref(agent_indexes, sent_idx)\n",
        "    patient_corefs, patient_cluster_idx = find_corresponding_coref(patient_indexes, sent_idx)\n",
        "    state_corefs, state_cluster_idx = find_corresponding_coref(state_indexes, sent_idx)\n",
        "    cause_corefs, cause_cluster_idx = find_corresponding_coref(cause_indexes, sent_idx)\n",
        "    loc_corefs, loc_cluster_idx = find_corresponding_coref(loc_indexes, sent_idx)\n",
        "\n",
        "    if verb_indexes == []:\n",
        "      continue\n",
        "\n",
        "    semantic_role_ent_type = find_semantic_ent_type(entities,\n",
        "                             [ext_indexes,\n",
        "                              time_indexes,\n",
        "                              manner_indexes,\n",
        "                              agent_indexes,\n",
        "                              patient_indexes,\n",
        "                              state_indexes,\n",
        "                              cause_indexes,\n",
        "                              loc_indexes])\n",
        "\n",
        "\n",
        "    ext_ent_types, \\\n",
        "    time_ent_types, \\\n",
        "    manner_ent_types, \\\n",
        "    agent_ent_types, \\\n",
        "    patient_ent_types, \\\n",
        "    state_ent_types, \\\n",
        "    cause_ent_types, \\\n",
        "    loc_ent_types = semantic_role_ent_type\n",
        "\n",
        "    sent = sents[sent_idx]\n",
        "\n",
        "    # main pronouns\n",
        "    pronouns = ['i', 'you', 'he', 'she', 'we', 'they']\n",
        "    # lemmatize verb in the right form\n",
        "    mian_verb_index = get_main_verb_idx(verb_indexes[0], sents[sent_idx])\n",
        "\n",
        "    if has_aux(sent, verb_indexes[0]):\n",
        "      aux = get_aux(sent, verb_indexes[0])\n",
        "    else:\n",
        "      aux = ''\n",
        "\n",
        "    if has_aux(sent, verb_indexes[0]):\n",
        "      main_aux_index = has_aux(sent, verb_indexes[0])\n",
        "      q_ext = get_q_ext(words, [verb_indexes[0], verb_indexes[0]])\n",
        "    else:\n",
        "      main_aux_index = None\n",
        "      q_ext = get_q_ext(words, [verb_indexes[0], verb_indexes[0]])\n",
        "    if aux:\n",
        "      if aux == 'would':\n",
        "        q_ext = 'did'\n",
        "\n",
        "    extra_verb = find_extra_verb(sent, verb_indexes[0])\n",
        "    sent_doc = nlp(sent)\n",
        "    verb_pos = sent_doc[verb_indexes[0]].tag_\n",
        "\n",
        "\n",
        "\n",
        "    main_verb = verb\n",
        "    verb = lemma(verb)\n",
        "    # delete extra definitions\n",
        "    patient = del_relatives(patient)\n",
        "    agent = del_relatives(agent)\n",
        "    # max question length\n",
        "    max_q_thresh = 500\n",
        "\n",
        "    agent = make_agent_in_the_right_form(agent)\n",
        "\n",
        "    if agent_exists and patient_exists:\n",
        "\n",
        "      #print(agent_cluster_idx, patient_cluster_idx)\n",
        "\n",
        "      if not_suitable(state) or not_suitable(agent):\n",
        "        continue\n",
        "\n",
        "      if filter_aps(agent) or filter_aps(patient):\n",
        "        continue\n",
        "\n",
        "      for word_idx, word in enumerate(words):\n",
        "        if extra_verb == word:\n",
        "          if word_idx < agent_indexes[0]:\n",
        "            extra_verb = ''\n",
        "      # question filtering\n",
        "      ent_threshold = 0\n",
        "      agent_ent_num = find_num_ent(entities, agent_indexes)\n",
        "      patient_ent_num = find_num_ent(entities, patient_indexes)\n",
        "      ent_sum = agent_ent_num + patient_ent_num\n",
        "      # print(ent_sum)\n",
        "      # if ent_sum <= ent_threshold:\n",
        "      #   continue\n",
        "\n",
        "      q_wh = find_wh_question(patient_ent_types, 'patient', all_ents[patient_indexes[0]: patient_indexes[1] + 1], patient)\n",
        "      q_wh = extra_check_person(patient, q_wh)\n",
        "\n",
        "      # fix answer in the right way\n",
        "      if simple_pronoun(patient) and patient_cluster_idx is not None:\n",
        "        patient = get_non_trivial_coref(patient_corefs)\n",
        "\n",
        "      if patient == '':\n",
        "        continue\n",
        "\n",
        "      if q_ext in ['do', 'does']:\n",
        "        if not inflect.singular_noun(patient):\n",
        "          q_ext = 'does'\n",
        "        else:\n",
        "          q_ext = 'do'\n",
        "\n",
        "      if past_sr(sent):\n",
        "        q_ext = 'did'\n",
        "\n",
        "      if aux in ['is', 'am', 'are']:\n",
        "        q_ext == 'do'\n",
        "      elif aux in ['was', 'were']:\n",
        "        q_ext = 'did'\n",
        "\n",
        "      if verb_pos == 'VBN':\n",
        "        verb = lexeme(verb)[0]\n",
        "        if has_past(sent):\n",
        "          q_ext = 'did'\n",
        "        else:\n",
        "          q_ext = 'does'\n",
        "\n",
        "      if extra_verb:\n",
        "        verb = conjugate(verb=verb,tense=PRESENT,number=PL)\n",
        "\n",
        "      Y = give_new_ents(patient, patient_indexes, patient_cluster_idx[0], all_ents)\n",
        "\n",
        "      q_wh = find_wh_question(patient_ent_types, 'patient', Y, patient)\n",
        "      q_wh = extra_check_person(patient, q_wh)\n",
        "\n",
        "      question = get_sent(q_wh, q_ext, agent, extra_verb, verb, state, arg3, arg4, time, loc, '?')\n",
        "\n",
        "      q_detail = {\n",
        "        'bef': get_sent(q_wh, q_ext),\n",
        "        'agent': agent,\n",
        "        'after': get_sent(extra_verb, verb, state, arg3, arg4, time, loc, '?')\n",
        "      }\n",
        "\n",
        "\n",
        "      answer = patient\n",
        "      answer = filter_answer(answer)\n",
        "      question, answer = clean_text(question), clean_text(answer)\n",
        "      question = clean_question(question)\n",
        "\n",
        "      if len(question) < max_q_thresh and filter_specific([agent, patient]):\n",
        "        B = get_sent(question, answer, str(sent_idx), str(idx), str(ent_sum))\n",
        "        print('-', B)\n",
        "        if time:\n",
        "          print('***', 'which time?', time)\n",
        "        if loc:\n",
        "          print('***', 'where?', loc)\n",
        "        if cause:\n",
        "          print('***', 'for what?', cause)\n",
        "\n",
        "        Agent_Patient_Qs[sent_idx].append({\n",
        "            'question': question,\n",
        "            'answer': answer,\n",
        "            'agent_cluster': agent_cluster_idx,\n",
        "            'patient_cluster': patient_cluster_idx,\n",
        "            'agent_in_question': True,\n",
        "            'q_detail': q_detail,\n",
        "            'sent_idx': sent_idx\n",
        "        })\n",
        "\n",
        "      q_wh = find_wh_question(agent_ent_types, 'agent', all_ents[agent_indexes[0]: agent_indexes[1] + 1], agent)\n",
        "      q_wh = extra_check_person(agent, q_wh)\n",
        "      # fix answer in the right way\n",
        "      if simple_pronoun(agent) and agent_cluster_idx is not None:\n",
        "        agent = get_non_trivial_coref(agent_corefs[0])\n",
        "      if q_ext == 'did':\n",
        "        verb = conjugate(verb=verb,tense=PAST,number=SG)\n",
        "      patient = convert_to_object(patient)\n",
        "      if extra_verb:\n",
        "        verb = conjugate(verb=verb,tense=PRESENT,number=PL)\n",
        "\n",
        "      Y = give_new_ents(agent, agent_indexes, agent_cluster_idx[0], all_ents)\n",
        "\n",
        "      q_wh = find_wh_question(agent_ent_types, 'agent', Y, agent)\n",
        "      q_wh = extra_check_person(agent, q_wh)\n",
        "      patient = convert_to_object(patient)\n",
        "      question = get_sent(q_wh, extra_verb, verb, patient, state, arg3, arg4, time, loc, '?')\n",
        "      # print(extra_verb, 1, extra_verb, 1, aux, 1, verb)\n",
        "      answer = agent\n",
        "      answer = filter_answer(answer)\n",
        "      if answer == '':\n",
        "        continue\n",
        "      question, answer = clean_text(question), clean_text(answer)\n",
        "      question = clean_question(question)\n",
        "      if len(question) < max_q_thresh and filter_specific([agent, patient]):\n",
        "        B = get_sent(question, answer, str(sent_idx), str(idx), str(ent_sum))\n",
        "        print('+', B)\n",
        "        # print('state', state, 'adv', adv, 'time',time,'loc', loc,'manner', manner,'ext', ext,'cause', cause)\n",
        "        q_detail = {\n",
        "          'bef': get_sent(q_wh, extra_verb, verb),\n",
        "          'agent': patient,\n",
        "          'after': get_sent(state, arg3, arg4, time, loc, '?')\n",
        "        }\n",
        "\n",
        "        if time:\n",
        "          print('***', 'which time', time)\n",
        "        if loc:\n",
        "          print('***', 'what location', loc)\n",
        "        if cause:\n",
        "          print('***', 'for what', cause)\n",
        "\n",
        "        Agent_Patient_Qs[sent_idx].append({\n",
        "            'question': question,\n",
        "            'answer': answer,\n",
        "            'agent_cluster': agent_cluster_idx,\n",
        "            'patient_cluster': patient_cluster_idx,\n",
        "            'agent_in_question': False,\n",
        "            'q_detail': q_detail,\n",
        "            'sent_idx': sent_idx\n",
        "        })\n"
      ]
    },
    {
      "cell_type": "code",
      "execution_count": 85,
      "metadata": {
        "id": "k2OyE8yiZb8h"
      },
      "outputs": [],
      "source": []
    },
    {
      "cell_type": "code",
      "execution_count": 85,
      "metadata": {
        "id": "qvQkl7YXZz87"
      },
      "outputs": [],
      "source": []
    },
    {
      "cell_type": "markdown",
      "metadata": {
        "id": "aT3vb2G-aTiY"
      },
      "source": [
        "# Unit Test Patient & State"
      ]
    },
    {
      "cell_type": "code",
      "execution_count": 86,
      "metadata": {
        "id": "3biHeQUqaW8q",
        "colab": {
          "base_uri": "https://localhost:8080/"
        },
        "outputId": "7846923f-0aa6-43db-fee7-5910fbd4b6ee"
      },
      "outputs": [
        {
          "output_type": "stream",
          "name": "stdout",
          "text": [
            "- what is an American politician , media personality , and businessman who served as the 45th president of the United States from 2017 to 2021 ? Donald John Trump ( born June 14 , 1946 ) 0 1 3\n",
            "+ who is Donald John Trump ( born June 14 , 1946 ) ? an American politician , media personality , and businessman who served as the 45th president of the United States from 2017 to 2021 0 1 3\n",
            "- who did He become in 1971 ? president of his father 's real estate business 2 0 0\n",
            "+ who became president of his father 's real estate business in 1971 ? He 2 0 0\n",
            "- what have Trump and his businesses involved more than 4,000 state and federal legal actions , including six bankruptcies 5 2 1\n",
            "+ who have involved in more than 4,000 state and federal legal actions , including six bankruptcies ? Trump and his businesses 5 2 1\n",
            "- what does more than 4,000 state and federal legal actions include ? six bankruptcies 5 3 0\n",
            "+ what include six bankruptcies ? more than 4,000 state and federal legal actions 5 3 0\n",
            "- what have Trump 's political positions described populist , protectionist , isolationist , and nationalist 6 2 1\n",
            "+ what have described as populist , protectionist , isolationist , and nationalist ? Trump 's political positions 6 2 1\n",
            "- who did He become ? the first U.S. president with no prior military or government service 8 0 1\n",
            "+ who became the first U.S. president with no prior military or government service ? He 8 0 1\n",
            "- what have Many of his comments and actions characterized racially charged or racist 12 2 0\n",
            "+ what have characterized as racially charged or racist ? Many of his comments and actions 12 2 0\n"
          ]
        }
      ],
      "source": [
        "Patient_State_Qs = [[] for _ in range(len(sents))]\n",
        "\n",
        "for sent_idx in range(len(sents)):\n",
        "  A = sents_semantic_roles[sent_idx]\n",
        "  all_ents = NER_predictor.predict(sents[sent_idx])['tags']\n",
        "  entities = extract_entities(sents[sent_idx])\n",
        "  for idx in range(len(A['verbs'])):\n",
        "    tags = A['verbs'][idx]['tags']\n",
        "    words = A['words']\n",
        "    pos_tags = nltk.pos_tag(words)\n",
        "    ext, ext_exists, ext_indexes = find_arg(words, tags, 'EXT')\n",
        "    time, time_exists, time_indexes = find_arg(words, tags, 'TMP')\n",
        "    manner, manner_exists, manner_indexes  = find_arg(words, tags, 'MNR')\n",
        "    agent, agent_exists, agent_indexes = find_arg(words, tags, 'ARG0')\n",
        "    patient, patient_exists, patient_indexes = find_arg(words, tags, 'ARG1')\n",
        "    state, state_exists, state_indexes = find_arg(words, tags, 'ARG2')\n",
        "    arg3, arg3_exists, arg3_indexes = find_arg(words, tags, 'ARG3')\n",
        "    arg4, arg4_exists, arg4_indexes = find_arg(words, tags, 'ARG4')\n",
        "    cause, cause_exists, cause_indexes = find_arg(words, tags, 'CAU')\n",
        "    loc, loc_exists, loc_indexes = find_arg(words, tags, 'LOC')\n",
        "    adv, adv_exists, adv_indexes = find_arg(words, tags, 'ADV')\n",
        "    verb, verb_exists, verb_indexes = find_arg(words, tags, '-V')\n",
        "    ext_corefs, ext_cluster_idx = find_corresponding_coref(ext_indexes, sent_idx)\n",
        "    time_corefs, time_cluster_idx = find_corresponding_coref(time_indexes, sent_idx)\n",
        "    manner_corefs, manner_cluster_idx = find_corresponding_coref(manner_indexes, sent_idx)\n",
        "    agent_corefs, agent_cluster_idx = find_corresponding_coref(agent_indexes, sent_idx)\n",
        "    patient_corefs, patient_cluster_idx = find_corresponding_coref(patient_indexes, sent_idx)\n",
        "    state_corefs, state_cluster_idx = find_corresponding_coref(state_indexes, sent_idx)\n",
        "    cause_corefs, cause_cluster_idx = find_corresponding_coref(cause_indexes, sent_idx)\n",
        "    loc_corefs, loc_cluster_idx = find_corresponding_coref(loc_indexes, sent_idx)\n",
        "\n",
        "    if verb_indexes == []:\n",
        "      continue\n",
        "\n",
        "    semantic_role_ent_type = find_semantic_ent_type(entities,\n",
        "                             [ext_indexes,\n",
        "                              time_indexes,\n",
        "                              manner_indexes,\n",
        "                              agent_indexes,\n",
        "                              patient_indexes,\n",
        "                              state_indexes,\n",
        "                              cause_indexes,\n",
        "                              loc_indexes])\n",
        "\n",
        "\n",
        "    ext_ent_types, \\\n",
        "    time_ent_types, \\\n",
        "    manner_ent_types, \\\n",
        "    agent_ent_types, \\\n",
        "    patient_ent_types, \\\n",
        "    state_ent_types, \\\n",
        "    cause_ent_types, \\\n",
        "    loc_ent_types = semantic_role_ent_type\n",
        "\n",
        "    # main pronouns\n",
        "    pronouns = ['i', 'you', 'he', 'she', 'we', 'they']\n",
        "    # lemmatize verb in the right form\n",
        "    mian_verb_index = get_main_verb_idx(verb_indexes[0], sents[sent_idx])\n",
        "\n",
        "    q_ext = get_q_ext(words, [verb_indexes[0], verb_indexes[0]])\n",
        "\n",
        "    try:\n",
        "      extra_verb = find_extra_verb(sent, verb_indexes[0])\n",
        "    except:\n",
        "      continue\n",
        "\n",
        "    # prop\n",
        "    IN = find_IN(sents[sent_idx])\n",
        "\n",
        "    # delete extra definitions\n",
        "    patient = del_relatives(patient)\n",
        "    agent = del_relatives(agent)\n",
        "    # max question length\n",
        "    max_q_thresh = 500\n",
        "\n",
        "    agent = make_agent_in_the_right_form(agent)\n",
        "    sent = sents[sent_idx].strip()\n",
        "    if has_aux(sent, verb_indexes[0]):\n",
        "      aux = get_aux(sent, verb_indexes[0])\n",
        "    else:\n",
        "      aux = ''\n",
        "\n",
        "    # handle it using no direct\n",
        "\n",
        "\n",
        "    if verb == 'used':\n",
        "      S = True\n",
        "\n",
        "\n",
        "\n",
        "    if loc in ['the', 'of', 'where']:\n",
        "      loc = ''\n",
        "    if time in ['the', 'of', 'when']:\n",
        "      time = ''\n",
        "\n",
        "\n",
        "    if patient_exists and state_exists and not agent_exists:\n",
        "      # question filtering\n",
        "      sent_doc = nlp(sent)\n",
        "      verb_pos = sent_doc[verb_indexes[0]].tag_\n",
        "\n",
        "      # print(patient_cluster_idx, state_cluster_idx)\n",
        "\n",
        "      if not_suitable(state) or not_suitable(patient):\n",
        "        continue\n",
        "\n",
        "      mian_verb_pos = verb_pos\n",
        "\n",
        "      if verb_pos == 'VBG' and words[verb_indexes[0] - 1] not in ['was', 'were', 'is', 'are', 'am'] and not has_past(sent):\n",
        "        if patient_indexes[0] < verb_indexes[0] < state_indexes[0] or state_indexes[0] < verb_indexes[0] < patient_indexes[0]:\n",
        "          aux = ''\n",
        "        elif verb_indexes[0] < state_indexes[0] and verb_indexes[0] < patient_indexes[0]:\n",
        "          aux = 'is'\n",
        "\n",
        "      if verb_pos == 'VBG' and not aux and has_past(sent):\n",
        "        q_ext = 'did'\n",
        "        verb_pos = 'VBD'\n",
        "      elif verb_pos == 'VBG' and not aux and not has_past(sent):\n",
        "        q_ext = 'does'\n",
        "        verb_pos = 'VB'\n",
        "\n",
        "      A_ent_types = None\n",
        "      B_ent_types = None\n",
        "\n",
        "      if (verb_pos == 'VB' or verb_pos == 'VBZ' or verb_pos == 'VBD') and not simple_verb(verb):\n",
        "        C = True\n",
        "        if patient_indexes[0] < state_indexes[0]:\n",
        "          A_, B_ = patient, state\n",
        "          A_indexes, B_indexes = patient_indexes, state_indexes\n",
        "          A_cluster_idx, B_cluster_idx = patient_cluster_idx, state_cluster_idx\n",
        "        else:\n",
        "          A_, B_ = state, patient\n",
        "          A_indexes, B_indexes = state_indexes, patient_indexes\n",
        "          A_cluster_idx, B_cluster_idx = state_cluster_idx, patient_cluster_idx\n",
        "      else:\n",
        "        C = False\n",
        "        if verb_pos == 'VBN' and words[verb_indexes[0] - 1] not in ['has', 'had']:\n",
        "          if not aux:\n",
        "            aux = 'was'\n",
        "        elif verb_pos == 'VBN' and words[verb_indexes[0] - 1] in ['has', 'had']:\n",
        "          # print('XXXX',patient, state)\n",
        "          aux = ''\n",
        "          verb_pos = 'VBD'\n",
        "          if patient_indexes[0] < state_indexes[0]:\n",
        "            A_, B_ = patient, state\n",
        "            A_cluster_idx, B_cluster_idx = patient_cluster_idx, state_cluster_idx\n",
        "            A_indexes, B_indexes = patient_indexes, state_indexes\n",
        "            A_cluster_idx, B_cluster_idx = patient_cluster_idx, state_cluster_idx\n",
        "            # print('f1', 'patient', A_, 'state', B_)\n",
        "          else:\n",
        "            A_, B_ = state, patient\n",
        "            A_cluster_idx, B_cluster_idx = state_cluster_idx, patient_cluster_idx\n",
        "            A_indexes, B_indexes = state_indexes, patient_indexes\n",
        "            A_cluster_idx, B_cluster_idx = state_cluster_idx, patient_cluster_idx\n",
        "            # print('f2', 'patient', B_, 'state', A_)\n",
        "\n",
        "\n",
        "      if not is_simple_verb(verb) and verb_pos != 'VBN':\n",
        "        # print('doing lemma', aux)\n",
        "        verb = lemma(verb)\n",
        "\n",
        "\n",
        "      if verb_pos == 'VBG' and verb_indexes[0] < patient_indexes[0] and verb_indexes[0] < state_indexes[0]:\n",
        "        aux = 'was'\n",
        "        verb = lexeme(verb)[-1]\n",
        "\n",
        "\n",
        "      ent_threshold = 0\n",
        "      patient_ent_num = find_num_ent(entities, patient_indexes)\n",
        "      state_ent_num = find_num_ent(entities, state_indexes)\n",
        "      ent_sum = state_ent_num + patient_ent_num\n",
        "\n",
        "\n",
        "      # print(ent_sum)\n",
        "      # if ent_sum <= ent_threshold:\n",
        "      #   continue\n",
        "      Y = give_new_ents(patient, patient_indexes, patient_cluster_idx[0], all_ents)\n",
        "      q_wh = find_wh_question(patient_ent_types, 'patient', Y, patient)\n",
        "      q_wh = extra_check_person(patient, q_wh)\n",
        "      # fix answer in the right way\n",
        "      if simple_pronoun(patient) and patient_cluster_idx is not None:\n",
        "        patient = get_non_trivial_coref(patient_corefs[0])\n",
        "\n",
        "      # print('q_ext', q_ext, 'extra_verb', extra_verb, 'verb', verb, 'aux', aux, 'C', C)\n",
        "\n",
        "      if not C:\n",
        "        if is_simple_verb(verb):\n",
        "          Y = give_new_ents(state, state_indexes, state_cluster_idx[0], all_ents)\n",
        "          q_wh = find_wh_question(state_ent_types, 'state', Y, state)\n",
        "          q_wh = extra_check_person(state, q_wh)\n",
        "          question = get_sent(q_wh, verb, state, time, loc, '?')\n",
        "          answer = patient\n",
        "\n",
        "          q_detail = {\n",
        "            'bef': get_sent(q_wh, verb),\n",
        "            'A': state,\n",
        "            'B': patient,\n",
        "            'after': get_sent(time, loc, '?')\n",
        "          }\n",
        "\n",
        "          Patient_State_Qs[sent_idx].append({\n",
        "              'question': question,\n",
        "              'answer': answer,\n",
        "              'question_cluster': state_cluster_idx,\n",
        "              'answer_cluster': patient_cluster_idx,\n",
        "              'q_detail': q_detail,\n",
        "              'sent_idx': sent_idx\n",
        "          })\n",
        "\n",
        "        else:\n",
        "          if aux:\n",
        "            if patient_indexes[0] < state_indexes[0]:\n",
        "              A_, B_ = patient, state\n",
        "              A_indexes, B_indexes = patient_indexes, state_indexes\n",
        "              A_cluster_idx, B_cluster_idx = patient_cluster_idx, state_cluster_idx\n",
        "              Y = give_new_ents(state, state_indexes, state_cluster_idx[0], all_ents)\n",
        "              q_wh = find_wh_question(state_ent_types, 'state', Y, B_)\n",
        "              q_wh = extra_check_person(state, q_wh)\n",
        "\n",
        "            else:\n",
        "              # print('aaaaaaaaaaaaaa')\n",
        "              A_, B_ = state, patient\n",
        "              A_indexes, B_indexes = state_indexes, patient_indexes\n",
        "              A_cluster_idx, B_cluster_idx = state_cluster_idx, patient_cluster_idx\n",
        "              Y = give_new_ents(patient, patient_indexes, patient_cluster_idx[0], all_ents)\n",
        "              q_wh = find_wh_question(patient_ent_types, 'patient', Y, B_)\n",
        "              q_wh = extra_check_person(patient, q_wh)\n",
        "\n",
        "            verb = lexeme(verb)[-1]\n",
        "            question = get_sent(q_wh, extra_verb, aux, A_, verb, time, loc)\n",
        "            answer = B_\n",
        "          else:\n",
        "            question = get_sent(q_wh, q_ext, A_, extra_verb, verb, time, loc, '?')\n",
        "            answer = B_\n",
        "\n",
        "            q_detail = {\n",
        "              'bef': get_sent(q_wh, q_ext),\n",
        "              'A': A_,\n",
        "              'B': B_,\n",
        "              'after': get_sent(extra_verb, verb, time, loc, '?')\n",
        "            }\n",
        "\n",
        "            Patient_State_Qs[sent_idx].append({\n",
        "                'question': question,\n",
        "                'answer': answer,\n",
        "                'question_cluster': A_cluster_idx,\n",
        "                'answer_cluster': B_cluster_idx,\n",
        "                'q_detail': q_detail,\n",
        "              'sent_idx': sent_idx\n",
        "            })\n",
        "\n",
        "      else:\n",
        "        verb = conjugate(verb=verb,tense=PRESENT,number=PL)\n",
        "        q_wh = extra_check_person(B_, q_wh)\n",
        "        question = get_sent(q_wh, q_ext, A_, verb, time, loc, '?')\n",
        "        answer = B_\n",
        "        q_detail = {\n",
        "          'bef': get_sent(q_wh, q_ext),\n",
        "          'A': A_,\n",
        "          'B': B_,\n",
        "          'after': get_sent(verb, time, loc, '?')\n",
        "        }\n",
        "        Patient_State_Qs[sent_idx].append({\n",
        "            'question': question,\n",
        "            'answer': answer,\n",
        "            'question_cluster': A_cluster_idx,\n",
        "            'answer_cluster': B_cluster_idx,\n",
        "            'q_detail': q_detail,\n",
        "              'sent_idx': sent_idx\n",
        "        })\n",
        "\n",
        "      answer = filter_answer(answer)\n",
        "      if answer == '':\n",
        "        continue\n",
        "      question, answer = clean_text(question), clean_text(answer)\n",
        "      question = clean_question(question)\n",
        "      if len(question) < max_q_thresh and filter_specific([state, patient]):\n",
        "        B = get_sent(question, answer, str(sent_idx), str(idx), str(ent_sum))\n",
        "        print('-', B)\n",
        "\n",
        "        # print('adv', adv,'time',time,'loc', loc,'manner', manner,'ext', ext,'cause', cause)\n",
        "\n",
        "      Y = give_new_ents(state, state_indexes, state_cluster_idx[0], all_ents)\n",
        "      q_wh = find_wh_question(state_ent_types, 'state', Y, state)\n",
        "      q_wh = extra_check_person(state, q_wh)\n",
        "\n",
        "      # fix answer in the right way\n",
        "      if simple_pronoun(state) and state_cluster_idx is not None:\n",
        "        state = get_non_trivial_coref(state_corefs)\n",
        "\n",
        "      if aux in ['was', 'were', 'am', 'is', 'are']:\n",
        "        q_ext = ''\n",
        "      else:\n",
        "        if q_ext == 'did':\n",
        "          verb = conjugate(verb=verb,tense=PAST,number=SG)\n",
        "        if q_ext in ['do', 'does']:\n",
        "          verb = conjugate(verb=verb,tense=PRESENT,number=PL)\n",
        "        patient = convert_to_object(patient)\n",
        "      # print('q_ext', q_ext, 'extra_verb', extra_verb, 'verb', verb, 'aux', aux, 'C', C)\n",
        "      if not C:\n",
        "        if is_simple_verb(verb):\n",
        "          Y = give_new_ents(patient, patient_indexes, patient_cluster_idx[0], all_ents)\n",
        "          q_wh = find_wh_question(patient_ent_types, 'patient', Y, patient)\n",
        "          q_wh = extra_check_person(patient, q_wh)\n",
        "          question = get_sent(q_wh, verb, patient, time, loc, '?')\n",
        "          answer = state\n",
        "          q_detail = {\n",
        "            'bef': get_sent(q_wh, verb),\n",
        "            'A': patient,\n",
        "            'B': state,\n",
        "            'after': get_sent(time, loc, '?')\n",
        "          }\n",
        "          Patient_State_Qs[sent_idx].append({\n",
        "              'question': question,\n",
        "              'answer': answer,\n",
        "              'question_cluster': patient_cluster_idx,\n",
        "              'answer_cluster': state_cluster_idx,\n",
        "              'q_detail': q_detail,\n",
        "              'sent_idx': sent_idx\n",
        "          })\n",
        "        else:\n",
        "          if aux:\n",
        "            if patient_indexes[0] < state_indexes[0]:\n",
        "              A_, B_ = patient, state\n",
        "              Y = give_new_ents(patient, patient_indexes, patient_cluster_idx[0], all_ents)\n",
        "              q_wh = find_wh_question(patient_ent_types, 'patient', Y, A_)\n",
        "              q_wh = extra_check_person(patient, q_wh)\n",
        "\n",
        "            else:\n",
        "              A_, B_ = state, patient\n",
        "              Y = give_new_ents(state, state_indexes, state_cluster_idx[0], all_ents)\n",
        "              q_wh = find_wh_question(state_ent_types, 'satte', Y, A_)\n",
        "              q_wh = extra_check_person(state, q_wh)\n",
        "\n",
        "            verb = lexeme(verb)[-1]\n",
        "            question = get_sent(q_wh, aux, verb, B_, time, loc, '?')\n",
        "            answer = A_\n",
        "            q_detail = {\n",
        "              'bef': get_sent(q_wh, aux, verb),\n",
        "              'A': A_,\n",
        "              'B': B_,\n",
        "              'after': get_sent(time, loc, '?')\n",
        "            }\n",
        "            Patient_State_Qs[sent_idx].append({\n",
        "                'question': question,\n",
        "                'answer': answer,\n",
        "                'question_cluster': B_cluster_idx,\n",
        "                'answer_cluster': A_cluster_idx,\n",
        "                'q_detail': q_detail,\n",
        "              'sent_idx': sent_idx\n",
        "            })\n",
        "\n",
        "          else:\n",
        "            verb = conjugate(verb=verb,tense=PAST,number=SG)\n",
        "            Y = give_new_ents(A_, A_indexes, A_cluster_idx[0], all_ents)\n",
        "            q_wh = find_wh_question(A_ent_types, 'patient', Y, A_)\n",
        "            question = get_sent(q_wh, verb, B_, time, loc, '?')\n",
        "            answer = A_\n",
        "\n",
        "            q_detail = {\n",
        "              'bef': get_sent(q_wh, verb),\n",
        "              'A': B_,\n",
        "              'B': A_,\n",
        "              'after': get_sent(time, loc, '?')\n",
        "            }\n",
        "\n",
        "            Patient_State_Qs[sent_idx].append({\n",
        "                'question': question,\n",
        "                'answer': answer,\n",
        "                'question_cluster': B_cluster_idx,\n",
        "                'answer_cluster': A_cluster_idx,\n",
        "                'q_detail': q_detail,\n",
        "              'sent_idx': sent_idx\n",
        "            })\n",
        "      else:\n",
        "        q_wh = extra_check_person(A_, q_wh)\n",
        "        B_ = convert_to_object(B_)\n",
        "        if mian_verb_pos == 'VBD' or mian_verb_pos == 'VBZ':\n",
        "          verb = conjugate(verb=verb,tense=PAST,number=PL)\n",
        "        Y = give_new_ents(A_, A_indexes, A_cluster_idx[0], all_ents)\n",
        "        q_wh = find_wh_question(A_ent_types, 'patient', Y, A_)\n",
        "        question = get_sent(q_wh, verb, B_, time, loc, '?')\n",
        "        answer = A_\n",
        "        q_detail = {\n",
        "          'bef': get_sent(q_wh, verb),\n",
        "          'A': B_,\n",
        "          'B': A_,\n",
        "          'after': get_sent(time, loc, '?')\n",
        "        }\n",
        "\n",
        "        Patient_State_Qs[sent_idx].append({\n",
        "            'question': question,\n",
        "            'answer': answer,\n",
        "            'question_cluster': B_cluster_idx,\n",
        "            'answer_cluster': A_cluster_idx,\n",
        "            'q_detail': q_detail,\n",
        "              'sent_idx': sent_idx\n",
        "        })\n",
        "      answer = filter_answer(answer)\n",
        "      if answer == '':\n",
        "        continue\n",
        "      question, answer = clean_text(question), clean_text(answer)\n",
        "      question = clean_question(question)\n",
        "      if len(question) < max_q_thresh and filter_specific([state, patient]):\n",
        "        B = get_sent(question, answer, str(sent_idx), str(idx), str(ent_sum))\n",
        "        print('+', B)\n",
        "        # print('adv', adv, 'time',time,'loc', loc,'manner', manner,'ext', ext,'cause', cause)"
      ]
    },
    {
      "cell_type": "code",
      "execution_count": 86,
      "metadata": {
        "id": "z13D4tfTIN7W"
      },
      "outputs": [],
      "source": []
    },
    {
      "cell_type": "code",
      "execution_count": 86,
      "metadata": {
        "id": "7-OIXOFU2EFZ"
      },
      "outputs": [],
      "source": []
    },
    {
      "cell_type": "code",
      "execution_count": 87,
      "metadata": {
        "id": "gszdzewSIUJp"
      },
      "outputs": [],
      "source": [
        "Q = [[] for _ in range(15)]\n",
        "S = [[] for _ in range(15)]\n",
        "\n",
        "for w in Agent_Patient_Qs:\n",
        "  for q in w:\n",
        "    for cluster in q['agent_cluster']:\n",
        "      if cluster is not None:\n",
        "        Q[cluster].append(q['question'])\n",
        "        S[cluster].append(q)\n",
        "    for cluster in q['patient_cluster']:\n",
        "      if cluster is not None:\n",
        "        Q[cluster].append(q['question'])\n",
        "        S[cluster].append(q)\n",
        "\n",
        "\n",
        "for w in Patient_State_Qs:\n",
        "  for q in w:\n",
        "    for cluster in q['answer_cluster']:\n",
        "      if cluster is not None:\n",
        "        Q[cluster].append(q['question'])\n",
        "        S[cluster].append(q)\n",
        "    for cluster in q['question_cluster']:\n",
        "      if cluster is not None:\n",
        "        Q[cluster].append(q['question'])\n",
        "        S[cluster].append(q)"
      ]
    },
    {
      "cell_type": "code",
      "execution_count": 87,
      "metadata": {
        "id": "8WCC4o30el6A"
      },
      "outputs": [],
      "source": []
    },
    {
      "cell_type": "code",
      "execution_count": 87,
      "metadata": {
        "id": "veAAwfqhemBi"
      },
      "outputs": [],
      "source": []
    },
    {
      "cell_type": "code",
      "execution_count": 88,
      "metadata": {
        "id": "WXIyXLQKmlrm",
        "colab": {
          "base_uri": "https://localhost:8080/"
        },
        "outputId": "011f59c6-27e0-45d5-e202-038ae2678163"
      },
      "outputs": [
        {
          "output_type": "stream",
          "name": "stdout",
          "text": [
            "-------------------\n",
            "-------------------\n",
            "-------------------\n",
            "-------------------\n"
          ]
        }
      ],
      "source": [
        "U, V = [[] for _ in range(30)], []\n",
        "T = []\n",
        "for jdx in range(len(chars_spans)):\n",
        "  can_use_coref = False\n",
        "  for idx in range(len(Patient_State_Qs)):\n",
        "\n",
        "    sent = Agent_Patient_Qs[idx]\n",
        "\n",
        "    for srl in sent:\n",
        "      if 'agent_cluster' in srl.keys():\n",
        "        if srl['agent_cluster'] == jdx and srl['agent_in_question']:\n",
        "          U[jdx].append(srl)\n",
        "        else:\n",
        "          if srl not in V:\n",
        "            V.append(srl)\n",
        "      else:\n",
        "        if srl['question_cluster'] == jdx:\n",
        "          U[jdx].append(srl)\n",
        "        else:\n",
        "          if srl not in V:\n",
        "            V.append(srl)\n",
        "\n",
        "\n",
        "    sent = Patient_State_Qs[idx]\n",
        "\n",
        "    for srl in sent:\n",
        "      if srl['question_cluster'] == jdx or srl['question_cluster'] == jdx:\n",
        "        U[jdx].append(srl)\n",
        "      else:\n",
        "        if srl not in V:\n",
        "          V.append(srl)\n",
        "  print('-------------------')\n",
        "\n"
      ]
    },
    {
      "cell_type": "code",
      "execution_count": 89,
      "metadata": {
        "id": "8TOW9QgEUQmU",
        "colab": {
          "base_uri": "https://localhost:8080/",
          "height": 141
        },
        "outputId": "e684a93f-1306-4c55-8e2c-095bc6201057"
      },
      "outputs": [
        {
          "output_type": "error",
          "ename": "SyntaxError",
          "evalue": "ignored",
          "traceback": [
            "\u001b[0;36m  File \u001b[0;32m\"<ipython-input-89-b76a914f1351>\"\u001b[0;36m, line \u001b[0;32m11\u001b[0m\n\u001b[0;31m    if cluster\u001b[0m\n\u001b[0m              ^\u001b[0m\n\u001b[0;31mSyntaxError\u001b[0m\u001b[0;31m:\u001b[0m expected ':'\n"
          ]
        }
      ],
      "source": [
        "seen_idxs = []\n",
        "seen_idxs.append(0)\n",
        "\n",
        "for s in S[0]:\n",
        "  stack.append(s)\n",
        "\n",
        "\n",
        "for s in stack:\n",
        "  if 'agent_cluster' in s.keys() and s['agent_cluster'] is not None:\n",
        "    for cluster in s['agent_cluster']:\n",
        "      if cluster\n",
        "\n",
        "\n",
        "\n",
        "\n",
        "seen_idxs = []\n",
        "for s_idx, s in enumerate(S):\n",
        "  if s_idx not in seen_idxs:\n",
        "    seen_idxs.append(s_idx)\n",
        "    for q in s:\n",
        "      print(Q['question'])"
      ]
    },
    {
      "cell_type": "code",
      "execution_count": null,
      "metadata": {
        "id": "airmReNZUWvM"
      },
      "outputs": [],
      "source": []
    },
    {
      "cell_type": "code",
      "execution_count": null,
      "metadata": {
        "id": "9c-Q78X_4Wbi"
      },
      "outputs": [],
      "source": [
        "for jdx in range(len(U)):\n",
        "  can_use_coref = False\n",
        "\n",
        "  for srl in U[jdx]:\n",
        "    if not can_use_coref:\n",
        "      question = get_sent(srl['q_detail']['bef'], get_non_trivial_coref_(jdx), srl['q_detail']['after'])\n",
        "      can_use_coref = True\n",
        "    else:\n",
        "      try:\n",
        "        nt = cluster_trivial_coref[srl['agent_cluster']]\n",
        "      except:\n",
        "        nt = cluster_trivial_coref[srl['question_cluster']]\n",
        "      if nt != '':\n",
        "        question = get_sent(srl['q_detail']['bef'], nt, srl['q_detail']['after'])\n",
        "      else:\n",
        "        question = srl['question']\n",
        "    answer = srl['answer']\n",
        "    print('-', question, answer)\n",
        "\n",
        "    if random.uniform(0, 1) > .8:\n",
        "      srl = random.sample(V, k=1)[0]\n",
        "      question = srl['question']\n",
        "      answer = srl['answer']\n",
        "      print('+', question, answer)\n",
        "      can_use_coref = False\n",
        "\n",
        "  print('=====================')"
      ]
    },
    {
      "cell_type": "code",
      "execution_count": null,
      "metadata": {
        "id": "lBFDjgqeAk0h"
      },
      "outputs": [],
      "source": [
        "chars_spans"
      ]
    },
    {
      "cell_type": "markdown",
      "metadata": {
        "id": "68l86dnlg5XG"
      },
      "source": [
        "# Next section"
      ]
    },
    {
      "cell_type": "code",
      "execution_count": null,
      "metadata": {
        "id": "RNYKNVUkW9m3"
      },
      "outputs": [],
      "source": []
    },
    {
      "cell_type": "code",
      "execution_count": null,
      "metadata": {
        "id": "IwdxJAEGR9On"
      },
      "outputs": [],
      "source": []
    },
    {
      "cell_type": "code",
      "execution_count": null,
      "metadata": {
        "id": "FTO63HjrR9Rn"
      },
      "outputs": [],
      "source": [
        "T = SRL_predictor.predict(sents[4])\n",
        "T"
      ]
    },
    {
      "cell_type": "code",
      "execution_count": null,
      "metadata": {
        "id": "l_AArrPLZ-A-"
      },
      "outputs": [],
      "source": [
        "T"
      ]
    },
    {
      "cell_type": "code",
      "execution_count": null,
      "metadata": {
        "id": "qyj-xNtVBInR"
      },
      "outputs": [],
      "source": [
        "for sent_idx in range(len(sents)):\n",
        "  A = sents_semantic_roles[sent_idx]\n",
        "  entities = extract_entities(sents[sent_idx])\n",
        "  for idx in range(len(A['verbs'])):\n",
        "    tags = A['verbs'][idx]['tags']\n",
        "    words = A['words']\n",
        "    ext, ext_exists, ext_indexes = find_arg(words, tags, 'EXT')\n",
        "    time, time_exists, time_indexes = find_arg(words, tags, 'TMP')\n",
        "    manner, manner_exists, manner_indexes  = find_arg(words, tags, 'MNR')\n",
        "    agent, agent_exists, agent_indexes = find_arg(words, tags, 'ARG0')\n",
        "    patient, patient_exists, patient_indexes = find_arg(words, tags, 'ARG1')\n",
        "    state, state_exists, state_indexes = find_arg(words, tags, 'ARG2')\n",
        "    cause, cause_exists, cause_indexes = find_arg(words, tags, 'CAU')\n",
        "    loc, loc_exists, loc_indexes = find_arg(words, tags, 'LOC')\n",
        "    verb, verb_exists, verb_indexes = find_arg(words, tags, 'V')\n",
        "\n",
        "\n",
        "    semantic_role_ent_type = find_semantic_ent_type(entities,\n",
        "                             [ext_indexes,\n",
        "                              time_indexes,\n",
        "                              manner_indexes,\n",
        "                              agent_indexes,\n",
        "                              patient_indexes,\n",
        "                              state_indexes,\n",
        "                              cause_indexes,\n",
        "                              loc_indexes])\n",
        "\n",
        "    ext_ent_types, \\\n",
        "    time_ent_types, \\\n",
        "    manner_ent_types, \\\n",
        "    agent_ent_types, \\\n",
        "    patient_ent_types, \\\n",
        "    state_ent_types, \\\n",
        "    cause_ent_types, \\\n",
        "    loc_ent_types = semantic_role_ent_type\n",
        "\n",
        "    if agent_exists and patient_exists and loc_exists:\n",
        "      print(A['verbs'][idx]['description'])\n",
        "      print(agent, patient, loc)\n",
        "\n"
      ]
    },
    {
      "cell_type": "code",
      "execution_count": null,
      "metadata": {
        "id": "tTsMtrp0H9Dc"
      },
      "outputs": [],
      "source": [
        "A['verbs'][0]['description']"
      ]
    },
    {
      "cell_type": "code",
      "execution_count": null,
      "metadata": {
        "id": "hjxjA-il_bvI"
      },
      "outputs": [],
      "source": []
    },
    {
      "cell_type": "code",
      "execution_count": null,
      "metadata": {
        "id": "WbMfwCm1RqdG"
      },
      "outputs": [],
      "source": [
        "named_entities"
      ]
    },
    {
      "cell_type": "code",
      "execution_count": null,
      "metadata": {
        "id": "OqPVdlIxQsXR"
      },
      "outputs": [],
      "source": []
    },
    {
      "cell_type": "code",
      "execution_count": null,
      "metadata": {
        "id": "8K1L9_nOQsaI"
      },
      "outputs": [],
      "source": []
    },
    {
      "cell_type": "code",
      "execution_count": null,
      "metadata": {
        "id": "e2kUZEpRQsed"
      },
      "outputs": [],
      "source": []
    },
    {
      "cell_type": "code",
      "execution_count": null,
      "metadata": {
        "id": "AYINk6iV9HD9"
      },
      "outputs": [],
      "source": [
        "A = SRL_predictor.predict(sents[0])\n",
        "tags = A['verbs'][0]['tags']\n",
        "words = A['words']\n",
        "for word, tag in zip(words, tags):\n",
        "  print(word, tag)"
      ]
    },
    {
      "cell_type": "code",
      "execution_count": null,
      "metadata": {
        "id": "OfDTgQTPUqTz"
      },
      "outputs": [],
      "source": [
        "A"
      ]
    },
    {
      "cell_type": "code",
      "execution_count": null,
      "metadata": {
        "id": "QYJgWGI2LX1s"
      },
      "outputs": [],
      "source": [
        "A = SRL_predictor.predict(sents[6])\n",
        "tags = A['verbs'][1]['tags']\n",
        "words = A['words']\n",
        "for word, tag in zip(words, tags):\n",
        "  print(word, tag)"
      ]
    },
    {
      "cell_type": "code",
      "execution_count": null,
      "metadata": {
        "id": "Wn_Az3cUOHrL"
      },
      "outputs": [],
      "source": []
    },
    {
      "cell_type": "code",
      "execution_count": null,
      "metadata": {
        "id": "clo6DnU2OHtX"
      },
      "outputs": [],
      "source": []
    },
    {
      "cell_type": "code",
      "execution_count": null,
      "metadata": {
        "id": "X1I_0b3XOzGq"
      },
      "outputs": [],
      "source": []
    },
    {
      "cell_type": "code",
      "execution_count": null,
      "metadata": {
        "id": "XhQRvGxbOzJj"
      },
      "outputs": [],
      "source": []
    },
    {
      "cell_type": "code",
      "execution_count": null,
      "metadata": {
        "id": "sgk_80YSOzMY"
      },
      "outputs": [],
      "source": []
    },
    {
      "cell_type": "code",
      "execution_count": null,
      "metadata": {
        "id": "4XuywaxBNOOJ"
      },
      "outputs": [],
      "source": [
        "A['verbs'][1]"
      ]
    },
    {
      "cell_type": "code",
      "execution_count": null,
      "metadata": {
        "id": "_lyMFS7SLk6V"
      },
      "outputs": [],
      "source": [
        "tags = A['verbs'][0]['tags']\n",
        "words = A['words']\n",
        "ext, ext_exists = find_arg(words, tags, 'EXT')\n",
        "time, time_exists = find_arg(words, tags, 'TMP')\n",
        "manner, manner_exists = find_arg(words, tags, 'MNR')\n",
        "agent, agent_exists = find_arg(words, tags, 'ARG0')\n",
        "patient, patient_exists = find_arg(words, tags, 'ARG1')\n",
        "state, state_exists = find_arg(words, tags, 'ARG2')\n",
        "cause, cause_exists = find_arg(words, tags, 'CAU')\n",
        "verb, verb_exists = find_arg(words, tags, 'V')"
      ]
    },
    {
      "cell_type": "code",
      "execution_count": null,
      "metadata": {
        "id": "05h54NG8Lk9f"
      },
      "outputs": [],
      "source": [
        "print('extent', ext_exists)\n",
        "print('time', time_exists)\n",
        "print('manner', manner_exists)\n",
        "print('agent', agent_exists)\n",
        "print('patient', patient_exists)\n",
        "print('state', state_exists)\n",
        "print('cause', cause_exists)\n",
        "print('verb', verb_exists)"
      ]
    },
    {
      "cell_type": "code",
      "execution_count": null,
      "metadata": {
        "id": "0U2RzLycQbMc"
      },
      "outputs": [],
      "source": [
        "print('why', patient, verb, state, '?')"
      ]
    },
    {
      "cell_type": "code",
      "execution_count": null,
      "metadata": {
        "id": "0cGxUPFnQF7P"
      },
      "outputs": [],
      "source": [
        "NER_predictor.predict('he sent the ball to roof')"
      ]
    },
    {
      "cell_type": "code",
      "execution_count": null,
      "metadata": {
        "id": "xochFkylQpe2"
      },
      "outputs": [],
      "source": []
    },
    {
      "cell_type": "code",
      "execution_count": null,
      "metadata": {
        "id": "ZbPvECMpPc5v"
      },
      "outputs": [],
      "source": []
    },
    {
      "cell_type": "code",
      "execution_count": null,
      "metadata": {
        "id": "qBvQDnrPPc8-"
      },
      "outputs": [],
      "source": []
    },
    {
      "cell_type": "code",
      "execution_count": null,
      "metadata": {
        "id": "gf7O8t1fPdAA"
      },
      "outputs": [],
      "source": []
    },
    {
      "cell_type": "code",
      "execution_count": null,
      "metadata": {
        "id": "IF74F2y8PdDJ"
      },
      "outputs": [],
      "source": []
    },
    {
      "cell_type": "code",
      "execution_count": null,
      "metadata": {
        "id": "MbHZVYoqPdFD"
      },
      "outputs": [],
      "source": []
    },
    {
      "cell_type": "code",
      "execution_count": null,
      "metadata": {
        "id": "9gs_Z_E-PdHu"
      },
      "outputs": [],
      "source": []
    },
    {
      "cell_type": "code",
      "execution_count": null,
      "metadata": {
        "id": "E_vfB_ONQpiV"
      },
      "outputs": [],
      "source": []
    },
    {
      "cell_type": "code",
      "execution_count": null,
      "metadata": {
        "id": "EB7SWXUyQpkl"
      },
      "outputs": [],
      "source": []
    },
    {
      "cell_type": "code",
      "execution_count": null,
      "metadata": {
        "id": "vXhgrQd2LlAV"
      },
      "outputs": [],
      "source": [
        "print('why', patient, verb, state)"
      ]
    },
    {
      "cell_type": "code",
      "execution_count": null,
      "metadata": {
        "id": "pXSxZ1AZLlDV"
      },
      "outputs": [],
      "source": []
    },
    {
      "cell_type": "code",
      "execution_count": null,
      "metadata": {
        "id": "lQkPUDWULlGM"
      },
      "outputs": [],
      "source": []
    },
    {
      "cell_type": "code",
      "execution_count": null,
      "metadata": {
        "id": "ficyi37WLlI5"
      },
      "outputs": [],
      "source": []
    },
    {
      "cell_type": "code",
      "execution_count": null,
      "metadata": {
        "id": "4gWlsQEbLlLw"
      },
      "outputs": [],
      "source": []
    },
    {
      "cell_type": "code",
      "execution_count": null,
      "metadata": {
        "id": "sM9FUOnXLlOg"
      },
      "outputs": [],
      "source": []
    },
    {
      "cell_type": "code",
      "execution_count": null,
      "metadata": {
        "id": "7ZnG26pq9HKF"
      },
      "outputs": [],
      "source": [
        "A = SRL_predictor.predict(sents[4])\n",
        "tags = A['verbs'][0]['tags']\n",
        "words = A['words']\n",
        "for word, tag in zip(words, tags):\n",
        "  print(word, tag)"
      ]
    },
    {
      "cell_type": "code",
      "execution_count": null,
      "metadata": {
        "id": "Sh2CUAriDUtH"
      },
      "outputs": [],
      "source": []
    },
    {
      "cell_type": "code",
      "execution_count": null,
      "metadata": {
        "id": "oUfUpXlYDUv7"
      },
      "outputs": [],
      "source": []
    },
    {
      "cell_type": "code",
      "execution_count": null,
      "metadata": {
        "id": "coeixPCoDUyZ"
      },
      "outputs": [],
      "source": []
    },
    {
      "cell_type": "code",
      "execution_count": null,
      "metadata": {
        "id": "SD21dT9g3SOB"
      },
      "outputs": [],
      "source": [
        "for tag, word in zip(N['tags'], N['words']):\n",
        "  print(tag, word)"
      ]
    },
    {
      "cell_type": "code",
      "execution_count": null,
      "metadata": {
        "id": "PKnzqnQ-y45s"
      },
      "outputs": [],
      "source": [
        "T"
      ]
    },
    {
      "cell_type": "code",
      "execution_count": null,
      "metadata": {
        "id": "UF92WmgFy487"
      },
      "outputs": [],
      "source": []
    },
    {
      "cell_type": "code",
      "execution_count": null,
      "metadata": {
        "id": "w25KFry9y5Ad"
      },
      "outputs": [],
      "source": []
    },
    {
      "cell_type": "code",
      "execution_count": null,
      "metadata": {
        "id": "AXmzPskey5DW"
      },
      "outputs": [],
      "source": []
    },
    {
      "cell_type": "code",
      "execution_count": null,
      "metadata": {
        "id": "CBO-Ap_Ey5Gu"
      },
      "outputs": [],
      "source": []
    },
    {
      "cell_type": "code",
      "execution_count": null,
      "metadata": {
        "id": "eMHks1RAy5JT"
      },
      "outputs": [],
      "source": []
    },
    {
      "cell_type": "code",
      "execution_count": null,
      "metadata": {
        "id": "8uptl5ZxXfsZ"
      },
      "outputs": [],
      "source": [
        "A = SRL_predictor.predict('New Mexico was won by obama by a margin of 5% in 2008 using constructing bridges')\n",
        "tags = A['verbs'][1]['tags']\n",
        "words = A['words']"
      ]
    },
    {
      "cell_type": "code",
      "execution_count": null,
      "metadata": {
        "id": "B5rUCME7o7Ib"
      },
      "outputs": [],
      "source": [
        "tags = A['verbs'][1]['tags']\n",
        "words = A['words']"
      ]
    },
    {
      "cell_type": "code",
      "execution_count": null,
      "metadata": {
        "id": "JeePA4334iOj"
      },
      "outputs": [],
      "source": [
        "def find_arg(words, tags, tag_id):\n",
        "  founds = []\n",
        "  found_start = False\n",
        "  for index, (word, tag) in enumerate(zip(words, tags)):\n",
        "    if tag_id in tag and not 'R-ARG' in tag:\n",
        "      found_start = True\n",
        "      founds.append([word, tag, index])\n",
        "  real_founds = ' '.join([found[0] for found in founds])\n",
        "  return real_founds"
      ]
    },
    {
      "cell_type": "code",
      "execution_count": null,
      "metadata": {
        "id": "Uo26u62iqzfI"
      },
      "outputs": [],
      "source": [
        "tags = A['verbs'][1]['tags']\n",
        "words = A['words']\n",
        "ext = find_arg(words, tags, 'EXT')\n",
        "time = find_arg(words, tags, 'TMP')\n",
        "manner = find_arg(words, tags, 'MNR')\n",
        "agent = find_arg(words, tags, 'ARG0')\n",
        "patient = find_arg(words, tags, 'ARG1')\n",
        "verb = find_arg(words, tags, 'V')"
      ]
    },
    {
      "cell_type": "code",
      "execution_count": null,
      "metadata": {
        "id": "O1-V7Oui64mT"
      },
      "outputs": [],
      "source": [
        "'who' + ' ' + verb + ' ' + patient + '? ' + agent"
      ]
    },
    {
      "cell_type": "code",
      "execution_count": null,
      "metadata": {
        "id": "KxycA74E64uh"
      },
      "outputs": [],
      "source": [
        "'when? ' + time"
      ]
    },
    {
      "cell_type": "code",
      "execution_count": null,
      "metadata": {
        "id": "tzS82OCm68HO"
      },
      "outputs": [],
      "source": [
        "'by how much? ' + ext"
      ]
    },
    {
      "cell_type": "code",
      "execution_count": null,
      "metadata": {
        "id": "GT5QaMM_BNt2"
      },
      "outputs": [],
      "source": [
        "print('how? ' + manner)\n",
        "print('how did this happen? ' + manner)\n",
        "print('why did this happen? ' + manner)\n",
        "print('why did this happen? ' + manner)\n",
        "print('why did this happen? ' + manner)\n",
        "print('why did this happen? ' + manner)"
      ]
    },
    {
      "cell_type": "code",
      "execution_count": null,
      "metadata": {
        "id": "blBOTHLp68J1"
      },
      "outputs": [],
      "source": [
        "B = SRL_predictor.predict('At the end of mesusuic era, some icebergs surfaced and put the lives of animals in danger by destroying settelings')"
      ]
    },
    {
      "cell_type": "code",
      "execution_count": null,
      "metadata": {
        "id": "XvXiYz1E68Mk"
      },
      "outputs": [],
      "source": [
        "B"
      ]
    },
    {
      "cell_type": "code",
      "execution_count": null,
      "metadata": {
        "id": "oPq41lQ1CHpa"
      },
      "outputs": [],
      "source": [
        "tags = A['verbs'][0]['tags']\n",
        "words = A['words']\n",
        "ext = find_arg(words, tags, 'EXT')\n",
        "time = find_arg(words, tags, 'TMP')\n",
        "manner = find_arg(words, tags, 'MNR')\n",
        "agent = find_arg(words, tags, 'ARG0')\n",
        "patient = find_arg(words, tags, 'ARG1')\n",
        "verb = find_arg(words, tags, 'V')"
      ]
    },
    {
      "cell_type": "code",
      "execution_count": null,
      "metadata": {
        "id": "0txv7EjeCHr6"
      },
      "outputs": [],
      "source": [
        "'what' + ' ' + verb + ' ' + time + '? ' + patient"
      ]
    },
    {
      "cell_type": "code",
      "execution_count": null,
      "metadata": {
        "id": "1F4mqXAFErx1"
      },
      "outputs": [],
      "source": [
        "tags = B['verbs'][1]['tags']\n",
        "words = B['words']\n",
        "ext = find_arg(words, tags, 'EXT')\n",
        "time = find_arg(words, tags, 'TMP')\n",
        "manner = find_arg(words, tags, 'MNR')\n",
        "agent = find_arg(words, tags, 'ARG0')\n",
        "patient = find_arg(words, tags, 'ARG1')\n",
        "instrument = find_arg(words, tags, 'ARG2')\n",
        "verb = find_arg(words, tags, 'V')"
      ]
    },
    {
      "cell_type": "code",
      "execution_count": null,
      "metadata": {
        "id": "-GIDnTyHCHu7"
      },
      "outputs": [],
      "source": [
        "'what' + ' ' + verb + ' ' + patient + ' ' + manner + ' ' + time + '? ' + agent"
      ]
    },
    {
      "cell_type": "code",
      "execution_count": null,
      "metadata": {
        "id": "0FBLT02zH7bh"
      },
      "outputs": [],
      "source": [
        "manner"
      ]
    },
    {
      "cell_type": "code",
      "execution_count": null,
      "metadata": {
        "id": "XGWxKnxRCHyL"
      },
      "outputs": [],
      "source": [
        "'How' + ' ' + agent + ' ' + verb + ' ' + patient + ' ' + instrument + '? ' + manner"
      ]
    },
    {
      "cell_type": "code",
      "execution_count": null,
      "metadata": {
        "id": "PIrwxRIkCH0k"
      },
      "outputs": [],
      "source": [
        "'When did this happen? ' + time"
      ]
    },
    {
      "cell_type": "code",
      "execution_count": null,
      "metadata": {
        "id": "OxJgx3sQCH3e"
      },
      "outputs": [],
      "source": []
    },
    {
      "cell_type": "code",
      "execution_count": null,
      "metadata": {
        "id": "KtSGh8nPCH6O"
      },
      "outputs": [],
      "source": [
        "C = SRL_predictor.predict('Born in Trier, Germany, Marx studied law and philosophy at the universities of Bonn and Berlin.')"
      ]
    },
    {
      "cell_type": "code",
      "execution_count": null,
      "metadata": {
        "id": "TOoSoaL7RDhz"
      },
      "outputs": [],
      "source": [
        "tags = C['verbs'][1]['tags']\n",
        "words = C['words']\n",
        "ext = find_arg(words, tags, 'EXT')\n",
        "time = find_arg(words, tags, 'TMP')\n",
        "manner = find_arg(words, tags, 'MNR')\n",
        "agent = find_arg(words, tags, 'ARG0')\n",
        "patient = find_arg(words, tags, 'ARG1')\n",
        "instrument = find_arg(words, tags, 'ARG2')\n",
        "loc = find_arg(words, tags, 'LOC')\n",
        "verb = find_arg(words, tags, 'V')"
      ]
    },
    {
      "cell_type": "code",
      "execution_count": null,
      "metadata": {
        "id": "WocqFcYoRE8t"
      },
      "outputs": [],
      "source": [
        "'where' + ' was ' + agent + ' ' + verb"
      ]
    },
    {
      "cell_type": "code",
      "execution_count": null,
      "metadata": {
        "id": "p-_9vTfjP--z"
      },
      "outputs": [],
      "source": [
        "'what' + ' ' + 'did' + ' ' + agent + ' ' + verb + '? ' + patient"
      ]
    },
    {
      "cell_type": "code",
      "execution_count": null,
      "metadata": {
        "id": "k8BSRH6iSVSM"
      },
      "outputs": [],
      "source": [
        "'where? ' + loc"
      ]
    },
    {
      "cell_type": "code",
      "execution_count": null,
      "metadata": {
        "id": "ZgcUUP9_P-9B"
      },
      "outputs": [],
      "source": [
        "C"
      ]
    },
    {
      "cell_type": "code",
      "execution_count": null,
      "metadata": {
        "id": "f8naefGz68Pd"
      },
      "outputs": [],
      "source": [
        "tags = C['verbs'][0]['tags']\n",
        "words = C['words']\n",
        "ext = find_arg(words, tags, 'EXT')\n",
        "time = find_arg(words, tags, 'TMP')\n",
        "manner = find_arg(words, tags, 'MNR')\n",
        "agent = find_arg(words, tags, 'ARG0')\n",
        "patient = find_arg(words, tags, 'ARG1')\n",
        "instrument = find_arg(words, tags, 'ARG2')\n",
        "verb = find_arg(words, tags, 'V')"
      ]
    },
    {
      "cell_type": "code",
      "execution_count": null,
      "metadata": {
        "id": "V1i5def168SA"
      },
      "outputs": [],
      "source": []
    },
    {
      "cell_type": "code",
      "execution_count": null,
      "metadata": {
        "id": "WgQ61OPlPLKu"
      },
      "outputs": [],
      "source": []
    },
    {
      "cell_type": "code",
      "execution_count": null,
      "metadata": {
        "id": "Tr4jmFbXPLOB"
      },
      "outputs": [],
      "source": []
    },
    {
      "cell_type": "code",
      "execution_count": null,
      "metadata": {
        "id": "VXoLgbcoPLRS"
      },
      "outputs": [],
      "source": []
    },
    {
      "cell_type": "code",
      "execution_count": null,
      "metadata": {
        "id": "eU6om-vpPLUe"
      },
      "outputs": [],
      "source": []
    },
    {
      "cell_type": "code",
      "execution_count": null,
      "metadata": {
        "id": "GuuQaRgrPLXU"
      },
      "outputs": [],
      "source": []
    },
    {
      "cell_type": "code",
      "execution_count": null,
      "metadata": {
        "id": "XhVV57-rPLaS"
      },
      "outputs": [],
      "source": []
    },
    {
      "cell_type": "code",
      "execution_count": null,
      "metadata": {
        "id": "Nw1647ZU68U8"
      },
      "outputs": [],
      "source": []
    },
    {
      "cell_type": "code",
      "execution_count": null,
      "metadata": {
        "id": "RDYbjZvEtcpe"
      },
      "outputs": [],
      "source": [
        "tags = A['verbs'][0]['tags']\n",
        "words = A['words']"
      ]
    },
    {
      "cell_type": "code",
      "execution_count": null,
      "metadata": {
        "id": "5r_qgWPrDCzb"
      },
      "outputs": [],
      "source": []
    },
    {
      "cell_type": "code",
      "execution_count": null,
      "metadata": {
        "id": "PCFB77JSDC1r"
      },
      "outputs": [],
      "source": [
        "def print_color(text, color):\n",
        "  blue = '\\033[94m'\n",
        "  green = '\\033[92m'\n",
        "  red = '\\033[91m'\n",
        "\n",
        "  global i\n",
        "\n",
        "  i += len(text) + 1\n",
        "\n",
        "  if i >= 130:\n",
        "    end = '\\n'\n",
        "    i = 0\n",
        "  else:\n",
        "    end = ''\n",
        "\n",
        "  if color == 'blue':\n",
        "    print(blue, text, end=end)\n",
        "  elif color == 'green':\n",
        "    print(green, text, end=end)\n",
        "  elif color == 'red':\n",
        "    print(red, text, end=end)"
      ]
    },
    {
      "cell_type": "code",
      "execution_count": null,
      "metadata": {
        "id": "ynUVq3tjF_kK"
      },
      "outputs": [],
      "source": [
        "i = 0\n",
        "tags = A['verbs'][7]['tags']\n",
        "words = A['words']\n",
        "found_start = False\n",
        "colors = ['red', 'green']\n",
        "color_idx = 0\n",
        "for word, tag in zip(words, tags):\n",
        "  if tag == 'O':\n",
        "    print_color(word, 'blue')\n",
        "    color_idx = int(not color_idx)\n",
        "    found_start = False\n",
        "  elif tag.startswith('B') and found_start:\n",
        "    color_idx = int(not color_idx)\n",
        "    print_color(word, colors[color_idx])\n",
        "  elif tag.startswith('B') and not found_start:\n",
        "    print_color(word, colors[color_idx])\n",
        "    found_start = True\n",
        "  elif tag.startswith('I'):\n",
        "    print_color(word, colors[color_idx])"
      ]
    },
    {
      "cell_type": "code",
      "execution_count": null,
      "metadata": {
        "id": "rdSbS-u9Hc-2"
      },
      "outputs": [],
      "source": [
        "found_start"
      ]
    },
    {
      "cell_type": "code",
      "execution_count": null,
      "metadata": {
        "id": "va63OnhgF_nQ"
      },
      "outputs": [],
      "source": [
        "tags"
      ]
    },
    {
      "cell_type": "code",
      "execution_count": null,
      "metadata": {
        "id": "Xai5QGAxF_qD"
      },
      "outputs": [],
      "source": []
    },
    {
      "cell_type": "code",
      "execution_count": null,
      "metadata": {
        "id": "zXElmoxoF_s_"
      },
      "outputs": [],
      "source": []
    },
    {
      "cell_type": "code",
      "execution_count": null,
      "metadata": {
        "id": "7xW-3kjhF_vW"
      },
      "outputs": [],
      "source": []
    },
    {
      "cell_type": "code",
      "execution_count": null,
      "metadata": {
        "id": "tvV655npF_yG"
      },
      "outputs": [],
      "source": []
    },
    {
      "cell_type": "code",
      "execution_count": null,
      "metadata": {
        "id": "LkfGNwOyF_0E"
      },
      "outputs": [],
      "source": []
    },
    {
      "cell_type": "code",
      "execution_count": null,
      "metadata": {
        "id": "RNwMHBxFF_1i"
      },
      "outputs": [],
      "source": []
    },
    {
      "cell_type": "code",
      "execution_count": null,
      "metadata": {
        "id": "QArnjO5hq5pz"
      },
      "outputs": [],
      "source": [
        "for T in A['verbs']:\n",
        "  print(T['tags'])"
      ]
    },
    {
      "cell_type": "code",
      "execution_count": null,
      "metadata": {
        "id": "TVnjfGdprYs1"
      },
      "outputs": [],
      "source": []
    },
    {
      "cell_type": "code",
      "execution_count": null,
      "metadata": {
        "id": "OBdFaRl3Xfvh"
      },
      "outputs": [],
      "source": [
        "doc = B['document']"
      ]
    },
    {
      "cell_type": "code",
      "execution_count": null,
      "metadata": {
        "id": "GGAXtRBBa6mc"
      },
      "outputs": [],
      "source": [
        "string"
      ]
    },
    {
      "cell_type": "code",
      "execution_count": null,
      "metadata": {
        "id": "tlZWtJuxgPKx"
      },
      "outputs": [],
      "source": []
    },
    {
      "cell_type": "code",
      "execution_count": null,
      "metadata": {
        "id": "HRFzdhhngPQu"
      },
      "outputs": [],
      "source": [
        "cluster = B['clusters'][3]"
      ]
    },
    {
      "cell_type": "code",
      "execution_count": null,
      "metadata": {
        "id": "Ap23J2jygSDw"
      },
      "outputs": [],
      "source": [
        "cluster"
      ]
    },
    {
      "cell_type": "code",
      "execution_count": null,
      "metadata": {
        "id": "dPicd55ia6q6"
      },
      "outputs": [],
      "source": [
        "for span in cluster:\n",
        "  span_start = span[0]\n",
        "  span_end = span[1]\n",
        "  print(span_start, span_end)"
      ]
    },
    {
      "cell_type": "code",
      "execution_count": null,
      "metadata": {
        "id": "ZyVCzOa_c_i1"
      },
      "outputs": [],
      "source": [
        "M = find(doc, 111, 'start')\n",
        "N = find(doc, 112, 'end')"
      ]
    },
    {
      "cell_type": "code",
      "execution_count": null,
      "metadata": {
        "id": "9wmEIjABgv-n"
      },
      "outputs": [],
      "source": [
        "string[M: N]"
      ]
    },
    {
      "cell_type": "code",
      "execution_count": null,
      "metadata": {
        "id": "yeqc_9AIa6Hf"
      },
      "outputs": [],
      "source": [
        "def find(doc, span_bound, mode='start'):\n",
        "  index = span_bound\n",
        "  to_find = doc[index]\n",
        "  to_find_len = len(to_find)\n",
        "  finds = list(re.finditer(to_find, string))\n",
        "  if len(finds) == 1:\n",
        "    span = finds[0].span()\n",
        "  else:\n",
        "    while True:\n",
        "      if index + 1 < len(doc):\n",
        "        index += 1\n",
        "        to_find_1 = to_find + doc[index]\n",
        "        to_find_2 = to_find + ' ' + doc[index]\n",
        "\n",
        "        print(to_find_1, to_find_2, index)\n",
        "        finds_1 = list(re.finditer(to_find_1, string))\n",
        "        finds_2 = list(re.finditer(to_find_2, string))\n",
        "\n",
        "        if len(finds_1) == 1:\n",
        "          break\n",
        "        elif len(finds_1) > 1:\n",
        "          to_find = to_find + doc[index]\n",
        "          continue\n",
        "        elif len(finds_2) == 1:\n",
        "          break\n",
        "        elif len(finds_2) > 1:\n",
        "          to_find = to_find + ' ' + doc[index]\n",
        "          continue\n",
        "\n",
        "  if len(finds_1) == 1:\n",
        "    A = finds_1[0]\n",
        "\n",
        "  if len(finds_2) == 1:\n",
        "    A = finds_2[0]\n",
        "\n",
        "  if mode == 'start':\n",
        "    return A.span()[0]\n",
        "  elif mode == 'end':\n",
        "    return A.span()[0] + to_find_len"
      ]
    },
    {
      "cell_type": "code",
      "execution_count": null,
      "metadata": {
        "id": "Lwfog43mvvHW"
      },
      "outputs": [],
      "source": [
        "def print_color(text, color):\n",
        "  blue = '\\033[94m'\n",
        "  green = '\\033[92m'\n",
        "  red = '\\033[91m'\n",
        "\n",
        "  global i\n",
        "\n",
        "  i += len(text) + 1\n",
        "\n",
        "  if i >= 130:\n",
        "    end = '\\n'\n",
        "    i = 0\n",
        "  else:\n",
        "    end = ''\n",
        "\n",
        "  if color == 'blue':\n",
        "    print(blue, text, end=end)\n",
        "  elif color == 'green':\n",
        "    print(green, text, end=end)\n",
        "  elif color == 'red':\n",
        "    print(red, text, end=end)"
      ]
    },
    {
      "cell_type": "code",
      "execution_count": null,
      "metadata": {
        "id": "VtvIoAh8wSBb"
      },
      "outputs": [],
      "source": [
        "cluster = B['clusters'][3]\n",
        "i = 0\n",
        "for word_id, word in enumerate(doc):\n",
        "  found_word = False\n",
        "  for word_bound in cluster:\n",
        "    if (word_id >= word_bound[0] and word_id <= word_bound[1]):\n",
        "      print_color(word, 'red')\n",
        "      found_word = True\n",
        "      break\n",
        "  if not found_word:\n",
        "    print_color(word, 'blue')"
      ]
    },
    {
      "cell_type": "code",
      "execution_count": null,
      "metadata": {
        "id": "lLG3ZGibfD2P"
      },
      "outputs": [],
      "source": []
    },
    {
      "cell_type": "code",
      "execution_count": null,
      "metadata": {
        "id": "ALyQdpVLfD5b"
      },
      "outputs": [],
      "source": []
    },
    {
      "cell_type": "code",
      "execution_count": null,
      "metadata": {
        "id": "vFosYbNwfD8J"
      },
      "outputs": [],
      "source": []
    },
    {
      "cell_type": "code",
      "execution_count": null,
      "metadata": {
        "id": "J5gLOpKcfD-9"
      },
      "outputs": [],
      "source": []
    },
    {
      "cell_type": "code",
      "execution_count": null,
      "metadata": {
        "id": "l7sDAhtRfECA"
      },
      "outputs": [],
      "source": []
    },
    {
      "cell_type": "code",
      "execution_count": null,
      "metadata": {
        "id": "wkmNtkO3fEGu"
      },
      "outputs": [],
      "source": []
    },
    {
      "cell_type": "code",
      "execution_count": null,
      "metadata": {
        "id": "B7deF4K7_vue"
      },
      "outputs": [],
      "source": [
        "C = NER_predictor.predict(string)"
      ]
    },
    {
      "cell_type": "code",
      "execution_count": null,
      "metadata": {
        "id": "St_hL5VeVbSV"
      },
      "outputs": [],
      "source": [
        "C['tags']"
      ]
    },
    {
      "cell_type": "code",
      "execution_count": null,
      "metadata": {
        "id": "Hvxt8XZTAc5j"
      },
      "outputs": [],
      "source": [
        "i = 0\n",
        "tags = C['tags']\n",
        "words = C['words']\n",
        "found_start = False\n",
        "colors = ['red', 'green']\n",
        "color_idx = 0\n",
        "for word, tag in zip(words, tags):\n",
        "  if tag == 'O':\n",
        "    print_color(word, 'blue')\n",
        "  else:\n",
        "    print_color(word, 'red')"
      ]
    },
    {
      "cell_type": "code",
      "execution_count": null,
      "metadata": {
        "id": "YxGLvAcnWyG3"
      },
      "outputs": [],
      "source": []
    },
    {
      "cell_type": "code",
      "execution_count": null,
      "metadata": {
        "id": "8JtJ_A1oWyU4"
      },
      "outputs": [],
      "source": []
    },
    {
      "cell_type": "code",
      "execution_count": null,
      "metadata": {
        "id": "QoJhnXzDWyX-"
      },
      "outputs": [],
      "source": []
    },
    {
      "cell_type": "code",
      "execution_count": null,
      "metadata": {
        "id": "2d7v1LP0Wyai"
      },
      "outputs": [],
      "source": [
        "import json"
      ]
    },
    {
      "cell_type": "code",
      "execution_count": null,
      "metadata": {
        "id": "cAaqqLW0EsES"
      },
      "outputs": [],
      "source": [
        "! wget -nc https://s3.amazonaws.com/my89public/quac/train_v0.2.json\n",
        "! wget -nc https://s3.amazonaws.com/my89public/quac/val_v0.2.json"
      ]
    },
    {
      "cell_type": "code",
      "execution_count": null,
      "metadata": {
        "id": "r8O6S20CUy73"
      },
      "outputs": [],
      "source": [
        "train_path = 'train_v0.2.json'\n",
        "eval_path = 'val_v0.2.json'\n",
        "\n",
        "def load_data(path):\n",
        "  with open(path, 'r') as f:\n",
        "    return json.load(f)\n",
        "\n",
        "train_data = load_data(train_path)\n",
        "eval_data = load_data(eval_path)"
      ]
    },
    {
      "cell_type": "code",
      "execution_count": null,
      "metadata": {
        "id": "pSpF4bnbUy-v"
      },
      "outputs": [],
      "source": [
        "qas = train_data['data'][9]['paragraphs'][0]['qas']"
      ]
    },
    {
      "cell_type": "code",
      "execution_count": null,
      "metadata": {
        "id": "Hj7lsY0fUzBz"
      },
      "outputs": [],
      "source": [
        "for qa in qas:\n",
        "  question = qa['question']\n",
        "  answer = qa['answers'][0]['text']\n",
        "  start, end = qa['answers'][0]['answer_start'], qa['answers'][0]['answer_start'] + len(answer)\n",
        "  print(question, answer, start, end)"
      ]
    },
    {
      "cell_type": "code",
      "execution_count": null,
      "metadata": {
        "id": "2Ts6QClkEsIJ"
      },
      "outputs": [],
      "source": []
    },
    {
      "cell_type": "code",
      "execution_count": null,
      "metadata": {
        "id": "rKiTx07dEsMS"
      },
      "outputs": [],
      "source": []
    },
    {
      "cell_type": "code",
      "execution_count": null,
      "metadata": {
        "id": "lufdk1snEsP5"
      },
      "outputs": [],
      "source": []
    },
    {
      "cell_type": "code",
      "execution_count": null,
      "metadata": {
        "id": "asDUoTC0ApIN"
      },
      "outputs": [],
      "source": [
        "C['tags']"
      ]
    },
    {
      "cell_type": "code",
      "execution_count": null,
      "metadata": {
        "id": "0zI3OLrAuYkL"
      },
      "outputs": [],
      "source": [
        "1 < 2 < 3"
      ]
    }
  ],
  "metadata": {
    "colab": {
      "collapsed_sections": [
        "6rGO8E78guaX",
        "H1iMhHYz72yL"
      ],
      "provenance": []
    },
    "kernelspec": {
      "display_name": "Python 3",
      "name": "python3"
    },
    "language_info": {
      "name": "python"
    },
    "widgets": {
      "application/vnd.jupyter.widget-state+json": {
        "ef222d91e3d44e739d798f1b5f1c0510": {
          "model_module": "@jupyter-widgets/output",
          "model_name": "OutputModel",
          "model_module_version": "1.0.0",
          "state": {
            "_dom_classes": [],
            "_model_module": "@jupyter-widgets/output",
            "_model_module_version": "1.0.0",
            "_model_name": "OutputModel",
            "_view_count": null,
            "_view_module": "@jupyter-widgets/output",
            "_view_module_version": "1.0.0",
            "_view_name": "OutputView",
            "layout": "IPY_MODEL_bf7778608f894e19b185f67e8d511468",
            "msg_id": "",
            "outputs": [
              {
                "output_type": "display_data",
                "data": {
                  "text/plain": "Downloading \u001b[3;36mhttps://storage.googleapis.com/allennlp-public-mo…\u001b[0m \u001b[38;2;249;38;114m━━━━━━━━━━━━━━━━━━━━━━━\u001b[0m\u001b[38;2;249;38;114m╸\u001b[0m \u001b[35m100%\u001b[0m \u001b[33m0:00:20\u001b[0m \u001b[32m404.5/406.0 MB\u001b[0m\n",
                  "text/html": "<pre style=\"white-space:pre;overflow-x:auto;line-height:normal;font-family:Menlo,'DejaVu Sans Mono',consolas,'Courier New',monospace\">Downloading <span style=\"color: #008080; text-decoration-color: #008080; font-style: italic\">https://storage.googleapis.com/allennlp-public-mo…</span> <span style=\"color: #f92672; text-decoration-color: #f92672\">━━━━━━━━━━━━━━━━━━━━━━━╸</span> <span style=\"color: #800080; text-decoration-color: #800080\">100%</span> <span style=\"color: #808000; text-decoration-color: #808000\">0:00:20</span> <span style=\"color: #008000; text-decoration-color: #008000\">404.5/406.0 MB</span>\n</pre>\n"
                },
                "metadata": {}
              }
            ]
          }
        },
        "bf7778608f894e19b185f67e8d511468": {
          "model_module": "@jupyter-widgets/base",
          "model_name": "LayoutModel",
          "model_module_version": "1.2.0",
          "state": {
            "_model_module": "@jupyter-widgets/base",
            "_model_module_version": "1.2.0",
            "_model_name": "LayoutModel",
            "_view_count": null,
            "_view_module": "@jupyter-widgets/base",
            "_view_module_version": "1.2.0",
            "_view_name": "LayoutView",
            "align_content": null,
            "align_items": null,
            "align_self": null,
            "border": null,
            "bottom": null,
            "display": null,
            "flex": null,
            "flex_flow": null,
            "grid_area": null,
            "grid_auto_columns": null,
            "grid_auto_flow": null,
            "grid_auto_rows": null,
            "grid_column": null,
            "grid_gap": null,
            "grid_row": null,
            "grid_template_areas": null,
            "grid_template_columns": null,
            "grid_template_rows": null,
            "height": null,
            "justify_content": null,
            "justify_items": null,
            "left": null,
            "margin": null,
            "max_height": null,
            "max_width": null,
            "min_height": null,
            "min_width": null,
            "object_fit": null,
            "object_position": null,
            "order": null,
            "overflow": null,
            "overflow_x": null,
            "overflow_y": null,
            "padding": null,
            "right": null,
            "top": null,
            "visibility": null,
            "width": null
          }
        },
        "e0a85cde10524f6dafbada2005b0d1b1": {
          "model_module": "@jupyter-widgets/controls",
          "model_name": "HBoxModel",
          "model_module_version": "1.5.0",
          "state": {
            "_dom_classes": [],
            "_model_module": "@jupyter-widgets/controls",
            "_model_module_version": "1.5.0",
            "_model_name": "HBoxModel",
            "_view_count": null,
            "_view_module": "@jupyter-widgets/controls",
            "_view_module_version": "1.5.0",
            "_view_name": "HBoxView",
            "box_style": "",
            "children": [
              "IPY_MODEL_86a8c0227532455aa82ca42925a8e108",
              "IPY_MODEL_f2f9c1d238e84580b299aec7172d17c1",
              "IPY_MODEL_b2de7f42ebe94e509a39dcb30141a81c"
            ],
            "layout": "IPY_MODEL_195d4fc1ed9f4b058cda1253db7797b6"
          }
        },
        "86a8c0227532455aa82ca42925a8e108": {
          "model_module": "@jupyter-widgets/controls",
          "model_name": "HTMLModel",
          "model_module_version": "1.5.0",
          "state": {
            "_dom_classes": [],
            "_model_module": "@jupyter-widgets/controls",
            "_model_module_version": "1.5.0",
            "_model_name": "HTMLModel",
            "_view_count": null,
            "_view_module": "@jupyter-widgets/controls",
            "_view_module_version": "1.5.0",
            "_view_name": "HTMLView",
            "description": "",
            "description_tooltip": null,
            "layout": "IPY_MODEL_eb5eaea126164e0cae6a43bb757f332a",
            "placeholder": "​",
            "style": "IPY_MODEL_2a01fad5d67646748e8dc59ff11dc269",
            "value": "Downloading: 100%"
          }
        },
        "f2f9c1d238e84580b299aec7172d17c1": {
          "model_module": "@jupyter-widgets/controls",
          "model_name": "FloatProgressModel",
          "model_module_version": "1.5.0",
          "state": {
            "_dom_classes": [],
            "_model_module": "@jupyter-widgets/controls",
            "_model_module_version": "1.5.0",
            "_model_name": "FloatProgressModel",
            "_view_count": null,
            "_view_module": "@jupyter-widgets/controls",
            "_view_module_version": "1.5.0",
            "_view_name": "ProgressView",
            "bar_style": "success",
            "description": "",
            "description_tooltip": null,
            "layout": "IPY_MODEL_be11170d41f94baf8d34b26dee269e4d",
            "max": 28,
            "min": 0,
            "orientation": "horizontal",
            "style": "IPY_MODEL_96fd9a37d6c34fd88a825e46c69d6c15",
            "value": 28
          }
        },
        "b2de7f42ebe94e509a39dcb30141a81c": {
          "model_module": "@jupyter-widgets/controls",
          "model_name": "HTMLModel",
          "model_module_version": "1.5.0",
          "state": {
            "_dom_classes": [],
            "_model_module": "@jupyter-widgets/controls",
            "_model_module_version": "1.5.0",
            "_model_name": "HTMLModel",
            "_view_count": null,
            "_view_module": "@jupyter-widgets/controls",
            "_view_module_version": "1.5.0",
            "_view_name": "HTMLView",
            "description": "",
            "description_tooltip": null,
            "layout": "IPY_MODEL_c12c768cf2ea47edb72de366c29e1890",
            "placeholder": "​",
            "style": "IPY_MODEL_c6880206e2904db6b648786eb040d742",
            "value": " 28.0/28.0 [00:00&lt;00:00, 847B/s]"
          }
        },
        "195d4fc1ed9f4b058cda1253db7797b6": {
          "model_module": "@jupyter-widgets/base",
          "model_name": "LayoutModel",
          "model_module_version": "1.2.0",
          "state": {
            "_model_module": "@jupyter-widgets/base",
            "_model_module_version": "1.2.0",
            "_model_name": "LayoutModel",
            "_view_count": null,
            "_view_module": "@jupyter-widgets/base",
            "_view_module_version": "1.2.0",
            "_view_name": "LayoutView",
            "align_content": null,
            "align_items": null,
            "align_self": null,
            "border": null,
            "bottom": null,
            "display": null,
            "flex": null,
            "flex_flow": null,
            "grid_area": null,
            "grid_auto_columns": null,
            "grid_auto_flow": null,
            "grid_auto_rows": null,
            "grid_column": null,
            "grid_gap": null,
            "grid_row": null,
            "grid_template_areas": null,
            "grid_template_columns": null,
            "grid_template_rows": null,
            "height": null,
            "justify_content": null,
            "justify_items": null,
            "left": null,
            "margin": null,
            "max_height": null,
            "max_width": null,
            "min_height": null,
            "min_width": null,
            "object_fit": null,
            "object_position": null,
            "order": null,
            "overflow": null,
            "overflow_x": null,
            "overflow_y": null,
            "padding": null,
            "right": null,
            "top": null,
            "visibility": null,
            "width": null
          }
        },
        "eb5eaea126164e0cae6a43bb757f332a": {
          "model_module": "@jupyter-widgets/base",
          "model_name": "LayoutModel",
          "model_module_version": "1.2.0",
          "state": {
            "_model_module": "@jupyter-widgets/base",
            "_model_module_version": "1.2.0",
            "_model_name": "LayoutModel",
            "_view_count": null,
            "_view_module": "@jupyter-widgets/base",
            "_view_module_version": "1.2.0",
            "_view_name": "LayoutView",
            "align_content": null,
            "align_items": null,
            "align_self": null,
            "border": null,
            "bottom": null,
            "display": null,
            "flex": null,
            "flex_flow": null,
            "grid_area": null,
            "grid_auto_columns": null,
            "grid_auto_flow": null,
            "grid_auto_rows": null,
            "grid_column": null,
            "grid_gap": null,
            "grid_row": null,
            "grid_template_areas": null,
            "grid_template_columns": null,
            "grid_template_rows": null,
            "height": null,
            "justify_content": null,
            "justify_items": null,
            "left": null,
            "margin": null,
            "max_height": null,
            "max_width": null,
            "min_height": null,
            "min_width": null,
            "object_fit": null,
            "object_position": null,
            "order": null,
            "overflow": null,
            "overflow_x": null,
            "overflow_y": null,
            "padding": null,
            "right": null,
            "top": null,
            "visibility": null,
            "width": null
          }
        },
        "2a01fad5d67646748e8dc59ff11dc269": {
          "model_module": "@jupyter-widgets/controls",
          "model_name": "DescriptionStyleModel",
          "model_module_version": "1.5.0",
          "state": {
            "_model_module": "@jupyter-widgets/controls",
            "_model_module_version": "1.5.0",
            "_model_name": "DescriptionStyleModel",
            "_view_count": null,
            "_view_module": "@jupyter-widgets/base",
            "_view_module_version": "1.2.0",
            "_view_name": "StyleView",
            "description_width": ""
          }
        },
        "be11170d41f94baf8d34b26dee269e4d": {
          "model_module": "@jupyter-widgets/base",
          "model_name": "LayoutModel",
          "model_module_version": "1.2.0",
          "state": {
            "_model_module": "@jupyter-widgets/base",
            "_model_module_version": "1.2.0",
            "_model_name": "LayoutModel",
            "_view_count": null,
            "_view_module": "@jupyter-widgets/base",
            "_view_module_version": "1.2.0",
            "_view_name": "LayoutView",
            "align_content": null,
            "align_items": null,
            "align_self": null,
            "border": null,
            "bottom": null,
            "display": null,
            "flex": null,
            "flex_flow": null,
            "grid_area": null,
            "grid_auto_columns": null,
            "grid_auto_flow": null,
            "grid_auto_rows": null,
            "grid_column": null,
            "grid_gap": null,
            "grid_row": null,
            "grid_template_areas": null,
            "grid_template_columns": null,
            "grid_template_rows": null,
            "height": null,
            "justify_content": null,
            "justify_items": null,
            "left": null,
            "margin": null,
            "max_height": null,
            "max_width": null,
            "min_height": null,
            "min_width": null,
            "object_fit": null,
            "object_position": null,
            "order": null,
            "overflow": null,
            "overflow_x": null,
            "overflow_y": null,
            "padding": null,
            "right": null,
            "top": null,
            "visibility": null,
            "width": null
          }
        },
        "96fd9a37d6c34fd88a825e46c69d6c15": {
          "model_module": "@jupyter-widgets/controls",
          "model_name": "ProgressStyleModel",
          "model_module_version": "1.5.0",
          "state": {
            "_model_module": "@jupyter-widgets/controls",
            "_model_module_version": "1.5.0",
            "_model_name": "ProgressStyleModel",
            "_view_count": null,
            "_view_module": "@jupyter-widgets/base",
            "_view_module_version": "1.2.0",
            "_view_name": "StyleView",
            "bar_color": null,
            "description_width": ""
          }
        },
        "c12c768cf2ea47edb72de366c29e1890": {
          "model_module": "@jupyter-widgets/base",
          "model_name": "LayoutModel",
          "model_module_version": "1.2.0",
          "state": {
            "_model_module": "@jupyter-widgets/base",
            "_model_module_version": "1.2.0",
            "_model_name": "LayoutModel",
            "_view_count": null,
            "_view_module": "@jupyter-widgets/base",
            "_view_module_version": "1.2.0",
            "_view_name": "LayoutView",
            "align_content": null,
            "align_items": null,
            "align_self": null,
            "border": null,
            "bottom": null,
            "display": null,
            "flex": null,
            "flex_flow": null,
            "grid_area": null,
            "grid_auto_columns": null,
            "grid_auto_flow": null,
            "grid_auto_rows": null,
            "grid_column": null,
            "grid_gap": null,
            "grid_row": null,
            "grid_template_areas": null,
            "grid_template_columns": null,
            "grid_template_rows": null,
            "height": null,
            "justify_content": null,
            "justify_items": null,
            "left": null,
            "margin": null,
            "max_height": null,
            "max_width": null,
            "min_height": null,
            "min_width": null,
            "object_fit": null,
            "object_position": null,
            "order": null,
            "overflow": null,
            "overflow_x": null,
            "overflow_y": null,
            "padding": null,
            "right": null,
            "top": null,
            "visibility": null,
            "width": null
          }
        },
        "c6880206e2904db6b648786eb040d742": {
          "model_module": "@jupyter-widgets/controls",
          "model_name": "DescriptionStyleModel",
          "model_module_version": "1.5.0",
          "state": {
            "_model_module": "@jupyter-widgets/controls",
            "_model_module_version": "1.5.0",
            "_model_name": "DescriptionStyleModel",
            "_view_count": null,
            "_view_module": "@jupyter-widgets/base",
            "_view_module_version": "1.2.0",
            "_view_name": "StyleView",
            "description_width": ""
          }
        },
        "ec33a057957a428db2e8ec3d74b74d27": {
          "model_module": "@jupyter-widgets/controls",
          "model_name": "HBoxModel",
          "model_module_version": "1.5.0",
          "state": {
            "_dom_classes": [],
            "_model_module": "@jupyter-widgets/controls",
            "_model_module_version": "1.5.0",
            "_model_name": "HBoxModel",
            "_view_count": null,
            "_view_module": "@jupyter-widgets/controls",
            "_view_module_version": "1.5.0",
            "_view_name": "HBoxView",
            "box_style": "",
            "children": [
              "IPY_MODEL_8a1040cda78f4a61a20fd1cedb27fca1",
              "IPY_MODEL_a35bfb280cb44fb7929247602fa21940",
              "IPY_MODEL_d8622e41422f4e5795238d224d4299e1"
            ],
            "layout": "IPY_MODEL_1ef93225dd454493b249b3f9502c1f27"
          }
        },
        "8a1040cda78f4a61a20fd1cedb27fca1": {
          "model_module": "@jupyter-widgets/controls",
          "model_name": "HTMLModel",
          "model_module_version": "1.5.0",
          "state": {
            "_dom_classes": [],
            "_model_module": "@jupyter-widgets/controls",
            "_model_module_version": "1.5.0",
            "_model_name": "HTMLModel",
            "_view_count": null,
            "_view_module": "@jupyter-widgets/controls",
            "_view_module_version": "1.5.0",
            "_view_name": "HTMLView",
            "description": "",
            "description_tooltip": null,
            "layout": "IPY_MODEL_9b13c2c8ab174686aab9b4d2d995a284",
            "placeholder": "​",
            "style": "IPY_MODEL_f56a297ba89646d4affcebb57a6fef2d",
            "value": "Downloading: 100%"
          }
        },
        "a35bfb280cb44fb7929247602fa21940": {
          "model_module": "@jupyter-widgets/controls",
          "model_name": "FloatProgressModel",
          "model_module_version": "1.5.0",
          "state": {
            "_dom_classes": [],
            "_model_module": "@jupyter-widgets/controls",
            "_model_module_version": "1.5.0",
            "_model_name": "FloatProgressModel",
            "_view_count": null,
            "_view_module": "@jupyter-widgets/controls",
            "_view_module_version": "1.5.0",
            "_view_name": "ProgressView",
            "bar_style": "success",
            "description": "",
            "description_tooltip": null,
            "layout": "IPY_MODEL_40a6480feb8345cfb44ba51f0794a269",
            "max": 570,
            "min": 0,
            "orientation": "horizontal",
            "style": "IPY_MODEL_f540ab85641d439099b391e785a29c66",
            "value": 570
          }
        },
        "d8622e41422f4e5795238d224d4299e1": {
          "model_module": "@jupyter-widgets/controls",
          "model_name": "HTMLModel",
          "model_module_version": "1.5.0",
          "state": {
            "_dom_classes": [],
            "_model_module": "@jupyter-widgets/controls",
            "_model_module_version": "1.5.0",
            "_model_name": "HTMLModel",
            "_view_count": null,
            "_view_module": "@jupyter-widgets/controls",
            "_view_module_version": "1.5.0",
            "_view_name": "HTMLView",
            "description": "",
            "description_tooltip": null,
            "layout": "IPY_MODEL_56f187b9c8eb4886867141ab42659706",
            "placeholder": "​",
            "style": "IPY_MODEL_0919ad8669d54c81867d67685087cd73",
            "value": " 570/570 [00:00&lt;00:00, 14.6kB/s]"
          }
        },
        "1ef93225dd454493b249b3f9502c1f27": {
          "model_module": "@jupyter-widgets/base",
          "model_name": "LayoutModel",
          "model_module_version": "1.2.0",
          "state": {
            "_model_module": "@jupyter-widgets/base",
            "_model_module_version": "1.2.0",
            "_model_name": "LayoutModel",
            "_view_count": null,
            "_view_module": "@jupyter-widgets/base",
            "_view_module_version": "1.2.0",
            "_view_name": "LayoutView",
            "align_content": null,
            "align_items": null,
            "align_self": null,
            "border": null,
            "bottom": null,
            "display": null,
            "flex": null,
            "flex_flow": null,
            "grid_area": null,
            "grid_auto_columns": null,
            "grid_auto_flow": null,
            "grid_auto_rows": null,
            "grid_column": null,
            "grid_gap": null,
            "grid_row": null,
            "grid_template_areas": null,
            "grid_template_columns": null,
            "grid_template_rows": null,
            "height": null,
            "justify_content": null,
            "justify_items": null,
            "left": null,
            "margin": null,
            "max_height": null,
            "max_width": null,
            "min_height": null,
            "min_width": null,
            "object_fit": null,
            "object_position": null,
            "order": null,
            "overflow": null,
            "overflow_x": null,
            "overflow_y": null,
            "padding": null,
            "right": null,
            "top": null,
            "visibility": null,
            "width": null
          }
        },
        "9b13c2c8ab174686aab9b4d2d995a284": {
          "model_module": "@jupyter-widgets/base",
          "model_name": "LayoutModel",
          "model_module_version": "1.2.0",
          "state": {
            "_model_module": "@jupyter-widgets/base",
            "_model_module_version": "1.2.0",
            "_model_name": "LayoutModel",
            "_view_count": null,
            "_view_module": "@jupyter-widgets/base",
            "_view_module_version": "1.2.0",
            "_view_name": "LayoutView",
            "align_content": null,
            "align_items": null,
            "align_self": null,
            "border": null,
            "bottom": null,
            "display": null,
            "flex": null,
            "flex_flow": null,
            "grid_area": null,
            "grid_auto_columns": null,
            "grid_auto_flow": null,
            "grid_auto_rows": null,
            "grid_column": null,
            "grid_gap": null,
            "grid_row": null,
            "grid_template_areas": null,
            "grid_template_columns": null,
            "grid_template_rows": null,
            "height": null,
            "justify_content": null,
            "justify_items": null,
            "left": null,
            "margin": null,
            "max_height": null,
            "max_width": null,
            "min_height": null,
            "min_width": null,
            "object_fit": null,
            "object_position": null,
            "order": null,
            "overflow": null,
            "overflow_x": null,
            "overflow_y": null,
            "padding": null,
            "right": null,
            "top": null,
            "visibility": null,
            "width": null
          }
        },
        "f56a297ba89646d4affcebb57a6fef2d": {
          "model_module": "@jupyter-widgets/controls",
          "model_name": "DescriptionStyleModel",
          "model_module_version": "1.5.0",
          "state": {
            "_model_module": "@jupyter-widgets/controls",
            "_model_module_version": "1.5.0",
            "_model_name": "DescriptionStyleModel",
            "_view_count": null,
            "_view_module": "@jupyter-widgets/base",
            "_view_module_version": "1.2.0",
            "_view_name": "StyleView",
            "description_width": ""
          }
        },
        "40a6480feb8345cfb44ba51f0794a269": {
          "model_module": "@jupyter-widgets/base",
          "model_name": "LayoutModel",
          "model_module_version": "1.2.0",
          "state": {
            "_model_module": "@jupyter-widgets/base",
            "_model_module_version": "1.2.0",
            "_model_name": "LayoutModel",
            "_view_count": null,
            "_view_module": "@jupyter-widgets/base",
            "_view_module_version": "1.2.0",
            "_view_name": "LayoutView",
            "align_content": null,
            "align_items": null,
            "align_self": null,
            "border": null,
            "bottom": null,
            "display": null,
            "flex": null,
            "flex_flow": null,
            "grid_area": null,
            "grid_auto_columns": null,
            "grid_auto_flow": null,
            "grid_auto_rows": null,
            "grid_column": null,
            "grid_gap": null,
            "grid_row": null,
            "grid_template_areas": null,
            "grid_template_columns": null,
            "grid_template_rows": null,
            "height": null,
            "justify_content": null,
            "justify_items": null,
            "left": null,
            "margin": null,
            "max_height": null,
            "max_width": null,
            "min_height": null,
            "min_width": null,
            "object_fit": null,
            "object_position": null,
            "order": null,
            "overflow": null,
            "overflow_x": null,
            "overflow_y": null,
            "padding": null,
            "right": null,
            "top": null,
            "visibility": null,
            "width": null
          }
        },
        "f540ab85641d439099b391e785a29c66": {
          "model_module": "@jupyter-widgets/controls",
          "model_name": "ProgressStyleModel",
          "model_module_version": "1.5.0",
          "state": {
            "_model_module": "@jupyter-widgets/controls",
            "_model_module_version": "1.5.0",
            "_model_name": "ProgressStyleModel",
            "_view_count": null,
            "_view_module": "@jupyter-widgets/base",
            "_view_module_version": "1.2.0",
            "_view_name": "StyleView",
            "bar_color": null,
            "description_width": ""
          }
        },
        "56f187b9c8eb4886867141ab42659706": {
          "model_module": "@jupyter-widgets/base",
          "model_name": "LayoutModel",
          "model_module_version": "1.2.0",
          "state": {
            "_model_module": "@jupyter-widgets/base",
            "_model_module_version": "1.2.0",
            "_model_name": "LayoutModel",
            "_view_count": null,
            "_view_module": "@jupyter-widgets/base",
            "_view_module_version": "1.2.0",
            "_view_name": "LayoutView",
            "align_content": null,
            "align_items": null,
            "align_self": null,
            "border": null,
            "bottom": null,
            "display": null,
            "flex": null,
            "flex_flow": null,
            "grid_area": null,
            "grid_auto_columns": null,
            "grid_auto_flow": null,
            "grid_auto_rows": null,
            "grid_column": null,
            "grid_gap": null,
            "grid_row": null,
            "grid_template_areas": null,
            "grid_template_columns": null,
            "grid_template_rows": null,
            "height": null,
            "justify_content": null,
            "justify_items": null,
            "left": null,
            "margin": null,
            "max_height": null,
            "max_width": null,
            "min_height": null,
            "min_width": null,
            "object_fit": null,
            "object_position": null,
            "order": null,
            "overflow": null,
            "overflow_x": null,
            "overflow_y": null,
            "padding": null,
            "right": null,
            "top": null,
            "visibility": null,
            "width": null
          }
        },
        "0919ad8669d54c81867d67685087cd73": {
          "model_module": "@jupyter-widgets/controls",
          "model_name": "DescriptionStyleModel",
          "model_module_version": "1.5.0",
          "state": {
            "_model_module": "@jupyter-widgets/controls",
            "_model_module_version": "1.5.0",
            "_model_name": "DescriptionStyleModel",
            "_view_count": null,
            "_view_module": "@jupyter-widgets/base",
            "_view_module_version": "1.2.0",
            "_view_name": "StyleView",
            "description_width": ""
          }
        },
        "511bc5586bfa452aba244c100db42522": {
          "model_module": "@jupyter-widgets/controls",
          "model_name": "HBoxModel",
          "model_module_version": "1.5.0",
          "state": {
            "_dom_classes": [],
            "_model_module": "@jupyter-widgets/controls",
            "_model_module_version": "1.5.0",
            "_model_name": "HBoxModel",
            "_view_count": null,
            "_view_module": "@jupyter-widgets/controls",
            "_view_module_version": "1.5.0",
            "_view_name": "HBoxView",
            "box_style": "",
            "children": [
              "IPY_MODEL_097348e32b234613b5af153b1ec28878",
              "IPY_MODEL_ec9508f923164fdbaf228a189216040b",
              "IPY_MODEL_5288c54777f746089111798e5af63c51"
            ],
            "layout": "IPY_MODEL_0af9d2e144634aac94a254a237dd0eea"
          }
        },
        "097348e32b234613b5af153b1ec28878": {
          "model_module": "@jupyter-widgets/controls",
          "model_name": "HTMLModel",
          "model_module_version": "1.5.0",
          "state": {
            "_dom_classes": [],
            "_model_module": "@jupyter-widgets/controls",
            "_model_module_version": "1.5.0",
            "_model_name": "HTMLModel",
            "_view_count": null,
            "_view_module": "@jupyter-widgets/controls",
            "_view_module_version": "1.5.0",
            "_view_name": "HTMLView",
            "description": "",
            "description_tooltip": null,
            "layout": "IPY_MODEL_5802207f19ec48ac8d0f441dddc1f7d9",
            "placeholder": "​",
            "style": "IPY_MODEL_b51723252bd24249b83abd5520976fd7",
            "value": "Downloading: 100%"
          }
        },
        "ec9508f923164fdbaf228a189216040b": {
          "model_module": "@jupyter-widgets/controls",
          "model_name": "FloatProgressModel",
          "model_module_version": "1.5.0",
          "state": {
            "_dom_classes": [],
            "_model_module": "@jupyter-widgets/controls",
            "_model_module_version": "1.5.0",
            "_model_name": "FloatProgressModel",
            "_view_count": null,
            "_view_module": "@jupyter-widgets/controls",
            "_view_module_version": "1.5.0",
            "_view_name": "ProgressView",
            "bar_style": "success",
            "description": "",
            "description_tooltip": null,
            "layout": "IPY_MODEL_4028d045ee9d421d8edc78bbe49326ca",
            "max": 231508,
            "min": 0,
            "orientation": "horizontal",
            "style": "IPY_MODEL_fc21bfa1c75e42b18832336a027583c6",
            "value": 231508
          }
        },
        "5288c54777f746089111798e5af63c51": {
          "model_module": "@jupyter-widgets/controls",
          "model_name": "HTMLModel",
          "model_module_version": "1.5.0",
          "state": {
            "_dom_classes": [],
            "_model_module": "@jupyter-widgets/controls",
            "_model_module_version": "1.5.0",
            "_model_name": "HTMLModel",
            "_view_count": null,
            "_view_module": "@jupyter-widgets/controls",
            "_view_module_version": "1.5.0",
            "_view_name": "HTMLView",
            "description": "",
            "description_tooltip": null,
            "layout": "IPY_MODEL_7d25d37cadca43c8932e3d84dc4a7379",
            "placeholder": "​",
            "style": "IPY_MODEL_0a640340d6a14ffaa51fe0d6cf2a9194",
            "value": " 226k/226k [00:00&lt;00:00, 271kB/s]"
          }
        },
        "0af9d2e144634aac94a254a237dd0eea": {
          "model_module": "@jupyter-widgets/base",
          "model_name": "LayoutModel",
          "model_module_version": "1.2.0",
          "state": {
            "_model_module": "@jupyter-widgets/base",
            "_model_module_version": "1.2.0",
            "_model_name": "LayoutModel",
            "_view_count": null,
            "_view_module": "@jupyter-widgets/base",
            "_view_module_version": "1.2.0",
            "_view_name": "LayoutView",
            "align_content": null,
            "align_items": null,
            "align_self": null,
            "border": null,
            "bottom": null,
            "display": null,
            "flex": null,
            "flex_flow": null,
            "grid_area": null,
            "grid_auto_columns": null,
            "grid_auto_flow": null,
            "grid_auto_rows": null,
            "grid_column": null,
            "grid_gap": null,
            "grid_row": null,
            "grid_template_areas": null,
            "grid_template_columns": null,
            "grid_template_rows": null,
            "height": null,
            "justify_content": null,
            "justify_items": null,
            "left": null,
            "margin": null,
            "max_height": null,
            "max_width": null,
            "min_height": null,
            "min_width": null,
            "object_fit": null,
            "object_position": null,
            "order": null,
            "overflow": null,
            "overflow_x": null,
            "overflow_y": null,
            "padding": null,
            "right": null,
            "top": null,
            "visibility": null,
            "width": null
          }
        },
        "5802207f19ec48ac8d0f441dddc1f7d9": {
          "model_module": "@jupyter-widgets/base",
          "model_name": "LayoutModel",
          "model_module_version": "1.2.0",
          "state": {
            "_model_module": "@jupyter-widgets/base",
            "_model_module_version": "1.2.0",
            "_model_name": "LayoutModel",
            "_view_count": null,
            "_view_module": "@jupyter-widgets/base",
            "_view_module_version": "1.2.0",
            "_view_name": "LayoutView",
            "align_content": null,
            "align_items": null,
            "align_self": null,
            "border": null,
            "bottom": null,
            "display": null,
            "flex": null,
            "flex_flow": null,
            "grid_area": null,
            "grid_auto_columns": null,
            "grid_auto_flow": null,
            "grid_auto_rows": null,
            "grid_column": null,
            "grid_gap": null,
            "grid_row": null,
            "grid_template_areas": null,
            "grid_template_columns": null,
            "grid_template_rows": null,
            "height": null,
            "justify_content": null,
            "justify_items": null,
            "left": null,
            "margin": null,
            "max_height": null,
            "max_width": null,
            "min_height": null,
            "min_width": null,
            "object_fit": null,
            "object_position": null,
            "order": null,
            "overflow": null,
            "overflow_x": null,
            "overflow_y": null,
            "padding": null,
            "right": null,
            "top": null,
            "visibility": null,
            "width": null
          }
        },
        "b51723252bd24249b83abd5520976fd7": {
          "model_module": "@jupyter-widgets/controls",
          "model_name": "DescriptionStyleModel",
          "model_module_version": "1.5.0",
          "state": {
            "_model_module": "@jupyter-widgets/controls",
            "_model_module_version": "1.5.0",
            "_model_name": "DescriptionStyleModel",
            "_view_count": null,
            "_view_module": "@jupyter-widgets/base",
            "_view_module_version": "1.2.0",
            "_view_name": "StyleView",
            "description_width": ""
          }
        },
        "4028d045ee9d421d8edc78bbe49326ca": {
          "model_module": "@jupyter-widgets/base",
          "model_name": "LayoutModel",
          "model_module_version": "1.2.0",
          "state": {
            "_model_module": "@jupyter-widgets/base",
            "_model_module_version": "1.2.0",
            "_model_name": "LayoutModel",
            "_view_count": null,
            "_view_module": "@jupyter-widgets/base",
            "_view_module_version": "1.2.0",
            "_view_name": "LayoutView",
            "align_content": null,
            "align_items": null,
            "align_self": null,
            "border": null,
            "bottom": null,
            "display": null,
            "flex": null,
            "flex_flow": null,
            "grid_area": null,
            "grid_auto_columns": null,
            "grid_auto_flow": null,
            "grid_auto_rows": null,
            "grid_column": null,
            "grid_gap": null,
            "grid_row": null,
            "grid_template_areas": null,
            "grid_template_columns": null,
            "grid_template_rows": null,
            "height": null,
            "justify_content": null,
            "justify_items": null,
            "left": null,
            "margin": null,
            "max_height": null,
            "max_width": null,
            "min_height": null,
            "min_width": null,
            "object_fit": null,
            "object_position": null,
            "order": null,
            "overflow": null,
            "overflow_x": null,
            "overflow_y": null,
            "padding": null,
            "right": null,
            "top": null,
            "visibility": null,
            "width": null
          }
        },
        "fc21bfa1c75e42b18832336a027583c6": {
          "model_module": "@jupyter-widgets/controls",
          "model_name": "ProgressStyleModel",
          "model_module_version": "1.5.0",
          "state": {
            "_model_module": "@jupyter-widgets/controls",
            "_model_module_version": "1.5.0",
            "_model_name": "ProgressStyleModel",
            "_view_count": null,
            "_view_module": "@jupyter-widgets/base",
            "_view_module_version": "1.2.0",
            "_view_name": "StyleView",
            "bar_color": null,
            "description_width": ""
          }
        },
        "7d25d37cadca43c8932e3d84dc4a7379": {
          "model_module": "@jupyter-widgets/base",
          "model_name": "LayoutModel",
          "model_module_version": "1.2.0",
          "state": {
            "_model_module": "@jupyter-widgets/base",
            "_model_module_version": "1.2.0",
            "_model_name": "LayoutModel",
            "_view_count": null,
            "_view_module": "@jupyter-widgets/base",
            "_view_module_version": "1.2.0",
            "_view_name": "LayoutView",
            "align_content": null,
            "align_items": null,
            "align_self": null,
            "border": null,
            "bottom": null,
            "display": null,
            "flex": null,
            "flex_flow": null,
            "grid_area": null,
            "grid_auto_columns": null,
            "grid_auto_flow": null,
            "grid_auto_rows": null,
            "grid_column": null,
            "grid_gap": null,
            "grid_row": null,
            "grid_template_areas": null,
            "grid_template_columns": null,
            "grid_template_rows": null,
            "height": null,
            "justify_content": null,
            "justify_items": null,
            "left": null,
            "margin": null,
            "max_height": null,
            "max_width": null,
            "min_height": null,
            "min_width": null,
            "object_fit": null,
            "object_position": null,
            "order": null,
            "overflow": null,
            "overflow_x": null,
            "overflow_y": null,
            "padding": null,
            "right": null,
            "top": null,
            "visibility": null,
            "width": null
          }
        },
        "0a640340d6a14ffaa51fe0d6cf2a9194": {
          "model_module": "@jupyter-widgets/controls",
          "model_name": "DescriptionStyleModel",
          "model_module_version": "1.5.0",
          "state": {
            "_model_module": "@jupyter-widgets/controls",
            "_model_module_version": "1.5.0",
            "_model_name": "DescriptionStyleModel",
            "_view_count": null,
            "_view_module": "@jupyter-widgets/base",
            "_view_module_version": "1.2.0",
            "_view_name": "StyleView",
            "description_width": ""
          }
        },
        "47d524a3449c444eb0e0b3e474d93028": {
          "model_module": "@jupyter-widgets/controls",
          "model_name": "HBoxModel",
          "model_module_version": "1.5.0",
          "state": {
            "_dom_classes": [],
            "_model_module": "@jupyter-widgets/controls",
            "_model_module_version": "1.5.0",
            "_model_name": "HBoxModel",
            "_view_count": null,
            "_view_module": "@jupyter-widgets/controls",
            "_view_module_version": "1.5.0",
            "_view_name": "HBoxView",
            "box_style": "",
            "children": [
              "IPY_MODEL_bc21ae5ab89f43fdb7ccb318e68a1a7a",
              "IPY_MODEL_b258aa019dba4736be07c98ae3f8ef8d",
              "IPY_MODEL_d5a01751450d43f586cce20a35857f35"
            ],
            "layout": "IPY_MODEL_aa39e997dcb345deba4b80292ad60dfb"
          }
        },
        "bc21ae5ab89f43fdb7ccb318e68a1a7a": {
          "model_module": "@jupyter-widgets/controls",
          "model_name": "HTMLModel",
          "model_module_version": "1.5.0",
          "state": {
            "_dom_classes": [],
            "_model_module": "@jupyter-widgets/controls",
            "_model_module_version": "1.5.0",
            "_model_name": "HTMLModel",
            "_view_count": null,
            "_view_module": "@jupyter-widgets/controls",
            "_view_module_version": "1.5.0",
            "_view_name": "HTMLView",
            "description": "",
            "description_tooltip": null,
            "layout": "IPY_MODEL_826f221942e447bf93647f8bc1313c5d",
            "placeholder": "​",
            "style": "IPY_MODEL_45b0287461354519a1c421822df87da5",
            "value": "Downloading: 100%"
          }
        },
        "b258aa019dba4736be07c98ae3f8ef8d": {
          "model_module": "@jupyter-widgets/controls",
          "model_name": "FloatProgressModel",
          "model_module_version": "1.5.0",
          "state": {
            "_dom_classes": [],
            "_model_module": "@jupyter-widgets/controls",
            "_model_module_version": "1.5.0",
            "_model_name": "FloatProgressModel",
            "_view_count": null,
            "_view_module": "@jupyter-widgets/controls",
            "_view_module_version": "1.5.0",
            "_view_name": "ProgressView",
            "bar_style": "success",
            "description": "",
            "description_tooltip": null,
            "layout": "IPY_MODEL_a487c8efb05746418d93f75085686137",
            "max": 466062,
            "min": 0,
            "orientation": "horizontal",
            "style": "IPY_MODEL_7c95af170355451da001ae4ee2a579a7",
            "value": 466062
          }
        },
        "d5a01751450d43f586cce20a35857f35": {
          "model_module": "@jupyter-widgets/controls",
          "model_name": "HTMLModel",
          "model_module_version": "1.5.0",
          "state": {
            "_dom_classes": [],
            "_model_module": "@jupyter-widgets/controls",
            "_model_module_version": "1.5.0",
            "_model_name": "HTMLModel",
            "_view_count": null,
            "_view_module": "@jupyter-widgets/controls",
            "_view_module_version": "1.5.0",
            "_view_name": "HTMLView",
            "description": "",
            "description_tooltip": null,
            "layout": "IPY_MODEL_60a39bb5cf494901a5d53d0efde41b5b",
            "placeholder": "​",
            "style": "IPY_MODEL_3663a4a5dd4b458a80b5124430f9ad82",
            "value": " 455k/455k [00:00&lt;00:00, 474kB/s]"
          }
        },
        "aa39e997dcb345deba4b80292ad60dfb": {
          "model_module": "@jupyter-widgets/base",
          "model_name": "LayoutModel",
          "model_module_version": "1.2.0",
          "state": {
            "_model_module": "@jupyter-widgets/base",
            "_model_module_version": "1.2.0",
            "_model_name": "LayoutModel",
            "_view_count": null,
            "_view_module": "@jupyter-widgets/base",
            "_view_module_version": "1.2.0",
            "_view_name": "LayoutView",
            "align_content": null,
            "align_items": null,
            "align_self": null,
            "border": null,
            "bottom": null,
            "display": null,
            "flex": null,
            "flex_flow": null,
            "grid_area": null,
            "grid_auto_columns": null,
            "grid_auto_flow": null,
            "grid_auto_rows": null,
            "grid_column": null,
            "grid_gap": null,
            "grid_row": null,
            "grid_template_areas": null,
            "grid_template_columns": null,
            "grid_template_rows": null,
            "height": null,
            "justify_content": null,
            "justify_items": null,
            "left": null,
            "margin": null,
            "max_height": null,
            "max_width": null,
            "min_height": null,
            "min_width": null,
            "object_fit": null,
            "object_position": null,
            "order": null,
            "overflow": null,
            "overflow_x": null,
            "overflow_y": null,
            "padding": null,
            "right": null,
            "top": null,
            "visibility": null,
            "width": null
          }
        },
        "826f221942e447bf93647f8bc1313c5d": {
          "model_module": "@jupyter-widgets/base",
          "model_name": "LayoutModel",
          "model_module_version": "1.2.0",
          "state": {
            "_model_module": "@jupyter-widgets/base",
            "_model_module_version": "1.2.0",
            "_model_name": "LayoutModel",
            "_view_count": null,
            "_view_module": "@jupyter-widgets/base",
            "_view_module_version": "1.2.0",
            "_view_name": "LayoutView",
            "align_content": null,
            "align_items": null,
            "align_self": null,
            "border": null,
            "bottom": null,
            "display": null,
            "flex": null,
            "flex_flow": null,
            "grid_area": null,
            "grid_auto_columns": null,
            "grid_auto_flow": null,
            "grid_auto_rows": null,
            "grid_column": null,
            "grid_gap": null,
            "grid_row": null,
            "grid_template_areas": null,
            "grid_template_columns": null,
            "grid_template_rows": null,
            "height": null,
            "justify_content": null,
            "justify_items": null,
            "left": null,
            "margin": null,
            "max_height": null,
            "max_width": null,
            "min_height": null,
            "min_width": null,
            "object_fit": null,
            "object_position": null,
            "order": null,
            "overflow": null,
            "overflow_x": null,
            "overflow_y": null,
            "padding": null,
            "right": null,
            "top": null,
            "visibility": null,
            "width": null
          }
        },
        "45b0287461354519a1c421822df87da5": {
          "model_module": "@jupyter-widgets/controls",
          "model_name": "DescriptionStyleModel",
          "model_module_version": "1.5.0",
          "state": {
            "_model_module": "@jupyter-widgets/controls",
            "_model_module_version": "1.5.0",
            "_model_name": "DescriptionStyleModel",
            "_view_count": null,
            "_view_module": "@jupyter-widgets/base",
            "_view_module_version": "1.2.0",
            "_view_name": "StyleView",
            "description_width": ""
          }
        },
        "a487c8efb05746418d93f75085686137": {
          "model_module": "@jupyter-widgets/base",
          "model_name": "LayoutModel",
          "model_module_version": "1.2.0",
          "state": {
            "_model_module": "@jupyter-widgets/base",
            "_model_module_version": "1.2.0",
            "_model_name": "LayoutModel",
            "_view_count": null,
            "_view_module": "@jupyter-widgets/base",
            "_view_module_version": "1.2.0",
            "_view_name": "LayoutView",
            "align_content": null,
            "align_items": null,
            "align_self": null,
            "border": null,
            "bottom": null,
            "display": null,
            "flex": null,
            "flex_flow": null,
            "grid_area": null,
            "grid_auto_columns": null,
            "grid_auto_flow": null,
            "grid_auto_rows": null,
            "grid_column": null,
            "grid_gap": null,
            "grid_row": null,
            "grid_template_areas": null,
            "grid_template_columns": null,
            "grid_template_rows": null,
            "height": null,
            "justify_content": null,
            "justify_items": null,
            "left": null,
            "margin": null,
            "max_height": null,
            "max_width": null,
            "min_height": null,
            "min_width": null,
            "object_fit": null,
            "object_position": null,
            "order": null,
            "overflow": null,
            "overflow_x": null,
            "overflow_y": null,
            "padding": null,
            "right": null,
            "top": null,
            "visibility": null,
            "width": null
          }
        },
        "7c95af170355451da001ae4ee2a579a7": {
          "model_module": "@jupyter-widgets/controls",
          "model_name": "ProgressStyleModel",
          "model_module_version": "1.5.0",
          "state": {
            "_model_module": "@jupyter-widgets/controls",
            "_model_module_version": "1.5.0",
            "_model_name": "ProgressStyleModel",
            "_view_count": null,
            "_view_module": "@jupyter-widgets/base",
            "_view_module_version": "1.2.0",
            "_view_name": "StyleView",
            "bar_color": null,
            "description_width": ""
          }
        },
        "60a39bb5cf494901a5d53d0efde41b5b": {
          "model_module": "@jupyter-widgets/base",
          "model_name": "LayoutModel",
          "model_module_version": "1.2.0",
          "state": {
            "_model_module": "@jupyter-widgets/base",
            "_model_module_version": "1.2.0",
            "_model_name": "LayoutModel",
            "_view_count": null,
            "_view_module": "@jupyter-widgets/base",
            "_view_module_version": "1.2.0",
            "_view_name": "LayoutView",
            "align_content": null,
            "align_items": null,
            "align_self": null,
            "border": null,
            "bottom": null,
            "display": null,
            "flex": null,
            "flex_flow": null,
            "grid_area": null,
            "grid_auto_columns": null,
            "grid_auto_flow": null,
            "grid_auto_rows": null,
            "grid_column": null,
            "grid_gap": null,
            "grid_row": null,
            "grid_template_areas": null,
            "grid_template_columns": null,
            "grid_template_rows": null,
            "height": null,
            "justify_content": null,
            "justify_items": null,
            "left": null,
            "margin": null,
            "max_height": null,
            "max_width": null,
            "min_height": null,
            "min_width": null,
            "object_fit": null,
            "object_position": null,
            "order": null,
            "overflow": null,
            "overflow_x": null,
            "overflow_y": null,
            "padding": null,
            "right": null,
            "top": null,
            "visibility": null,
            "width": null
          }
        },
        "3663a4a5dd4b458a80b5124430f9ad82": {
          "model_module": "@jupyter-widgets/controls",
          "model_name": "DescriptionStyleModel",
          "model_module_version": "1.5.0",
          "state": {
            "_model_module": "@jupyter-widgets/controls",
            "_model_module_version": "1.5.0",
            "_model_name": "DescriptionStyleModel",
            "_view_count": null,
            "_view_module": "@jupyter-widgets/base",
            "_view_module_version": "1.2.0",
            "_view_name": "StyleView",
            "description_width": ""
          }
        },
        "5d03b91b5458429bb02d4b6c576449db": {
          "model_module": "@jupyter-widgets/controls",
          "model_name": "HBoxModel",
          "model_module_version": "1.5.0",
          "state": {
            "_dom_classes": [],
            "_model_module": "@jupyter-widgets/controls",
            "_model_module_version": "1.5.0",
            "_model_name": "HBoxModel",
            "_view_count": null,
            "_view_module": "@jupyter-widgets/controls",
            "_view_module_version": "1.5.0",
            "_view_name": "HBoxView",
            "box_style": "",
            "children": [
              "IPY_MODEL_1586bff70fc6407ca31ed1f426984b81",
              "IPY_MODEL_b2fefb499f8749ff9f472ffa4c034d8a",
              "IPY_MODEL_31a4bba29e1b4ac6b6255e9d9fce6776"
            ],
            "layout": "IPY_MODEL_0513b814058e4133ad9a514f1f3867c3"
          }
        },
        "1586bff70fc6407ca31ed1f426984b81": {
          "model_module": "@jupyter-widgets/controls",
          "model_name": "HTMLModel",
          "model_module_version": "1.5.0",
          "state": {
            "_dom_classes": [],
            "_model_module": "@jupyter-widgets/controls",
            "_model_module_version": "1.5.0",
            "_model_name": "HTMLModel",
            "_view_count": null,
            "_view_module": "@jupyter-widgets/controls",
            "_view_module_version": "1.5.0",
            "_view_name": "HTMLView",
            "description": "",
            "description_tooltip": null,
            "layout": "IPY_MODEL_0dfd9333cb98435e98bb40aa2937a2ea",
            "placeholder": "​",
            "style": "IPY_MODEL_be7323ebcdba462a9693e04b0c75903d",
            "value": "Downloading: 100%"
          }
        },
        "b2fefb499f8749ff9f472ffa4c034d8a": {
          "model_module": "@jupyter-widgets/controls",
          "model_name": "FloatProgressModel",
          "model_module_version": "1.5.0",
          "state": {
            "_dom_classes": [],
            "_model_module": "@jupyter-widgets/controls",
            "_model_module_version": "1.5.0",
            "_model_name": "FloatProgressModel",
            "_view_count": null,
            "_view_module": "@jupyter-widgets/controls",
            "_view_module_version": "1.5.0",
            "_view_name": "ProgressView",
            "bar_style": "success",
            "description": "",
            "description_tooltip": null,
            "layout": "IPY_MODEL_a9dfe3fd76ef4b5da5667c3baf8513c7",
            "max": 440473133,
            "min": 0,
            "orientation": "horizontal",
            "style": "IPY_MODEL_3d2a60a1c885416c8dada11c947c6138",
            "value": 440473133
          }
        },
        "31a4bba29e1b4ac6b6255e9d9fce6776": {
          "model_module": "@jupyter-widgets/controls",
          "model_name": "HTMLModel",
          "model_module_version": "1.5.0",
          "state": {
            "_dom_classes": [],
            "_model_module": "@jupyter-widgets/controls",
            "_model_module_version": "1.5.0",
            "_model_name": "HTMLModel",
            "_view_count": null,
            "_view_module": "@jupyter-widgets/controls",
            "_view_module_version": "1.5.0",
            "_view_name": "HTMLView",
            "description": "",
            "description_tooltip": null,
            "layout": "IPY_MODEL_50fce9ead03a4e27ad2b115e7e709b53",
            "placeholder": "​",
            "style": "IPY_MODEL_4b551523883c40958d14cb4a03e9b445",
            "value": " 420M/420M [00:07&lt;00:00, 83.3MB/s]"
          }
        },
        "0513b814058e4133ad9a514f1f3867c3": {
          "model_module": "@jupyter-widgets/base",
          "model_name": "LayoutModel",
          "model_module_version": "1.2.0",
          "state": {
            "_model_module": "@jupyter-widgets/base",
            "_model_module_version": "1.2.0",
            "_model_name": "LayoutModel",
            "_view_count": null,
            "_view_module": "@jupyter-widgets/base",
            "_view_module_version": "1.2.0",
            "_view_name": "LayoutView",
            "align_content": null,
            "align_items": null,
            "align_self": null,
            "border": null,
            "bottom": null,
            "display": null,
            "flex": null,
            "flex_flow": null,
            "grid_area": null,
            "grid_auto_columns": null,
            "grid_auto_flow": null,
            "grid_auto_rows": null,
            "grid_column": null,
            "grid_gap": null,
            "grid_row": null,
            "grid_template_areas": null,
            "grid_template_columns": null,
            "grid_template_rows": null,
            "height": null,
            "justify_content": null,
            "justify_items": null,
            "left": null,
            "margin": null,
            "max_height": null,
            "max_width": null,
            "min_height": null,
            "min_width": null,
            "object_fit": null,
            "object_position": null,
            "order": null,
            "overflow": null,
            "overflow_x": null,
            "overflow_y": null,
            "padding": null,
            "right": null,
            "top": null,
            "visibility": null,
            "width": null
          }
        },
        "0dfd9333cb98435e98bb40aa2937a2ea": {
          "model_module": "@jupyter-widgets/base",
          "model_name": "LayoutModel",
          "model_module_version": "1.2.0",
          "state": {
            "_model_module": "@jupyter-widgets/base",
            "_model_module_version": "1.2.0",
            "_model_name": "LayoutModel",
            "_view_count": null,
            "_view_module": "@jupyter-widgets/base",
            "_view_module_version": "1.2.0",
            "_view_name": "LayoutView",
            "align_content": null,
            "align_items": null,
            "align_self": null,
            "border": null,
            "bottom": null,
            "display": null,
            "flex": null,
            "flex_flow": null,
            "grid_area": null,
            "grid_auto_columns": null,
            "grid_auto_flow": null,
            "grid_auto_rows": null,
            "grid_column": null,
            "grid_gap": null,
            "grid_row": null,
            "grid_template_areas": null,
            "grid_template_columns": null,
            "grid_template_rows": null,
            "height": null,
            "justify_content": null,
            "justify_items": null,
            "left": null,
            "margin": null,
            "max_height": null,
            "max_width": null,
            "min_height": null,
            "min_width": null,
            "object_fit": null,
            "object_position": null,
            "order": null,
            "overflow": null,
            "overflow_x": null,
            "overflow_y": null,
            "padding": null,
            "right": null,
            "top": null,
            "visibility": null,
            "width": null
          }
        },
        "be7323ebcdba462a9693e04b0c75903d": {
          "model_module": "@jupyter-widgets/controls",
          "model_name": "DescriptionStyleModel",
          "model_module_version": "1.5.0",
          "state": {
            "_model_module": "@jupyter-widgets/controls",
            "_model_module_version": "1.5.0",
            "_model_name": "DescriptionStyleModel",
            "_view_count": null,
            "_view_module": "@jupyter-widgets/base",
            "_view_module_version": "1.2.0",
            "_view_name": "StyleView",
            "description_width": ""
          }
        },
        "a9dfe3fd76ef4b5da5667c3baf8513c7": {
          "model_module": "@jupyter-widgets/base",
          "model_name": "LayoutModel",
          "model_module_version": "1.2.0",
          "state": {
            "_model_module": "@jupyter-widgets/base",
            "_model_module_version": "1.2.0",
            "_model_name": "LayoutModel",
            "_view_count": null,
            "_view_module": "@jupyter-widgets/base",
            "_view_module_version": "1.2.0",
            "_view_name": "LayoutView",
            "align_content": null,
            "align_items": null,
            "align_self": null,
            "border": null,
            "bottom": null,
            "display": null,
            "flex": null,
            "flex_flow": null,
            "grid_area": null,
            "grid_auto_columns": null,
            "grid_auto_flow": null,
            "grid_auto_rows": null,
            "grid_column": null,
            "grid_gap": null,
            "grid_row": null,
            "grid_template_areas": null,
            "grid_template_columns": null,
            "grid_template_rows": null,
            "height": null,
            "justify_content": null,
            "justify_items": null,
            "left": null,
            "margin": null,
            "max_height": null,
            "max_width": null,
            "min_height": null,
            "min_width": null,
            "object_fit": null,
            "object_position": null,
            "order": null,
            "overflow": null,
            "overflow_x": null,
            "overflow_y": null,
            "padding": null,
            "right": null,
            "top": null,
            "visibility": null,
            "width": null
          }
        },
        "3d2a60a1c885416c8dada11c947c6138": {
          "model_module": "@jupyter-widgets/controls",
          "model_name": "ProgressStyleModel",
          "model_module_version": "1.5.0",
          "state": {
            "_model_module": "@jupyter-widgets/controls",
            "_model_module_version": "1.5.0",
            "_model_name": "ProgressStyleModel",
            "_view_count": null,
            "_view_module": "@jupyter-widgets/base",
            "_view_module_version": "1.2.0",
            "_view_name": "StyleView",
            "bar_color": null,
            "description_width": ""
          }
        },
        "50fce9ead03a4e27ad2b115e7e709b53": {
          "model_module": "@jupyter-widgets/base",
          "model_name": "LayoutModel",
          "model_module_version": "1.2.0",
          "state": {
            "_model_module": "@jupyter-widgets/base",
            "_model_module_version": "1.2.0",
            "_model_name": "LayoutModel",
            "_view_count": null,
            "_view_module": "@jupyter-widgets/base",
            "_view_module_version": "1.2.0",
            "_view_name": "LayoutView",
            "align_content": null,
            "align_items": null,
            "align_self": null,
            "border": null,
            "bottom": null,
            "display": null,
            "flex": null,
            "flex_flow": null,
            "grid_area": null,
            "grid_auto_columns": null,
            "grid_auto_flow": null,
            "grid_auto_rows": null,
            "grid_column": null,
            "grid_gap": null,
            "grid_row": null,
            "grid_template_areas": null,
            "grid_template_columns": null,
            "grid_template_rows": null,
            "height": null,
            "justify_content": null,
            "justify_items": null,
            "left": null,
            "margin": null,
            "max_height": null,
            "max_width": null,
            "min_height": null,
            "min_width": null,
            "object_fit": null,
            "object_position": null,
            "order": null,
            "overflow": null,
            "overflow_x": null,
            "overflow_y": null,
            "padding": null,
            "right": null,
            "top": null,
            "visibility": null,
            "width": null
          }
        },
        "4b551523883c40958d14cb4a03e9b445": {
          "model_module": "@jupyter-widgets/controls",
          "model_name": "DescriptionStyleModel",
          "model_module_version": "1.5.0",
          "state": {
            "_model_module": "@jupyter-widgets/controls",
            "_model_module_version": "1.5.0",
            "_model_name": "DescriptionStyleModel",
            "_view_count": null,
            "_view_module": "@jupyter-widgets/base",
            "_view_module_version": "1.2.0",
            "_view_name": "StyleView",
            "description_width": ""
          }
        },
        "3631c6ba29d848af81abd3c42fde6dc0": {
          "model_module": "@jupyter-widgets/output",
          "model_name": "OutputModel",
          "model_module_version": "1.0.0",
          "state": {
            "_dom_classes": [],
            "_model_module": "@jupyter-widgets/output",
            "_model_module_version": "1.0.0",
            "_model_name": "OutputModel",
            "_view_count": null,
            "_view_module": "@jupyter-widgets/output",
            "_view_module_version": "1.0.0",
            "_view_name": "OutputView",
            "layout": "IPY_MODEL_1f93fe49937743b89e5962bf3983971d",
            "msg_id": "",
            "outputs": [
              {
                "output_type": "display_data",
                "data": {
                  "text/plain": "Downloading \u001b[3;36mhttps://storage.googleapis.com/allennlp-public-mo…\u001b[0m \u001b[38;2;249;38;114m━━━━━━━━━━━━━━━━━━━━━━━━━━━\u001b[0m\u001b[38;2;249;38;114m╸\u001b[0m \u001b[35m100%\u001b[0m \u001b[33m0:00:46\u001b[0m \u001b[32m1.3/1.3 GB\u001b[0m\n",
                  "text/html": "<pre style=\"white-space:pre;overflow-x:auto;line-height:normal;font-family:Menlo,'DejaVu Sans Mono',consolas,'Courier New',monospace\">Downloading <span style=\"color: #008080; text-decoration-color: #008080; font-style: italic\">https://storage.googleapis.com/allennlp-public-mo…</span> <span style=\"color: #f92672; text-decoration-color: #f92672\">━━━━━━━━━━━━━━━━━━━━━━━━━━━╸</span> <span style=\"color: #800080; text-decoration-color: #800080\">100%</span> <span style=\"color: #808000; text-decoration-color: #808000\">0:00:46</span> <span style=\"color: #008000; text-decoration-color: #008000\">1.3/1.3 GB</span>\n</pre>\n"
                },
                "metadata": {}
              }
            ]
          }
        },
        "1f93fe49937743b89e5962bf3983971d": {
          "model_module": "@jupyter-widgets/base",
          "model_name": "LayoutModel",
          "model_module_version": "1.2.0",
          "state": {
            "_model_module": "@jupyter-widgets/base",
            "_model_module_version": "1.2.0",
            "_model_name": "LayoutModel",
            "_view_count": null,
            "_view_module": "@jupyter-widgets/base",
            "_view_module_version": "1.2.0",
            "_view_name": "LayoutView",
            "align_content": null,
            "align_items": null,
            "align_self": null,
            "border": null,
            "bottom": null,
            "display": null,
            "flex": null,
            "flex_flow": null,
            "grid_area": null,
            "grid_auto_columns": null,
            "grid_auto_flow": null,
            "grid_auto_rows": null,
            "grid_column": null,
            "grid_gap": null,
            "grid_row": null,
            "grid_template_areas": null,
            "grid_template_columns": null,
            "grid_template_rows": null,
            "height": null,
            "justify_content": null,
            "justify_items": null,
            "left": null,
            "margin": null,
            "max_height": null,
            "max_width": null,
            "min_height": null,
            "min_width": null,
            "object_fit": null,
            "object_position": null,
            "order": null,
            "overflow": null,
            "overflow_x": null,
            "overflow_y": null,
            "padding": null,
            "right": null,
            "top": null,
            "visibility": null,
            "width": null
          }
        },
        "0bc28e45babc4b809df27146eea31e19": {
          "model_module": "@jupyter-widgets/controls",
          "model_name": "HBoxModel",
          "model_module_version": "1.5.0",
          "state": {
            "_dom_classes": [],
            "_model_module": "@jupyter-widgets/controls",
            "_model_module_version": "1.5.0",
            "_model_name": "HBoxModel",
            "_view_count": null,
            "_view_module": "@jupyter-widgets/controls",
            "_view_module_version": "1.5.0",
            "_view_name": "HBoxView",
            "box_style": "",
            "children": [
              "IPY_MODEL_af85d340dcec4b9698ed14999e96f07d",
              "IPY_MODEL_122055b92d9d43e8884a223588a7a834",
              "IPY_MODEL_28ed58bfc4a848cd82e0b4998e4ff3d9"
            ],
            "layout": "IPY_MODEL_562df7e612e34327bfe884965f2c29c8"
          }
        },
        "af85d340dcec4b9698ed14999e96f07d": {
          "model_module": "@jupyter-widgets/controls",
          "model_name": "HTMLModel",
          "model_module_version": "1.5.0",
          "state": {
            "_dom_classes": [],
            "_model_module": "@jupyter-widgets/controls",
            "_model_module_version": "1.5.0",
            "_model_name": "HTMLModel",
            "_view_count": null,
            "_view_module": "@jupyter-widgets/controls",
            "_view_module_version": "1.5.0",
            "_view_name": "HTMLView",
            "description": "",
            "description_tooltip": null,
            "layout": "IPY_MODEL_432292347ed44ff498d62b6f6686d278",
            "placeholder": "​",
            "style": "IPY_MODEL_d9f5dd689f5a44db85c4020b3eb0d0eb",
            "value": "Downloading: 100%"
          }
        },
        "122055b92d9d43e8884a223588a7a834": {
          "model_module": "@jupyter-widgets/controls",
          "model_name": "FloatProgressModel",
          "model_module_version": "1.5.0",
          "state": {
            "_dom_classes": [],
            "_model_module": "@jupyter-widgets/controls",
            "_model_module_version": "1.5.0",
            "_model_name": "FloatProgressModel",
            "_view_count": null,
            "_view_module": "@jupyter-widgets/controls",
            "_view_module_version": "1.5.0",
            "_view_name": "ProgressView",
            "bar_style": "success",
            "description": "",
            "description_tooltip": null,
            "layout": "IPY_MODEL_8c133cf10f5c42eb82c6fda9c22351c9",
            "max": 414,
            "min": 0,
            "orientation": "horizontal",
            "style": "IPY_MODEL_2e551729f8724719952f950aa3d0a198",
            "value": 414
          }
        },
        "28ed58bfc4a848cd82e0b4998e4ff3d9": {
          "model_module": "@jupyter-widgets/controls",
          "model_name": "HTMLModel",
          "model_module_version": "1.5.0",
          "state": {
            "_dom_classes": [],
            "_model_module": "@jupyter-widgets/controls",
            "_model_module_version": "1.5.0",
            "_model_name": "HTMLModel",
            "_view_count": null,
            "_view_module": "@jupyter-widgets/controls",
            "_view_module_version": "1.5.0",
            "_view_name": "HTMLView",
            "description": "",
            "description_tooltip": null,
            "layout": "IPY_MODEL_cdea6bce794541b59464a4c66820a53d",
            "placeholder": "​",
            "style": "IPY_MODEL_9ddfb56359af4fac91c1837ffd79759e",
            "value": " 414/414 [00:00&lt;00:00, 19.4kB/s]"
          }
        },
        "562df7e612e34327bfe884965f2c29c8": {
          "model_module": "@jupyter-widgets/base",
          "model_name": "LayoutModel",
          "model_module_version": "1.2.0",
          "state": {
            "_model_module": "@jupyter-widgets/base",
            "_model_module_version": "1.2.0",
            "_model_name": "LayoutModel",
            "_view_count": null,
            "_view_module": "@jupyter-widgets/base",
            "_view_module_version": "1.2.0",
            "_view_name": "LayoutView",
            "align_content": null,
            "align_items": null,
            "align_self": null,
            "border": null,
            "bottom": null,
            "display": null,
            "flex": null,
            "flex_flow": null,
            "grid_area": null,
            "grid_auto_columns": null,
            "grid_auto_flow": null,
            "grid_auto_rows": null,
            "grid_column": null,
            "grid_gap": null,
            "grid_row": null,
            "grid_template_areas": null,
            "grid_template_columns": null,
            "grid_template_rows": null,
            "height": null,
            "justify_content": null,
            "justify_items": null,
            "left": null,
            "margin": null,
            "max_height": null,
            "max_width": null,
            "min_height": null,
            "min_width": null,
            "object_fit": null,
            "object_position": null,
            "order": null,
            "overflow": null,
            "overflow_x": null,
            "overflow_y": null,
            "padding": null,
            "right": null,
            "top": null,
            "visibility": null,
            "width": null
          }
        },
        "432292347ed44ff498d62b6f6686d278": {
          "model_module": "@jupyter-widgets/base",
          "model_name": "LayoutModel",
          "model_module_version": "1.2.0",
          "state": {
            "_model_module": "@jupyter-widgets/base",
            "_model_module_version": "1.2.0",
            "_model_name": "LayoutModel",
            "_view_count": null,
            "_view_module": "@jupyter-widgets/base",
            "_view_module_version": "1.2.0",
            "_view_name": "LayoutView",
            "align_content": null,
            "align_items": null,
            "align_self": null,
            "border": null,
            "bottom": null,
            "display": null,
            "flex": null,
            "flex_flow": null,
            "grid_area": null,
            "grid_auto_columns": null,
            "grid_auto_flow": null,
            "grid_auto_rows": null,
            "grid_column": null,
            "grid_gap": null,
            "grid_row": null,
            "grid_template_areas": null,
            "grid_template_columns": null,
            "grid_template_rows": null,
            "height": null,
            "justify_content": null,
            "justify_items": null,
            "left": null,
            "margin": null,
            "max_height": null,
            "max_width": null,
            "min_height": null,
            "min_width": null,
            "object_fit": null,
            "object_position": null,
            "order": null,
            "overflow": null,
            "overflow_x": null,
            "overflow_y": null,
            "padding": null,
            "right": null,
            "top": null,
            "visibility": null,
            "width": null
          }
        },
        "d9f5dd689f5a44db85c4020b3eb0d0eb": {
          "model_module": "@jupyter-widgets/controls",
          "model_name": "DescriptionStyleModel",
          "model_module_version": "1.5.0",
          "state": {
            "_model_module": "@jupyter-widgets/controls",
            "_model_module_version": "1.5.0",
            "_model_name": "DescriptionStyleModel",
            "_view_count": null,
            "_view_module": "@jupyter-widgets/base",
            "_view_module_version": "1.2.0",
            "_view_name": "StyleView",
            "description_width": ""
          }
        },
        "8c133cf10f5c42eb82c6fda9c22351c9": {
          "model_module": "@jupyter-widgets/base",
          "model_name": "LayoutModel",
          "model_module_version": "1.2.0",
          "state": {
            "_model_module": "@jupyter-widgets/base",
            "_model_module_version": "1.2.0",
            "_model_name": "LayoutModel",
            "_view_count": null,
            "_view_module": "@jupyter-widgets/base",
            "_view_module_version": "1.2.0",
            "_view_name": "LayoutView",
            "align_content": null,
            "align_items": null,
            "align_self": null,
            "border": null,
            "bottom": null,
            "display": null,
            "flex": null,
            "flex_flow": null,
            "grid_area": null,
            "grid_auto_columns": null,
            "grid_auto_flow": null,
            "grid_auto_rows": null,
            "grid_column": null,
            "grid_gap": null,
            "grid_row": null,
            "grid_template_areas": null,
            "grid_template_columns": null,
            "grid_template_rows": null,
            "height": null,
            "justify_content": null,
            "justify_items": null,
            "left": null,
            "margin": null,
            "max_height": null,
            "max_width": null,
            "min_height": null,
            "min_width": null,
            "object_fit": null,
            "object_position": null,
            "order": null,
            "overflow": null,
            "overflow_x": null,
            "overflow_y": null,
            "padding": null,
            "right": null,
            "top": null,
            "visibility": null,
            "width": null
          }
        },
        "2e551729f8724719952f950aa3d0a198": {
          "model_module": "@jupyter-widgets/controls",
          "model_name": "ProgressStyleModel",
          "model_module_version": "1.5.0",
          "state": {
            "_model_module": "@jupyter-widgets/controls",
            "_model_module_version": "1.5.0",
            "_model_name": "ProgressStyleModel",
            "_view_count": null,
            "_view_module": "@jupyter-widgets/base",
            "_view_module_version": "1.2.0",
            "_view_name": "StyleView",
            "bar_color": null,
            "description_width": ""
          }
        },
        "cdea6bce794541b59464a4c66820a53d": {
          "model_module": "@jupyter-widgets/base",
          "model_name": "LayoutModel",
          "model_module_version": "1.2.0",
          "state": {
            "_model_module": "@jupyter-widgets/base",
            "_model_module_version": "1.2.0",
            "_model_name": "LayoutModel",
            "_view_count": null,
            "_view_module": "@jupyter-widgets/base",
            "_view_module_version": "1.2.0",
            "_view_name": "LayoutView",
            "align_content": null,
            "align_items": null,
            "align_self": null,
            "border": null,
            "bottom": null,
            "display": null,
            "flex": null,
            "flex_flow": null,
            "grid_area": null,
            "grid_auto_columns": null,
            "grid_auto_flow": null,
            "grid_auto_rows": null,
            "grid_column": null,
            "grid_gap": null,
            "grid_row": null,
            "grid_template_areas": null,
            "grid_template_columns": null,
            "grid_template_rows": null,
            "height": null,
            "justify_content": null,
            "justify_items": null,
            "left": null,
            "margin": null,
            "max_height": null,
            "max_width": null,
            "min_height": null,
            "min_width": null,
            "object_fit": null,
            "object_position": null,
            "order": null,
            "overflow": null,
            "overflow_x": null,
            "overflow_y": null,
            "padding": null,
            "right": null,
            "top": null,
            "visibility": null,
            "width": null
          }
        },
        "9ddfb56359af4fac91c1837ffd79759e": {
          "model_module": "@jupyter-widgets/controls",
          "model_name": "DescriptionStyleModel",
          "model_module_version": "1.5.0",
          "state": {
            "_model_module": "@jupyter-widgets/controls",
            "_model_module_version": "1.5.0",
            "_model_name": "DescriptionStyleModel",
            "_view_count": null,
            "_view_module": "@jupyter-widgets/base",
            "_view_module_version": "1.2.0",
            "_view_name": "StyleView",
            "description_width": ""
          }
        },
        "8a9f62e0f05a4d8db5bb1e5697ac3a30": {
          "model_module": "@jupyter-widgets/controls",
          "model_name": "HBoxModel",
          "model_module_version": "1.5.0",
          "state": {
            "_dom_classes": [],
            "_model_module": "@jupyter-widgets/controls",
            "_model_module_version": "1.5.0",
            "_model_name": "HBoxModel",
            "_view_count": null,
            "_view_module": "@jupyter-widgets/controls",
            "_view_module_version": "1.5.0",
            "_view_name": "HBoxView",
            "box_style": "",
            "children": [
              "IPY_MODEL_188b107d3c984f778f06ef82428b78b8",
              "IPY_MODEL_5a25453f31504ec68186e958bec596a8",
              "IPY_MODEL_e4abfaffc0b347c096a31daca39c3ecc"
            ],
            "layout": "IPY_MODEL_4d2c0e1d905649c1a7f88f11ede1d711"
          }
        },
        "188b107d3c984f778f06ef82428b78b8": {
          "model_module": "@jupyter-widgets/controls",
          "model_name": "HTMLModel",
          "model_module_version": "1.5.0",
          "state": {
            "_dom_classes": [],
            "_model_module": "@jupyter-widgets/controls",
            "_model_module_version": "1.5.0",
            "_model_name": "HTMLModel",
            "_view_count": null,
            "_view_module": "@jupyter-widgets/controls",
            "_view_module_version": "1.5.0",
            "_view_name": "HTMLView",
            "description": "",
            "description_tooltip": null,
            "layout": "IPY_MODEL_d2dfd5f11b8f4c43978e539d5316028d",
            "placeholder": "​",
            "style": "IPY_MODEL_a605f98657394caf92a2507a3aa989e2",
            "value": "Downloading: 100%"
          }
        },
        "5a25453f31504ec68186e958bec596a8": {
          "model_module": "@jupyter-widgets/controls",
          "model_name": "FloatProgressModel",
          "model_module_version": "1.5.0",
          "state": {
            "_dom_classes": [],
            "_model_module": "@jupyter-widgets/controls",
            "_model_module_version": "1.5.0",
            "_model_name": "FloatProgressModel",
            "_view_count": null,
            "_view_module": "@jupyter-widgets/controls",
            "_view_module_version": "1.5.0",
            "_view_name": "ProgressView",
            "bar_style": "success",
            "description": "",
            "description_tooltip": null,
            "layout": "IPY_MODEL_83c7ae15a0ec46ebaa1b582559172a78",
            "max": 213450,
            "min": 0,
            "orientation": "horizontal",
            "style": "IPY_MODEL_caba3c5906984a1888eb3f8f27910e00",
            "value": 213450
          }
        },
        "e4abfaffc0b347c096a31daca39c3ecc": {
          "model_module": "@jupyter-widgets/controls",
          "model_name": "HTMLModel",
          "model_module_version": "1.5.0",
          "state": {
            "_dom_classes": [],
            "_model_module": "@jupyter-widgets/controls",
            "_model_module_version": "1.5.0",
            "_model_name": "HTMLModel",
            "_view_count": null,
            "_view_module": "@jupyter-widgets/controls",
            "_view_module_version": "1.5.0",
            "_view_name": "HTMLView",
            "description": "",
            "description_tooltip": null,
            "layout": "IPY_MODEL_74be7d6ed0c446289ec5e81b5c853132",
            "placeholder": "​",
            "style": "IPY_MODEL_b2cd715e00db4e49969377c3c23d948e",
            "value": " 208k/208k [00:00&lt;00:00, 251kB/s]"
          }
        },
        "4d2c0e1d905649c1a7f88f11ede1d711": {
          "model_module": "@jupyter-widgets/base",
          "model_name": "LayoutModel",
          "model_module_version": "1.2.0",
          "state": {
            "_model_module": "@jupyter-widgets/base",
            "_model_module_version": "1.2.0",
            "_model_name": "LayoutModel",
            "_view_count": null,
            "_view_module": "@jupyter-widgets/base",
            "_view_module_version": "1.2.0",
            "_view_name": "LayoutView",
            "align_content": null,
            "align_items": null,
            "align_self": null,
            "border": null,
            "bottom": null,
            "display": null,
            "flex": null,
            "flex_flow": null,
            "grid_area": null,
            "grid_auto_columns": null,
            "grid_auto_flow": null,
            "grid_auto_rows": null,
            "grid_column": null,
            "grid_gap": null,
            "grid_row": null,
            "grid_template_areas": null,
            "grid_template_columns": null,
            "grid_template_rows": null,
            "height": null,
            "justify_content": null,
            "justify_items": null,
            "left": null,
            "margin": null,
            "max_height": null,
            "max_width": null,
            "min_height": null,
            "min_width": null,
            "object_fit": null,
            "object_position": null,
            "order": null,
            "overflow": null,
            "overflow_x": null,
            "overflow_y": null,
            "padding": null,
            "right": null,
            "top": null,
            "visibility": null,
            "width": null
          }
        },
        "d2dfd5f11b8f4c43978e539d5316028d": {
          "model_module": "@jupyter-widgets/base",
          "model_name": "LayoutModel",
          "model_module_version": "1.2.0",
          "state": {
            "_model_module": "@jupyter-widgets/base",
            "_model_module_version": "1.2.0",
            "_model_name": "LayoutModel",
            "_view_count": null,
            "_view_module": "@jupyter-widgets/base",
            "_view_module_version": "1.2.0",
            "_view_name": "LayoutView",
            "align_content": null,
            "align_items": null,
            "align_self": null,
            "border": null,
            "bottom": null,
            "display": null,
            "flex": null,
            "flex_flow": null,
            "grid_area": null,
            "grid_auto_columns": null,
            "grid_auto_flow": null,
            "grid_auto_rows": null,
            "grid_column": null,
            "grid_gap": null,
            "grid_row": null,
            "grid_template_areas": null,
            "grid_template_columns": null,
            "grid_template_rows": null,
            "height": null,
            "justify_content": null,
            "justify_items": null,
            "left": null,
            "margin": null,
            "max_height": null,
            "max_width": null,
            "min_height": null,
            "min_width": null,
            "object_fit": null,
            "object_position": null,
            "order": null,
            "overflow": null,
            "overflow_x": null,
            "overflow_y": null,
            "padding": null,
            "right": null,
            "top": null,
            "visibility": null,
            "width": null
          }
        },
        "a605f98657394caf92a2507a3aa989e2": {
          "model_module": "@jupyter-widgets/controls",
          "model_name": "DescriptionStyleModel",
          "model_module_version": "1.5.0",
          "state": {
            "_model_module": "@jupyter-widgets/controls",
            "_model_module_version": "1.5.0",
            "_model_name": "DescriptionStyleModel",
            "_view_count": null,
            "_view_module": "@jupyter-widgets/base",
            "_view_module_version": "1.2.0",
            "_view_name": "StyleView",
            "description_width": ""
          }
        },
        "83c7ae15a0ec46ebaa1b582559172a78": {
          "model_module": "@jupyter-widgets/base",
          "model_name": "LayoutModel",
          "model_module_version": "1.2.0",
          "state": {
            "_model_module": "@jupyter-widgets/base",
            "_model_module_version": "1.2.0",
            "_model_name": "LayoutModel",
            "_view_count": null,
            "_view_module": "@jupyter-widgets/base",
            "_view_module_version": "1.2.0",
            "_view_name": "LayoutView",
            "align_content": null,
            "align_items": null,
            "align_self": null,
            "border": null,
            "bottom": null,
            "display": null,
            "flex": null,
            "flex_flow": null,
            "grid_area": null,
            "grid_auto_columns": null,
            "grid_auto_flow": null,
            "grid_auto_rows": null,
            "grid_column": null,
            "grid_gap": null,
            "grid_row": null,
            "grid_template_areas": null,
            "grid_template_columns": null,
            "grid_template_rows": null,
            "height": null,
            "justify_content": null,
            "justify_items": null,
            "left": null,
            "margin": null,
            "max_height": null,
            "max_width": null,
            "min_height": null,
            "min_width": null,
            "object_fit": null,
            "object_position": null,
            "order": null,
            "overflow": null,
            "overflow_x": null,
            "overflow_y": null,
            "padding": null,
            "right": null,
            "top": null,
            "visibility": null,
            "width": null
          }
        },
        "caba3c5906984a1888eb3f8f27910e00": {
          "model_module": "@jupyter-widgets/controls",
          "model_name": "ProgressStyleModel",
          "model_module_version": "1.5.0",
          "state": {
            "_model_module": "@jupyter-widgets/controls",
            "_model_module_version": "1.5.0",
            "_model_name": "ProgressStyleModel",
            "_view_count": null,
            "_view_module": "@jupyter-widgets/base",
            "_view_module_version": "1.2.0",
            "_view_name": "StyleView",
            "bar_color": null,
            "description_width": ""
          }
        },
        "74be7d6ed0c446289ec5e81b5c853132": {
          "model_module": "@jupyter-widgets/base",
          "model_name": "LayoutModel",
          "model_module_version": "1.2.0",
          "state": {
            "_model_module": "@jupyter-widgets/base",
            "_model_module_version": "1.2.0",
            "_model_name": "LayoutModel",
            "_view_count": null,
            "_view_module": "@jupyter-widgets/base",
            "_view_module_version": "1.2.0",
            "_view_name": "LayoutView",
            "align_content": null,
            "align_items": null,
            "align_self": null,
            "border": null,
            "bottom": null,
            "display": null,
            "flex": null,
            "flex_flow": null,
            "grid_area": null,
            "grid_auto_columns": null,
            "grid_auto_flow": null,
            "grid_auto_rows": null,
            "grid_column": null,
            "grid_gap": null,
            "grid_row": null,
            "grid_template_areas": null,
            "grid_template_columns": null,
            "grid_template_rows": null,
            "height": null,
            "justify_content": null,
            "justify_items": null,
            "left": null,
            "margin": null,
            "max_height": null,
            "max_width": null,
            "min_height": null,
            "min_width": null,
            "object_fit": null,
            "object_position": null,
            "order": null,
            "overflow": null,
            "overflow_x": null,
            "overflow_y": null,
            "padding": null,
            "right": null,
            "top": null,
            "visibility": null,
            "width": null
          }
        },
        "b2cd715e00db4e49969377c3c23d948e": {
          "model_module": "@jupyter-widgets/controls",
          "model_name": "DescriptionStyleModel",
          "model_module_version": "1.5.0",
          "state": {
            "_model_module": "@jupyter-widgets/controls",
            "_model_module_version": "1.5.0",
            "_model_name": "DescriptionStyleModel",
            "_view_count": null,
            "_view_module": "@jupyter-widgets/base",
            "_view_module_version": "1.2.0",
            "_view_name": "StyleView",
            "description_width": ""
          }
        },
        "176d7709dab04d498500ed8f00f1a734": {
          "model_module": "@jupyter-widgets/controls",
          "model_name": "HBoxModel",
          "model_module_version": "1.5.0",
          "state": {
            "_dom_classes": [],
            "_model_module": "@jupyter-widgets/controls",
            "_model_module_version": "1.5.0",
            "_model_name": "HBoxModel",
            "_view_count": null,
            "_view_module": "@jupyter-widgets/controls",
            "_view_module_version": "1.5.0",
            "_view_name": "HBoxView",
            "box_style": "",
            "children": [
              "IPY_MODEL_b1970d2303234f43847539b9109124eb",
              "IPY_MODEL_03acce9d311f46d8a93968c79793dd5f",
              "IPY_MODEL_33c956f2fa444892a145f76f326bdbc0"
            ],
            "layout": "IPY_MODEL_93c2521e73f34fcb87802f76a544b6bc"
          }
        },
        "b1970d2303234f43847539b9109124eb": {
          "model_module": "@jupyter-widgets/controls",
          "model_name": "HTMLModel",
          "model_module_version": "1.5.0",
          "state": {
            "_dom_classes": [],
            "_model_module": "@jupyter-widgets/controls",
            "_model_module_version": "1.5.0",
            "_model_name": "HTMLModel",
            "_view_count": null,
            "_view_module": "@jupyter-widgets/controls",
            "_view_module_version": "1.5.0",
            "_view_name": "HTMLView",
            "description": "",
            "description_tooltip": null,
            "layout": "IPY_MODEL_9ce47a5833b7407296f13ed83cf4b1cc",
            "placeholder": "​",
            "style": "IPY_MODEL_8d633218dd514288b3ab7c1393319e46",
            "value": "Downloading: 100%"
          }
        },
        "03acce9d311f46d8a93968c79793dd5f": {
          "model_module": "@jupyter-widgets/controls",
          "model_name": "FloatProgressModel",
          "model_module_version": "1.5.0",
          "state": {
            "_dom_classes": [],
            "_model_module": "@jupyter-widgets/controls",
            "_model_module_version": "1.5.0",
            "_model_name": "FloatProgressModel",
            "_view_count": null,
            "_view_module": "@jupyter-widgets/controls",
            "_view_module_version": "1.5.0",
            "_view_name": "ProgressView",
            "bar_style": "success",
            "description": "",
            "description_tooltip": null,
            "layout": "IPY_MODEL_9df52a4276fa459d8d519aeaeb323fd6",
            "max": 665132540,
            "min": 0,
            "orientation": "horizontal",
            "style": "IPY_MODEL_34e1606e3bf548bf9fd06801398bd9ec",
            "value": 665132540
          }
        },
        "33c956f2fa444892a145f76f326bdbc0": {
          "model_module": "@jupyter-widgets/controls",
          "model_name": "HTMLModel",
          "model_module_version": "1.5.0",
          "state": {
            "_dom_classes": [],
            "_model_module": "@jupyter-widgets/controls",
            "_model_module_version": "1.5.0",
            "_model_name": "HTMLModel",
            "_view_count": null,
            "_view_module": "@jupyter-widgets/controls",
            "_view_module_version": "1.5.0",
            "_view_name": "HTMLView",
            "description": "",
            "description_tooltip": null,
            "layout": "IPY_MODEL_c59ba594039543129de1c869894d1b64",
            "placeholder": "​",
            "style": "IPY_MODEL_a1ea983c0b874b03a080855077dbee58",
            "value": " 634M/634M [00:35&lt;00:00, 21.1MB/s]"
          }
        },
        "93c2521e73f34fcb87802f76a544b6bc": {
          "model_module": "@jupyter-widgets/base",
          "model_name": "LayoutModel",
          "model_module_version": "1.2.0",
          "state": {
            "_model_module": "@jupyter-widgets/base",
            "_model_module_version": "1.2.0",
            "_model_name": "LayoutModel",
            "_view_count": null,
            "_view_module": "@jupyter-widgets/base",
            "_view_module_version": "1.2.0",
            "_view_name": "LayoutView",
            "align_content": null,
            "align_items": null,
            "align_self": null,
            "border": null,
            "bottom": null,
            "display": null,
            "flex": null,
            "flex_flow": null,
            "grid_area": null,
            "grid_auto_columns": null,
            "grid_auto_flow": null,
            "grid_auto_rows": null,
            "grid_column": null,
            "grid_gap": null,
            "grid_row": null,
            "grid_template_areas": null,
            "grid_template_columns": null,
            "grid_template_rows": null,
            "height": null,
            "justify_content": null,
            "justify_items": null,
            "left": null,
            "margin": null,
            "max_height": null,
            "max_width": null,
            "min_height": null,
            "min_width": null,
            "object_fit": null,
            "object_position": null,
            "order": null,
            "overflow": null,
            "overflow_x": null,
            "overflow_y": null,
            "padding": null,
            "right": null,
            "top": null,
            "visibility": null,
            "width": null
          }
        },
        "9ce47a5833b7407296f13ed83cf4b1cc": {
          "model_module": "@jupyter-widgets/base",
          "model_name": "LayoutModel",
          "model_module_version": "1.2.0",
          "state": {
            "_model_module": "@jupyter-widgets/base",
            "_model_module_version": "1.2.0",
            "_model_name": "LayoutModel",
            "_view_count": null,
            "_view_module": "@jupyter-widgets/base",
            "_view_module_version": "1.2.0",
            "_view_name": "LayoutView",
            "align_content": null,
            "align_items": null,
            "align_self": null,
            "border": null,
            "bottom": null,
            "display": null,
            "flex": null,
            "flex_flow": null,
            "grid_area": null,
            "grid_auto_columns": null,
            "grid_auto_flow": null,
            "grid_auto_rows": null,
            "grid_column": null,
            "grid_gap": null,
            "grid_row": null,
            "grid_template_areas": null,
            "grid_template_columns": null,
            "grid_template_rows": null,
            "height": null,
            "justify_content": null,
            "justify_items": null,
            "left": null,
            "margin": null,
            "max_height": null,
            "max_width": null,
            "min_height": null,
            "min_width": null,
            "object_fit": null,
            "object_position": null,
            "order": null,
            "overflow": null,
            "overflow_x": null,
            "overflow_y": null,
            "padding": null,
            "right": null,
            "top": null,
            "visibility": null,
            "width": null
          }
        },
        "8d633218dd514288b3ab7c1393319e46": {
          "model_module": "@jupyter-widgets/controls",
          "model_name": "DescriptionStyleModel",
          "model_module_version": "1.5.0",
          "state": {
            "_model_module": "@jupyter-widgets/controls",
            "_model_module_version": "1.5.0",
            "_model_name": "DescriptionStyleModel",
            "_view_count": null,
            "_view_module": "@jupyter-widgets/base",
            "_view_module_version": "1.2.0",
            "_view_name": "StyleView",
            "description_width": ""
          }
        },
        "9df52a4276fa459d8d519aeaeb323fd6": {
          "model_module": "@jupyter-widgets/base",
          "model_name": "LayoutModel",
          "model_module_version": "1.2.0",
          "state": {
            "_model_module": "@jupyter-widgets/base",
            "_model_module_version": "1.2.0",
            "_model_name": "LayoutModel",
            "_view_count": null,
            "_view_module": "@jupyter-widgets/base",
            "_view_module_version": "1.2.0",
            "_view_name": "LayoutView",
            "align_content": null,
            "align_items": null,
            "align_self": null,
            "border": null,
            "bottom": null,
            "display": null,
            "flex": null,
            "flex_flow": null,
            "grid_area": null,
            "grid_auto_columns": null,
            "grid_auto_flow": null,
            "grid_auto_rows": null,
            "grid_column": null,
            "grid_gap": null,
            "grid_row": null,
            "grid_template_areas": null,
            "grid_template_columns": null,
            "grid_template_rows": null,
            "height": null,
            "justify_content": null,
            "justify_items": null,
            "left": null,
            "margin": null,
            "max_height": null,
            "max_width": null,
            "min_height": null,
            "min_width": null,
            "object_fit": null,
            "object_position": null,
            "order": null,
            "overflow": null,
            "overflow_x": null,
            "overflow_y": null,
            "padding": null,
            "right": null,
            "top": null,
            "visibility": null,
            "width": null
          }
        },
        "34e1606e3bf548bf9fd06801398bd9ec": {
          "model_module": "@jupyter-widgets/controls",
          "model_name": "ProgressStyleModel",
          "model_module_version": "1.5.0",
          "state": {
            "_model_module": "@jupyter-widgets/controls",
            "_model_module_version": "1.5.0",
            "_model_name": "ProgressStyleModel",
            "_view_count": null,
            "_view_module": "@jupyter-widgets/base",
            "_view_module_version": "1.2.0",
            "_view_name": "StyleView",
            "bar_color": null,
            "description_width": ""
          }
        },
        "c59ba594039543129de1c869894d1b64": {
          "model_module": "@jupyter-widgets/base",
          "model_name": "LayoutModel",
          "model_module_version": "1.2.0",
          "state": {
            "_model_module": "@jupyter-widgets/base",
            "_model_module_version": "1.2.0",
            "_model_name": "LayoutModel",
            "_view_count": null,
            "_view_module": "@jupyter-widgets/base",
            "_view_module_version": "1.2.0",
            "_view_name": "LayoutView",
            "align_content": null,
            "align_items": null,
            "align_self": null,
            "border": null,
            "bottom": null,
            "display": null,
            "flex": null,
            "flex_flow": null,
            "grid_area": null,
            "grid_auto_columns": null,
            "grid_auto_flow": null,
            "grid_auto_rows": null,
            "grid_column": null,
            "grid_gap": null,
            "grid_row": null,
            "grid_template_areas": null,
            "grid_template_columns": null,
            "grid_template_rows": null,
            "height": null,
            "justify_content": null,
            "justify_items": null,
            "left": null,
            "margin": null,
            "max_height": null,
            "max_width": null,
            "min_height": null,
            "min_width": null,
            "object_fit": null,
            "object_position": null,
            "order": null,
            "overflow": null,
            "overflow_x": null,
            "overflow_y": null,
            "padding": null,
            "right": null,
            "top": null,
            "visibility": null,
            "width": null
          }
        },
        "a1ea983c0b874b03a080855077dbee58": {
          "model_module": "@jupyter-widgets/controls",
          "model_name": "DescriptionStyleModel",
          "model_module_version": "1.5.0",
          "state": {
            "_model_module": "@jupyter-widgets/controls",
            "_model_module_version": "1.5.0",
            "_model_name": "DescriptionStyleModel",
            "_view_count": null,
            "_view_module": "@jupyter-widgets/base",
            "_view_module_version": "1.2.0",
            "_view_name": "StyleView",
            "description_width": ""
          }
        },
        "d94dfb7ba424407a9751797ebe027eeb": {
          "model_module": "@jupyter-widgets/output",
          "model_name": "OutputModel",
          "model_module_version": "1.0.0",
          "state": {
            "_dom_classes": [],
            "_model_module": "@jupyter-widgets/output",
            "_model_module_version": "1.0.0",
            "_model_name": "OutputModel",
            "_view_count": null,
            "_view_module": "@jupyter-widgets/output",
            "_view_module_version": "1.0.0",
            "_view_name": "OutputView",
            "layout": "IPY_MODEL_0aeede618304427cb0dda8891ea4f06f",
            "msg_id": "",
            "outputs": [
              {
                "output_type": "display_data",
                "data": {
                  "text/plain": "Downloading \u001b[3;36mhttps://storage.googleapis.com/allennlp-public-mo…\u001b[0m \u001b[38;2;249;38;114m━━━━━━━━━━━━━━━━━━━━━━━\u001b[0m\u001b[38;2;249;38;114m╸\u001b[0m \u001b[35m100%\u001b[0m \u001b[33m0:00:14\u001b[0m \u001b[32m364.9/365.3 MB\u001b[0m\n",
                  "text/html": "<pre style=\"white-space:pre;overflow-x:auto;line-height:normal;font-family:Menlo,'DejaVu Sans Mono',consolas,'Courier New',monospace\">Downloading <span style=\"color: #008080; text-decoration-color: #008080; font-style: italic\">https://storage.googleapis.com/allennlp-public-mo…</span> <span style=\"color: #f92672; text-decoration-color: #f92672\">━━━━━━━━━━━━━━━━━━━━━━━╸</span> <span style=\"color: #800080; text-decoration-color: #800080\">100%</span> <span style=\"color: #808000; text-decoration-color: #808000\">0:00:14</span> <span style=\"color: #008000; text-decoration-color: #008000\">364.9/365.3 MB</span>\n</pre>\n"
                },
                "metadata": {}
              }
            ]
          }
        },
        "0aeede618304427cb0dda8891ea4f06f": {
          "model_module": "@jupyter-widgets/base",
          "model_name": "LayoutModel",
          "model_module_version": "1.2.0",
          "state": {
            "_model_module": "@jupyter-widgets/base",
            "_model_module_version": "1.2.0",
            "_model_name": "LayoutModel",
            "_view_count": null,
            "_view_module": "@jupyter-widgets/base",
            "_view_module_version": "1.2.0",
            "_view_name": "LayoutView",
            "align_content": null,
            "align_items": null,
            "align_self": null,
            "border": null,
            "bottom": null,
            "display": null,
            "flex": null,
            "flex_flow": null,
            "grid_area": null,
            "grid_auto_columns": null,
            "grid_auto_flow": null,
            "grid_auto_rows": null,
            "grid_column": null,
            "grid_gap": null,
            "grid_row": null,
            "grid_template_areas": null,
            "grid_template_columns": null,
            "grid_template_rows": null,
            "height": null,
            "justify_content": null,
            "justify_items": null,
            "left": null,
            "margin": null,
            "max_height": null,
            "max_width": null,
            "min_height": null,
            "min_width": null,
            "object_fit": null,
            "object_position": null,
            "order": null,
            "overflow": null,
            "overflow_x": null,
            "overflow_y": null,
            "padding": null,
            "right": null,
            "top": null,
            "visibility": null,
            "width": null
          }
        },
        "aeed01115d6d4920b791717c12600269": {
          "model_module": "@jupyter-widgets/output",
          "model_name": "OutputModel",
          "model_module_version": "1.0.0",
          "state": {
            "_dom_classes": [],
            "_model_module": "@jupyter-widgets/output",
            "_model_module_version": "1.0.0",
            "_model_name": "OutputModel",
            "_view_count": null,
            "_view_module": "@jupyter-widgets/output",
            "_view_module_version": "1.0.0",
            "_view_name": "OutputView",
            "layout": "IPY_MODEL_2574d649524e484cb7799c32fe4cb752",
            "msg_id": "",
            "outputs": [
              {
                "output_type": "display_data",
                "data": {
                  "text/plain": "Downloading \u001b[3;36mhttps://allennlp.s3.amazonaws.com/models/elmo/2x4…\u001b[0m \u001b[38;5;237m━━━━━━━━━━━━━━━━━━━━━━━━━━━\u001b[0m \u001b[35m  0%\u001b[0m \u001b[33m0:00:00\u001b[0m \u001b[32m0/336 bytes\u001b[0m\n",
                  "text/html": "<pre style=\"white-space:pre;overflow-x:auto;line-height:normal;font-family:Menlo,'DejaVu Sans Mono',consolas,'Courier New',monospace\">Downloading <span style=\"color: #008080; text-decoration-color: #008080; font-style: italic\">https://allennlp.s3.amazonaws.com/models/elmo/2x4…</span> <span style=\"color: #3a3a3a; text-decoration-color: #3a3a3a\">━━━━━━━━━━━━━━━━━━━━━━━━━━━</span> <span style=\"color: #800080; text-decoration-color: #800080\">  0%</span> <span style=\"color: #808000; text-decoration-color: #808000\">0:00:00</span> <span style=\"color: #008000; text-decoration-color: #008000\">0/336 bytes</span>\n</pre>\n"
                },
                "metadata": {}
              }
            ]
          }
        },
        "2574d649524e484cb7799c32fe4cb752": {
          "model_module": "@jupyter-widgets/base",
          "model_name": "LayoutModel",
          "model_module_version": "1.2.0",
          "state": {
            "_model_module": "@jupyter-widgets/base",
            "_model_module_version": "1.2.0",
            "_model_name": "LayoutModel",
            "_view_count": null,
            "_view_module": "@jupyter-widgets/base",
            "_view_module_version": "1.2.0",
            "_view_name": "LayoutView",
            "align_content": null,
            "align_items": null,
            "align_self": null,
            "border": null,
            "bottom": null,
            "display": null,
            "flex": null,
            "flex_flow": null,
            "grid_area": null,
            "grid_auto_columns": null,
            "grid_auto_flow": null,
            "grid_auto_rows": null,
            "grid_column": null,
            "grid_gap": null,
            "grid_row": null,
            "grid_template_areas": null,
            "grid_template_columns": null,
            "grid_template_rows": null,
            "height": null,
            "justify_content": null,
            "justify_items": null,
            "left": null,
            "margin": null,
            "max_height": null,
            "max_width": null,
            "min_height": null,
            "min_width": null,
            "object_fit": null,
            "object_position": null,
            "order": null,
            "overflow": null,
            "overflow_x": null,
            "overflow_y": null,
            "padding": null,
            "right": null,
            "top": null,
            "visibility": null,
            "width": null
          }
        },
        "64bbbe3eb26d4a049a47df1bcf1045e1": {
          "model_module": "@jupyter-widgets/output",
          "model_name": "OutputModel",
          "model_module_version": "1.0.0",
          "state": {
            "_dom_classes": [],
            "_model_module": "@jupyter-widgets/output",
            "_model_module_version": "1.0.0",
            "_model_name": "OutputModel",
            "_view_count": null,
            "_view_module": "@jupyter-widgets/output",
            "_view_module_version": "1.0.0",
            "_view_name": "OutputView",
            "layout": "IPY_MODEL_f5cd13df89f14743aaf5a1b02bc88c18",
            "msg_id": "",
            "outputs": [
              {
                "output_type": "display_data",
                "data": {
                  "text/plain": "Downloading \u001b[3;36mhttps://allennlp.s3.amazonaws.com/models/elmo/2x4…\u001b[0m \u001b[38;2;249;38;114m━━━━━━━━━━━━━━━━━━━━━━━\u001b[0m\u001b[38;2;249;38;114m╸\u001b[0m \u001b[35m 99%\u001b[0m \u001b[33m0:00:19\u001b[0m \u001b[32m372.0/374.4 MB\u001b[0m\n",
                  "text/html": "<pre style=\"white-space:pre;overflow-x:auto;line-height:normal;font-family:Menlo,'DejaVu Sans Mono',consolas,'Courier New',monospace\">Downloading <span style=\"color: #008080; text-decoration-color: #008080; font-style: italic\">https://allennlp.s3.amazonaws.com/models/elmo/2x4…</span> <span style=\"color: #f92672; text-decoration-color: #f92672\">━━━━━━━━━━━━━━━━━━━━━━━╸</span> <span style=\"color: #800080; text-decoration-color: #800080\"> 99%</span> <span style=\"color: #808000; text-decoration-color: #808000\">0:00:19</span> <span style=\"color: #008000; text-decoration-color: #008000\">372.0/374.4 MB</span>\n</pre>\n"
                },
                "metadata": {}
              }
            ]
          }
        },
        "f5cd13df89f14743aaf5a1b02bc88c18": {
          "model_module": "@jupyter-widgets/base",
          "model_name": "LayoutModel",
          "model_module_version": "1.2.0",
          "state": {
            "_model_module": "@jupyter-widgets/base",
            "_model_module_version": "1.2.0",
            "_model_name": "LayoutModel",
            "_view_count": null,
            "_view_module": "@jupyter-widgets/base",
            "_view_module_version": "1.2.0",
            "_view_name": "LayoutView",
            "align_content": null,
            "align_items": null,
            "align_self": null,
            "border": null,
            "bottom": null,
            "display": null,
            "flex": null,
            "flex_flow": null,
            "grid_area": null,
            "grid_auto_columns": null,
            "grid_auto_flow": null,
            "grid_auto_rows": null,
            "grid_column": null,
            "grid_gap": null,
            "grid_row": null,
            "grid_template_areas": null,
            "grid_template_columns": null,
            "grid_template_rows": null,
            "height": null,
            "justify_content": null,
            "justify_items": null,
            "left": null,
            "margin": null,
            "max_height": null,
            "max_width": null,
            "min_height": null,
            "min_width": null,
            "object_fit": null,
            "object_position": null,
            "order": null,
            "overflow": null,
            "overflow_x": null,
            "overflow_y": null,
            "padding": null,
            "right": null,
            "top": null,
            "visibility": null,
            "width": null
          }
        }
      }
    }
  },
  "nbformat": 4,
  "nbformat_minor": 0
}